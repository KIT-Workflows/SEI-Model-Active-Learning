{
  "cells": [
    {
      "cell_type": "code",
      "execution_count": null,
      "metadata": {
        "id": "XLiSw_pBfQyb",
        "colab": {
          "base_uri": "https://localhost:8080/",
          "height": 617
        },
        "outputId": "52037406-2a61-426e-d673-c7daff7f7f06"
      },
      "outputs": [
        {
          "output_type": "display_data",
          "data": {
            "text/html": [
              "<html>\n",
              "<head><meta charset=\"utf-8\" /></head>\n",
              "<body>\n",
              "    <div>            <script src=\"https://cdnjs.cloudflare.com/ajax/libs/mathjax/2.7.5/MathJax.js?config=TeX-AMS-MML_SVG\"></script><script type=\"text/javascript\">if (window.MathJax && window.MathJax.Hub && window.MathJax.Hub.Config) {window.MathJax.Hub.Config({SVG: {font: \"STIX-Web\"}});}</script>                <script type=\"text/javascript\">window.PlotlyConfig = {MathJaxConfig: 'local'};</script>\n",
              "        <script src=\"https://cdn.plot.ly/plotly-2.18.2.min.js\"></script>                <div id=\"e7326118-c040-4e53-95ac-6480fce5b12e\" class=\"plotly-graph-div\" style=\"height:600px; width:800px;\"></div>            <script type=\"text/javascript\">                                    window.PLOTLYENV=window.PLOTLYENV || {};                                    if (document.getElementById(\"e7326118-c040-4e53-95ac-6480fce5b12e\")) {                    Plotly.newPlot(                        \"e7326118-c040-4e53-95ac-6480fce5b12e\",                        [{\"mode\":\"lines+markers\",\"name\":\"Err\",\"x\":[0.0,1000.0,2000.0],\"y\":[0.744954128440367,0.5357798165137615,0.4055045871559633],\"type\":\"scatter\",\"xaxis\":\"x\",\"yaxis\":\"y\"},{\"mode\":\"lines+markers\",\"name\":\"Err2\",\"x\":[0.0,1000.0,2000.0],\"y\":[0.744954128440367,0.5357798165137615,0.4055045871559633],\"type\":\"scatter\",\"xaxis\":\"x2\",\"yaxis\":\"y2\"}],                        {\"template\":{\"data\":{\"histogram2dcontour\":[{\"type\":\"histogram2dcontour\",\"colorbar\":{\"outlinewidth\":0,\"ticks\":\"\"},\"colorscale\":[[0.0,\"#0d0887\"],[0.1111111111111111,\"#46039f\"],[0.2222222222222222,\"#7201a8\"],[0.3333333333333333,\"#9c179e\"],[0.4444444444444444,\"#bd3786\"],[0.5555555555555556,\"#d8576b\"],[0.6666666666666666,\"#ed7953\"],[0.7777777777777778,\"#fb9f3a\"],[0.8888888888888888,\"#fdca26\"],[1.0,\"#f0f921\"]]}],\"choropleth\":[{\"type\":\"choropleth\",\"colorbar\":{\"outlinewidth\":0,\"ticks\":\"\"}}],\"histogram2d\":[{\"type\":\"histogram2d\",\"colorbar\":{\"outlinewidth\":0,\"ticks\":\"\"},\"colorscale\":[[0.0,\"#0d0887\"],[0.1111111111111111,\"#46039f\"],[0.2222222222222222,\"#7201a8\"],[0.3333333333333333,\"#9c179e\"],[0.4444444444444444,\"#bd3786\"],[0.5555555555555556,\"#d8576b\"],[0.6666666666666666,\"#ed7953\"],[0.7777777777777778,\"#fb9f3a\"],[0.8888888888888888,\"#fdca26\"],[1.0,\"#f0f921\"]]}],\"heatmap\":[{\"type\":\"heatmap\",\"colorbar\":{\"outlinewidth\":0,\"ticks\":\"\"},\"colorscale\":[[0.0,\"#0d0887\"],[0.1111111111111111,\"#46039f\"],[0.2222222222222222,\"#7201a8\"],[0.3333333333333333,\"#9c179e\"],[0.4444444444444444,\"#bd3786\"],[0.5555555555555556,\"#d8576b\"],[0.6666666666666666,\"#ed7953\"],[0.7777777777777778,\"#fb9f3a\"],[0.8888888888888888,\"#fdca26\"],[1.0,\"#f0f921\"]]}],\"heatmapgl\":[{\"type\":\"heatmapgl\",\"colorbar\":{\"outlinewidth\":0,\"ticks\":\"\"},\"colorscale\":[[0.0,\"#0d0887\"],[0.1111111111111111,\"#46039f\"],[0.2222222222222222,\"#7201a8\"],[0.3333333333333333,\"#9c179e\"],[0.4444444444444444,\"#bd3786\"],[0.5555555555555556,\"#d8576b\"],[0.6666666666666666,\"#ed7953\"],[0.7777777777777778,\"#fb9f3a\"],[0.8888888888888888,\"#fdca26\"],[1.0,\"#f0f921\"]]}],\"contourcarpet\":[{\"type\":\"contourcarpet\",\"colorbar\":{\"outlinewidth\":0,\"ticks\":\"\"}}],\"contour\":[{\"type\":\"contour\",\"colorbar\":{\"outlinewidth\":0,\"ticks\":\"\"},\"colorscale\":[[0.0,\"#0d0887\"],[0.1111111111111111,\"#46039f\"],[0.2222222222222222,\"#7201a8\"],[0.3333333333333333,\"#9c179e\"],[0.4444444444444444,\"#bd3786\"],[0.5555555555555556,\"#d8576b\"],[0.6666666666666666,\"#ed7953\"],[0.7777777777777778,\"#fb9f3a\"],[0.8888888888888888,\"#fdca26\"],[1.0,\"#f0f921\"]]}],\"surface\":[{\"type\":\"surface\",\"colorbar\":{\"outlinewidth\":0,\"ticks\":\"\"},\"colorscale\":[[0.0,\"#0d0887\"],[0.1111111111111111,\"#46039f\"],[0.2222222222222222,\"#7201a8\"],[0.3333333333333333,\"#9c179e\"],[0.4444444444444444,\"#bd3786\"],[0.5555555555555556,\"#d8576b\"],[0.6666666666666666,\"#ed7953\"],[0.7777777777777778,\"#fb9f3a\"],[0.8888888888888888,\"#fdca26\"],[1.0,\"#f0f921\"]]}],\"mesh3d\":[{\"type\":\"mesh3d\",\"colorbar\":{\"outlinewidth\":0,\"ticks\":\"\"}}],\"scatter\":[{\"fillpattern\":{\"fillmode\":\"overlay\",\"size\":10,\"solidity\":0.2},\"type\":\"scatter\"}],\"parcoords\":[{\"type\":\"parcoords\",\"line\":{\"colorbar\":{\"outlinewidth\":0,\"ticks\":\"\"}}}],\"scatterpolargl\":[{\"type\":\"scatterpolargl\",\"marker\":{\"colorbar\":{\"outlinewidth\":0,\"ticks\":\"\"}}}],\"bar\":[{\"error_x\":{\"color\":\"#2a3f5f\"},\"error_y\":{\"color\":\"#2a3f5f\"},\"marker\":{\"line\":{\"color\":\"#E5ECF6\",\"width\":0.5},\"pattern\":{\"fillmode\":\"overlay\",\"size\":10,\"solidity\":0.2}},\"type\":\"bar\"}],\"scattergeo\":[{\"type\":\"scattergeo\",\"marker\":{\"colorbar\":{\"outlinewidth\":0,\"ticks\":\"\"}}}],\"scatterpolar\":[{\"type\":\"scatterpolar\",\"marker\":{\"colorbar\":{\"outlinewidth\":0,\"ticks\":\"\"}}}],\"histogram\":[{\"marker\":{\"pattern\":{\"fillmode\":\"overlay\",\"size\":10,\"solidity\":0.2}},\"type\":\"histogram\"}],\"scattergl\":[{\"type\":\"scattergl\",\"marker\":{\"colorbar\":{\"outlinewidth\":0,\"ticks\":\"\"}}}],\"scatter3d\":[{\"type\":\"scatter3d\",\"line\":{\"colorbar\":{\"outlinewidth\":0,\"ticks\":\"\"}},\"marker\":{\"colorbar\":{\"outlinewidth\":0,\"ticks\":\"\"}}}],\"scattermapbox\":[{\"type\":\"scattermapbox\",\"marker\":{\"colorbar\":{\"outlinewidth\":0,\"ticks\":\"\"}}}],\"scatterternary\":[{\"type\":\"scatterternary\",\"marker\":{\"colorbar\":{\"outlinewidth\":0,\"ticks\":\"\"}}}],\"scattercarpet\":[{\"type\":\"scattercarpet\",\"marker\":{\"colorbar\":{\"outlinewidth\":0,\"ticks\":\"\"}}}],\"carpet\":[{\"aaxis\":{\"endlinecolor\":\"#2a3f5f\",\"gridcolor\":\"white\",\"linecolor\":\"white\",\"minorgridcolor\":\"white\",\"startlinecolor\":\"#2a3f5f\"},\"baxis\":{\"endlinecolor\":\"#2a3f5f\",\"gridcolor\":\"white\",\"linecolor\":\"white\",\"minorgridcolor\":\"white\",\"startlinecolor\":\"#2a3f5f\"},\"type\":\"carpet\"}],\"table\":[{\"cells\":{\"fill\":{\"color\":\"#EBF0F8\"},\"line\":{\"color\":\"white\"}},\"header\":{\"fill\":{\"color\":\"#C8D4E3\"},\"line\":{\"color\":\"white\"}},\"type\":\"table\"}],\"barpolar\":[{\"marker\":{\"line\":{\"color\":\"#E5ECF6\",\"width\":0.5},\"pattern\":{\"fillmode\":\"overlay\",\"size\":10,\"solidity\":0.2}},\"type\":\"barpolar\"}],\"pie\":[{\"automargin\":true,\"type\":\"pie\"}]},\"layout\":{\"autotypenumbers\":\"strict\",\"colorway\":[\"#636efa\",\"#EF553B\",\"#00cc96\",\"#ab63fa\",\"#FFA15A\",\"#19d3f3\",\"#FF6692\",\"#B6E880\",\"#FF97FF\",\"#FECB52\"],\"font\":{\"color\":\"#2a3f5f\"},\"hovermode\":\"closest\",\"hoverlabel\":{\"align\":\"left\"},\"paper_bgcolor\":\"white\",\"plot_bgcolor\":\"#E5ECF6\",\"polar\":{\"bgcolor\":\"#E5ECF6\",\"angularaxis\":{\"gridcolor\":\"white\",\"linecolor\":\"white\",\"ticks\":\"\"},\"radialaxis\":{\"gridcolor\":\"white\",\"linecolor\":\"white\",\"ticks\":\"\"}},\"ternary\":{\"bgcolor\":\"#E5ECF6\",\"aaxis\":{\"gridcolor\":\"white\",\"linecolor\":\"white\",\"ticks\":\"\"},\"baxis\":{\"gridcolor\":\"white\",\"linecolor\":\"white\",\"ticks\":\"\"},\"caxis\":{\"gridcolor\":\"white\",\"linecolor\":\"white\",\"ticks\":\"\"}},\"coloraxis\":{\"colorbar\":{\"outlinewidth\":0,\"ticks\":\"\"}},\"colorscale\":{\"sequential\":[[0.0,\"#0d0887\"],[0.1111111111111111,\"#46039f\"],[0.2222222222222222,\"#7201a8\"],[0.3333333333333333,\"#9c179e\"],[0.4444444444444444,\"#bd3786\"],[0.5555555555555556,\"#d8576b\"],[0.6666666666666666,\"#ed7953\"],[0.7777777777777778,\"#fb9f3a\"],[0.8888888888888888,\"#fdca26\"],[1.0,\"#f0f921\"]],\"sequentialminus\":[[0.0,\"#0d0887\"],[0.1111111111111111,\"#46039f\"],[0.2222222222222222,\"#7201a8\"],[0.3333333333333333,\"#9c179e\"],[0.4444444444444444,\"#bd3786\"],[0.5555555555555556,\"#d8576b\"],[0.6666666666666666,\"#ed7953\"],[0.7777777777777778,\"#fb9f3a\"],[0.8888888888888888,\"#fdca26\"],[1.0,\"#f0f921\"]],\"diverging\":[[0,\"#8e0152\"],[0.1,\"#c51b7d\"],[0.2,\"#de77ae\"],[0.3,\"#f1b6da\"],[0.4,\"#fde0ef\"],[0.5,\"#f7f7f7\"],[0.6,\"#e6f5d0\"],[0.7,\"#b8e186\"],[0.8,\"#7fbc41\"],[0.9,\"#4d9221\"],[1,\"#276419\"]]},\"xaxis\":{\"gridcolor\":\"white\",\"linecolor\":\"white\",\"ticks\":\"\",\"title\":{\"standoff\":15},\"zerolinecolor\":\"white\",\"automargin\":true,\"zerolinewidth\":2},\"yaxis\":{\"gridcolor\":\"white\",\"linecolor\":\"white\",\"ticks\":\"\",\"title\":{\"standoff\":15},\"zerolinecolor\":\"white\",\"automargin\":true,\"zerolinewidth\":2},\"scene\":{\"xaxis\":{\"backgroundcolor\":\"#E5ECF6\",\"gridcolor\":\"white\",\"linecolor\":\"white\",\"showbackground\":true,\"ticks\":\"\",\"zerolinecolor\":\"white\",\"gridwidth\":2},\"yaxis\":{\"backgroundcolor\":\"#E5ECF6\",\"gridcolor\":\"white\",\"linecolor\":\"white\",\"showbackground\":true,\"ticks\":\"\",\"zerolinecolor\":\"white\",\"gridwidth\":2},\"zaxis\":{\"backgroundcolor\":\"#E5ECF6\",\"gridcolor\":\"white\",\"linecolor\":\"white\",\"showbackground\":true,\"ticks\":\"\",\"zerolinecolor\":\"white\",\"gridwidth\":2}},\"shapedefaults\":{\"line\":{\"color\":\"#2a3f5f\"}},\"annotationdefaults\":{\"arrowcolor\":\"#2a3f5f\",\"arrowhead\":0,\"arrowwidth\":1},\"geo\":{\"bgcolor\":\"white\",\"landcolor\":\"#E5ECF6\",\"subunitcolor\":\"white\",\"showland\":true,\"showlakes\":true,\"lakecolor\":\"white\"},\"title\":{\"x\":0.05},\"mapbox\":{\"style\":\"light\"}}},\"xaxis\":{\"anchor\":\"y\",\"domain\":[0.0,1.0],\"matches\":\"x2\",\"showticklabels\":false},\"yaxis\":{\"anchor\":\"x\",\"domain\":[0.51,1.0],\"title\":{\"text\":\"Error\"}},\"xaxis2\":{\"anchor\":\"y2\",\"domain\":[0.0,1.0],\"title\":{\"text\":\"steps\"}},\"yaxis2\":{\"anchor\":\"x2\",\"domain\":[0.0,0.49]},\"title\":{\"text\":\"Training-error\"},\"width\":800,\"height\":600},                        {\"responsive\": true}                    ).then(function(){\n",
              "                            \n",
              "var gd = document.getElementById('e7326118-c040-4e53-95ac-6480fce5b12e');\n",
              "var x = new MutationObserver(function (mutations, observer) {{\n",
              "        var display = window.getComputedStyle(gd).display;\n",
              "        if (!display || display === 'none') {{\n",
              "            console.log([gd, 'removed!']);\n",
              "            Plotly.purge(gd);\n",
              "            observer.disconnect();\n",
              "        }}\n",
              "}});\n",
              "\n",
              "// Listen for the removal of the full notebook cells\n",
              "var notebookContainer = gd.closest('#notebook-container');\n",
              "if (notebookContainer) {{\n",
              "    x.observe(notebookContainer, {childList: true});\n",
              "}}\n",
              "\n",
              "// Listen for the clearing of the current output cell\n",
              "var outputEl = gd.closest('.output');\n",
              "if (outputEl) {{\n",
              "    x.observe(outputEl, {childList: true});\n",
              "}}\n",
              "\n",
              "                        })                };                            </script>        </div>\n",
              "</body>\n",
              "</html>"
            ]
          },
          "metadata": {}
        }
      ],
      "source": [
        "import os, yaml\n",
        "import numpy as np\n",
        "import pandas as pd\n",
        "import plotly.graph_objects as go\n",
        "from plotly.subplots import make_subplots\n",
        "\n",
        "def filter_dicts(common_string, db_dict):\n",
        "  result = []\n",
        "  for key, value in db_dict.items():\n",
        "      if common_string in key:\n",
        "          result.append(key)\n",
        "  return result\n",
        "\n",
        "if __name__ == '__main__':\n",
        "\n",
        "  with open('/content/db-kmc.yml') as file:\n",
        "    db_kmc = yaml.full_load(file)\n",
        "  #my_keys = db_kmc.keys()\n",
        "\n",
        "  common_string = 'SEI-AL'\n",
        "  prop_1 = 'err'\n",
        "  err_list = []\n",
        "  \n",
        "  # SEI-AL\n",
        "  results_SEI_AL = filter_dicts(common_string, db_kmc)\n",
        "    \n",
        "\n",
        "  for dic_name in results_SEI_AL:\n",
        "      err_list.append(db_kmc[dic_name][prop_1])\n",
        "  \n",
        "  SEI_AL_array = np.array(err_list)# Convert the list to a NumPy array\n",
        "  SEI_AL_array = SEI_AL_array[0][0][:]\n",
        "\n",
        "  # sort array\n",
        "  SEI_AL_array = SEI_AL_array[SEI_AL_array[:,0].argsort()]\n",
        "  \n",
        "  # plot figures\n",
        "  fig = make_subplots(rows=2, cols=1, shared_xaxes=True,vertical_spacing=0.02)\n",
        "\n",
        "  # add data to the subplots\n",
        "  fig.add_trace(go.Scatter(x = SEI_AL_array[:,0], y = SEI_AL_array[:,1], mode='lines+markers', name='Err'), row=1, col=1)\n",
        "  fig.add_trace(go.Scatter(x = SEI_AL_array[:,0], y = SEI_AL_array[:,1], mode='lines+markers', name='Err2'), row=2, col=1)\n",
        "\n",
        "  # customize the layout\n",
        "  fig.update_layout(title='Training-error')\n",
        "\n",
        "  fig.update_yaxes(title_text='Error', row=1, col=1)\n",
        "  #fig.update_yaxes(title_text=r'Energy (eV)', row=2, col=1)#, range=[-0.1, 1.1])\n",
        "\n",
        "  # fig.update_xaxes(row=1, col=1, range=[-0.1, 10.1])\n",
        "  # fig.update_xaxes(row=2, col=1, range=[-0.1, 10.1])\n",
        "  fig.update_xaxes(title_text='steps', row=2, col=1)\n",
        "\n",
        "  fig.update_layout(width=800, height=600)\n",
        "\n",
        "  # show the figure\n",
        "  fig.show()\n"
      ]
    },
    {
      "cell_type": "code",
      "source": [
        "import plotly.graph_objects as go\n",
        "import numpy as np\n",
        "\n",
        "# Create some sample data\n",
        "x = np.linspace(0, 1, 10)\n",
        "y = np.sin(x)\n",
        "\n",
        "# Create a scatter plot with colored markers\n",
        "fig = go.Figure(data=go.Scatter(x=x, y=y, mode='markers', marker=dict(color='white', size=10)))\n",
        "\n",
        "# Show the plot\n",
        "fig.show()"
      ],
      "metadata": {
        "colab": {
          "base_uri": "https://localhost:8080/",
          "height": 542
        },
        "id": "SJVeg261tdme",
        "outputId": "dd12135d-958b-4d62-8ef1-8e26b68cb83b"
      },
      "execution_count": null,
      "outputs": [
        {
          "output_type": "display_data",
          "data": {
            "text/html": [
              "<html>\n",
              "<head><meta charset=\"utf-8\" /></head>\n",
              "<body>\n",
              "    <div>            <script src=\"https://cdnjs.cloudflare.com/ajax/libs/mathjax/2.7.5/MathJax.js?config=TeX-AMS-MML_SVG\"></script><script type=\"text/javascript\">if (window.MathJax && window.MathJax.Hub && window.MathJax.Hub.Config) {window.MathJax.Hub.Config({SVG: {font: \"STIX-Web\"}});}</script>                <script type=\"text/javascript\">window.PlotlyConfig = {MathJaxConfig: 'local'};</script>\n",
              "        <script src=\"https://cdn.plot.ly/plotly-2.18.2.min.js\"></script>                <div id=\"860a1227-d898-4d77-bfd9-d935b991870d\" class=\"plotly-graph-div\" style=\"height:525px; width:100%;\"></div>            <script type=\"text/javascript\">                                    window.PLOTLYENV=window.PLOTLYENV || {};                                    if (document.getElementById(\"860a1227-d898-4d77-bfd9-d935b991870d\")) {                    Plotly.newPlot(                        \"860a1227-d898-4d77-bfd9-d935b991870d\",                        [{\"marker\":{\"color\":\"white\",\"size\":10},\"mode\":\"markers\",\"x\":[0.0,0.1111111111111111,0.2222222222222222,0.3333333333333333,0.4444444444444444,0.5555555555555556,0.6666666666666666,0.7777777777777777,0.8888888888888888,1.0],\"y\":[0.0,0.11088262850995298,0.22039774345612226,0.3271946967961522,0.42995636352835553,0.5274153857718655,0.618369803069737,0.7016978761467352,0.7763719213006605,0.8414709848078965],\"type\":\"scatter\"}],                        {\"template\":{\"data\":{\"histogram2dcontour\":[{\"type\":\"histogram2dcontour\",\"colorbar\":{\"outlinewidth\":0,\"ticks\":\"\"},\"colorscale\":[[0.0,\"#0d0887\"],[0.1111111111111111,\"#46039f\"],[0.2222222222222222,\"#7201a8\"],[0.3333333333333333,\"#9c179e\"],[0.4444444444444444,\"#bd3786\"],[0.5555555555555556,\"#d8576b\"],[0.6666666666666666,\"#ed7953\"],[0.7777777777777778,\"#fb9f3a\"],[0.8888888888888888,\"#fdca26\"],[1.0,\"#f0f921\"]]}],\"choropleth\":[{\"type\":\"choropleth\",\"colorbar\":{\"outlinewidth\":0,\"ticks\":\"\"}}],\"histogram2d\":[{\"type\":\"histogram2d\",\"colorbar\":{\"outlinewidth\":0,\"ticks\":\"\"},\"colorscale\":[[0.0,\"#0d0887\"],[0.1111111111111111,\"#46039f\"],[0.2222222222222222,\"#7201a8\"],[0.3333333333333333,\"#9c179e\"],[0.4444444444444444,\"#bd3786\"],[0.5555555555555556,\"#d8576b\"],[0.6666666666666666,\"#ed7953\"],[0.7777777777777778,\"#fb9f3a\"],[0.8888888888888888,\"#fdca26\"],[1.0,\"#f0f921\"]]}],\"heatmap\":[{\"type\":\"heatmap\",\"colorbar\":{\"outlinewidth\":0,\"ticks\":\"\"},\"colorscale\":[[0.0,\"#0d0887\"],[0.1111111111111111,\"#46039f\"],[0.2222222222222222,\"#7201a8\"],[0.3333333333333333,\"#9c179e\"],[0.4444444444444444,\"#bd3786\"],[0.5555555555555556,\"#d8576b\"],[0.6666666666666666,\"#ed7953\"],[0.7777777777777778,\"#fb9f3a\"],[0.8888888888888888,\"#fdca26\"],[1.0,\"#f0f921\"]]}],\"heatmapgl\":[{\"type\":\"heatmapgl\",\"colorbar\":{\"outlinewidth\":0,\"ticks\":\"\"},\"colorscale\":[[0.0,\"#0d0887\"],[0.1111111111111111,\"#46039f\"],[0.2222222222222222,\"#7201a8\"],[0.3333333333333333,\"#9c179e\"],[0.4444444444444444,\"#bd3786\"],[0.5555555555555556,\"#d8576b\"],[0.6666666666666666,\"#ed7953\"],[0.7777777777777778,\"#fb9f3a\"],[0.8888888888888888,\"#fdca26\"],[1.0,\"#f0f921\"]]}],\"contourcarpet\":[{\"type\":\"contourcarpet\",\"colorbar\":{\"outlinewidth\":0,\"ticks\":\"\"}}],\"contour\":[{\"type\":\"contour\",\"colorbar\":{\"outlinewidth\":0,\"ticks\":\"\"},\"colorscale\":[[0.0,\"#0d0887\"],[0.1111111111111111,\"#46039f\"],[0.2222222222222222,\"#7201a8\"],[0.3333333333333333,\"#9c179e\"],[0.4444444444444444,\"#bd3786\"],[0.5555555555555556,\"#d8576b\"],[0.6666666666666666,\"#ed7953\"],[0.7777777777777778,\"#fb9f3a\"],[0.8888888888888888,\"#fdca26\"],[1.0,\"#f0f921\"]]}],\"surface\":[{\"type\":\"surface\",\"colorbar\":{\"outlinewidth\":0,\"ticks\":\"\"},\"colorscale\":[[0.0,\"#0d0887\"],[0.1111111111111111,\"#46039f\"],[0.2222222222222222,\"#7201a8\"],[0.3333333333333333,\"#9c179e\"],[0.4444444444444444,\"#bd3786\"],[0.5555555555555556,\"#d8576b\"],[0.6666666666666666,\"#ed7953\"],[0.7777777777777778,\"#fb9f3a\"],[0.8888888888888888,\"#fdca26\"],[1.0,\"#f0f921\"]]}],\"mesh3d\":[{\"type\":\"mesh3d\",\"colorbar\":{\"outlinewidth\":0,\"ticks\":\"\"}}],\"scatter\":[{\"fillpattern\":{\"fillmode\":\"overlay\",\"size\":10,\"solidity\":0.2},\"type\":\"scatter\"}],\"parcoords\":[{\"type\":\"parcoords\",\"line\":{\"colorbar\":{\"outlinewidth\":0,\"ticks\":\"\"}}}],\"scatterpolargl\":[{\"type\":\"scatterpolargl\",\"marker\":{\"colorbar\":{\"outlinewidth\":0,\"ticks\":\"\"}}}],\"bar\":[{\"error_x\":{\"color\":\"#2a3f5f\"},\"error_y\":{\"color\":\"#2a3f5f\"},\"marker\":{\"line\":{\"color\":\"#E5ECF6\",\"width\":0.5},\"pattern\":{\"fillmode\":\"overlay\",\"size\":10,\"solidity\":0.2}},\"type\":\"bar\"}],\"scattergeo\":[{\"type\":\"scattergeo\",\"marker\":{\"colorbar\":{\"outlinewidth\":0,\"ticks\":\"\"}}}],\"scatterpolar\":[{\"type\":\"scatterpolar\",\"marker\":{\"colorbar\":{\"outlinewidth\":0,\"ticks\":\"\"}}}],\"histogram\":[{\"marker\":{\"pattern\":{\"fillmode\":\"overlay\",\"size\":10,\"solidity\":0.2}},\"type\":\"histogram\"}],\"scattergl\":[{\"type\":\"scattergl\",\"marker\":{\"colorbar\":{\"outlinewidth\":0,\"ticks\":\"\"}}}],\"scatter3d\":[{\"type\":\"scatter3d\",\"line\":{\"colorbar\":{\"outlinewidth\":0,\"ticks\":\"\"}},\"marker\":{\"colorbar\":{\"outlinewidth\":0,\"ticks\":\"\"}}}],\"scattermapbox\":[{\"type\":\"scattermapbox\",\"marker\":{\"colorbar\":{\"outlinewidth\":0,\"ticks\":\"\"}}}],\"scatterternary\":[{\"type\":\"scatterternary\",\"marker\":{\"colorbar\":{\"outlinewidth\":0,\"ticks\":\"\"}}}],\"scattercarpet\":[{\"type\":\"scattercarpet\",\"marker\":{\"colorbar\":{\"outlinewidth\":0,\"ticks\":\"\"}}}],\"carpet\":[{\"aaxis\":{\"endlinecolor\":\"#2a3f5f\",\"gridcolor\":\"white\",\"linecolor\":\"white\",\"minorgridcolor\":\"white\",\"startlinecolor\":\"#2a3f5f\"},\"baxis\":{\"endlinecolor\":\"#2a3f5f\",\"gridcolor\":\"white\",\"linecolor\":\"white\",\"minorgridcolor\":\"white\",\"startlinecolor\":\"#2a3f5f\"},\"type\":\"carpet\"}],\"table\":[{\"cells\":{\"fill\":{\"color\":\"#EBF0F8\"},\"line\":{\"color\":\"white\"}},\"header\":{\"fill\":{\"color\":\"#C8D4E3\"},\"line\":{\"color\":\"white\"}},\"type\":\"table\"}],\"barpolar\":[{\"marker\":{\"line\":{\"color\":\"#E5ECF6\",\"width\":0.5},\"pattern\":{\"fillmode\":\"overlay\",\"size\":10,\"solidity\":0.2}},\"type\":\"barpolar\"}],\"pie\":[{\"automargin\":true,\"type\":\"pie\"}]},\"layout\":{\"autotypenumbers\":\"strict\",\"colorway\":[\"#636efa\",\"#EF553B\",\"#00cc96\",\"#ab63fa\",\"#FFA15A\",\"#19d3f3\",\"#FF6692\",\"#B6E880\",\"#FF97FF\",\"#FECB52\"],\"font\":{\"color\":\"#2a3f5f\"},\"hovermode\":\"closest\",\"hoverlabel\":{\"align\":\"left\"},\"paper_bgcolor\":\"white\",\"plot_bgcolor\":\"#E5ECF6\",\"polar\":{\"bgcolor\":\"#E5ECF6\",\"angularaxis\":{\"gridcolor\":\"white\",\"linecolor\":\"white\",\"ticks\":\"\"},\"radialaxis\":{\"gridcolor\":\"white\",\"linecolor\":\"white\",\"ticks\":\"\"}},\"ternary\":{\"bgcolor\":\"#E5ECF6\",\"aaxis\":{\"gridcolor\":\"white\",\"linecolor\":\"white\",\"ticks\":\"\"},\"baxis\":{\"gridcolor\":\"white\",\"linecolor\":\"white\",\"ticks\":\"\"},\"caxis\":{\"gridcolor\":\"white\",\"linecolor\":\"white\",\"ticks\":\"\"}},\"coloraxis\":{\"colorbar\":{\"outlinewidth\":0,\"ticks\":\"\"}},\"colorscale\":{\"sequential\":[[0.0,\"#0d0887\"],[0.1111111111111111,\"#46039f\"],[0.2222222222222222,\"#7201a8\"],[0.3333333333333333,\"#9c179e\"],[0.4444444444444444,\"#bd3786\"],[0.5555555555555556,\"#d8576b\"],[0.6666666666666666,\"#ed7953\"],[0.7777777777777778,\"#fb9f3a\"],[0.8888888888888888,\"#fdca26\"],[1.0,\"#f0f921\"]],\"sequentialminus\":[[0.0,\"#0d0887\"],[0.1111111111111111,\"#46039f\"],[0.2222222222222222,\"#7201a8\"],[0.3333333333333333,\"#9c179e\"],[0.4444444444444444,\"#bd3786\"],[0.5555555555555556,\"#d8576b\"],[0.6666666666666666,\"#ed7953\"],[0.7777777777777778,\"#fb9f3a\"],[0.8888888888888888,\"#fdca26\"],[1.0,\"#f0f921\"]],\"diverging\":[[0,\"#8e0152\"],[0.1,\"#c51b7d\"],[0.2,\"#de77ae\"],[0.3,\"#f1b6da\"],[0.4,\"#fde0ef\"],[0.5,\"#f7f7f7\"],[0.6,\"#e6f5d0\"],[0.7,\"#b8e186\"],[0.8,\"#7fbc41\"],[0.9,\"#4d9221\"],[1,\"#276419\"]]},\"xaxis\":{\"gridcolor\":\"white\",\"linecolor\":\"white\",\"ticks\":\"\",\"title\":{\"standoff\":15},\"zerolinecolor\":\"white\",\"automargin\":true,\"zerolinewidth\":2},\"yaxis\":{\"gridcolor\":\"white\",\"linecolor\":\"white\",\"ticks\":\"\",\"title\":{\"standoff\":15},\"zerolinecolor\":\"white\",\"automargin\":true,\"zerolinewidth\":2},\"scene\":{\"xaxis\":{\"backgroundcolor\":\"#E5ECF6\",\"gridcolor\":\"white\",\"linecolor\":\"white\",\"showbackground\":true,\"ticks\":\"\",\"zerolinecolor\":\"white\",\"gridwidth\":2},\"yaxis\":{\"backgroundcolor\":\"#E5ECF6\",\"gridcolor\":\"white\",\"linecolor\":\"white\",\"showbackground\":true,\"ticks\":\"\",\"zerolinecolor\":\"white\",\"gridwidth\":2},\"zaxis\":{\"backgroundcolor\":\"#E5ECF6\",\"gridcolor\":\"white\",\"linecolor\":\"white\",\"showbackground\":true,\"ticks\":\"\",\"zerolinecolor\":\"white\",\"gridwidth\":2}},\"shapedefaults\":{\"line\":{\"color\":\"#2a3f5f\"}},\"annotationdefaults\":{\"arrowcolor\":\"#2a3f5f\",\"arrowhead\":0,\"arrowwidth\":1},\"geo\":{\"bgcolor\":\"white\",\"landcolor\":\"#E5ECF6\",\"subunitcolor\":\"white\",\"showland\":true,\"showlakes\":true,\"lakecolor\":\"white\"},\"title\":{\"x\":0.05},\"mapbox\":{\"style\":\"light\"}}}},                        {\"responsive\": true}                    ).then(function(){\n",
              "                            \n",
              "var gd = document.getElementById('860a1227-d898-4d77-bfd9-d935b991870d');\n",
              "var x = new MutationObserver(function (mutations, observer) {{\n",
              "        var display = window.getComputedStyle(gd).display;\n",
              "        if (!display || display === 'none') {{\n",
              "            console.log([gd, 'removed!']);\n",
              "            Plotly.purge(gd);\n",
              "            observer.disconnect();\n",
              "        }}\n",
              "}});\n",
              "\n",
              "// Listen for the removal of the full notebook cells\n",
              "var notebookContainer = gd.closest('#notebook-container');\n",
              "if (notebookContainer) {{\n",
              "    x.observe(notebookContainer, {childList: true});\n",
              "}}\n",
              "\n",
              "// Listen for the clearing of the current output cell\n",
              "var outputEl = gd.closest('.output');\n",
              "if (outputEl) {{\n",
              "    x.observe(outputEl, {childList: true});\n",
              "}}\n",
              "\n",
              "                        })                };                            </script>        </div>\n",
              "</body>\n",
              "</html>"
            ]
          },
          "metadata": {}
        }
      ]
    },
    {
      "cell_type": "code",
      "source": [
        "import plotly.graph_objects as go\n",
        "import numpy as np\n",
        "\n",
        "# Create some sample data\n",
        "x = np.linspace(0, 2*np.pi, 50)\n",
        "y = np.sin(x)\n",
        "\n",
        "# Create a new figure\n",
        "fig = go.Figure()\n",
        "\n",
        "# Add a new trace for each point\n",
        "for i in range(len(x)):\n",
        "    fig.add_trace(go.Scatter(x=[x[i]], y=[y[i]], mode='markers', marker=dict(color='red' if y[i] > 0 else 'blue')))\n",
        "\n",
        "# Show the plot\n",
        "fig.show()\n"
      ],
      "metadata": {
        "colab": {
          "base_uri": "https://localhost:8080/",
          "height": 542
        },
        "id": "q73u8BuEzLLY",
        "outputId": "0e660724-8563-4f48-a747-17333e25e421"
      },
      "execution_count": null,
      "outputs": [
        {
          "output_type": "display_data",
          "data": {
            "text/html": [
              "<html>\n",
              "<head><meta charset=\"utf-8\" /></head>\n",
              "<body>\n",
              "    <div>            <script src=\"https://cdnjs.cloudflare.com/ajax/libs/mathjax/2.7.5/MathJax.js?config=TeX-AMS-MML_SVG\"></script><script type=\"text/javascript\">if (window.MathJax && window.MathJax.Hub && window.MathJax.Hub.Config) {window.MathJax.Hub.Config({SVG: {font: \"STIX-Web\"}});}</script>                <script type=\"text/javascript\">window.PlotlyConfig = {MathJaxConfig: 'local'};</script>\n",
              "        <script src=\"https://cdn.plot.ly/plotly-2.18.2.min.js\"></script>                <div id=\"95750433-4cb1-4549-8909-5e37550ddf04\" class=\"plotly-graph-div\" style=\"height:525px; width:100%;\"></div>            <script type=\"text/javascript\">                                    window.PLOTLYENV=window.PLOTLYENV || {};                                    if (document.getElementById(\"95750433-4cb1-4549-8909-5e37550ddf04\")) {                    Plotly.newPlot(                        \"95750433-4cb1-4549-8909-5e37550ddf04\",                        [{\"marker\":{\"color\":\"blue\"},\"mode\":\"markers\",\"x\":[0.0],\"y\":[0.0],\"type\":\"scatter\"},{\"marker\":{\"color\":\"red\"},\"mode\":\"markers\",\"x\":[0.1282282715750936],\"y\":[0.127877161684506],\"type\":\"scatter\"},{\"marker\":{\"color\":\"red\"},\"mode\":\"markers\",\"x\":[0.2564565431501872],\"y\":[0.25365458390950735],\"type\":\"scatter\"},{\"marker\":{\"color\":\"red\"},\"mode\":\"markers\",\"x\":[0.38468481472528077],\"y\":[0.3752670048793741],\"type\":\"scatter\"},{\"marker\":{\"color\":\"red\"},\"mode\":\"markers\",\"x\":[0.5129130863003744],\"y\":[0.49071755200393785],\"type\":\"scatter\"},{\"marker\":{\"color\":\"red\"},\"mode\":\"markers\",\"x\":[0.6411413578754679],\"y\":[0.5981105304912159],\"type\":\"scatter\"},{\"marker\":{\"color\":\"red\"},\"mode\":\"markers\",\"x\":[0.7693696294505615],\"y\":[0.6956825506034864],\"type\":\"scatter\"},{\"marker\":{\"color\":\"red\"},\"mode\":\"markers\",\"x\":[0.8975979010256552],\"y\":[0.7818314824680298],\"type\":\"scatter\"},{\"marker\":{\"color\":\"red\"},\"mode\":\"markers\",\"x\":[1.0258261726007487],\"y\":[0.8551427630053461],\"type\":\"scatter\"},{\"marker\":{\"color\":\"red\"},\"mode\":\"markers\",\"x\":[1.1540544441758422],\"y\":[0.9144126230158124],\"type\":\"scatter\"},{\"marker\":{\"color\":\"red\"},\"mode\":\"markers\",\"x\":[1.2822827157509358],\"y\":[0.9586678530366606],\"type\":\"scatter\"},{\"marker\":{\"color\":\"red\"},\"mode\":\"markers\",\"x\":[1.4105109873260295],\"y\":[0.9871817834144501],\"type\":\"scatter\"},{\"marker\":{\"color\":\"red\"},\"mode\":\"markers\",\"x\":[1.538739258901123],\"y\":[0.9994862162006879],\"type\":\"scatter\"},{\"marker\":{\"color\":\"red\"},\"mode\":\"markers\",\"x\":[1.6669675304762166],\"y\":[0.9953791129491982],\"type\":\"scatter\"},{\"marker\":{\"color\":\"red\"},\"mode\":\"markers\",\"x\":[1.7951958020513104],\"y\":[0.9749279121818236],\"type\":\"scatter\"},{\"marker\":{\"color\":\"red\"},\"mode\":\"markers\",\"x\":[1.9234240736264039],\"y\":[0.9384684220497604],\"type\":\"scatter\"},{\"marker\":{\"color\":\"red\"},\"mode\":\"markers\",\"x\":[2.0516523452014974],\"y\":[0.8865993063730001],\"type\":\"scatter\"},{\"marker\":{\"color\":\"red\"},\"mode\":\"markers\",\"x\":[2.179880616776591],\"y\":[0.8201722545969561],\"type\":\"scatter\"},{\"marker\":{\"color\":\"red\"},\"mode\":\"markers\",\"x\":[2.3081088883516845],\"y\":[0.7402779970753157],\"type\":\"scatter\"},{\"marker\":{\"color\":\"red\"},\"mode\":\"markers\",\"x\":[2.436337159926778],\"y\":[0.6482283953077888],\"type\":\"scatter\"},{\"marker\":{\"color\":\"red\"},\"mode\":\"markers\",\"x\":[2.5645654315018716],\"y\":[0.545534901210549],\"type\":\"scatter\"},{\"marker\":{\"color\":\"red\"},\"mode\":\"markers\",\"x\":[2.6927937030769655],\"y\":[0.43388373911755823],\"type\":\"scatter\"},{\"marker\":{\"color\":\"red\"},\"mode\":\"markers\",\"x\":[2.821021974652059],\"y\":[0.3151082180236209],\"type\":\"scatter\"},{\"marker\":{\"color\":\"red\"},\"mode\":\"markers\",\"x\":[2.9492502462271526],\"y\":[0.19115862870137254],\"type\":\"scatter\"},{\"marker\":{\"color\":\"red\"},\"mode\":\"markers\",\"x\":[3.077478517802246],\"y\":[0.06407021998071323],\"type\":\"scatter\"},{\"marker\":{\"color\":\"blue\"},\"mode\":\"markers\",\"x\":[3.2057067893773397],\"y\":[-0.06407021998071255],\"type\":\"scatter\"},{\"marker\":{\"color\":\"blue\"},\"mode\":\"markers\",\"x\":[3.333935060952433],\"y\":[-0.19115862870137187],\"type\":\"scatter\"},{\"marker\":{\"color\":\"blue\"},\"mode\":\"markers\",\"x\":[3.4621633325275267],\"y\":[-0.3151082180236202],\"type\":\"scatter\"},{\"marker\":{\"color\":\"blue\"},\"mode\":\"markers\",\"x\":[3.5903916041026207],\"y\":[-0.433883739117558],\"type\":\"scatter\"},{\"marker\":{\"color\":\"blue\"},\"mode\":\"markers\",\"x\":[3.7186198756777142],\"y\":[-0.5455349012105485],\"type\":\"scatter\"},{\"marker\":{\"color\":\"blue\"},\"mode\":\"markers\",\"x\":[3.8468481472528078],\"y\":[-0.6482283953077882],\"type\":\"scatter\"},{\"marker\":{\"color\":\"blue\"},\"mode\":\"markers\",\"x\":[3.9750764188279013],\"y\":[-0.7402779970753153],\"type\":\"scatter\"},{\"marker\":{\"color\":\"blue\"},\"mode\":\"markers\",\"x\":[4.103304690402995],\"y\":[-0.8201722545969556],\"type\":\"scatter\"},{\"marker\":{\"color\":\"blue\"},\"mode\":\"markers\",\"x\":[4.231532961978089],\"y\":[-0.886599306373],\"type\":\"scatter\"},{\"marker\":{\"color\":\"blue\"},\"mode\":\"markers\",\"x\":[4.359761233553182],\"y\":[-0.9384684220497602],\"type\":\"scatter\"},{\"marker\":{\"color\":\"blue\"},\"mode\":\"markers\",\"x\":[4.487989505128276],\"y\":[-0.9749279121818236],\"type\":\"scatter\"},{\"marker\":{\"color\":\"blue\"},\"mode\":\"markers\",\"x\":[4.616217776703369],\"y\":[-0.9953791129491981],\"type\":\"scatter\"},{\"marker\":{\"color\":\"blue\"},\"mode\":\"markers\",\"x\":[4.744446048278463],\"y\":[-0.9994862162006879],\"type\":\"scatter\"},{\"marker\":{\"color\":\"blue\"},\"mode\":\"markers\",\"x\":[4.872674319853556],\"y\":[-0.9871817834144503],\"type\":\"scatter\"},{\"marker\":{\"color\":\"blue\"},\"mode\":\"markers\",\"x\":[5.00090259142865],\"y\":[-0.9586678530366608],\"type\":\"scatter\"},{\"marker\":{\"color\":\"blue\"},\"mode\":\"markers\",\"x\":[5.129130863003743],\"y\":[-0.9144126230158128],\"type\":\"scatter\"},{\"marker\":{\"color\":\"blue\"},\"mode\":\"markers\",\"x\":[5.257359134578837],\"y\":[-0.8551427630053464],\"type\":\"scatter\"},{\"marker\":{\"color\":\"blue\"},\"mode\":\"markers\",\"x\":[5.385587406153931],\"y\":[-0.7818314824680299],\"type\":\"scatter\"},{\"marker\":{\"color\":\"blue\"},\"mode\":\"markers\",\"x\":[5.513815677729024],\"y\":[-0.6956825506034869],\"type\":\"scatter\"},{\"marker\":{\"color\":\"blue\"},\"mode\":\"markers\",\"x\":[5.642043949304118],\"y\":[-0.5981105304912162],\"type\":\"scatter\"},{\"marker\":{\"color\":\"blue\"},\"mode\":\"markers\",\"x\":[5.770272220879211],\"y\":[-0.49071755200393863],\"type\":\"scatter\"},{\"marker\":{\"color\":\"blue\"},\"mode\":\"markers\",\"x\":[5.898500492454305],\"y\":[-0.3752670048793746],\"type\":\"scatter\"},{\"marker\":{\"color\":\"blue\"},\"mode\":\"markers\",\"x\":[6.026728764029398],\"y\":[-0.25365458390950835],\"type\":\"scatter\"},{\"marker\":{\"color\":\"blue\"},\"mode\":\"markers\",\"x\":[6.154957035604492],\"y\":[-0.12787716168450664],\"type\":\"scatter\"},{\"marker\":{\"color\":\"blue\"},\"mode\":\"markers\",\"x\":[6.283185307179586],\"y\":[-2.4492935982947064e-16],\"type\":\"scatter\"}],                        {\"template\":{\"data\":{\"histogram2dcontour\":[{\"type\":\"histogram2dcontour\",\"colorbar\":{\"outlinewidth\":0,\"ticks\":\"\"},\"colorscale\":[[0.0,\"#0d0887\"],[0.1111111111111111,\"#46039f\"],[0.2222222222222222,\"#7201a8\"],[0.3333333333333333,\"#9c179e\"],[0.4444444444444444,\"#bd3786\"],[0.5555555555555556,\"#d8576b\"],[0.6666666666666666,\"#ed7953\"],[0.7777777777777778,\"#fb9f3a\"],[0.8888888888888888,\"#fdca26\"],[1.0,\"#f0f921\"]]}],\"choropleth\":[{\"type\":\"choropleth\",\"colorbar\":{\"outlinewidth\":0,\"ticks\":\"\"}}],\"histogram2d\":[{\"type\":\"histogram2d\",\"colorbar\":{\"outlinewidth\":0,\"ticks\":\"\"},\"colorscale\":[[0.0,\"#0d0887\"],[0.1111111111111111,\"#46039f\"],[0.2222222222222222,\"#7201a8\"],[0.3333333333333333,\"#9c179e\"],[0.4444444444444444,\"#bd3786\"],[0.5555555555555556,\"#d8576b\"],[0.6666666666666666,\"#ed7953\"],[0.7777777777777778,\"#fb9f3a\"],[0.8888888888888888,\"#fdca26\"],[1.0,\"#f0f921\"]]}],\"heatmap\":[{\"type\":\"heatmap\",\"colorbar\":{\"outlinewidth\":0,\"ticks\":\"\"},\"colorscale\":[[0.0,\"#0d0887\"],[0.1111111111111111,\"#46039f\"],[0.2222222222222222,\"#7201a8\"],[0.3333333333333333,\"#9c179e\"],[0.4444444444444444,\"#bd3786\"],[0.5555555555555556,\"#d8576b\"],[0.6666666666666666,\"#ed7953\"],[0.7777777777777778,\"#fb9f3a\"],[0.8888888888888888,\"#fdca26\"],[1.0,\"#f0f921\"]]}],\"heatmapgl\":[{\"type\":\"heatmapgl\",\"colorbar\":{\"outlinewidth\":0,\"ticks\":\"\"},\"colorscale\":[[0.0,\"#0d0887\"],[0.1111111111111111,\"#46039f\"],[0.2222222222222222,\"#7201a8\"],[0.3333333333333333,\"#9c179e\"],[0.4444444444444444,\"#bd3786\"],[0.5555555555555556,\"#d8576b\"],[0.6666666666666666,\"#ed7953\"],[0.7777777777777778,\"#fb9f3a\"],[0.8888888888888888,\"#fdca26\"],[1.0,\"#f0f921\"]]}],\"contourcarpet\":[{\"type\":\"contourcarpet\",\"colorbar\":{\"outlinewidth\":0,\"ticks\":\"\"}}],\"contour\":[{\"type\":\"contour\",\"colorbar\":{\"outlinewidth\":0,\"ticks\":\"\"},\"colorscale\":[[0.0,\"#0d0887\"],[0.1111111111111111,\"#46039f\"],[0.2222222222222222,\"#7201a8\"],[0.3333333333333333,\"#9c179e\"],[0.4444444444444444,\"#bd3786\"],[0.5555555555555556,\"#d8576b\"],[0.6666666666666666,\"#ed7953\"],[0.7777777777777778,\"#fb9f3a\"],[0.8888888888888888,\"#fdca26\"],[1.0,\"#f0f921\"]]}],\"surface\":[{\"type\":\"surface\",\"colorbar\":{\"outlinewidth\":0,\"ticks\":\"\"},\"colorscale\":[[0.0,\"#0d0887\"],[0.1111111111111111,\"#46039f\"],[0.2222222222222222,\"#7201a8\"],[0.3333333333333333,\"#9c179e\"],[0.4444444444444444,\"#bd3786\"],[0.5555555555555556,\"#d8576b\"],[0.6666666666666666,\"#ed7953\"],[0.7777777777777778,\"#fb9f3a\"],[0.8888888888888888,\"#fdca26\"],[1.0,\"#f0f921\"]]}],\"mesh3d\":[{\"type\":\"mesh3d\",\"colorbar\":{\"outlinewidth\":0,\"ticks\":\"\"}}],\"scatter\":[{\"fillpattern\":{\"fillmode\":\"overlay\",\"size\":10,\"solidity\":0.2},\"type\":\"scatter\"}],\"parcoords\":[{\"type\":\"parcoords\",\"line\":{\"colorbar\":{\"outlinewidth\":0,\"ticks\":\"\"}}}],\"scatterpolargl\":[{\"type\":\"scatterpolargl\",\"marker\":{\"colorbar\":{\"outlinewidth\":0,\"ticks\":\"\"}}}],\"bar\":[{\"error_x\":{\"color\":\"#2a3f5f\"},\"error_y\":{\"color\":\"#2a3f5f\"},\"marker\":{\"line\":{\"color\":\"#E5ECF6\",\"width\":0.5},\"pattern\":{\"fillmode\":\"overlay\",\"size\":10,\"solidity\":0.2}},\"type\":\"bar\"}],\"scattergeo\":[{\"type\":\"scattergeo\",\"marker\":{\"colorbar\":{\"outlinewidth\":0,\"ticks\":\"\"}}}],\"scatterpolar\":[{\"type\":\"scatterpolar\",\"marker\":{\"colorbar\":{\"outlinewidth\":0,\"ticks\":\"\"}}}],\"histogram\":[{\"marker\":{\"pattern\":{\"fillmode\":\"overlay\",\"size\":10,\"solidity\":0.2}},\"type\":\"histogram\"}],\"scattergl\":[{\"type\":\"scattergl\",\"marker\":{\"colorbar\":{\"outlinewidth\":0,\"ticks\":\"\"}}}],\"scatter3d\":[{\"type\":\"scatter3d\",\"line\":{\"colorbar\":{\"outlinewidth\":0,\"ticks\":\"\"}},\"marker\":{\"colorbar\":{\"outlinewidth\":0,\"ticks\":\"\"}}}],\"scattermapbox\":[{\"type\":\"scattermapbox\",\"marker\":{\"colorbar\":{\"outlinewidth\":0,\"ticks\":\"\"}}}],\"scatterternary\":[{\"type\":\"scatterternary\",\"marker\":{\"colorbar\":{\"outlinewidth\":0,\"ticks\":\"\"}}}],\"scattercarpet\":[{\"type\":\"scattercarpet\",\"marker\":{\"colorbar\":{\"outlinewidth\":0,\"ticks\":\"\"}}}],\"carpet\":[{\"aaxis\":{\"endlinecolor\":\"#2a3f5f\",\"gridcolor\":\"white\",\"linecolor\":\"white\",\"minorgridcolor\":\"white\",\"startlinecolor\":\"#2a3f5f\"},\"baxis\":{\"endlinecolor\":\"#2a3f5f\",\"gridcolor\":\"white\",\"linecolor\":\"white\",\"minorgridcolor\":\"white\",\"startlinecolor\":\"#2a3f5f\"},\"type\":\"carpet\"}],\"table\":[{\"cells\":{\"fill\":{\"color\":\"#EBF0F8\"},\"line\":{\"color\":\"white\"}},\"header\":{\"fill\":{\"color\":\"#C8D4E3\"},\"line\":{\"color\":\"white\"}},\"type\":\"table\"}],\"barpolar\":[{\"marker\":{\"line\":{\"color\":\"#E5ECF6\",\"width\":0.5},\"pattern\":{\"fillmode\":\"overlay\",\"size\":10,\"solidity\":0.2}},\"type\":\"barpolar\"}],\"pie\":[{\"automargin\":true,\"type\":\"pie\"}]},\"layout\":{\"autotypenumbers\":\"strict\",\"colorway\":[\"#636efa\",\"#EF553B\",\"#00cc96\",\"#ab63fa\",\"#FFA15A\",\"#19d3f3\",\"#FF6692\",\"#B6E880\",\"#FF97FF\",\"#FECB52\"],\"font\":{\"color\":\"#2a3f5f\"},\"hovermode\":\"closest\",\"hoverlabel\":{\"align\":\"left\"},\"paper_bgcolor\":\"white\",\"plot_bgcolor\":\"#E5ECF6\",\"polar\":{\"bgcolor\":\"#E5ECF6\",\"angularaxis\":{\"gridcolor\":\"white\",\"linecolor\":\"white\",\"ticks\":\"\"},\"radialaxis\":{\"gridcolor\":\"white\",\"linecolor\":\"white\",\"ticks\":\"\"}},\"ternary\":{\"bgcolor\":\"#E5ECF6\",\"aaxis\":{\"gridcolor\":\"white\",\"linecolor\":\"white\",\"ticks\":\"\"},\"baxis\":{\"gridcolor\":\"white\",\"linecolor\":\"white\",\"ticks\":\"\"},\"caxis\":{\"gridcolor\":\"white\",\"linecolor\":\"white\",\"ticks\":\"\"}},\"coloraxis\":{\"colorbar\":{\"outlinewidth\":0,\"ticks\":\"\"}},\"colorscale\":{\"sequential\":[[0.0,\"#0d0887\"],[0.1111111111111111,\"#46039f\"],[0.2222222222222222,\"#7201a8\"],[0.3333333333333333,\"#9c179e\"],[0.4444444444444444,\"#bd3786\"],[0.5555555555555556,\"#d8576b\"],[0.6666666666666666,\"#ed7953\"],[0.7777777777777778,\"#fb9f3a\"],[0.8888888888888888,\"#fdca26\"],[1.0,\"#f0f921\"]],\"sequentialminus\":[[0.0,\"#0d0887\"],[0.1111111111111111,\"#46039f\"],[0.2222222222222222,\"#7201a8\"],[0.3333333333333333,\"#9c179e\"],[0.4444444444444444,\"#bd3786\"],[0.5555555555555556,\"#d8576b\"],[0.6666666666666666,\"#ed7953\"],[0.7777777777777778,\"#fb9f3a\"],[0.8888888888888888,\"#fdca26\"],[1.0,\"#f0f921\"]],\"diverging\":[[0,\"#8e0152\"],[0.1,\"#c51b7d\"],[0.2,\"#de77ae\"],[0.3,\"#f1b6da\"],[0.4,\"#fde0ef\"],[0.5,\"#f7f7f7\"],[0.6,\"#e6f5d0\"],[0.7,\"#b8e186\"],[0.8,\"#7fbc41\"],[0.9,\"#4d9221\"],[1,\"#276419\"]]},\"xaxis\":{\"gridcolor\":\"white\",\"linecolor\":\"white\",\"ticks\":\"\",\"title\":{\"standoff\":15},\"zerolinecolor\":\"white\",\"automargin\":true,\"zerolinewidth\":2},\"yaxis\":{\"gridcolor\":\"white\",\"linecolor\":\"white\",\"ticks\":\"\",\"title\":{\"standoff\":15},\"zerolinecolor\":\"white\",\"automargin\":true,\"zerolinewidth\":2},\"scene\":{\"xaxis\":{\"backgroundcolor\":\"#E5ECF6\",\"gridcolor\":\"white\",\"linecolor\":\"white\",\"showbackground\":true,\"ticks\":\"\",\"zerolinecolor\":\"white\",\"gridwidth\":2},\"yaxis\":{\"backgroundcolor\":\"#E5ECF6\",\"gridcolor\":\"white\",\"linecolor\":\"white\",\"showbackground\":true,\"ticks\":\"\",\"zerolinecolor\":\"white\",\"gridwidth\":2},\"zaxis\":{\"backgroundcolor\":\"#E5ECF6\",\"gridcolor\":\"white\",\"linecolor\":\"white\",\"showbackground\":true,\"ticks\":\"\",\"zerolinecolor\":\"white\",\"gridwidth\":2}},\"shapedefaults\":{\"line\":{\"color\":\"#2a3f5f\"}},\"annotationdefaults\":{\"arrowcolor\":\"#2a3f5f\",\"arrowhead\":0,\"arrowwidth\":1},\"geo\":{\"bgcolor\":\"white\",\"landcolor\":\"#E5ECF6\",\"subunitcolor\":\"white\",\"showland\":true,\"showlakes\":true,\"lakecolor\":\"white\"},\"title\":{\"x\":0.05},\"mapbox\":{\"style\":\"light\"}}}},                        {\"responsive\": true}                    ).then(function(){\n",
              "                            \n",
              "var gd = document.getElementById('95750433-4cb1-4549-8909-5e37550ddf04');\n",
              "var x = new MutationObserver(function (mutations, observer) {{\n",
              "        var display = window.getComputedStyle(gd).display;\n",
              "        if (!display || display === 'none') {{\n",
              "            console.log([gd, 'removed!']);\n",
              "            Plotly.purge(gd);\n",
              "            observer.disconnect();\n",
              "        }}\n",
              "}});\n",
              "\n",
              "// Listen for the removal of the full notebook cells\n",
              "var notebookContainer = gd.closest('#notebook-container');\n",
              "if (notebookContainer) {{\n",
              "    x.observe(notebookContainer, {childList: true});\n",
              "}}\n",
              "\n",
              "// Listen for the clearing of the current output cell\n",
              "var outputEl = gd.closest('.output');\n",
              "if (outputEl) {{\n",
              "    x.observe(outputEl, {childList: true});\n",
              "}}\n",
              "\n",
              "                        })                };                            </script>        </div>\n",
              "</body>\n",
              "</html>"
            ]
          },
          "metadata": {}
        }
      ]
    },
    {
      "cell_type": "markdown",
      "source": [
        "#Installing scikit-learn"
      ],
      "metadata": {
        "id": "zthfvAe8XVJV"
      }
    },
    {
      "cell_type": "code",
      "source": [
        "!pip install scikit-learn==1.2.1"
      ],
      "metadata": {
        "colab": {
          "base_uri": "https://localhost:8080/"
        },
        "id": "j9qxR-2UW79r",
        "outputId": "30f5839b-91f4-4686-a0b7-19d5aa3a5f56"
      },
      "execution_count": null,
      "outputs": [
        {
          "output_type": "stream",
          "name": "stdout",
          "text": [
            "Looking in indexes: https://pypi.org/simple, https://us-python.pkg.dev/colab-wheels/public/simple/\n",
            "Collecting scikit-learn==1.2.1\n",
            "  Downloading scikit_learn-1.2.1-cp39-cp39-manylinux_2_17_x86_64.manylinux2014_x86_64.whl (9.6 MB)\n",
            "\u001b[2K     \u001b[90m━━━━━━━━━━━━━━━━━━━━━━━━━━━━━━━━━━━━━━━━\u001b[0m \u001b[32m9.6/9.6 MB\u001b[0m \u001b[31m58.4 MB/s\u001b[0m eta \u001b[36m0:00:00\u001b[0m\n",
            "\u001b[?25hRequirement already satisfied: threadpoolctl>=2.0.0 in /usr/local/lib/python3.9/dist-packages (from scikit-learn==1.2.1) (3.1.0)\n",
            "Requirement already satisfied: joblib>=1.1.1 in /usr/local/lib/python3.9/dist-packages (from scikit-learn==1.2.1) (1.2.0)\n",
            "Requirement already satisfied: scipy>=1.3.2 in /usr/local/lib/python3.9/dist-packages (from scikit-learn==1.2.1) (1.10.1)\n",
            "Requirement already satisfied: numpy>=1.17.3 in /usr/local/lib/python3.9/dist-packages (from scikit-learn==1.2.1) (1.22.4)\n",
            "Installing collected packages: scikit-learn\n",
            "  Attempting uninstall: scikit-learn\n",
            "    Found existing installation: scikit-learn 1.2.2\n",
            "    Uninstalling scikit-learn-1.2.2:\n",
            "      Successfully uninstalled scikit-learn-1.2.2\n",
            "Successfully installed scikit-learn-1.2.1\n"
          ]
        }
      ]
    },
    {
      "cell_type": "code",
      "source": [
        "import os, yaml\n",
        "import random, glob\n",
        "import numpy as np\n",
        "import pandas as pd\n",
        "import plotly.graph_objects as go\n",
        "from plotly.subplots import make_subplots\n",
        "import plotly.express as px\n",
        "import joblib"
      ],
      "metadata": {
        "id": "uNHItEHdRhnb"
      },
      "execution_count": null,
      "outputs": []
    },
    {
      "cell_type": "markdown",
      "source": [
        "##Loading the Workflow database"
      ],
      "metadata": {
        "id": "zjTVW5bEUhpI"
      }
    },
    {
      "cell_type": "code",
      "source": [
        "DB =glob.glob('db-Workflow-c*.yml')\n",
        "DB"
      ],
      "metadata": {
        "colab": {
          "base_uri": "https://localhost:8080/"
        },
        "id": "WChT6yCbQtTQ",
        "outputId": "5e18ede4-d6c5-4375-f53b-6efb5136c0b2"
      },
      "execution_count": null,
      "outputs": [
        {
          "output_type": "execute_result",
          "data": {
            "text/plain": [
              "['db-Workflow-c3.yml',\n",
              " 'db-Workflow-c4.yml',\n",
              " 'db-Workflow-c5.yml',\n",
              " 'db-Workflow-c1.yml',\n",
              " 'db-Workflow-c2.yml']"
            ]
          },
          "metadata": {},
          "execution_count": 20
        }
      ]
    },
    {
      "cell_type": "code",
      "source": [
        "t = [int(i.split('db-Workflow-c')[1].split('.yml')[0]) for i in DB]\n",
        "tm = []\n",
        "for i in np.argsort(t):\n",
        "  tm.append(DB[i])\n",
        "DB = tm.copy()\n",
        "del tm "
      ],
      "metadata": {
        "id": "ra4Pa8yTZj0x"
      },
      "execution_count": null,
      "outputs": []
    },
    {
      "cell_type": "code",
      "source": [
        "DB"
      ],
      "metadata": {
        "colab": {
          "base_uri": "https://localhost:8080/"
        },
        "id": "h8w-eX7oaDS4",
        "outputId": "80167f3b-2010-49be-925f-c84edc73bed1"
      },
      "execution_count": null,
      "outputs": [
        {
          "output_type": "execute_result",
          "data": {
            "text/plain": [
              "['db-Workflow-c1.yml',\n",
              " 'db-Workflow-c2.yml',\n",
              " 'db-Workflow-c3.yml',\n",
              " 'db-Workflow-c4.yml',\n",
              " 'db-Workflow-c5.yml']"
            ]
          },
          "metadata": {},
          "execution_count": 25
        }
      ]
    },
    {
      "cell_type": "code",
      "source": [
        "try:\n",
        "    len(yDB)\n",
        "    len(processed)\n",
        "except:\n",
        "    yDB = []\n",
        "    processed = []\n",
        "\n",
        "for File in DB:\n",
        "    if not File in processed:\n",
        "            \n",
        "        with open(File) as file:\n",
        "            db_wf = yaml.full_load(file)\n",
        "\n",
        "        print(File + ' added...')\n",
        "        yDB.append(db_wf)\n",
        "        processed.append(File)\n",
        "\n",
        "processed"
      ],
      "metadata": {
        "colab": {
          "base_uri": "https://localhost:8080/"
        },
        "id": "KbypXqfUQ6Fg",
        "outputId": "a5100594-40c5-45a9-ec3b-ee6221374e1b"
      },
      "execution_count": null,
      "outputs": [
        {
          "output_type": "stream",
          "name": "stdout",
          "text": [
            "db-Workflow-c1.yml added...\n",
            "db-Workflow-c2.yml added...\n",
            "db-Workflow-c3.yml added...\n",
            "db-Workflow-c4.yml added...\n",
            "db-Workflow-c5.yml added...\n"
          ]
        },
        {
          "output_type": "execute_result",
          "data": {
            "text/plain": [
              "['db-Workflow-c1.yml',\n",
              " 'db-Workflow-c2.yml',\n",
              " 'db-Workflow-c3.yml',\n",
              " 'db-Workflow-c4.yml',\n",
              " 'db-Workflow-c5.yml']"
            ]
          },
          "metadata": {},
          "execution_count": 26
        }
      ]
    },
    {
      "cell_type": "code",
      "source": [
        "'''\n",
        "with open('db-Workflow-c1.yml') as file:\n",
        "    db_wf = yaml.full_load(file)\n",
        "'''"
      ],
      "metadata": {
        "id": "j13T-GXWTdqp"
      },
      "execution_count": null,
      "outputs": []
    },
    {
      "cell_type": "markdown",
      "source": [
        "##Data collections / AL\n"
      ],
      "metadata": {
        "id": "3EmsoJF8UwZr"
      }
    },
    {
      "cell_type": "code",
      "source": [
        "def filter_dicts(common_string, db_dict):\n",
        "  Cresult = []\n",
        "  for I in db_dict:\n",
        "    result = []\n",
        "    for key, value in I.items():\n",
        "        if common_string in key:\n",
        "            result.append(key)\n",
        "    Cresult.append(result)\n",
        "  return Cresult\n",
        "\n",
        "def filter_dict(common_string, db_dict):\n",
        "  result = []\n",
        "  for key, value in db_dict.items():\n",
        "      if common_string in key:\n",
        "          result.append(key)\n",
        "  return result\n",
        "\n",
        "common_string = 'SEI-AL'\n",
        "prop_1 = 'err'\n",
        "\n",
        "Cresults_SEI_AL = filter_dicts(common_string, yDB)\n",
        "\n",
        "Cerr_list = []\n",
        "for F in Cresults_SEI_AL:\n",
        "    \n",
        "    err_list =[]\n",
        "    indx = Cresults_SEI_AL.index(F)    \n",
        "    for dic_name in F:\n",
        "      err_list.append(yDB[indx][dic_name][prop_1])\n",
        "    Cerr_list.append(err_list[0][0])\n",
        "    \n",
        "CSEI_AL_array = []\n",
        "for I in Cerr_list:\n",
        "   \n",
        "  SEI_AL_array = np.array(I) \n",
        "  SEI_AL_array = SEI_AL_array[SEI_AL_array[:,0].argsort()]\n",
        "\n",
        "  CSEI_AL_array.append(SEI_AL_array)\n"
      ],
      "metadata": {
        "id": "0pbL2-fRQ_O6"
      },
      "execution_count": null,
      "outputs": []
    },
    {
      "cell_type": "code",
      "source": [
        "'''\n",
        "def filter_dicts(common_string, db_dict):\n",
        "  result = []\n",
        "  for key, value in db_dict.items():\n",
        "      if common_string in key:\n",
        "          result.append(key)\n",
        "  return result\n",
        "\n",
        "common_string = 'SEI-AL'\n",
        "prop_1 = 'err'\n",
        "err_list = []\n",
        "\n",
        "results_SEI_AL = filter_dicts(common_string, db_wf)\n",
        "\n",
        "for dic_name in results_SEI_AL:\n",
        "    err_list.append(db_wf[dic_name][prop_1])\n",
        "\n",
        "SEI_AL_array = np.array(err_list)# Convert the list to a NumPy array\n",
        "SEI_AL_array = SEI_AL_array[0][0][:]\n",
        "\n",
        "# sort array\n",
        "SEI_AL_array = SEI_AL_array[SEI_AL_array[:,0].argsort()]\n",
        "'''"
      ],
      "metadata": {
        "id": "F2Ohi16bUqxI"
      },
      "execution_count": null,
      "outputs": []
    },
    {
      "cell_type": "code",
      "source": [
        "def RenderALerror(Array=CSEI_AL_array, Results=Cresults_SEI_AL):\n",
        "    \n",
        "    fig = make_subplots(rows=1, cols=1, shared_xaxes=True,vertical_spacing=0.02)\n",
        "    i = 1\n",
        "    for array in Array:\n",
        "        fig.add_trace(go.Scatter(x = array[:,0], y = array[:,1], mode='lines+markers', name=f'Error Cycle-{i}'), row=1, col=1)\n",
        "        i += 1\n",
        "\n",
        "    fig.update_layout(title='Training-error')\n",
        "    fig.update_yaxes(title_text='Error', row=1, col=1)\n",
        "    fig.update_xaxes(title_text='steps', row=1, col=1)\n",
        "    fig.update_layout(width=700, height=700)\n",
        "    fig.show()\n"
      ],
      "metadata": {
        "id": "eeAhKoeNRDry"
      },
      "execution_count": null,
      "outputs": []
    },
    {
      "cell_type": "code",
      "source": [
        "'''\n",
        "def RenderAL(array=SEI_AL_array, results=results_SEI_AL):\n",
        "    \n",
        "  fig = make_subplots(rows=1, cols=1, shared_xaxes=True,vertical_spacing=0.02)\n",
        "  fig.add_trace(go.Scatter(x = array[:,0], y = array[:,1], mode='lines+markers', name='Err'), row=1, col=1)\n",
        "  fig.update_layout(title='Training-error')\n",
        "  fig.update_yaxes(title_text='Error', row=1, col=1)\n",
        "  fig.update_xaxes(title_text='steps', row=1, col=1)\n",
        "  fig.update_layout(width=700, height=700)\n",
        "  fig.show()\n",
        "\n",
        "  matrix = db_wf[results[0]]['matrix']\n",
        "  #matrix = np.load('model-5ConfMatrix-c1.npy', allow_pickle=True)\n",
        "  fig2 = px.imshow(matrix, text_auto=True)\n",
        "  fig2.update_layout(title='Confusion matrix- number of samples')\n",
        "  fig2.update_yaxes(title_text='Expected observation', row=1, col=1)\n",
        "  fig2.update_xaxes(title_text='Predicted observation', row=1, col=1)\n",
        "  fig2.update_layout(    xaxis = dict(\n",
        "        tickmode = 'array',\n",
        "        tickvals = [0, 1, 2, 3],\n",
        "        ticktext = ['Class 0', 'Class 1', 'Class 2', 'Class 3', ]),\n",
        "\n",
        "    yaxis = dict(\n",
        "        tickmode = 'array',\n",
        "        tickvals = [0, 1, 2, 3],\n",
        "        ticktext = ['Class 0', 'Class 1', 'Class 2', 'Class 3', ]))\n",
        "\n",
        "  fig2.update_layout(width=700, height=700)\n",
        "  fig2.show()\n",
        "\n",
        "  fig3 = px.imshow(np.round(matrix/np.sum(matrix, axis=1), 3), text_auto=True)\n",
        "  fig3.update_layout(title='Confusion matrix- percentage')\n",
        "  fig3.update_yaxes(title_text='Expected observation', row=1, col=1)\n",
        "  fig3.update_xaxes(title_text='Predicted observation', row=1, col=1)\n",
        "  fig3.update_layout(    xaxis = dict(\n",
        "        tickmode = 'array',\n",
        "        tickvals = [0, 1, 2, 3],\n",
        "        ticktext = ['Class 0', 'Class 1', 'Class 2', 'Class 3', ]),\n",
        "    yaxis = dict(\n",
        "        tickmode = 'array',\n",
        "        tickvals = [0, 1, 2, 3],\n",
        "        ticktext = ['Class 0', 'Class 1', 'Class 2', 'Class 3', ]))\n",
        "  \n",
        "  fig3.update_layout(width=700, height=700)\n",
        "  fig3.show()\n",
        "'''"
      ],
      "metadata": {
        "id": "2-j_qB_9Vrh8"
      },
      "execution_count": null,
      "outputs": []
    },
    {
      "cell_type": "code",
      "source": [
        "def RenderConfMatrix(Index = 0, Array=yDB, Results=Cresults_SEI_AL):\n",
        "  \n",
        "  matrix = Array[Index][Results[Index][0]]['matrix']\n",
        "  fig2 = px.imshow(matrix, text_auto=True)\n",
        "  fig2.update_layout(title=f'Confusion matrix-Cycle{Index+1}, number of samples')\n",
        "  fig2.update_yaxes(title_text='Expected observation', row=1, col=1)\n",
        "  fig2.update_xaxes(title_text='Predicted observation', row=1, col=1)\n",
        "  fig2.update_layout(    xaxis = dict(\n",
        "        tickmode = 'array',\n",
        "        tickvals = [0, 1, 2, 3],\n",
        "        ticktext = ['Class 0', 'Class 1', 'Class 2', 'Class 3', ]),\n",
        "\n",
        "    yaxis = dict(\n",
        "        tickmode = 'array',\n",
        "        tickvals = [0, 1, 2, 3],\n",
        "        ticktext = ['Class 0', 'Class 1', 'Class 2', 'Class 3', ]))\n",
        "\n",
        "  fig2.update_layout(width=700, height=700)\n",
        "  fig2.show()\n",
        "\n",
        "  fig3 = px.imshow(np.round(matrix/np.sum(matrix, axis=1), 3), text_auto=True)\n",
        "  fig3.update_layout(title=f'Confusion matrix-Cycle{Index+1}, percentage')\n",
        "  fig3.update_yaxes(title_text='Expected observation', row=1, col=1)\n",
        "  fig3.update_xaxes(title_text='Predicted observation', row=1, col=1)\n",
        "  fig3.update_layout(    xaxis = dict(\n",
        "        tickmode = 'array',\n",
        "        tickvals = [0, 1, 2, 3],\n",
        "        ticktext = ['Class 0', 'Class 1', 'Class 2', 'Class 3', ]),\n",
        "    yaxis = dict(\n",
        "        tickmode = 'array',\n",
        "        tickvals = [0, 1, 2, 3],\n",
        "        ticktext = ['Class 0', 'Class 1', 'Class 2', 'Class 3', ]))\n",
        "  \n",
        "  fig3.update_layout(width=700, height=700)\n",
        "  fig3.show()\n",
        "    \n",
        "\n"
      ],
      "metadata": {
        "id": "ZFeVr4KjRNZ8"
      },
      "execution_count": null,
      "outputs": []
    },
    {
      "cell_type": "code",
      "source": [
        "RenderALerror(Array=CSEI_AL_array, Results=Cresults_SEI_AL)\n"
      ],
      "metadata": {
        "colab": {
          "base_uri": "https://localhost:8080/",
          "height": 717
        },
        "id": "-fhMQEgjRT2V",
        "outputId": "a9d72125-b75f-4403-b386-a121f0defd7c"
      },
      "execution_count": null,
      "outputs": [
        {
          "output_type": "display_data",
          "data": {
            "text/html": [
              "<html>\n",
              "<head><meta charset=\"utf-8\" /></head>\n",
              "<body>\n",
              "    <div>            <script src=\"https://cdnjs.cloudflare.com/ajax/libs/mathjax/2.7.5/MathJax.js?config=TeX-AMS-MML_SVG\"></script><script type=\"text/javascript\">if (window.MathJax && window.MathJax.Hub && window.MathJax.Hub.Config) {window.MathJax.Hub.Config({SVG: {font: \"STIX-Web\"}});}</script>                <script type=\"text/javascript\">window.PlotlyConfig = {MathJaxConfig: 'local'};</script>\n",
              "        <script src=\"https://cdn.plot.ly/plotly-2.18.2.min.js\"></script>                <div id=\"eabbcd36-aac5-4138-9362-2317969e024d\" class=\"plotly-graph-div\" style=\"height:700px; width:700px;\"></div>            <script type=\"text/javascript\">                                    window.PLOTLYENV=window.PLOTLYENV || {};                                    if (document.getElementById(\"eabbcd36-aac5-4138-9362-2317969e024d\")) {                    Plotly.newPlot(                        \"eabbcd36-aac5-4138-9362-2317969e024d\",                        [{\"mode\":\"lines+markers\",\"name\":\"Error Cycle-1\",\"x\":[0.0,1000.0,2000.0,3000.0,4000.0,5000.0,6000.0,7000.0,8000.0,9000.0,10000.0,11000.0,12000.0,13000.0,14000.0,15000.0,16000.0,17000.0,18000.0,19000.0,20000.0,21000.0,22000.0,23000.0,24000.0,25000.0,26000.0,27000.0,28000.0,29000.0,30000.0,31000.0,32000.0,33000.0,34000.0,35000.0,36000.0,37000.0,38000.0,39000.0,40000.0,41000.0,42000.0,43000.0,44000.0,45000.0,46000.0,47000.0,48000.0,49000.0,50000.0,51000.0,52000.0,53000.0,54000.0,55000.0,56000.0,57000.0,58000.0,59000.0,60000.0,61000.0,62000.0,63000.0,64000.0,65000.0,66000.0,67000.0,68000.0,69000.0,70000.0,71000.0,72000.0,73000.0,74000.0,75000.0,76000.0,77000.0,78000.0,79000.0,80000.0,81000.0,82000.0,83000.0,84000.0,85000.0,86000.0,87000.0,88000.0,89000.0,90000.0,91000.0,92000.0,93000.0,94000.0,95000.0,96000.0,97000.0,98000.0,99000.0,100000.0],\"y\":[0.7235023041474654,0.4772876892692561,0.2139565503620803,0.14812376563528637,0.1184990125082291,0.10994075049374588,0.11257406188281764,0.10401579986833442,0.10072416063199473,0.10401579986833442,0.10204081632653061,0.10204081632653061,0.10072416063199473,0.09940750493745885,0.09874917709019092,0.0934825543120474,0.09611586570111916,0.09479921000658328,0.09479921000658328,0.0934825543120474,0.09479921000658328,0.0967741935483871,0.09150757077024359,0.09282422646477946,0.09479921000658328,0.09216589861751152,0.0934825543120474,0.0901909150757077,0.09084924292297564,0.09084924292297564,0.09414088215931533,0.08887425938117183,0.09084924292297564,0.09084924292297564,0.086899275839368,0.08821593153390389,0.08953258722843976,0.08887425938117183,0.08624094799210007,0.08887425938117183,0.08624094799210007,0.09084924292297564,0.08887425938117183,0.08953258722843976,0.08558262014483213,0.08558262014483213,0.0901909150757077,0.08821593153390389,0.08755760368663594,0.08821593153390389,0.086899275839368,0.086899275839368,0.08821593153390389,0.086899275839368,0.08821593153390389,0.08426596445029624,0.08492429229756418,0.08558262014483213,0.08558262014483213,0.08492429229756418,0.08558262014483213,0.08229098090849243,0.08294930875576037,0.0836076366030283,0.08097432521395655,0.08426596445029624,0.08624094799210007,0.0836076366030283,0.0836076366030283,0.0836076366030283,0.08624094799210007,0.08097432521395655,0.08163265306122448,0.08031599736668861,0.0836076366030283,0.08031599736668861,0.08558262014483213,0.08294930875576037,0.0836076366030283,0.08229098090849243,0.08097432521395655,0.08229098090849243,0.08492429229756418,0.08163265306122448,0.0836076366030283,0.08492429229756418,0.08558262014483213,0.08031599736668861,0.08229098090849243,0.07965766951942067,0.08492429229756418,0.07834101382488479,0.07965766951942067,0.0836076366030283,0.08426596445029624,0.08229098090849243,0.08163265306122448,0.08624094799210007,0.08163265306122448,0.08097432521395655,0.08097432521395655],\"type\":\"scatter\",\"xaxis\":\"x\",\"yaxis\":\"y\"},{\"mode\":\"lines+markers\",\"name\":\"Error Cycle-2\",\"x\":[0.0,1000.0,2000.0,3000.0,4000.0,5000.0,6000.0,7000.0,8000.0,9000.0,10000.0,11000.0,12000.0,13000.0,14000.0,15000.0,16000.0,17000.0,18000.0,19000.0,20000.0,21000.0,22000.0,23000.0,24000.0,25000.0,26000.0,27000.0,28000.0,29000.0,30000.0,31000.0,32000.0,33000.0,34000.0,35000.0,36000.0,37000.0,38000.0,39000.0,40000.0,41000.0,42000.0,43000.0,44000.0,45000.0,46000.0,47000.0,48000.0,49000.0,50000.0,51000.0,52000.0,53000.0,54000.0,55000.0,56000.0,57000.0,58000.0,59000.0,60000.0,61000.0,62000.0,63000.0,64000.0,65000.0,66000.0,67000.0,68000.0,69000.0,70000.0,71000.0,72000.0,73000.0,74000.0,75000.0,76000.0,77000.0,78000.0,79000.0,80000.0,81000.0,82000.0,83000.0,84000.0,85000.0,86000.0,87000.0,88000.0,89000.0,90000.0,91000.0,92000.0,93000.0,94000.0,95000.0,96000.0,97000.0,98000.0,99000.0,100000.0],\"y\":[0.6990801576872536,0.41984231274638634,0.23981603153745074,0.15768725361366623,0.12746386333771353,0.11826544021024968,0.11498028909329829,0.11366622864651774,0.10840998685939553,0.10972404730617609,0.10578186596583443,0.10840998685939553,0.10315374507227333,0.10709592641261498,0.10512483574244415,0.10643889618922471,0.10052562417871222,0.1011826544021025,0.10249671484888305,0.09921156373193167,0.09658344283837056,0.09855453350854139,0.09855453350854139,0.1011826544021025,0.10183968462549277,0.09789750328515112,0.09855453350854139,0.09855453350854139,0.09789750328515112,0.09724047306176084,0.09395532194480946,0.09461235216819974,0.09658344283837056,0.09592641261498029,0.09329829172141918,0.09395532194480946,0.09461235216819974,0.09264126149802891,0.09264126149802891,0.09724047306176084,0.09592641261498029,0.09395532194480946,0.09329829172141918,0.08804204993429698,0.09198423127463863,0.09198423127463863,0.09198423127463863,0.09132720105124836,0.09067017082785808,0.12680683311432325,0.09264126149802891,0.08935611038107753,0.09067017082785808,0.09264126149802891,0.08869908015768725,0.08869908015768725,0.08935611038107753,0.09067017082785808,0.08804204993429698,0.0900131406044678,0.08869908015768725,0.09067017082785808,0.08672798948751642,0.0900131406044678,0.0900131406044678,0.08804204993429698,0.08804204993429698,0.08869908015768725,0.0873850197109067,0.0900131406044678,0.08804204993429698,0.0900131406044678,0.08475689881734559,0.08804204993429698,0.08344283837056504,0.08672798948751642,0.08541392904073587,0.08475689881734559,0.08541392904073587,0.08475689881734559,0.09198423127463863,0.08541392904073587,0.08541392904073587,0.08935611038107753,0.08607095926412615,0.08409986859395532,0.08869908015768725,0.08607095926412615,0.0795006570302234,0.0873850197109067,0.08804204993429698,0.08409986859395532,0.08672798948751642,0.08475689881734559,0.08147174770039421,0.08541392904073587,0.08475689881734559,0.07752956636005257,0.0821287779237845,0.08804204993429698,0.08344283837056504],\"type\":\"scatter\",\"xaxis\":\"x\",\"yaxis\":\"y\"},{\"mode\":\"lines+markers\",\"name\":\"Error Cycle-3\",\"x\":[0.0,1000.0,2000.0,3000.0,4000.0,5000.0,6000.0,7000.0,8000.0,9000.0,10000.0,11000.0,12000.0,13000.0,14000.0,15000.0,16000.0,17000.0,18000.0,19000.0,20000.0,21000.0,22000.0,23000.0,24000.0,25000.0,26000.0,27000.0,28000.0,29000.0,30000.0,31000.0,32000.0,33000.0,34000.0,35000.0,36000.0,37000.0,38000.0,39000.0,40000.0,41000.0,42000.0,43000.0,44000.0,45000.0,46000.0,47000.0,48000.0,49000.0,50000.0,51000.0,52000.0,53000.0,54000.0,55000.0,56000.0,57000.0,58000.0,59000.0,60000.0,61000.0,62000.0,63000.0,64000.0,65000.0,66000.0,67000.0,68000.0,69000.0,70000.0,71000.0,72000.0,73000.0,74000.0,75000.0,76000.0,77000.0,78000.0,79000.0,80000.0,81000.0,82000.0,83000.0,84000.0,85000.0,86000.0,87000.0,88000.0,89000.0,90000.0,91000.0,92000.0,93000.0,94000.0,95000.0,96000.0,97000.0,98000.0,99000.0,100000.0],\"y\":[0.6983606557377049,0.3960655737704918,0.20721311475409837,0.1501639344262295,0.1298360655737705,0.1219672131147541,0.12065573770491804,0.11934426229508197,0.11344262295081967,0.11475409836065574,0.11344262295081967,0.11344262295081967,0.11016393442622952,0.10950819672131147,0.11081967213114755,0.1121311475409836,0.10885245901639344,0.10688524590163935,0.10885245901639344,0.10295081967213114,0.10688524590163935,0.10491803278688525,0.10360655737704919,0.10426229508196722,0.10229508196721311,0.10229508196721311,0.10098360655737705,0.10098360655737705,0.10098360655737705,0.10032786885245902,0.09770491803278689,0.09639344262295083,0.09901639344262295,0.10032786885245902,0.09704918032786886,0.09901639344262295,0.09639344262295083,0.09573770491803278,0.09639344262295083,0.09573770491803278,0.10032786885245902,0.09442622950819672,0.09311475409836066,0.09377049180327869,0.09442622950819672,0.09049180327868853,0.09573770491803278,0.09114754098360656,0.09508196721311475,0.09377049180327869,0.09377049180327869,0.09114754098360656,0.09049180327868853,0.09377049180327869,0.09180327868852459,0.09377049180327869,0.08786885245901639,0.0898360655737705,0.09180327868852459,0.09114754098360656,0.09114754098360656,0.09245901639344262,0.09114754098360656,0.09049180327868853,0.09180327868852459,0.08918032786885247,0.08918032786885247,0.09180327868852459,0.08852459016393442,0.09049180327868853,0.09311475409836066,0.09049180327868853,0.08918032786885247,0.09311475409836066,0.09114754098360656,0.09049180327868853,0.0898360655737705,0.08786885245901639,0.09245901639344262,0.08721311475409836,0.09049180327868853,0.09311475409836066,0.08918032786885247,0.08786885245901639,0.0898360655737705,0.0859016393442623,0.09114754098360656,0.09180327868852459,0.08655737704918033,0.08852459016393442,0.08655737704918033,0.08852459016393442,0.08852459016393442,0.0859016393442623,0.08786885245901639,0.08786885245901639,0.0859016393442623,0.09049180327868853,0.08786885245901639,0.09049180327868853,0.08918032786885247],\"type\":\"scatter\",\"xaxis\":\"x\",\"yaxis\":\"y\"},{\"mode\":\"lines+markers\",\"name\":\"Error Cycle-4\",\"x\":[0.0,1000.0,2000.0,3000.0,4000.0,5000.0,6000.0,7000.0,8000.0,9000.0,10000.0,11000.0,12000.0,13000.0,14000.0,15000.0,16000.0,17000.0,18000.0,19000.0,20000.0,21000.0,22000.0,23000.0,24000.0,25000.0,26000.0,27000.0,28000.0,29000.0,30000.0,31000.0,32000.0,33000.0,34000.0,35000.0,36000.0,37000.0,38000.0,39000.0,40000.0,41000.0,42000.0,43000.0,44000.0,45000.0,46000.0,47000.0,48000.0,49000.0,50000.0,51000.0,52000.0,53000.0,54000.0,55000.0,56000.0,57000.0,58000.0,59000.0,60000.0,61000.0,62000.0,63000.0,64000.0,65000.0,66000.0,67000.0,68000.0,69000.0,70000.0,71000.0,72000.0,73000.0,74000.0,75000.0,76000.0,77000.0,78000.0,79000.0,80000.0,81000.0,82000.0,83000.0,84000.0,85000.0,86000.0,87000.0,88000.0,89000.0,90000.0,91000.0,92000.0,93000.0,94000.0,95000.0,96000.0,97000.0,98000.0,99000.0,100000.0],\"y\":[0.7138179436804192,0.43222003929273084,0.2475442043222004,0.17354289456450556,0.14145383104125736,0.12835625409299278,0.12770137524557956,0.12639161755075312,0.12770137524557956,0.12442698100851342,0.11984282907662082,0.12311722331368696,0.12770137524557956,0.12049770792403405,0.11722331368696791,0.11525867714472822,0.11525867714472822,0.11525867714472822,0.114603798297315,0.11198428290766209,0.11132940406024885,0.11263916175507531,0.11722331368696791,0.11394891944990176,0.11132940406024885,0.11198428290766209,0.11263916175507531,0.11132940406024885,0.1100196463654224,0.11067452521283562,0.10740013097576949,0.11067452521283562,0.11067452521283562,0.1054354944335298,0.10805500982318271,0.10870988867059594,0.10674525212835625,0.10870988867059594,0.1100196463654224,0.10609037328094302,0.10740013097576949,0.10870988867059594,0.10870988867059594,0.10936476751800916,0.10674525212835625,0.1054354944335298,0.10478061558611657,0.10478061558611657,0.10412573673870335,0.10478061558611657,0.10347085789129011,0.10347085789129011,0.10019646365422397,0.10740013097576949,0.10347085789129011,0.1054354944335298,0.10609037328094302,0.10281597904387688,0.10740013097576949,0.10281597904387688,0.10347085789129011,0.10478061558611657,0.10674525212835625,0.10216110019646366,0.10216110019646366,0.10805500982318271,0.10216110019646366,0.1054354944335298,0.10216110019646366,0.10347085789129011,0.10281597904387688,0.10347085789129011,0.10216110019646366,0.10412573673870335,0.10281597904387688,0.10412573673870335,0.10019646365422397,0.10216110019646366,0.10347085789129011,0.10347085789129011,0.1008513425016372,0.1008513425016372,0.10150622134905042,0.10019646365422397,0.09954158480681075,0.10216110019646366,0.10150622134905042,0.10347085789129011,0.09954158480681075,0.10216110019646366,0.09954158480681075,0.09888670595939751,0.09757694826457106,0.09954158480681075,0.0962671905697446,0.09954158480681075,0.09757694826457106,0.09888670595939751,0.09888670595939751,0.09888670595939751,0.0962671905697446],\"type\":\"scatter\",\"xaxis\":\"x\",\"yaxis\":\"y\"},{\"mode\":\"lines+markers\",\"name\":\"Error Cycle-5\",\"x\":[0.0,1000.0,2000.0,3000.0,4000.0,5000.0,6000.0,7000.0,8000.0,9000.0,10000.0,11000.0,12000.0,13000.0,14000.0,15000.0,16000.0,17000.0,18000.0,19000.0,20000.0,21000.0,22000.0,23000.0,24000.0,25000.0,26000.0,27000.0,28000.0,29000.0,30000.0,31000.0,32000.0,33000.0,34000.0,35000.0,36000.0,37000.0,38000.0,39000.0,40000.0,41000.0,42000.0,43000.0,44000.0,45000.0,46000.0,47000.0,48000.0,49000.0,50000.0,51000.0,52000.0,53000.0,54000.0,55000.0,56000.0,57000.0,58000.0,59000.0,60000.0,61000.0,62000.0,63000.0,64000.0,65000.0,66000.0,67000.0,68000.0,69000.0,70000.0,71000.0,72000.0,73000.0,74000.0,75000.0,76000.0,77000.0,78000.0,79000.0,80000.0,81000.0,82000.0,83000.0,84000.0,85000.0,86000.0,87000.0,88000.0,89000.0,90000.0,91000.0,92000.0,93000.0,94000.0,95000.0,96000.0,97000.0,98000.0,99000.0,100000.0],\"y\":[0.7657068062827225,0.38023560209424084,0.21531413612565445,0.1393979057591623,0.11910994764397906,0.11387434554973822,0.10732984293193717,0.10667539267015706,0.10798429319371727,0.10602094240837696,0.10471204188481675,0.10536649214659685,0.10536649214659685,0.10471204188481675,0.10536649214659685,0.10209424083769633,0.10340314136125654,0.10078534031413612,0.10732984293193717,0.10209424083769633,0.10209424083769633,0.09947643979057591,0.10078534031413612,0.0975130890052356,0.09816753926701571,0.09620418848167539,0.09947643979057591,0.09620418848167539,0.0975130890052356,0.09293193717277487,0.09227748691099476,0.09227748691099476,0.09358638743455497,0.09096858638743456,0.08965968586387435,0.08900523560209424,0.09358638743455497,0.08965968586387435,0.08835078534031414,0.09358638743455497,0.09031413612565445,0.08900523560209424,0.08769633507853403,0.08835078534031414,0.08704188481675393,0.09096858638743456,0.08835078534031414,0.09031413612565445,0.08573298429319372,0.08376963350785341,0.08704188481675393,0.08507853403141362,0.08376963350785341,0.08507853403141362,0.08638743455497382,0.08376963350785341,0.08704188481675393,0.08638743455497382,0.0831151832460733,0.0844240837696335,0.0844240837696335,0.0824607329842932,0.0824607329842932,0.08115183246073299,0.0824607329842932,0.0824607329842932,0.08049738219895287,0.08049738219895287,0.08180628272251309,0.08180628272251309,0.08049738219895287,0.07526178010471204,0.07918848167539266,0.07787958115183247,0.07722513089005235,0.07853403141361257,0.07722513089005235,0.07657068062827226,0.07526178010471204,0.07657068062827226,0.07591623036649214,0.07526178010471204,0.07591623036649214,0.07460732984293193,0.07460732984293193,0.07329842931937172,0.07591623036649214,0.07329842931937172,0.07657068062827226,0.07264397905759162,0.07460732984293193,0.07329842931937172,0.07395287958115183,0.07657068062827226,0.07591623036649214,0.07329842931937172,0.07526178010471204,0.07853403141361257,0.07395287958115183,0.07460732984293193,0.07329842931937172],\"type\":\"scatter\",\"xaxis\":\"x\",\"yaxis\":\"y\"}],                        {\"template\":{\"data\":{\"histogram2dcontour\":[{\"type\":\"histogram2dcontour\",\"colorbar\":{\"outlinewidth\":0,\"ticks\":\"\"},\"colorscale\":[[0.0,\"#0d0887\"],[0.1111111111111111,\"#46039f\"],[0.2222222222222222,\"#7201a8\"],[0.3333333333333333,\"#9c179e\"],[0.4444444444444444,\"#bd3786\"],[0.5555555555555556,\"#d8576b\"],[0.6666666666666666,\"#ed7953\"],[0.7777777777777778,\"#fb9f3a\"],[0.8888888888888888,\"#fdca26\"],[1.0,\"#f0f921\"]]}],\"choropleth\":[{\"type\":\"choropleth\",\"colorbar\":{\"outlinewidth\":0,\"ticks\":\"\"}}],\"histogram2d\":[{\"type\":\"histogram2d\",\"colorbar\":{\"outlinewidth\":0,\"ticks\":\"\"},\"colorscale\":[[0.0,\"#0d0887\"],[0.1111111111111111,\"#46039f\"],[0.2222222222222222,\"#7201a8\"],[0.3333333333333333,\"#9c179e\"],[0.4444444444444444,\"#bd3786\"],[0.5555555555555556,\"#d8576b\"],[0.6666666666666666,\"#ed7953\"],[0.7777777777777778,\"#fb9f3a\"],[0.8888888888888888,\"#fdca26\"],[1.0,\"#f0f921\"]]}],\"heatmap\":[{\"type\":\"heatmap\",\"colorbar\":{\"outlinewidth\":0,\"ticks\":\"\"},\"colorscale\":[[0.0,\"#0d0887\"],[0.1111111111111111,\"#46039f\"],[0.2222222222222222,\"#7201a8\"],[0.3333333333333333,\"#9c179e\"],[0.4444444444444444,\"#bd3786\"],[0.5555555555555556,\"#d8576b\"],[0.6666666666666666,\"#ed7953\"],[0.7777777777777778,\"#fb9f3a\"],[0.8888888888888888,\"#fdca26\"],[1.0,\"#f0f921\"]]}],\"heatmapgl\":[{\"type\":\"heatmapgl\",\"colorbar\":{\"outlinewidth\":0,\"ticks\":\"\"},\"colorscale\":[[0.0,\"#0d0887\"],[0.1111111111111111,\"#46039f\"],[0.2222222222222222,\"#7201a8\"],[0.3333333333333333,\"#9c179e\"],[0.4444444444444444,\"#bd3786\"],[0.5555555555555556,\"#d8576b\"],[0.6666666666666666,\"#ed7953\"],[0.7777777777777778,\"#fb9f3a\"],[0.8888888888888888,\"#fdca26\"],[1.0,\"#f0f921\"]]}],\"contourcarpet\":[{\"type\":\"contourcarpet\",\"colorbar\":{\"outlinewidth\":0,\"ticks\":\"\"}}],\"contour\":[{\"type\":\"contour\",\"colorbar\":{\"outlinewidth\":0,\"ticks\":\"\"},\"colorscale\":[[0.0,\"#0d0887\"],[0.1111111111111111,\"#46039f\"],[0.2222222222222222,\"#7201a8\"],[0.3333333333333333,\"#9c179e\"],[0.4444444444444444,\"#bd3786\"],[0.5555555555555556,\"#d8576b\"],[0.6666666666666666,\"#ed7953\"],[0.7777777777777778,\"#fb9f3a\"],[0.8888888888888888,\"#fdca26\"],[1.0,\"#f0f921\"]]}],\"surface\":[{\"type\":\"surface\",\"colorbar\":{\"outlinewidth\":0,\"ticks\":\"\"},\"colorscale\":[[0.0,\"#0d0887\"],[0.1111111111111111,\"#46039f\"],[0.2222222222222222,\"#7201a8\"],[0.3333333333333333,\"#9c179e\"],[0.4444444444444444,\"#bd3786\"],[0.5555555555555556,\"#d8576b\"],[0.6666666666666666,\"#ed7953\"],[0.7777777777777778,\"#fb9f3a\"],[0.8888888888888888,\"#fdca26\"],[1.0,\"#f0f921\"]]}],\"mesh3d\":[{\"type\":\"mesh3d\",\"colorbar\":{\"outlinewidth\":0,\"ticks\":\"\"}}],\"scatter\":[{\"fillpattern\":{\"fillmode\":\"overlay\",\"size\":10,\"solidity\":0.2},\"type\":\"scatter\"}],\"parcoords\":[{\"type\":\"parcoords\",\"line\":{\"colorbar\":{\"outlinewidth\":0,\"ticks\":\"\"}}}],\"scatterpolargl\":[{\"type\":\"scatterpolargl\",\"marker\":{\"colorbar\":{\"outlinewidth\":0,\"ticks\":\"\"}}}],\"bar\":[{\"error_x\":{\"color\":\"#2a3f5f\"},\"error_y\":{\"color\":\"#2a3f5f\"},\"marker\":{\"line\":{\"color\":\"#E5ECF6\",\"width\":0.5},\"pattern\":{\"fillmode\":\"overlay\",\"size\":10,\"solidity\":0.2}},\"type\":\"bar\"}],\"scattergeo\":[{\"type\":\"scattergeo\",\"marker\":{\"colorbar\":{\"outlinewidth\":0,\"ticks\":\"\"}}}],\"scatterpolar\":[{\"type\":\"scatterpolar\",\"marker\":{\"colorbar\":{\"outlinewidth\":0,\"ticks\":\"\"}}}],\"histogram\":[{\"marker\":{\"pattern\":{\"fillmode\":\"overlay\",\"size\":10,\"solidity\":0.2}},\"type\":\"histogram\"}],\"scattergl\":[{\"type\":\"scattergl\",\"marker\":{\"colorbar\":{\"outlinewidth\":0,\"ticks\":\"\"}}}],\"scatter3d\":[{\"type\":\"scatter3d\",\"line\":{\"colorbar\":{\"outlinewidth\":0,\"ticks\":\"\"}},\"marker\":{\"colorbar\":{\"outlinewidth\":0,\"ticks\":\"\"}}}],\"scattermapbox\":[{\"type\":\"scattermapbox\",\"marker\":{\"colorbar\":{\"outlinewidth\":0,\"ticks\":\"\"}}}],\"scatterternary\":[{\"type\":\"scatterternary\",\"marker\":{\"colorbar\":{\"outlinewidth\":0,\"ticks\":\"\"}}}],\"scattercarpet\":[{\"type\":\"scattercarpet\",\"marker\":{\"colorbar\":{\"outlinewidth\":0,\"ticks\":\"\"}}}],\"carpet\":[{\"aaxis\":{\"endlinecolor\":\"#2a3f5f\",\"gridcolor\":\"white\",\"linecolor\":\"white\",\"minorgridcolor\":\"white\",\"startlinecolor\":\"#2a3f5f\"},\"baxis\":{\"endlinecolor\":\"#2a3f5f\",\"gridcolor\":\"white\",\"linecolor\":\"white\",\"minorgridcolor\":\"white\",\"startlinecolor\":\"#2a3f5f\"},\"type\":\"carpet\"}],\"table\":[{\"cells\":{\"fill\":{\"color\":\"#EBF0F8\"},\"line\":{\"color\":\"white\"}},\"header\":{\"fill\":{\"color\":\"#C8D4E3\"},\"line\":{\"color\":\"white\"}},\"type\":\"table\"}],\"barpolar\":[{\"marker\":{\"line\":{\"color\":\"#E5ECF6\",\"width\":0.5},\"pattern\":{\"fillmode\":\"overlay\",\"size\":10,\"solidity\":0.2}},\"type\":\"barpolar\"}],\"pie\":[{\"automargin\":true,\"type\":\"pie\"}]},\"layout\":{\"autotypenumbers\":\"strict\",\"colorway\":[\"#636efa\",\"#EF553B\",\"#00cc96\",\"#ab63fa\",\"#FFA15A\",\"#19d3f3\",\"#FF6692\",\"#B6E880\",\"#FF97FF\",\"#FECB52\"],\"font\":{\"color\":\"#2a3f5f\"},\"hovermode\":\"closest\",\"hoverlabel\":{\"align\":\"left\"},\"paper_bgcolor\":\"white\",\"plot_bgcolor\":\"#E5ECF6\",\"polar\":{\"bgcolor\":\"#E5ECF6\",\"angularaxis\":{\"gridcolor\":\"white\",\"linecolor\":\"white\",\"ticks\":\"\"},\"radialaxis\":{\"gridcolor\":\"white\",\"linecolor\":\"white\",\"ticks\":\"\"}},\"ternary\":{\"bgcolor\":\"#E5ECF6\",\"aaxis\":{\"gridcolor\":\"white\",\"linecolor\":\"white\",\"ticks\":\"\"},\"baxis\":{\"gridcolor\":\"white\",\"linecolor\":\"white\",\"ticks\":\"\"},\"caxis\":{\"gridcolor\":\"white\",\"linecolor\":\"white\",\"ticks\":\"\"}},\"coloraxis\":{\"colorbar\":{\"outlinewidth\":0,\"ticks\":\"\"}},\"colorscale\":{\"sequential\":[[0.0,\"#0d0887\"],[0.1111111111111111,\"#46039f\"],[0.2222222222222222,\"#7201a8\"],[0.3333333333333333,\"#9c179e\"],[0.4444444444444444,\"#bd3786\"],[0.5555555555555556,\"#d8576b\"],[0.6666666666666666,\"#ed7953\"],[0.7777777777777778,\"#fb9f3a\"],[0.8888888888888888,\"#fdca26\"],[1.0,\"#f0f921\"]],\"sequentialminus\":[[0.0,\"#0d0887\"],[0.1111111111111111,\"#46039f\"],[0.2222222222222222,\"#7201a8\"],[0.3333333333333333,\"#9c179e\"],[0.4444444444444444,\"#bd3786\"],[0.5555555555555556,\"#d8576b\"],[0.6666666666666666,\"#ed7953\"],[0.7777777777777778,\"#fb9f3a\"],[0.8888888888888888,\"#fdca26\"],[1.0,\"#f0f921\"]],\"diverging\":[[0,\"#8e0152\"],[0.1,\"#c51b7d\"],[0.2,\"#de77ae\"],[0.3,\"#f1b6da\"],[0.4,\"#fde0ef\"],[0.5,\"#f7f7f7\"],[0.6,\"#e6f5d0\"],[0.7,\"#b8e186\"],[0.8,\"#7fbc41\"],[0.9,\"#4d9221\"],[1,\"#276419\"]]},\"xaxis\":{\"gridcolor\":\"white\",\"linecolor\":\"white\",\"ticks\":\"\",\"title\":{\"standoff\":15},\"zerolinecolor\":\"white\",\"automargin\":true,\"zerolinewidth\":2},\"yaxis\":{\"gridcolor\":\"white\",\"linecolor\":\"white\",\"ticks\":\"\",\"title\":{\"standoff\":15},\"zerolinecolor\":\"white\",\"automargin\":true,\"zerolinewidth\":2},\"scene\":{\"xaxis\":{\"backgroundcolor\":\"#E5ECF6\",\"gridcolor\":\"white\",\"linecolor\":\"white\",\"showbackground\":true,\"ticks\":\"\",\"zerolinecolor\":\"white\",\"gridwidth\":2},\"yaxis\":{\"backgroundcolor\":\"#E5ECF6\",\"gridcolor\":\"white\",\"linecolor\":\"white\",\"showbackground\":true,\"ticks\":\"\",\"zerolinecolor\":\"white\",\"gridwidth\":2},\"zaxis\":{\"backgroundcolor\":\"#E5ECF6\",\"gridcolor\":\"white\",\"linecolor\":\"white\",\"showbackground\":true,\"ticks\":\"\",\"zerolinecolor\":\"white\",\"gridwidth\":2}},\"shapedefaults\":{\"line\":{\"color\":\"#2a3f5f\"}},\"annotationdefaults\":{\"arrowcolor\":\"#2a3f5f\",\"arrowhead\":0,\"arrowwidth\":1},\"geo\":{\"bgcolor\":\"white\",\"landcolor\":\"#E5ECF6\",\"subunitcolor\":\"white\",\"showland\":true,\"showlakes\":true,\"lakecolor\":\"white\"},\"title\":{\"x\":0.05},\"mapbox\":{\"style\":\"light\"}}},\"xaxis\":{\"anchor\":\"y\",\"domain\":[0.0,1.0],\"title\":{\"text\":\"steps\"}},\"yaxis\":{\"anchor\":\"x\",\"domain\":[0.0,1.0],\"title\":{\"text\":\"Error\"}},\"title\":{\"text\":\"Training-error\"},\"width\":700,\"height\":700},                        {\"responsive\": true}                    ).then(function(){\n",
              "                            \n",
              "var gd = document.getElementById('eabbcd36-aac5-4138-9362-2317969e024d');\n",
              "var x = new MutationObserver(function (mutations, observer) {{\n",
              "        var display = window.getComputedStyle(gd).display;\n",
              "        if (!display || display === 'none') {{\n",
              "            console.log([gd, 'removed!']);\n",
              "            Plotly.purge(gd);\n",
              "            observer.disconnect();\n",
              "        }}\n",
              "}});\n",
              "\n",
              "// Listen for the removal of the full notebook cells\n",
              "var notebookContainer = gd.closest('#notebook-container');\n",
              "if (notebookContainer) {{\n",
              "    x.observe(notebookContainer, {childList: true});\n",
              "}}\n",
              "\n",
              "// Listen for the clearing of the current output cell\n",
              "var outputEl = gd.closest('.output');\n",
              "if (outputEl) {{\n",
              "    x.observe(outputEl, {childList: true});\n",
              "}}\n",
              "\n",
              "                        })                };                            </script>        </div>\n",
              "</body>\n",
              "</html>"
            ]
          },
          "metadata": {}
        }
      ]
    },
    {
      "cell_type": "code",
      "source": [
        "for i in range(len(yDB)):\n",
        "    RenderConfMatrix(Index = i, Array=yDB, Results=Cresults_SEI_AL)"
      ],
      "metadata": {
        "colab": {
          "base_uri": "https://localhost:8080/",
          "height": 1000
        },
        "id": "D0De7Tm7ROEC",
        "outputId": "8d9df352-f89d-4613-8743-8b5d1b4d6dc9"
      },
      "execution_count": null,
      "outputs": [
        {
          "output_type": "display_data",
          "data": {
            "text/html": [
              "<html>\n",
              "<head><meta charset=\"utf-8\" /></head>\n",
              "<body>\n",
              "    <div>            <script src=\"https://cdnjs.cloudflare.com/ajax/libs/mathjax/2.7.5/MathJax.js?config=TeX-AMS-MML_SVG\"></script><script type=\"text/javascript\">if (window.MathJax && window.MathJax.Hub && window.MathJax.Hub.Config) {window.MathJax.Hub.Config({SVG: {font: \"STIX-Web\"}});}</script>                <script type=\"text/javascript\">window.PlotlyConfig = {MathJaxConfig: 'local'};</script>\n",
              "        <script src=\"https://cdn.plot.ly/plotly-2.18.2.min.js\"></script>                <div id=\"d0b93dc8-e342-414e-8fd3-4a9bdbc9b4e6\" class=\"plotly-graph-div\" style=\"height:700px; width:700px;\"></div>            <script type=\"text/javascript\">                                    window.PLOTLYENV=window.PLOTLYENV || {};                                    if (document.getElementById(\"d0b93dc8-e342-414e-8fd3-4a9bdbc9b4e6\")) {                    Plotly.newPlot(                        \"d0b93dc8-e342-414e-8fd3-4a9bdbc9b4e6\",                        [{\"coloraxis\":\"coloraxis\",\"name\":\"0\",\"texttemplate\":\"%{z}\",\"z\":[[394,9,5,12],[19,428,2,23],[0,0,169,3],[28,14,8,405]],\"type\":\"heatmap\",\"xaxis\":\"x\",\"yaxis\":\"y\",\"hovertemplate\":\"x: %{x}<br>y: %{y}<br>color: %{z}<extra></extra>\"}],                        {\"template\":{\"data\":{\"histogram2dcontour\":[{\"type\":\"histogram2dcontour\",\"colorbar\":{\"outlinewidth\":0,\"ticks\":\"\"},\"colorscale\":[[0.0,\"#0d0887\"],[0.1111111111111111,\"#46039f\"],[0.2222222222222222,\"#7201a8\"],[0.3333333333333333,\"#9c179e\"],[0.4444444444444444,\"#bd3786\"],[0.5555555555555556,\"#d8576b\"],[0.6666666666666666,\"#ed7953\"],[0.7777777777777778,\"#fb9f3a\"],[0.8888888888888888,\"#fdca26\"],[1.0,\"#f0f921\"]]}],\"choropleth\":[{\"type\":\"choropleth\",\"colorbar\":{\"outlinewidth\":0,\"ticks\":\"\"}}],\"histogram2d\":[{\"type\":\"histogram2d\",\"colorbar\":{\"outlinewidth\":0,\"ticks\":\"\"},\"colorscale\":[[0.0,\"#0d0887\"],[0.1111111111111111,\"#46039f\"],[0.2222222222222222,\"#7201a8\"],[0.3333333333333333,\"#9c179e\"],[0.4444444444444444,\"#bd3786\"],[0.5555555555555556,\"#d8576b\"],[0.6666666666666666,\"#ed7953\"],[0.7777777777777778,\"#fb9f3a\"],[0.8888888888888888,\"#fdca26\"],[1.0,\"#f0f921\"]]}],\"heatmap\":[{\"type\":\"heatmap\",\"colorbar\":{\"outlinewidth\":0,\"ticks\":\"\"},\"colorscale\":[[0.0,\"#0d0887\"],[0.1111111111111111,\"#46039f\"],[0.2222222222222222,\"#7201a8\"],[0.3333333333333333,\"#9c179e\"],[0.4444444444444444,\"#bd3786\"],[0.5555555555555556,\"#d8576b\"],[0.6666666666666666,\"#ed7953\"],[0.7777777777777778,\"#fb9f3a\"],[0.8888888888888888,\"#fdca26\"],[1.0,\"#f0f921\"]]}],\"heatmapgl\":[{\"type\":\"heatmapgl\",\"colorbar\":{\"outlinewidth\":0,\"ticks\":\"\"},\"colorscale\":[[0.0,\"#0d0887\"],[0.1111111111111111,\"#46039f\"],[0.2222222222222222,\"#7201a8\"],[0.3333333333333333,\"#9c179e\"],[0.4444444444444444,\"#bd3786\"],[0.5555555555555556,\"#d8576b\"],[0.6666666666666666,\"#ed7953\"],[0.7777777777777778,\"#fb9f3a\"],[0.8888888888888888,\"#fdca26\"],[1.0,\"#f0f921\"]]}],\"contourcarpet\":[{\"type\":\"contourcarpet\",\"colorbar\":{\"outlinewidth\":0,\"ticks\":\"\"}}],\"contour\":[{\"type\":\"contour\",\"colorbar\":{\"outlinewidth\":0,\"ticks\":\"\"},\"colorscale\":[[0.0,\"#0d0887\"],[0.1111111111111111,\"#46039f\"],[0.2222222222222222,\"#7201a8\"],[0.3333333333333333,\"#9c179e\"],[0.4444444444444444,\"#bd3786\"],[0.5555555555555556,\"#d8576b\"],[0.6666666666666666,\"#ed7953\"],[0.7777777777777778,\"#fb9f3a\"],[0.8888888888888888,\"#fdca26\"],[1.0,\"#f0f921\"]]}],\"surface\":[{\"type\":\"surface\",\"colorbar\":{\"outlinewidth\":0,\"ticks\":\"\"},\"colorscale\":[[0.0,\"#0d0887\"],[0.1111111111111111,\"#46039f\"],[0.2222222222222222,\"#7201a8\"],[0.3333333333333333,\"#9c179e\"],[0.4444444444444444,\"#bd3786\"],[0.5555555555555556,\"#d8576b\"],[0.6666666666666666,\"#ed7953\"],[0.7777777777777778,\"#fb9f3a\"],[0.8888888888888888,\"#fdca26\"],[1.0,\"#f0f921\"]]}],\"mesh3d\":[{\"type\":\"mesh3d\",\"colorbar\":{\"outlinewidth\":0,\"ticks\":\"\"}}],\"scatter\":[{\"fillpattern\":{\"fillmode\":\"overlay\",\"size\":10,\"solidity\":0.2},\"type\":\"scatter\"}],\"parcoords\":[{\"type\":\"parcoords\",\"line\":{\"colorbar\":{\"outlinewidth\":0,\"ticks\":\"\"}}}],\"scatterpolargl\":[{\"type\":\"scatterpolargl\",\"marker\":{\"colorbar\":{\"outlinewidth\":0,\"ticks\":\"\"}}}],\"bar\":[{\"error_x\":{\"color\":\"#2a3f5f\"},\"error_y\":{\"color\":\"#2a3f5f\"},\"marker\":{\"line\":{\"color\":\"#E5ECF6\",\"width\":0.5},\"pattern\":{\"fillmode\":\"overlay\",\"size\":10,\"solidity\":0.2}},\"type\":\"bar\"}],\"scattergeo\":[{\"type\":\"scattergeo\",\"marker\":{\"colorbar\":{\"outlinewidth\":0,\"ticks\":\"\"}}}],\"scatterpolar\":[{\"type\":\"scatterpolar\",\"marker\":{\"colorbar\":{\"outlinewidth\":0,\"ticks\":\"\"}}}],\"histogram\":[{\"marker\":{\"pattern\":{\"fillmode\":\"overlay\",\"size\":10,\"solidity\":0.2}},\"type\":\"histogram\"}],\"scattergl\":[{\"type\":\"scattergl\",\"marker\":{\"colorbar\":{\"outlinewidth\":0,\"ticks\":\"\"}}}],\"scatter3d\":[{\"type\":\"scatter3d\",\"line\":{\"colorbar\":{\"outlinewidth\":0,\"ticks\":\"\"}},\"marker\":{\"colorbar\":{\"outlinewidth\":0,\"ticks\":\"\"}}}],\"scattermapbox\":[{\"type\":\"scattermapbox\",\"marker\":{\"colorbar\":{\"outlinewidth\":0,\"ticks\":\"\"}}}],\"scatterternary\":[{\"type\":\"scatterternary\",\"marker\":{\"colorbar\":{\"outlinewidth\":0,\"ticks\":\"\"}}}],\"scattercarpet\":[{\"type\":\"scattercarpet\",\"marker\":{\"colorbar\":{\"outlinewidth\":0,\"ticks\":\"\"}}}],\"carpet\":[{\"aaxis\":{\"endlinecolor\":\"#2a3f5f\",\"gridcolor\":\"white\",\"linecolor\":\"white\",\"minorgridcolor\":\"white\",\"startlinecolor\":\"#2a3f5f\"},\"baxis\":{\"endlinecolor\":\"#2a3f5f\",\"gridcolor\":\"white\",\"linecolor\":\"white\",\"minorgridcolor\":\"white\",\"startlinecolor\":\"#2a3f5f\"},\"type\":\"carpet\"}],\"table\":[{\"cells\":{\"fill\":{\"color\":\"#EBF0F8\"},\"line\":{\"color\":\"white\"}},\"header\":{\"fill\":{\"color\":\"#C8D4E3\"},\"line\":{\"color\":\"white\"}},\"type\":\"table\"}],\"barpolar\":[{\"marker\":{\"line\":{\"color\":\"#E5ECF6\",\"width\":0.5},\"pattern\":{\"fillmode\":\"overlay\",\"size\":10,\"solidity\":0.2}},\"type\":\"barpolar\"}],\"pie\":[{\"automargin\":true,\"type\":\"pie\"}]},\"layout\":{\"autotypenumbers\":\"strict\",\"colorway\":[\"#636efa\",\"#EF553B\",\"#00cc96\",\"#ab63fa\",\"#FFA15A\",\"#19d3f3\",\"#FF6692\",\"#B6E880\",\"#FF97FF\",\"#FECB52\"],\"font\":{\"color\":\"#2a3f5f\"},\"hovermode\":\"closest\",\"hoverlabel\":{\"align\":\"left\"},\"paper_bgcolor\":\"white\",\"plot_bgcolor\":\"#E5ECF6\",\"polar\":{\"bgcolor\":\"#E5ECF6\",\"angularaxis\":{\"gridcolor\":\"white\",\"linecolor\":\"white\",\"ticks\":\"\"},\"radialaxis\":{\"gridcolor\":\"white\",\"linecolor\":\"white\",\"ticks\":\"\"}},\"ternary\":{\"bgcolor\":\"#E5ECF6\",\"aaxis\":{\"gridcolor\":\"white\",\"linecolor\":\"white\",\"ticks\":\"\"},\"baxis\":{\"gridcolor\":\"white\",\"linecolor\":\"white\",\"ticks\":\"\"},\"caxis\":{\"gridcolor\":\"white\",\"linecolor\":\"white\",\"ticks\":\"\"}},\"coloraxis\":{\"colorbar\":{\"outlinewidth\":0,\"ticks\":\"\"}},\"colorscale\":{\"sequential\":[[0.0,\"#0d0887\"],[0.1111111111111111,\"#46039f\"],[0.2222222222222222,\"#7201a8\"],[0.3333333333333333,\"#9c179e\"],[0.4444444444444444,\"#bd3786\"],[0.5555555555555556,\"#d8576b\"],[0.6666666666666666,\"#ed7953\"],[0.7777777777777778,\"#fb9f3a\"],[0.8888888888888888,\"#fdca26\"],[1.0,\"#f0f921\"]],\"sequentialminus\":[[0.0,\"#0d0887\"],[0.1111111111111111,\"#46039f\"],[0.2222222222222222,\"#7201a8\"],[0.3333333333333333,\"#9c179e\"],[0.4444444444444444,\"#bd3786\"],[0.5555555555555556,\"#d8576b\"],[0.6666666666666666,\"#ed7953\"],[0.7777777777777778,\"#fb9f3a\"],[0.8888888888888888,\"#fdca26\"],[1.0,\"#f0f921\"]],\"diverging\":[[0,\"#8e0152\"],[0.1,\"#c51b7d\"],[0.2,\"#de77ae\"],[0.3,\"#f1b6da\"],[0.4,\"#fde0ef\"],[0.5,\"#f7f7f7\"],[0.6,\"#e6f5d0\"],[0.7,\"#b8e186\"],[0.8,\"#7fbc41\"],[0.9,\"#4d9221\"],[1,\"#276419\"]]},\"xaxis\":{\"gridcolor\":\"white\",\"linecolor\":\"white\",\"ticks\":\"\",\"title\":{\"standoff\":15},\"zerolinecolor\":\"white\",\"automargin\":true,\"zerolinewidth\":2},\"yaxis\":{\"gridcolor\":\"white\",\"linecolor\":\"white\",\"ticks\":\"\",\"title\":{\"standoff\":15},\"zerolinecolor\":\"white\",\"automargin\":true,\"zerolinewidth\":2},\"scene\":{\"xaxis\":{\"backgroundcolor\":\"#E5ECF6\",\"gridcolor\":\"white\",\"linecolor\":\"white\",\"showbackground\":true,\"ticks\":\"\",\"zerolinecolor\":\"white\",\"gridwidth\":2},\"yaxis\":{\"backgroundcolor\":\"#E5ECF6\",\"gridcolor\":\"white\",\"linecolor\":\"white\",\"showbackground\":true,\"ticks\":\"\",\"zerolinecolor\":\"white\",\"gridwidth\":2},\"zaxis\":{\"backgroundcolor\":\"#E5ECF6\",\"gridcolor\":\"white\",\"linecolor\":\"white\",\"showbackground\":true,\"ticks\":\"\",\"zerolinecolor\":\"white\",\"gridwidth\":2}},\"shapedefaults\":{\"line\":{\"color\":\"#2a3f5f\"}},\"annotationdefaults\":{\"arrowcolor\":\"#2a3f5f\",\"arrowhead\":0,\"arrowwidth\":1},\"geo\":{\"bgcolor\":\"white\",\"landcolor\":\"#E5ECF6\",\"subunitcolor\":\"white\",\"showland\":true,\"showlakes\":true,\"lakecolor\":\"white\"},\"title\":{\"x\":0.05},\"mapbox\":{\"style\":\"light\"}}},\"xaxis\":{\"anchor\":\"y\",\"domain\":[0.0,1.0],\"scaleanchor\":\"y\",\"constrain\":\"domain\",\"title\":{\"text\":\"Predicted observation\"},\"tickmode\":\"array\",\"tickvals\":[0,1,2,3],\"ticktext\":[\"Class 0\",\"Class 1\",\"Class 2\",\"Class 3\"]},\"yaxis\":{\"anchor\":\"x\",\"domain\":[0.0,1.0],\"autorange\":\"reversed\",\"constrain\":\"domain\",\"title\":{\"text\":\"Expected observation\"},\"tickmode\":\"array\",\"tickvals\":[0,1,2,3],\"ticktext\":[\"Class 0\",\"Class 1\",\"Class 2\",\"Class 3\"]},\"coloraxis\":{\"colorscale\":[[0.0,\"#0d0887\"],[0.1111111111111111,\"#46039f\"],[0.2222222222222222,\"#7201a8\"],[0.3333333333333333,\"#9c179e\"],[0.4444444444444444,\"#bd3786\"],[0.5555555555555556,\"#d8576b\"],[0.6666666666666666,\"#ed7953\"],[0.7777777777777778,\"#fb9f3a\"],[0.8888888888888888,\"#fdca26\"],[1.0,\"#f0f921\"]]},\"margin\":{\"t\":60},\"title\":{\"text\":\"Confusion matrix-Cycle1, number of samples\"},\"width\":700,\"height\":700},                        {\"responsive\": true}                    ).then(function(){\n",
              "                            \n",
              "var gd = document.getElementById('d0b93dc8-e342-414e-8fd3-4a9bdbc9b4e6');\n",
              "var x = new MutationObserver(function (mutations, observer) {{\n",
              "        var display = window.getComputedStyle(gd).display;\n",
              "        if (!display || display === 'none') {{\n",
              "            console.log([gd, 'removed!']);\n",
              "            Plotly.purge(gd);\n",
              "            observer.disconnect();\n",
              "        }}\n",
              "}});\n",
              "\n",
              "// Listen for the removal of the full notebook cells\n",
              "var notebookContainer = gd.closest('#notebook-container');\n",
              "if (notebookContainer) {{\n",
              "    x.observe(notebookContainer, {childList: true});\n",
              "}}\n",
              "\n",
              "// Listen for the clearing of the current output cell\n",
              "var outputEl = gd.closest('.output');\n",
              "if (outputEl) {{\n",
              "    x.observe(outputEl, {childList: true});\n",
              "}}\n",
              "\n",
              "                        })                };                            </script>        </div>\n",
              "</body>\n",
              "</html>"
            ]
          },
          "metadata": {}
        },
        {
          "output_type": "display_data",
          "data": {
            "text/html": [
              "<html>\n",
              "<head><meta charset=\"utf-8\" /></head>\n",
              "<body>\n",
              "    <div>            <script src=\"https://cdnjs.cloudflare.com/ajax/libs/mathjax/2.7.5/MathJax.js?config=TeX-AMS-MML_SVG\"></script><script type=\"text/javascript\">if (window.MathJax && window.MathJax.Hub && window.MathJax.Hub.Config) {window.MathJax.Hub.Config({SVG: {font: \"STIX-Web\"}});}</script>                <script type=\"text/javascript\">window.PlotlyConfig = {MathJaxConfig: 'local'};</script>\n",
              "        <script src=\"https://cdn.plot.ly/plotly-2.18.2.min.js\"></script>                <div id=\"f381a760-3fa5-4c0a-b512-5632d194daca\" class=\"plotly-graph-div\" style=\"height:700px; width:700px;\"></div>            <script type=\"text/javascript\">                                    window.PLOTLYENV=window.PLOTLYENV || {};                                    if (document.getElementById(\"f381a760-3fa5-4c0a-b512-5632d194daca\")) {                    Plotly.newPlot(                        \"f381a760-3fa5-4c0a-b512-5632d194daca\",                        [{\"coloraxis\":\"coloraxis\",\"name\":\"0\",\"texttemplate\":\"%{z}\",\"z\":[[0.938,0.019,0.029,0.026],[0.045,0.907,0.012,0.051],[0.0,0.0,0.983,0.007],[0.067,0.03,0.047,0.89]],\"type\":\"heatmap\",\"xaxis\":\"x\",\"yaxis\":\"y\",\"hovertemplate\":\"x: %{x}<br>y: %{y}<br>color: %{z}<extra></extra>\"}],                        {\"template\":{\"data\":{\"histogram2dcontour\":[{\"type\":\"histogram2dcontour\",\"colorbar\":{\"outlinewidth\":0,\"ticks\":\"\"},\"colorscale\":[[0.0,\"#0d0887\"],[0.1111111111111111,\"#46039f\"],[0.2222222222222222,\"#7201a8\"],[0.3333333333333333,\"#9c179e\"],[0.4444444444444444,\"#bd3786\"],[0.5555555555555556,\"#d8576b\"],[0.6666666666666666,\"#ed7953\"],[0.7777777777777778,\"#fb9f3a\"],[0.8888888888888888,\"#fdca26\"],[1.0,\"#f0f921\"]]}],\"choropleth\":[{\"type\":\"choropleth\",\"colorbar\":{\"outlinewidth\":0,\"ticks\":\"\"}}],\"histogram2d\":[{\"type\":\"histogram2d\",\"colorbar\":{\"outlinewidth\":0,\"ticks\":\"\"},\"colorscale\":[[0.0,\"#0d0887\"],[0.1111111111111111,\"#46039f\"],[0.2222222222222222,\"#7201a8\"],[0.3333333333333333,\"#9c179e\"],[0.4444444444444444,\"#bd3786\"],[0.5555555555555556,\"#d8576b\"],[0.6666666666666666,\"#ed7953\"],[0.7777777777777778,\"#fb9f3a\"],[0.8888888888888888,\"#fdca26\"],[1.0,\"#f0f921\"]]}],\"heatmap\":[{\"type\":\"heatmap\",\"colorbar\":{\"outlinewidth\":0,\"ticks\":\"\"},\"colorscale\":[[0.0,\"#0d0887\"],[0.1111111111111111,\"#46039f\"],[0.2222222222222222,\"#7201a8\"],[0.3333333333333333,\"#9c179e\"],[0.4444444444444444,\"#bd3786\"],[0.5555555555555556,\"#d8576b\"],[0.6666666666666666,\"#ed7953\"],[0.7777777777777778,\"#fb9f3a\"],[0.8888888888888888,\"#fdca26\"],[1.0,\"#f0f921\"]]}],\"heatmapgl\":[{\"type\":\"heatmapgl\",\"colorbar\":{\"outlinewidth\":0,\"ticks\":\"\"},\"colorscale\":[[0.0,\"#0d0887\"],[0.1111111111111111,\"#46039f\"],[0.2222222222222222,\"#7201a8\"],[0.3333333333333333,\"#9c179e\"],[0.4444444444444444,\"#bd3786\"],[0.5555555555555556,\"#d8576b\"],[0.6666666666666666,\"#ed7953\"],[0.7777777777777778,\"#fb9f3a\"],[0.8888888888888888,\"#fdca26\"],[1.0,\"#f0f921\"]]}],\"contourcarpet\":[{\"type\":\"contourcarpet\",\"colorbar\":{\"outlinewidth\":0,\"ticks\":\"\"}}],\"contour\":[{\"type\":\"contour\",\"colorbar\":{\"outlinewidth\":0,\"ticks\":\"\"},\"colorscale\":[[0.0,\"#0d0887\"],[0.1111111111111111,\"#46039f\"],[0.2222222222222222,\"#7201a8\"],[0.3333333333333333,\"#9c179e\"],[0.4444444444444444,\"#bd3786\"],[0.5555555555555556,\"#d8576b\"],[0.6666666666666666,\"#ed7953\"],[0.7777777777777778,\"#fb9f3a\"],[0.8888888888888888,\"#fdca26\"],[1.0,\"#f0f921\"]]}],\"surface\":[{\"type\":\"surface\",\"colorbar\":{\"outlinewidth\":0,\"ticks\":\"\"},\"colorscale\":[[0.0,\"#0d0887\"],[0.1111111111111111,\"#46039f\"],[0.2222222222222222,\"#7201a8\"],[0.3333333333333333,\"#9c179e\"],[0.4444444444444444,\"#bd3786\"],[0.5555555555555556,\"#d8576b\"],[0.6666666666666666,\"#ed7953\"],[0.7777777777777778,\"#fb9f3a\"],[0.8888888888888888,\"#fdca26\"],[1.0,\"#f0f921\"]]}],\"mesh3d\":[{\"type\":\"mesh3d\",\"colorbar\":{\"outlinewidth\":0,\"ticks\":\"\"}}],\"scatter\":[{\"fillpattern\":{\"fillmode\":\"overlay\",\"size\":10,\"solidity\":0.2},\"type\":\"scatter\"}],\"parcoords\":[{\"type\":\"parcoords\",\"line\":{\"colorbar\":{\"outlinewidth\":0,\"ticks\":\"\"}}}],\"scatterpolargl\":[{\"type\":\"scatterpolargl\",\"marker\":{\"colorbar\":{\"outlinewidth\":0,\"ticks\":\"\"}}}],\"bar\":[{\"error_x\":{\"color\":\"#2a3f5f\"},\"error_y\":{\"color\":\"#2a3f5f\"},\"marker\":{\"line\":{\"color\":\"#E5ECF6\",\"width\":0.5},\"pattern\":{\"fillmode\":\"overlay\",\"size\":10,\"solidity\":0.2}},\"type\":\"bar\"}],\"scattergeo\":[{\"type\":\"scattergeo\",\"marker\":{\"colorbar\":{\"outlinewidth\":0,\"ticks\":\"\"}}}],\"scatterpolar\":[{\"type\":\"scatterpolar\",\"marker\":{\"colorbar\":{\"outlinewidth\":0,\"ticks\":\"\"}}}],\"histogram\":[{\"marker\":{\"pattern\":{\"fillmode\":\"overlay\",\"size\":10,\"solidity\":0.2}},\"type\":\"histogram\"}],\"scattergl\":[{\"type\":\"scattergl\",\"marker\":{\"colorbar\":{\"outlinewidth\":0,\"ticks\":\"\"}}}],\"scatter3d\":[{\"type\":\"scatter3d\",\"line\":{\"colorbar\":{\"outlinewidth\":0,\"ticks\":\"\"}},\"marker\":{\"colorbar\":{\"outlinewidth\":0,\"ticks\":\"\"}}}],\"scattermapbox\":[{\"type\":\"scattermapbox\",\"marker\":{\"colorbar\":{\"outlinewidth\":0,\"ticks\":\"\"}}}],\"scatterternary\":[{\"type\":\"scatterternary\",\"marker\":{\"colorbar\":{\"outlinewidth\":0,\"ticks\":\"\"}}}],\"scattercarpet\":[{\"type\":\"scattercarpet\",\"marker\":{\"colorbar\":{\"outlinewidth\":0,\"ticks\":\"\"}}}],\"carpet\":[{\"aaxis\":{\"endlinecolor\":\"#2a3f5f\",\"gridcolor\":\"white\",\"linecolor\":\"white\",\"minorgridcolor\":\"white\",\"startlinecolor\":\"#2a3f5f\"},\"baxis\":{\"endlinecolor\":\"#2a3f5f\",\"gridcolor\":\"white\",\"linecolor\":\"white\",\"minorgridcolor\":\"white\",\"startlinecolor\":\"#2a3f5f\"},\"type\":\"carpet\"}],\"table\":[{\"cells\":{\"fill\":{\"color\":\"#EBF0F8\"},\"line\":{\"color\":\"white\"}},\"header\":{\"fill\":{\"color\":\"#C8D4E3\"},\"line\":{\"color\":\"white\"}},\"type\":\"table\"}],\"barpolar\":[{\"marker\":{\"line\":{\"color\":\"#E5ECF6\",\"width\":0.5},\"pattern\":{\"fillmode\":\"overlay\",\"size\":10,\"solidity\":0.2}},\"type\":\"barpolar\"}],\"pie\":[{\"automargin\":true,\"type\":\"pie\"}]},\"layout\":{\"autotypenumbers\":\"strict\",\"colorway\":[\"#636efa\",\"#EF553B\",\"#00cc96\",\"#ab63fa\",\"#FFA15A\",\"#19d3f3\",\"#FF6692\",\"#B6E880\",\"#FF97FF\",\"#FECB52\"],\"font\":{\"color\":\"#2a3f5f\"},\"hovermode\":\"closest\",\"hoverlabel\":{\"align\":\"left\"},\"paper_bgcolor\":\"white\",\"plot_bgcolor\":\"#E5ECF6\",\"polar\":{\"bgcolor\":\"#E5ECF6\",\"angularaxis\":{\"gridcolor\":\"white\",\"linecolor\":\"white\",\"ticks\":\"\"},\"radialaxis\":{\"gridcolor\":\"white\",\"linecolor\":\"white\",\"ticks\":\"\"}},\"ternary\":{\"bgcolor\":\"#E5ECF6\",\"aaxis\":{\"gridcolor\":\"white\",\"linecolor\":\"white\",\"ticks\":\"\"},\"baxis\":{\"gridcolor\":\"white\",\"linecolor\":\"white\",\"ticks\":\"\"},\"caxis\":{\"gridcolor\":\"white\",\"linecolor\":\"white\",\"ticks\":\"\"}},\"coloraxis\":{\"colorbar\":{\"outlinewidth\":0,\"ticks\":\"\"}},\"colorscale\":{\"sequential\":[[0.0,\"#0d0887\"],[0.1111111111111111,\"#46039f\"],[0.2222222222222222,\"#7201a8\"],[0.3333333333333333,\"#9c179e\"],[0.4444444444444444,\"#bd3786\"],[0.5555555555555556,\"#d8576b\"],[0.6666666666666666,\"#ed7953\"],[0.7777777777777778,\"#fb9f3a\"],[0.8888888888888888,\"#fdca26\"],[1.0,\"#f0f921\"]],\"sequentialminus\":[[0.0,\"#0d0887\"],[0.1111111111111111,\"#46039f\"],[0.2222222222222222,\"#7201a8\"],[0.3333333333333333,\"#9c179e\"],[0.4444444444444444,\"#bd3786\"],[0.5555555555555556,\"#d8576b\"],[0.6666666666666666,\"#ed7953\"],[0.7777777777777778,\"#fb9f3a\"],[0.8888888888888888,\"#fdca26\"],[1.0,\"#f0f921\"]],\"diverging\":[[0,\"#8e0152\"],[0.1,\"#c51b7d\"],[0.2,\"#de77ae\"],[0.3,\"#f1b6da\"],[0.4,\"#fde0ef\"],[0.5,\"#f7f7f7\"],[0.6,\"#e6f5d0\"],[0.7,\"#b8e186\"],[0.8,\"#7fbc41\"],[0.9,\"#4d9221\"],[1,\"#276419\"]]},\"xaxis\":{\"gridcolor\":\"white\",\"linecolor\":\"white\",\"ticks\":\"\",\"title\":{\"standoff\":15},\"zerolinecolor\":\"white\",\"automargin\":true,\"zerolinewidth\":2},\"yaxis\":{\"gridcolor\":\"white\",\"linecolor\":\"white\",\"ticks\":\"\",\"title\":{\"standoff\":15},\"zerolinecolor\":\"white\",\"automargin\":true,\"zerolinewidth\":2},\"scene\":{\"xaxis\":{\"backgroundcolor\":\"#E5ECF6\",\"gridcolor\":\"white\",\"linecolor\":\"white\",\"showbackground\":true,\"ticks\":\"\",\"zerolinecolor\":\"white\",\"gridwidth\":2},\"yaxis\":{\"backgroundcolor\":\"#E5ECF6\",\"gridcolor\":\"white\",\"linecolor\":\"white\",\"showbackground\":true,\"ticks\":\"\",\"zerolinecolor\":\"white\",\"gridwidth\":2},\"zaxis\":{\"backgroundcolor\":\"#E5ECF6\",\"gridcolor\":\"white\",\"linecolor\":\"white\",\"showbackground\":true,\"ticks\":\"\",\"zerolinecolor\":\"white\",\"gridwidth\":2}},\"shapedefaults\":{\"line\":{\"color\":\"#2a3f5f\"}},\"annotationdefaults\":{\"arrowcolor\":\"#2a3f5f\",\"arrowhead\":0,\"arrowwidth\":1},\"geo\":{\"bgcolor\":\"white\",\"landcolor\":\"#E5ECF6\",\"subunitcolor\":\"white\",\"showland\":true,\"showlakes\":true,\"lakecolor\":\"white\"},\"title\":{\"x\":0.05},\"mapbox\":{\"style\":\"light\"}}},\"xaxis\":{\"anchor\":\"y\",\"domain\":[0.0,1.0],\"scaleanchor\":\"y\",\"constrain\":\"domain\",\"title\":{\"text\":\"Predicted observation\"},\"tickmode\":\"array\",\"tickvals\":[0,1,2,3],\"ticktext\":[\"Class 0\",\"Class 1\",\"Class 2\",\"Class 3\"]},\"yaxis\":{\"anchor\":\"x\",\"domain\":[0.0,1.0],\"autorange\":\"reversed\",\"constrain\":\"domain\",\"title\":{\"text\":\"Expected observation\"},\"tickmode\":\"array\",\"tickvals\":[0,1,2,3],\"ticktext\":[\"Class 0\",\"Class 1\",\"Class 2\",\"Class 3\"]},\"coloraxis\":{\"colorscale\":[[0.0,\"#0d0887\"],[0.1111111111111111,\"#46039f\"],[0.2222222222222222,\"#7201a8\"],[0.3333333333333333,\"#9c179e\"],[0.4444444444444444,\"#bd3786\"],[0.5555555555555556,\"#d8576b\"],[0.6666666666666666,\"#ed7953\"],[0.7777777777777778,\"#fb9f3a\"],[0.8888888888888888,\"#fdca26\"],[1.0,\"#f0f921\"]]},\"margin\":{\"t\":60},\"title\":{\"text\":\"Confusion matrix-Cycle1, percentage\"},\"width\":700,\"height\":700},                        {\"responsive\": true}                    ).then(function(){\n",
              "                            \n",
              "var gd = document.getElementById('f381a760-3fa5-4c0a-b512-5632d194daca');\n",
              "var x = new MutationObserver(function (mutations, observer) {{\n",
              "        var display = window.getComputedStyle(gd).display;\n",
              "        if (!display || display === 'none') {{\n",
              "            console.log([gd, 'removed!']);\n",
              "            Plotly.purge(gd);\n",
              "            observer.disconnect();\n",
              "        }}\n",
              "}});\n",
              "\n",
              "// Listen for the removal of the full notebook cells\n",
              "var notebookContainer = gd.closest('#notebook-container');\n",
              "if (notebookContainer) {{\n",
              "    x.observe(notebookContainer, {childList: true});\n",
              "}}\n",
              "\n",
              "// Listen for the clearing of the current output cell\n",
              "var outputEl = gd.closest('.output');\n",
              "if (outputEl) {{\n",
              "    x.observe(outputEl, {childList: true});\n",
              "}}\n",
              "\n",
              "                        })                };                            </script>        </div>\n",
              "</body>\n",
              "</html>"
            ]
          },
          "metadata": {}
        },
        {
          "output_type": "display_data",
          "data": {
            "text/html": [
              "<html>\n",
              "<head><meta charset=\"utf-8\" /></head>\n",
              "<body>\n",
              "    <div>            <script src=\"https://cdnjs.cloudflare.com/ajax/libs/mathjax/2.7.5/MathJax.js?config=TeX-AMS-MML_SVG\"></script><script type=\"text/javascript\">if (window.MathJax && window.MathJax.Hub && window.MathJax.Hub.Config) {window.MathJax.Hub.Config({SVG: {font: \"STIX-Web\"}});}</script>                <script type=\"text/javascript\">window.PlotlyConfig = {MathJaxConfig: 'local'};</script>\n",
              "        <script src=\"https://cdn.plot.ly/plotly-2.18.2.min.js\"></script>                <div id=\"ae754abe-5552-43f7-827e-daf5c25f477e\" class=\"plotly-graph-div\" style=\"height:700px; width:700px;\"></div>            <script type=\"text/javascript\">                                    window.PLOTLYENV=window.PLOTLYENV || {};                                    if (document.getElementById(\"ae754abe-5552-43f7-827e-daf5c25f477e\")) {                    Plotly.newPlot(                        \"ae754abe-5552-43f7-827e-daf5c25f477e\",                        [{\"coloraxis\":\"coloraxis\",\"name\":\"0\",\"texttemplate\":\"%{z}\",\"z\":[[424,15,7,12],[30,398,1,21],[1,0,171,3],[17,15,5,402]],\"type\":\"heatmap\",\"xaxis\":\"x\",\"yaxis\":\"y\",\"hovertemplate\":\"x: %{x}<br>y: %{y}<br>color: %{z}<extra></extra>\"}],                        {\"template\":{\"data\":{\"histogram2dcontour\":[{\"type\":\"histogram2dcontour\",\"colorbar\":{\"outlinewidth\":0,\"ticks\":\"\"},\"colorscale\":[[0.0,\"#0d0887\"],[0.1111111111111111,\"#46039f\"],[0.2222222222222222,\"#7201a8\"],[0.3333333333333333,\"#9c179e\"],[0.4444444444444444,\"#bd3786\"],[0.5555555555555556,\"#d8576b\"],[0.6666666666666666,\"#ed7953\"],[0.7777777777777778,\"#fb9f3a\"],[0.8888888888888888,\"#fdca26\"],[1.0,\"#f0f921\"]]}],\"choropleth\":[{\"type\":\"choropleth\",\"colorbar\":{\"outlinewidth\":0,\"ticks\":\"\"}}],\"histogram2d\":[{\"type\":\"histogram2d\",\"colorbar\":{\"outlinewidth\":0,\"ticks\":\"\"},\"colorscale\":[[0.0,\"#0d0887\"],[0.1111111111111111,\"#46039f\"],[0.2222222222222222,\"#7201a8\"],[0.3333333333333333,\"#9c179e\"],[0.4444444444444444,\"#bd3786\"],[0.5555555555555556,\"#d8576b\"],[0.6666666666666666,\"#ed7953\"],[0.7777777777777778,\"#fb9f3a\"],[0.8888888888888888,\"#fdca26\"],[1.0,\"#f0f921\"]]}],\"heatmap\":[{\"type\":\"heatmap\",\"colorbar\":{\"outlinewidth\":0,\"ticks\":\"\"},\"colorscale\":[[0.0,\"#0d0887\"],[0.1111111111111111,\"#46039f\"],[0.2222222222222222,\"#7201a8\"],[0.3333333333333333,\"#9c179e\"],[0.4444444444444444,\"#bd3786\"],[0.5555555555555556,\"#d8576b\"],[0.6666666666666666,\"#ed7953\"],[0.7777777777777778,\"#fb9f3a\"],[0.8888888888888888,\"#fdca26\"],[1.0,\"#f0f921\"]]}],\"heatmapgl\":[{\"type\":\"heatmapgl\",\"colorbar\":{\"outlinewidth\":0,\"ticks\":\"\"},\"colorscale\":[[0.0,\"#0d0887\"],[0.1111111111111111,\"#46039f\"],[0.2222222222222222,\"#7201a8\"],[0.3333333333333333,\"#9c179e\"],[0.4444444444444444,\"#bd3786\"],[0.5555555555555556,\"#d8576b\"],[0.6666666666666666,\"#ed7953\"],[0.7777777777777778,\"#fb9f3a\"],[0.8888888888888888,\"#fdca26\"],[1.0,\"#f0f921\"]]}],\"contourcarpet\":[{\"type\":\"contourcarpet\",\"colorbar\":{\"outlinewidth\":0,\"ticks\":\"\"}}],\"contour\":[{\"type\":\"contour\",\"colorbar\":{\"outlinewidth\":0,\"ticks\":\"\"},\"colorscale\":[[0.0,\"#0d0887\"],[0.1111111111111111,\"#46039f\"],[0.2222222222222222,\"#7201a8\"],[0.3333333333333333,\"#9c179e\"],[0.4444444444444444,\"#bd3786\"],[0.5555555555555556,\"#d8576b\"],[0.6666666666666666,\"#ed7953\"],[0.7777777777777778,\"#fb9f3a\"],[0.8888888888888888,\"#fdca26\"],[1.0,\"#f0f921\"]]}],\"surface\":[{\"type\":\"surface\",\"colorbar\":{\"outlinewidth\":0,\"ticks\":\"\"},\"colorscale\":[[0.0,\"#0d0887\"],[0.1111111111111111,\"#46039f\"],[0.2222222222222222,\"#7201a8\"],[0.3333333333333333,\"#9c179e\"],[0.4444444444444444,\"#bd3786\"],[0.5555555555555556,\"#d8576b\"],[0.6666666666666666,\"#ed7953\"],[0.7777777777777778,\"#fb9f3a\"],[0.8888888888888888,\"#fdca26\"],[1.0,\"#f0f921\"]]}],\"mesh3d\":[{\"type\":\"mesh3d\",\"colorbar\":{\"outlinewidth\":0,\"ticks\":\"\"}}],\"scatter\":[{\"fillpattern\":{\"fillmode\":\"overlay\",\"size\":10,\"solidity\":0.2},\"type\":\"scatter\"}],\"parcoords\":[{\"type\":\"parcoords\",\"line\":{\"colorbar\":{\"outlinewidth\":0,\"ticks\":\"\"}}}],\"scatterpolargl\":[{\"type\":\"scatterpolargl\",\"marker\":{\"colorbar\":{\"outlinewidth\":0,\"ticks\":\"\"}}}],\"bar\":[{\"error_x\":{\"color\":\"#2a3f5f\"},\"error_y\":{\"color\":\"#2a3f5f\"},\"marker\":{\"line\":{\"color\":\"#E5ECF6\",\"width\":0.5},\"pattern\":{\"fillmode\":\"overlay\",\"size\":10,\"solidity\":0.2}},\"type\":\"bar\"}],\"scattergeo\":[{\"type\":\"scattergeo\",\"marker\":{\"colorbar\":{\"outlinewidth\":0,\"ticks\":\"\"}}}],\"scatterpolar\":[{\"type\":\"scatterpolar\",\"marker\":{\"colorbar\":{\"outlinewidth\":0,\"ticks\":\"\"}}}],\"histogram\":[{\"marker\":{\"pattern\":{\"fillmode\":\"overlay\",\"size\":10,\"solidity\":0.2}},\"type\":\"histogram\"}],\"scattergl\":[{\"type\":\"scattergl\",\"marker\":{\"colorbar\":{\"outlinewidth\":0,\"ticks\":\"\"}}}],\"scatter3d\":[{\"type\":\"scatter3d\",\"line\":{\"colorbar\":{\"outlinewidth\":0,\"ticks\":\"\"}},\"marker\":{\"colorbar\":{\"outlinewidth\":0,\"ticks\":\"\"}}}],\"scattermapbox\":[{\"type\":\"scattermapbox\",\"marker\":{\"colorbar\":{\"outlinewidth\":0,\"ticks\":\"\"}}}],\"scatterternary\":[{\"type\":\"scatterternary\",\"marker\":{\"colorbar\":{\"outlinewidth\":0,\"ticks\":\"\"}}}],\"scattercarpet\":[{\"type\":\"scattercarpet\",\"marker\":{\"colorbar\":{\"outlinewidth\":0,\"ticks\":\"\"}}}],\"carpet\":[{\"aaxis\":{\"endlinecolor\":\"#2a3f5f\",\"gridcolor\":\"white\",\"linecolor\":\"white\",\"minorgridcolor\":\"white\",\"startlinecolor\":\"#2a3f5f\"},\"baxis\":{\"endlinecolor\":\"#2a3f5f\",\"gridcolor\":\"white\",\"linecolor\":\"white\",\"minorgridcolor\":\"white\",\"startlinecolor\":\"#2a3f5f\"},\"type\":\"carpet\"}],\"table\":[{\"cells\":{\"fill\":{\"color\":\"#EBF0F8\"},\"line\":{\"color\":\"white\"}},\"header\":{\"fill\":{\"color\":\"#C8D4E3\"},\"line\":{\"color\":\"white\"}},\"type\":\"table\"}],\"barpolar\":[{\"marker\":{\"line\":{\"color\":\"#E5ECF6\",\"width\":0.5},\"pattern\":{\"fillmode\":\"overlay\",\"size\":10,\"solidity\":0.2}},\"type\":\"barpolar\"}],\"pie\":[{\"automargin\":true,\"type\":\"pie\"}]},\"layout\":{\"autotypenumbers\":\"strict\",\"colorway\":[\"#636efa\",\"#EF553B\",\"#00cc96\",\"#ab63fa\",\"#FFA15A\",\"#19d3f3\",\"#FF6692\",\"#B6E880\",\"#FF97FF\",\"#FECB52\"],\"font\":{\"color\":\"#2a3f5f\"},\"hovermode\":\"closest\",\"hoverlabel\":{\"align\":\"left\"},\"paper_bgcolor\":\"white\",\"plot_bgcolor\":\"#E5ECF6\",\"polar\":{\"bgcolor\":\"#E5ECF6\",\"angularaxis\":{\"gridcolor\":\"white\",\"linecolor\":\"white\",\"ticks\":\"\"},\"radialaxis\":{\"gridcolor\":\"white\",\"linecolor\":\"white\",\"ticks\":\"\"}},\"ternary\":{\"bgcolor\":\"#E5ECF6\",\"aaxis\":{\"gridcolor\":\"white\",\"linecolor\":\"white\",\"ticks\":\"\"},\"baxis\":{\"gridcolor\":\"white\",\"linecolor\":\"white\",\"ticks\":\"\"},\"caxis\":{\"gridcolor\":\"white\",\"linecolor\":\"white\",\"ticks\":\"\"}},\"coloraxis\":{\"colorbar\":{\"outlinewidth\":0,\"ticks\":\"\"}},\"colorscale\":{\"sequential\":[[0.0,\"#0d0887\"],[0.1111111111111111,\"#46039f\"],[0.2222222222222222,\"#7201a8\"],[0.3333333333333333,\"#9c179e\"],[0.4444444444444444,\"#bd3786\"],[0.5555555555555556,\"#d8576b\"],[0.6666666666666666,\"#ed7953\"],[0.7777777777777778,\"#fb9f3a\"],[0.8888888888888888,\"#fdca26\"],[1.0,\"#f0f921\"]],\"sequentialminus\":[[0.0,\"#0d0887\"],[0.1111111111111111,\"#46039f\"],[0.2222222222222222,\"#7201a8\"],[0.3333333333333333,\"#9c179e\"],[0.4444444444444444,\"#bd3786\"],[0.5555555555555556,\"#d8576b\"],[0.6666666666666666,\"#ed7953\"],[0.7777777777777778,\"#fb9f3a\"],[0.8888888888888888,\"#fdca26\"],[1.0,\"#f0f921\"]],\"diverging\":[[0,\"#8e0152\"],[0.1,\"#c51b7d\"],[0.2,\"#de77ae\"],[0.3,\"#f1b6da\"],[0.4,\"#fde0ef\"],[0.5,\"#f7f7f7\"],[0.6,\"#e6f5d0\"],[0.7,\"#b8e186\"],[0.8,\"#7fbc41\"],[0.9,\"#4d9221\"],[1,\"#276419\"]]},\"xaxis\":{\"gridcolor\":\"white\",\"linecolor\":\"white\",\"ticks\":\"\",\"title\":{\"standoff\":15},\"zerolinecolor\":\"white\",\"automargin\":true,\"zerolinewidth\":2},\"yaxis\":{\"gridcolor\":\"white\",\"linecolor\":\"white\",\"ticks\":\"\",\"title\":{\"standoff\":15},\"zerolinecolor\":\"white\",\"automargin\":true,\"zerolinewidth\":2},\"scene\":{\"xaxis\":{\"backgroundcolor\":\"#E5ECF6\",\"gridcolor\":\"white\",\"linecolor\":\"white\",\"showbackground\":true,\"ticks\":\"\",\"zerolinecolor\":\"white\",\"gridwidth\":2},\"yaxis\":{\"backgroundcolor\":\"#E5ECF6\",\"gridcolor\":\"white\",\"linecolor\":\"white\",\"showbackground\":true,\"ticks\":\"\",\"zerolinecolor\":\"white\",\"gridwidth\":2},\"zaxis\":{\"backgroundcolor\":\"#E5ECF6\",\"gridcolor\":\"white\",\"linecolor\":\"white\",\"showbackground\":true,\"ticks\":\"\",\"zerolinecolor\":\"white\",\"gridwidth\":2}},\"shapedefaults\":{\"line\":{\"color\":\"#2a3f5f\"}},\"annotationdefaults\":{\"arrowcolor\":\"#2a3f5f\",\"arrowhead\":0,\"arrowwidth\":1},\"geo\":{\"bgcolor\":\"white\",\"landcolor\":\"#E5ECF6\",\"subunitcolor\":\"white\",\"showland\":true,\"showlakes\":true,\"lakecolor\":\"white\"},\"title\":{\"x\":0.05},\"mapbox\":{\"style\":\"light\"}}},\"xaxis\":{\"anchor\":\"y\",\"domain\":[0.0,1.0],\"scaleanchor\":\"y\",\"constrain\":\"domain\",\"title\":{\"text\":\"Predicted observation\"},\"tickmode\":\"array\",\"tickvals\":[0,1,2,3],\"ticktext\":[\"Class 0\",\"Class 1\",\"Class 2\",\"Class 3\"]},\"yaxis\":{\"anchor\":\"x\",\"domain\":[0.0,1.0],\"autorange\":\"reversed\",\"constrain\":\"domain\",\"title\":{\"text\":\"Expected observation\"},\"tickmode\":\"array\",\"tickvals\":[0,1,2,3],\"ticktext\":[\"Class 0\",\"Class 1\",\"Class 2\",\"Class 3\"]},\"coloraxis\":{\"colorscale\":[[0.0,\"#0d0887\"],[0.1111111111111111,\"#46039f\"],[0.2222222222222222,\"#7201a8\"],[0.3333333333333333,\"#9c179e\"],[0.4444444444444444,\"#bd3786\"],[0.5555555555555556,\"#d8576b\"],[0.6666666666666666,\"#ed7953\"],[0.7777777777777778,\"#fb9f3a\"],[0.8888888888888888,\"#fdca26\"],[1.0,\"#f0f921\"]]},\"margin\":{\"t\":60},\"title\":{\"text\":\"Confusion matrix-Cycle2, number of samples\"},\"width\":700,\"height\":700},                        {\"responsive\": true}                    ).then(function(){\n",
              "                            \n",
              "var gd = document.getElementById('ae754abe-5552-43f7-827e-daf5c25f477e');\n",
              "var x = new MutationObserver(function (mutations, observer) {{\n",
              "        var display = window.getComputedStyle(gd).display;\n",
              "        if (!display || display === 'none') {{\n",
              "            console.log([gd, 'removed!']);\n",
              "            Plotly.purge(gd);\n",
              "            observer.disconnect();\n",
              "        }}\n",
              "}});\n",
              "\n",
              "// Listen for the removal of the full notebook cells\n",
              "var notebookContainer = gd.closest('#notebook-container');\n",
              "if (notebookContainer) {{\n",
              "    x.observe(notebookContainer, {childList: true});\n",
              "}}\n",
              "\n",
              "// Listen for the clearing of the current output cell\n",
              "var outputEl = gd.closest('.output');\n",
              "if (outputEl) {{\n",
              "    x.observe(outputEl, {childList: true});\n",
              "}}\n",
              "\n",
              "                        })                };                            </script>        </div>\n",
              "</body>\n",
              "</html>"
            ]
          },
          "metadata": {}
        },
        {
          "output_type": "display_data",
          "data": {
            "text/html": [
              "<html>\n",
              "<head><meta charset=\"utf-8\" /></head>\n",
              "<body>\n",
              "    <div>            <script src=\"https://cdnjs.cloudflare.com/ajax/libs/mathjax/2.7.5/MathJax.js?config=TeX-AMS-MML_SVG\"></script><script type=\"text/javascript\">if (window.MathJax && window.MathJax.Hub && window.MathJax.Hub.Config) {window.MathJax.Hub.Config({SVG: {font: \"STIX-Web\"}});}</script>                <script type=\"text/javascript\">window.PlotlyConfig = {MathJaxConfig: 'local'};</script>\n",
              "        <script src=\"https://cdn.plot.ly/plotly-2.18.2.min.js\"></script>                <div id=\"218efdc1-3521-42b5-b098-55f353dc9deb\" class=\"plotly-graph-div\" style=\"height:700px; width:700px;\"></div>            <script type=\"text/javascript\">                                    window.PLOTLYENV=window.PLOTLYENV || {};                                    if (document.getElementById(\"218efdc1-3521-42b5-b098-55f353dc9deb\")) {                    Plotly.newPlot(                        \"218efdc1-3521-42b5-b098-55f353dc9deb\",                        [{\"coloraxis\":\"coloraxis\",\"name\":\"0\",\"texttemplate\":\"%{z}\",\"z\":[[0.926,0.033,0.04,0.027],[0.066,0.884,0.006,0.048],[0.002,0.0,0.977,0.007],[0.037,0.033,0.029,0.916]],\"type\":\"heatmap\",\"xaxis\":\"x\",\"yaxis\":\"y\",\"hovertemplate\":\"x: %{x}<br>y: %{y}<br>color: %{z}<extra></extra>\"}],                        {\"template\":{\"data\":{\"histogram2dcontour\":[{\"type\":\"histogram2dcontour\",\"colorbar\":{\"outlinewidth\":0,\"ticks\":\"\"},\"colorscale\":[[0.0,\"#0d0887\"],[0.1111111111111111,\"#46039f\"],[0.2222222222222222,\"#7201a8\"],[0.3333333333333333,\"#9c179e\"],[0.4444444444444444,\"#bd3786\"],[0.5555555555555556,\"#d8576b\"],[0.6666666666666666,\"#ed7953\"],[0.7777777777777778,\"#fb9f3a\"],[0.8888888888888888,\"#fdca26\"],[1.0,\"#f0f921\"]]}],\"choropleth\":[{\"type\":\"choropleth\",\"colorbar\":{\"outlinewidth\":0,\"ticks\":\"\"}}],\"histogram2d\":[{\"type\":\"histogram2d\",\"colorbar\":{\"outlinewidth\":0,\"ticks\":\"\"},\"colorscale\":[[0.0,\"#0d0887\"],[0.1111111111111111,\"#46039f\"],[0.2222222222222222,\"#7201a8\"],[0.3333333333333333,\"#9c179e\"],[0.4444444444444444,\"#bd3786\"],[0.5555555555555556,\"#d8576b\"],[0.6666666666666666,\"#ed7953\"],[0.7777777777777778,\"#fb9f3a\"],[0.8888888888888888,\"#fdca26\"],[1.0,\"#f0f921\"]]}],\"heatmap\":[{\"type\":\"heatmap\",\"colorbar\":{\"outlinewidth\":0,\"ticks\":\"\"},\"colorscale\":[[0.0,\"#0d0887\"],[0.1111111111111111,\"#46039f\"],[0.2222222222222222,\"#7201a8\"],[0.3333333333333333,\"#9c179e\"],[0.4444444444444444,\"#bd3786\"],[0.5555555555555556,\"#d8576b\"],[0.6666666666666666,\"#ed7953\"],[0.7777777777777778,\"#fb9f3a\"],[0.8888888888888888,\"#fdca26\"],[1.0,\"#f0f921\"]]}],\"heatmapgl\":[{\"type\":\"heatmapgl\",\"colorbar\":{\"outlinewidth\":0,\"ticks\":\"\"},\"colorscale\":[[0.0,\"#0d0887\"],[0.1111111111111111,\"#46039f\"],[0.2222222222222222,\"#7201a8\"],[0.3333333333333333,\"#9c179e\"],[0.4444444444444444,\"#bd3786\"],[0.5555555555555556,\"#d8576b\"],[0.6666666666666666,\"#ed7953\"],[0.7777777777777778,\"#fb9f3a\"],[0.8888888888888888,\"#fdca26\"],[1.0,\"#f0f921\"]]}],\"contourcarpet\":[{\"type\":\"contourcarpet\",\"colorbar\":{\"outlinewidth\":0,\"ticks\":\"\"}}],\"contour\":[{\"type\":\"contour\",\"colorbar\":{\"outlinewidth\":0,\"ticks\":\"\"},\"colorscale\":[[0.0,\"#0d0887\"],[0.1111111111111111,\"#46039f\"],[0.2222222222222222,\"#7201a8\"],[0.3333333333333333,\"#9c179e\"],[0.4444444444444444,\"#bd3786\"],[0.5555555555555556,\"#d8576b\"],[0.6666666666666666,\"#ed7953\"],[0.7777777777777778,\"#fb9f3a\"],[0.8888888888888888,\"#fdca26\"],[1.0,\"#f0f921\"]]}],\"surface\":[{\"type\":\"surface\",\"colorbar\":{\"outlinewidth\":0,\"ticks\":\"\"},\"colorscale\":[[0.0,\"#0d0887\"],[0.1111111111111111,\"#46039f\"],[0.2222222222222222,\"#7201a8\"],[0.3333333333333333,\"#9c179e\"],[0.4444444444444444,\"#bd3786\"],[0.5555555555555556,\"#d8576b\"],[0.6666666666666666,\"#ed7953\"],[0.7777777777777778,\"#fb9f3a\"],[0.8888888888888888,\"#fdca26\"],[1.0,\"#f0f921\"]]}],\"mesh3d\":[{\"type\":\"mesh3d\",\"colorbar\":{\"outlinewidth\":0,\"ticks\":\"\"}}],\"scatter\":[{\"fillpattern\":{\"fillmode\":\"overlay\",\"size\":10,\"solidity\":0.2},\"type\":\"scatter\"}],\"parcoords\":[{\"type\":\"parcoords\",\"line\":{\"colorbar\":{\"outlinewidth\":0,\"ticks\":\"\"}}}],\"scatterpolargl\":[{\"type\":\"scatterpolargl\",\"marker\":{\"colorbar\":{\"outlinewidth\":0,\"ticks\":\"\"}}}],\"bar\":[{\"error_x\":{\"color\":\"#2a3f5f\"},\"error_y\":{\"color\":\"#2a3f5f\"},\"marker\":{\"line\":{\"color\":\"#E5ECF6\",\"width\":0.5},\"pattern\":{\"fillmode\":\"overlay\",\"size\":10,\"solidity\":0.2}},\"type\":\"bar\"}],\"scattergeo\":[{\"type\":\"scattergeo\",\"marker\":{\"colorbar\":{\"outlinewidth\":0,\"ticks\":\"\"}}}],\"scatterpolar\":[{\"type\":\"scatterpolar\",\"marker\":{\"colorbar\":{\"outlinewidth\":0,\"ticks\":\"\"}}}],\"histogram\":[{\"marker\":{\"pattern\":{\"fillmode\":\"overlay\",\"size\":10,\"solidity\":0.2}},\"type\":\"histogram\"}],\"scattergl\":[{\"type\":\"scattergl\",\"marker\":{\"colorbar\":{\"outlinewidth\":0,\"ticks\":\"\"}}}],\"scatter3d\":[{\"type\":\"scatter3d\",\"line\":{\"colorbar\":{\"outlinewidth\":0,\"ticks\":\"\"}},\"marker\":{\"colorbar\":{\"outlinewidth\":0,\"ticks\":\"\"}}}],\"scattermapbox\":[{\"type\":\"scattermapbox\",\"marker\":{\"colorbar\":{\"outlinewidth\":0,\"ticks\":\"\"}}}],\"scatterternary\":[{\"type\":\"scatterternary\",\"marker\":{\"colorbar\":{\"outlinewidth\":0,\"ticks\":\"\"}}}],\"scattercarpet\":[{\"type\":\"scattercarpet\",\"marker\":{\"colorbar\":{\"outlinewidth\":0,\"ticks\":\"\"}}}],\"carpet\":[{\"aaxis\":{\"endlinecolor\":\"#2a3f5f\",\"gridcolor\":\"white\",\"linecolor\":\"white\",\"minorgridcolor\":\"white\",\"startlinecolor\":\"#2a3f5f\"},\"baxis\":{\"endlinecolor\":\"#2a3f5f\",\"gridcolor\":\"white\",\"linecolor\":\"white\",\"minorgridcolor\":\"white\",\"startlinecolor\":\"#2a3f5f\"},\"type\":\"carpet\"}],\"table\":[{\"cells\":{\"fill\":{\"color\":\"#EBF0F8\"},\"line\":{\"color\":\"white\"}},\"header\":{\"fill\":{\"color\":\"#C8D4E3\"},\"line\":{\"color\":\"white\"}},\"type\":\"table\"}],\"barpolar\":[{\"marker\":{\"line\":{\"color\":\"#E5ECF6\",\"width\":0.5},\"pattern\":{\"fillmode\":\"overlay\",\"size\":10,\"solidity\":0.2}},\"type\":\"barpolar\"}],\"pie\":[{\"automargin\":true,\"type\":\"pie\"}]},\"layout\":{\"autotypenumbers\":\"strict\",\"colorway\":[\"#636efa\",\"#EF553B\",\"#00cc96\",\"#ab63fa\",\"#FFA15A\",\"#19d3f3\",\"#FF6692\",\"#B6E880\",\"#FF97FF\",\"#FECB52\"],\"font\":{\"color\":\"#2a3f5f\"},\"hovermode\":\"closest\",\"hoverlabel\":{\"align\":\"left\"},\"paper_bgcolor\":\"white\",\"plot_bgcolor\":\"#E5ECF6\",\"polar\":{\"bgcolor\":\"#E5ECF6\",\"angularaxis\":{\"gridcolor\":\"white\",\"linecolor\":\"white\",\"ticks\":\"\"},\"radialaxis\":{\"gridcolor\":\"white\",\"linecolor\":\"white\",\"ticks\":\"\"}},\"ternary\":{\"bgcolor\":\"#E5ECF6\",\"aaxis\":{\"gridcolor\":\"white\",\"linecolor\":\"white\",\"ticks\":\"\"},\"baxis\":{\"gridcolor\":\"white\",\"linecolor\":\"white\",\"ticks\":\"\"},\"caxis\":{\"gridcolor\":\"white\",\"linecolor\":\"white\",\"ticks\":\"\"}},\"coloraxis\":{\"colorbar\":{\"outlinewidth\":0,\"ticks\":\"\"}},\"colorscale\":{\"sequential\":[[0.0,\"#0d0887\"],[0.1111111111111111,\"#46039f\"],[0.2222222222222222,\"#7201a8\"],[0.3333333333333333,\"#9c179e\"],[0.4444444444444444,\"#bd3786\"],[0.5555555555555556,\"#d8576b\"],[0.6666666666666666,\"#ed7953\"],[0.7777777777777778,\"#fb9f3a\"],[0.8888888888888888,\"#fdca26\"],[1.0,\"#f0f921\"]],\"sequentialminus\":[[0.0,\"#0d0887\"],[0.1111111111111111,\"#46039f\"],[0.2222222222222222,\"#7201a8\"],[0.3333333333333333,\"#9c179e\"],[0.4444444444444444,\"#bd3786\"],[0.5555555555555556,\"#d8576b\"],[0.6666666666666666,\"#ed7953\"],[0.7777777777777778,\"#fb9f3a\"],[0.8888888888888888,\"#fdca26\"],[1.0,\"#f0f921\"]],\"diverging\":[[0,\"#8e0152\"],[0.1,\"#c51b7d\"],[0.2,\"#de77ae\"],[0.3,\"#f1b6da\"],[0.4,\"#fde0ef\"],[0.5,\"#f7f7f7\"],[0.6,\"#e6f5d0\"],[0.7,\"#b8e186\"],[0.8,\"#7fbc41\"],[0.9,\"#4d9221\"],[1,\"#276419\"]]},\"xaxis\":{\"gridcolor\":\"white\",\"linecolor\":\"white\",\"ticks\":\"\",\"title\":{\"standoff\":15},\"zerolinecolor\":\"white\",\"automargin\":true,\"zerolinewidth\":2},\"yaxis\":{\"gridcolor\":\"white\",\"linecolor\":\"white\",\"ticks\":\"\",\"title\":{\"standoff\":15},\"zerolinecolor\":\"white\",\"automargin\":true,\"zerolinewidth\":2},\"scene\":{\"xaxis\":{\"backgroundcolor\":\"#E5ECF6\",\"gridcolor\":\"white\",\"linecolor\":\"white\",\"showbackground\":true,\"ticks\":\"\",\"zerolinecolor\":\"white\",\"gridwidth\":2},\"yaxis\":{\"backgroundcolor\":\"#E5ECF6\",\"gridcolor\":\"white\",\"linecolor\":\"white\",\"showbackground\":true,\"ticks\":\"\",\"zerolinecolor\":\"white\",\"gridwidth\":2},\"zaxis\":{\"backgroundcolor\":\"#E5ECF6\",\"gridcolor\":\"white\",\"linecolor\":\"white\",\"showbackground\":true,\"ticks\":\"\",\"zerolinecolor\":\"white\",\"gridwidth\":2}},\"shapedefaults\":{\"line\":{\"color\":\"#2a3f5f\"}},\"annotationdefaults\":{\"arrowcolor\":\"#2a3f5f\",\"arrowhead\":0,\"arrowwidth\":1},\"geo\":{\"bgcolor\":\"white\",\"landcolor\":\"#E5ECF6\",\"subunitcolor\":\"white\",\"showland\":true,\"showlakes\":true,\"lakecolor\":\"white\"},\"title\":{\"x\":0.05},\"mapbox\":{\"style\":\"light\"}}},\"xaxis\":{\"anchor\":\"y\",\"domain\":[0.0,1.0],\"scaleanchor\":\"y\",\"constrain\":\"domain\",\"title\":{\"text\":\"Predicted observation\"},\"tickmode\":\"array\",\"tickvals\":[0,1,2,3],\"ticktext\":[\"Class 0\",\"Class 1\",\"Class 2\",\"Class 3\"]},\"yaxis\":{\"anchor\":\"x\",\"domain\":[0.0,1.0],\"autorange\":\"reversed\",\"constrain\":\"domain\",\"title\":{\"text\":\"Expected observation\"},\"tickmode\":\"array\",\"tickvals\":[0,1,2,3],\"ticktext\":[\"Class 0\",\"Class 1\",\"Class 2\",\"Class 3\"]},\"coloraxis\":{\"colorscale\":[[0.0,\"#0d0887\"],[0.1111111111111111,\"#46039f\"],[0.2222222222222222,\"#7201a8\"],[0.3333333333333333,\"#9c179e\"],[0.4444444444444444,\"#bd3786\"],[0.5555555555555556,\"#d8576b\"],[0.6666666666666666,\"#ed7953\"],[0.7777777777777778,\"#fb9f3a\"],[0.8888888888888888,\"#fdca26\"],[1.0,\"#f0f921\"]]},\"margin\":{\"t\":60},\"title\":{\"text\":\"Confusion matrix-Cycle2, percentage\"},\"width\":700,\"height\":700},                        {\"responsive\": true}                    ).then(function(){\n",
              "                            \n",
              "var gd = document.getElementById('218efdc1-3521-42b5-b098-55f353dc9deb');\n",
              "var x = new MutationObserver(function (mutations, observer) {{\n",
              "        var display = window.getComputedStyle(gd).display;\n",
              "        if (!display || display === 'none') {{\n",
              "            console.log([gd, 'removed!']);\n",
              "            Plotly.purge(gd);\n",
              "            observer.disconnect();\n",
              "        }}\n",
              "}});\n",
              "\n",
              "// Listen for the removal of the full notebook cells\n",
              "var notebookContainer = gd.closest('#notebook-container');\n",
              "if (notebookContainer) {{\n",
              "    x.observe(notebookContainer, {childList: true});\n",
              "}}\n",
              "\n",
              "// Listen for the clearing of the current output cell\n",
              "var outputEl = gd.closest('.output');\n",
              "if (outputEl) {{\n",
              "    x.observe(outputEl, {childList: true});\n",
              "}}\n",
              "\n",
              "                        })                };                            </script>        </div>\n",
              "</body>\n",
              "</html>"
            ]
          },
          "metadata": {}
        },
        {
          "output_type": "display_data",
          "data": {
            "text/html": [
              "<html>\n",
              "<head><meta charset=\"utf-8\" /></head>\n",
              "<body>\n",
              "    <div>            <script src=\"https://cdnjs.cloudflare.com/ajax/libs/mathjax/2.7.5/MathJax.js?config=TeX-AMS-MML_SVG\"></script><script type=\"text/javascript\">if (window.MathJax && window.MathJax.Hub && window.MathJax.Hub.Config) {window.MathJax.Hub.Config({SVG: {font: \"STIX-Web\"}});}</script>                <script type=\"text/javascript\">window.PlotlyConfig = {MathJaxConfig: 'local'};</script>\n",
              "        <script src=\"https://cdn.plot.ly/plotly-2.18.2.min.js\"></script>                <div id=\"6943bbdb-c724-4d4c-9334-f94ee6276540\" class=\"plotly-graph-div\" style=\"height:700px; width:700px;\"></div>            <script type=\"text/javascript\">                                    window.PLOTLYENV=window.PLOTLYENV || {};                                    if (document.getElementById(\"6943bbdb-c724-4d4c-9334-f94ee6276540\")) {                    Plotly.newPlot(                        \"6943bbdb-c724-4d4c-9334-f94ee6276540\",                        [{\"coloraxis\":\"coloraxis\",\"name\":\"0\",\"texttemplate\":\"%{z}\",\"z\":[[428,11,7,14],[24,381,5,30],[2,1,173,4],[21,11,6,407]],\"type\":\"heatmap\",\"xaxis\":\"x\",\"yaxis\":\"y\",\"hovertemplate\":\"x: %{x}<br>y: %{y}<br>color: %{z}<extra></extra>\"}],                        {\"template\":{\"data\":{\"histogram2dcontour\":[{\"type\":\"histogram2dcontour\",\"colorbar\":{\"outlinewidth\":0,\"ticks\":\"\"},\"colorscale\":[[0.0,\"#0d0887\"],[0.1111111111111111,\"#46039f\"],[0.2222222222222222,\"#7201a8\"],[0.3333333333333333,\"#9c179e\"],[0.4444444444444444,\"#bd3786\"],[0.5555555555555556,\"#d8576b\"],[0.6666666666666666,\"#ed7953\"],[0.7777777777777778,\"#fb9f3a\"],[0.8888888888888888,\"#fdca26\"],[1.0,\"#f0f921\"]]}],\"choropleth\":[{\"type\":\"choropleth\",\"colorbar\":{\"outlinewidth\":0,\"ticks\":\"\"}}],\"histogram2d\":[{\"type\":\"histogram2d\",\"colorbar\":{\"outlinewidth\":0,\"ticks\":\"\"},\"colorscale\":[[0.0,\"#0d0887\"],[0.1111111111111111,\"#46039f\"],[0.2222222222222222,\"#7201a8\"],[0.3333333333333333,\"#9c179e\"],[0.4444444444444444,\"#bd3786\"],[0.5555555555555556,\"#d8576b\"],[0.6666666666666666,\"#ed7953\"],[0.7777777777777778,\"#fb9f3a\"],[0.8888888888888888,\"#fdca26\"],[1.0,\"#f0f921\"]]}],\"heatmap\":[{\"type\":\"heatmap\",\"colorbar\":{\"outlinewidth\":0,\"ticks\":\"\"},\"colorscale\":[[0.0,\"#0d0887\"],[0.1111111111111111,\"#46039f\"],[0.2222222222222222,\"#7201a8\"],[0.3333333333333333,\"#9c179e\"],[0.4444444444444444,\"#bd3786\"],[0.5555555555555556,\"#d8576b\"],[0.6666666666666666,\"#ed7953\"],[0.7777777777777778,\"#fb9f3a\"],[0.8888888888888888,\"#fdca26\"],[1.0,\"#f0f921\"]]}],\"heatmapgl\":[{\"type\":\"heatmapgl\",\"colorbar\":{\"outlinewidth\":0,\"ticks\":\"\"},\"colorscale\":[[0.0,\"#0d0887\"],[0.1111111111111111,\"#46039f\"],[0.2222222222222222,\"#7201a8\"],[0.3333333333333333,\"#9c179e\"],[0.4444444444444444,\"#bd3786\"],[0.5555555555555556,\"#d8576b\"],[0.6666666666666666,\"#ed7953\"],[0.7777777777777778,\"#fb9f3a\"],[0.8888888888888888,\"#fdca26\"],[1.0,\"#f0f921\"]]}],\"contourcarpet\":[{\"type\":\"contourcarpet\",\"colorbar\":{\"outlinewidth\":0,\"ticks\":\"\"}}],\"contour\":[{\"type\":\"contour\",\"colorbar\":{\"outlinewidth\":0,\"ticks\":\"\"},\"colorscale\":[[0.0,\"#0d0887\"],[0.1111111111111111,\"#46039f\"],[0.2222222222222222,\"#7201a8\"],[0.3333333333333333,\"#9c179e\"],[0.4444444444444444,\"#bd3786\"],[0.5555555555555556,\"#d8576b\"],[0.6666666666666666,\"#ed7953\"],[0.7777777777777778,\"#fb9f3a\"],[0.8888888888888888,\"#fdca26\"],[1.0,\"#f0f921\"]]}],\"surface\":[{\"type\":\"surface\",\"colorbar\":{\"outlinewidth\":0,\"ticks\":\"\"},\"colorscale\":[[0.0,\"#0d0887\"],[0.1111111111111111,\"#46039f\"],[0.2222222222222222,\"#7201a8\"],[0.3333333333333333,\"#9c179e\"],[0.4444444444444444,\"#bd3786\"],[0.5555555555555556,\"#d8576b\"],[0.6666666666666666,\"#ed7953\"],[0.7777777777777778,\"#fb9f3a\"],[0.8888888888888888,\"#fdca26\"],[1.0,\"#f0f921\"]]}],\"mesh3d\":[{\"type\":\"mesh3d\",\"colorbar\":{\"outlinewidth\":0,\"ticks\":\"\"}}],\"scatter\":[{\"fillpattern\":{\"fillmode\":\"overlay\",\"size\":10,\"solidity\":0.2},\"type\":\"scatter\"}],\"parcoords\":[{\"type\":\"parcoords\",\"line\":{\"colorbar\":{\"outlinewidth\":0,\"ticks\":\"\"}}}],\"scatterpolargl\":[{\"type\":\"scatterpolargl\",\"marker\":{\"colorbar\":{\"outlinewidth\":0,\"ticks\":\"\"}}}],\"bar\":[{\"error_x\":{\"color\":\"#2a3f5f\"},\"error_y\":{\"color\":\"#2a3f5f\"},\"marker\":{\"line\":{\"color\":\"#E5ECF6\",\"width\":0.5},\"pattern\":{\"fillmode\":\"overlay\",\"size\":10,\"solidity\":0.2}},\"type\":\"bar\"}],\"scattergeo\":[{\"type\":\"scattergeo\",\"marker\":{\"colorbar\":{\"outlinewidth\":0,\"ticks\":\"\"}}}],\"scatterpolar\":[{\"type\":\"scatterpolar\",\"marker\":{\"colorbar\":{\"outlinewidth\":0,\"ticks\":\"\"}}}],\"histogram\":[{\"marker\":{\"pattern\":{\"fillmode\":\"overlay\",\"size\":10,\"solidity\":0.2}},\"type\":\"histogram\"}],\"scattergl\":[{\"type\":\"scattergl\",\"marker\":{\"colorbar\":{\"outlinewidth\":0,\"ticks\":\"\"}}}],\"scatter3d\":[{\"type\":\"scatter3d\",\"line\":{\"colorbar\":{\"outlinewidth\":0,\"ticks\":\"\"}},\"marker\":{\"colorbar\":{\"outlinewidth\":0,\"ticks\":\"\"}}}],\"scattermapbox\":[{\"type\":\"scattermapbox\",\"marker\":{\"colorbar\":{\"outlinewidth\":0,\"ticks\":\"\"}}}],\"scatterternary\":[{\"type\":\"scatterternary\",\"marker\":{\"colorbar\":{\"outlinewidth\":0,\"ticks\":\"\"}}}],\"scattercarpet\":[{\"type\":\"scattercarpet\",\"marker\":{\"colorbar\":{\"outlinewidth\":0,\"ticks\":\"\"}}}],\"carpet\":[{\"aaxis\":{\"endlinecolor\":\"#2a3f5f\",\"gridcolor\":\"white\",\"linecolor\":\"white\",\"minorgridcolor\":\"white\",\"startlinecolor\":\"#2a3f5f\"},\"baxis\":{\"endlinecolor\":\"#2a3f5f\",\"gridcolor\":\"white\",\"linecolor\":\"white\",\"minorgridcolor\":\"white\",\"startlinecolor\":\"#2a3f5f\"},\"type\":\"carpet\"}],\"table\":[{\"cells\":{\"fill\":{\"color\":\"#EBF0F8\"},\"line\":{\"color\":\"white\"}},\"header\":{\"fill\":{\"color\":\"#C8D4E3\"},\"line\":{\"color\":\"white\"}},\"type\":\"table\"}],\"barpolar\":[{\"marker\":{\"line\":{\"color\":\"#E5ECF6\",\"width\":0.5},\"pattern\":{\"fillmode\":\"overlay\",\"size\":10,\"solidity\":0.2}},\"type\":\"barpolar\"}],\"pie\":[{\"automargin\":true,\"type\":\"pie\"}]},\"layout\":{\"autotypenumbers\":\"strict\",\"colorway\":[\"#636efa\",\"#EF553B\",\"#00cc96\",\"#ab63fa\",\"#FFA15A\",\"#19d3f3\",\"#FF6692\",\"#B6E880\",\"#FF97FF\",\"#FECB52\"],\"font\":{\"color\":\"#2a3f5f\"},\"hovermode\":\"closest\",\"hoverlabel\":{\"align\":\"left\"},\"paper_bgcolor\":\"white\",\"plot_bgcolor\":\"#E5ECF6\",\"polar\":{\"bgcolor\":\"#E5ECF6\",\"angularaxis\":{\"gridcolor\":\"white\",\"linecolor\":\"white\",\"ticks\":\"\"},\"radialaxis\":{\"gridcolor\":\"white\",\"linecolor\":\"white\",\"ticks\":\"\"}},\"ternary\":{\"bgcolor\":\"#E5ECF6\",\"aaxis\":{\"gridcolor\":\"white\",\"linecolor\":\"white\",\"ticks\":\"\"},\"baxis\":{\"gridcolor\":\"white\",\"linecolor\":\"white\",\"ticks\":\"\"},\"caxis\":{\"gridcolor\":\"white\",\"linecolor\":\"white\",\"ticks\":\"\"}},\"coloraxis\":{\"colorbar\":{\"outlinewidth\":0,\"ticks\":\"\"}},\"colorscale\":{\"sequential\":[[0.0,\"#0d0887\"],[0.1111111111111111,\"#46039f\"],[0.2222222222222222,\"#7201a8\"],[0.3333333333333333,\"#9c179e\"],[0.4444444444444444,\"#bd3786\"],[0.5555555555555556,\"#d8576b\"],[0.6666666666666666,\"#ed7953\"],[0.7777777777777778,\"#fb9f3a\"],[0.8888888888888888,\"#fdca26\"],[1.0,\"#f0f921\"]],\"sequentialminus\":[[0.0,\"#0d0887\"],[0.1111111111111111,\"#46039f\"],[0.2222222222222222,\"#7201a8\"],[0.3333333333333333,\"#9c179e\"],[0.4444444444444444,\"#bd3786\"],[0.5555555555555556,\"#d8576b\"],[0.6666666666666666,\"#ed7953\"],[0.7777777777777778,\"#fb9f3a\"],[0.8888888888888888,\"#fdca26\"],[1.0,\"#f0f921\"]],\"diverging\":[[0,\"#8e0152\"],[0.1,\"#c51b7d\"],[0.2,\"#de77ae\"],[0.3,\"#f1b6da\"],[0.4,\"#fde0ef\"],[0.5,\"#f7f7f7\"],[0.6,\"#e6f5d0\"],[0.7,\"#b8e186\"],[0.8,\"#7fbc41\"],[0.9,\"#4d9221\"],[1,\"#276419\"]]},\"xaxis\":{\"gridcolor\":\"white\",\"linecolor\":\"white\",\"ticks\":\"\",\"title\":{\"standoff\":15},\"zerolinecolor\":\"white\",\"automargin\":true,\"zerolinewidth\":2},\"yaxis\":{\"gridcolor\":\"white\",\"linecolor\":\"white\",\"ticks\":\"\",\"title\":{\"standoff\":15},\"zerolinecolor\":\"white\",\"automargin\":true,\"zerolinewidth\":2},\"scene\":{\"xaxis\":{\"backgroundcolor\":\"#E5ECF6\",\"gridcolor\":\"white\",\"linecolor\":\"white\",\"showbackground\":true,\"ticks\":\"\",\"zerolinecolor\":\"white\",\"gridwidth\":2},\"yaxis\":{\"backgroundcolor\":\"#E5ECF6\",\"gridcolor\":\"white\",\"linecolor\":\"white\",\"showbackground\":true,\"ticks\":\"\",\"zerolinecolor\":\"white\",\"gridwidth\":2},\"zaxis\":{\"backgroundcolor\":\"#E5ECF6\",\"gridcolor\":\"white\",\"linecolor\":\"white\",\"showbackground\":true,\"ticks\":\"\",\"zerolinecolor\":\"white\",\"gridwidth\":2}},\"shapedefaults\":{\"line\":{\"color\":\"#2a3f5f\"}},\"annotationdefaults\":{\"arrowcolor\":\"#2a3f5f\",\"arrowhead\":0,\"arrowwidth\":1},\"geo\":{\"bgcolor\":\"white\",\"landcolor\":\"#E5ECF6\",\"subunitcolor\":\"white\",\"showland\":true,\"showlakes\":true,\"lakecolor\":\"white\"},\"title\":{\"x\":0.05},\"mapbox\":{\"style\":\"light\"}}},\"xaxis\":{\"anchor\":\"y\",\"domain\":[0.0,1.0],\"scaleanchor\":\"y\",\"constrain\":\"domain\",\"title\":{\"text\":\"Predicted observation\"},\"tickmode\":\"array\",\"tickvals\":[0,1,2,3],\"ticktext\":[\"Class 0\",\"Class 1\",\"Class 2\",\"Class 3\"]},\"yaxis\":{\"anchor\":\"x\",\"domain\":[0.0,1.0],\"autorange\":\"reversed\",\"constrain\":\"domain\",\"title\":{\"text\":\"Expected observation\"},\"tickmode\":\"array\",\"tickvals\":[0,1,2,3],\"ticktext\":[\"Class 0\",\"Class 1\",\"Class 2\",\"Class 3\"]},\"coloraxis\":{\"colorscale\":[[0.0,\"#0d0887\"],[0.1111111111111111,\"#46039f\"],[0.2222222222222222,\"#7201a8\"],[0.3333333333333333,\"#9c179e\"],[0.4444444444444444,\"#bd3786\"],[0.5555555555555556,\"#d8576b\"],[0.6666666666666666,\"#ed7953\"],[0.7777777777777778,\"#fb9f3a\"],[0.8888888888888888,\"#fdca26\"],[1.0,\"#f0f921\"]]},\"margin\":{\"t\":60},\"title\":{\"text\":\"Confusion matrix-Cycle3, number of samples\"},\"width\":700,\"height\":700},                        {\"responsive\": true}                    ).then(function(){\n",
              "                            \n",
              "var gd = document.getElementById('6943bbdb-c724-4d4c-9334-f94ee6276540');\n",
              "var x = new MutationObserver(function (mutations, observer) {{\n",
              "        var display = window.getComputedStyle(gd).display;\n",
              "        if (!display || display === 'none') {{\n",
              "            console.log([gd, 'removed!']);\n",
              "            Plotly.purge(gd);\n",
              "            observer.disconnect();\n",
              "        }}\n",
              "}});\n",
              "\n",
              "// Listen for the removal of the full notebook cells\n",
              "var notebookContainer = gd.closest('#notebook-container');\n",
              "if (notebookContainer) {{\n",
              "    x.observe(notebookContainer, {childList: true});\n",
              "}}\n",
              "\n",
              "// Listen for the clearing of the current output cell\n",
              "var outputEl = gd.closest('.output');\n",
              "if (outputEl) {{\n",
              "    x.observe(outputEl, {childList: true});\n",
              "}}\n",
              "\n",
              "                        })                };                            </script>        </div>\n",
              "</body>\n",
              "</html>"
            ]
          },
          "metadata": {}
        },
        {
          "output_type": "display_data",
          "data": {
            "text/html": [
              "<html>\n",
              "<head><meta charset=\"utf-8\" /></head>\n",
              "<body>\n",
              "    <div>            <script src=\"https://cdnjs.cloudflare.com/ajax/libs/mathjax/2.7.5/MathJax.js?config=TeX-AMS-MML_SVG\"></script><script type=\"text/javascript\">if (window.MathJax && window.MathJax.Hub && window.MathJax.Hub.Config) {window.MathJax.Hub.Config({SVG: {font: \"STIX-Web\"}});}</script>                <script type=\"text/javascript\">window.PlotlyConfig = {MathJaxConfig: 'local'};</script>\n",
              "        <script src=\"https://cdn.plot.ly/plotly-2.18.2.min.js\"></script>                <div id=\"ab4c185b-8324-4758-b4fd-177e4b8637e7\" class=\"plotly-graph-div\" style=\"height:700px; width:700px;\"></div>            <script type=\"text/javascript\">                                    window.PLOTLYENV=window.PLOTLYENV || {};                                    if (document.getElementById(\"ab4c185b-8324-4758-b4fd-177e4b8637e7\")) {                    Plotly.newPlot(                        \"ab4c185b-8324-4758-b4fd-177e4b8637e7\",                        [{\"coloraxis\":\"coloraxis\",\"name\":\"0\",\"texttemplate\":\"%{z}\",\"z\":[[0.93,0.025,0.039,0.031],[0.052,0.866,0.028,0.067],[0.004,0.002,0.961,0.009],[0.046,0.025,0.033,0.915]],\"type\":\"heatmap\",\"xaxis\":\"x\",\"yaxis\":\"y\",\"hovertemplate\":\"x: %{x}<br>y: %{y}<br>color: %{z}<extra></extra>\"}],                        {\"template\":{\"data\":{\"histogram2dcontour\":[{\"type\":\"histogram2dcontour\",\"colorbar\":{\"outlinewidth\":0,\"ticks\":\"\"},\"colorscale\":[[0.0,\"#0d0887\"],[0.1111111111111111,\"#46039f\"],[0.2222222222222222,\"#7201a8\"],[0.3333333333333333,\"#9c179e\"],[0.4444444444444444,\"#bd3786\"],[0.5555555555555556,\"#d8576b\"],[0.6666666666666666,\"#ed7953\"],[0.7777777777777778,\"#fb9f3a\"],[0.8888888888888888,\"#fdca26\"],[1.0,\"#f0f921\"]]}],\"choropleth\":[{\"type\":\"choropleth\",\"colorbar\":{\"outlinewidth\":0,\"ticks\":\"\"}}],\"histogram2d\":[{\"type\":\"histogram2d\",\"colorbar\":{\"outlinewidth\":0,\"ticks\":\"\"},\"colorscale\":[[0.0,\"#0d0887\"],[0.1111111111111111,\"#46039f\"],[0.2222222222222222,\"#7201a8\"],[0.3333333333333333,\"#9c179e\"],[0.4444444444444444,\"#bd3786\"],[0.5555555555555556,\"#d8576b\"],[0.6666666666666666,\"#ed7953\"],[0.7777777777777778,\"#fb9f3a\"],[0.8888888888888888,\"#fdca26\"],[1.0,\"#f0f921\"]]}],\"heatmap\":[{\"type\":\"heatmap\",\"colorbar\":{\"outlinewidth\":0,\"ticks\":\"\"},\"colorscale\":[[0.0,\"#0d0887\"],[0.1111111111111111,\"#46039f\"],[0.2222222222222222,\"#7201a8\"],[0.3333333333333333,\"#9c179e\"],[0.4444444444444444,\"#bd3786\"],[0.5555555555555556,\"#d8576b\"],[0.6666666666666666,\"#ed7953\"],[0.7777777777777778,\"#fb9f3a\"],[0.8888888888888888,\"#fdca26\"],[1.0,\"#f0f921\"]]}],\"heatmapgl\":[{\"type\":\"heatmapgl\",\"colorbar\":{\"outlinewidth\":0,\"ticks\":\"\"},\"colorscale\":[[0.0,\"#0d0887\"],[0.1111111111111111,\"#46039f\"],[0.2222222222222222,\"#7201a8\"],[0.3333333333333333,\"#9c179e\"],[0.4444444444444444,\"#bd3786\"],[0.5555555555555556,\"#d8576b\"],[0.6666666666666666,\"#ed7953\"],[0.7777777777777778,\"#fb9f3a\"],[0.8888888888888888,\"#fdca26\"],[1.0,\"#f0f921\"]]}],\"contourcarpet\":[{\"type\":\"contourcarpet\",\"colorbar\":{\"outlinewidth\":0,\"ticks\":\"\"}}],\"contour\":[{\"type\":\"contour\",\"colorbar\":{\"outlinewidth\":0,\"ticks\":\"\"},\"colorscale\":[[0.0,\"#0d0887\"],[0.1111111111111111,\"#46039f\"],[0.2222222222222222,\"#7201a8\"],[0.3333333333333333,\"#9c179e\"],[0.4444444444444444,\"#bd3786\"],[0.5555555555555556,\"#d8576b\"],[0.6666666666666666,\"#ed7953\"],[0.7777777777777778,\"#fb9f3a\"],[0.8888888888888888,\"#fdca26\"],[1.0,\"#f0f921\"]]}],\"surface\":[{\"type\":\"surface\",\"colorbar\":{\"outlinewidth\":0,\"ticks\":\"\"},\"colorscale\":[[0.0,\"#0d0887\"],[0.1111111111111111,\"#46039f\"],[0.2222222222222222,\"#7201a8\"],[0.3333333333333333,\"#9c179e\"],[0.4444444444444444,\"#bd3786\"],[0.5555555555555556,\"#d8576b\"],[0.6666666666666666,\"#ed7953\"],[0.7777777777777778,\"#fb9f3a\"],[0.8888888888888888,\"#fdca26\"],[1.0,\"#f0f921\"]]}],\"mesh3d\":[{\"type\":\"mesh3d\",\"colorbar\":{\"outlinewidth\":0,\"ticks\":\"\"}}],\"scatter\":[{\"fillpattern\":{\"fillmode\":\"overlay\",\"size\":10,\"solidity\":0.2},\"type\":\"scatter\"}],\"parcoords\":[{\"type\":\"parcoords\",\"line\":{\"colorbar\":{\"outlinewidth\":0,\"ticks\":\"\"}}}],\"scatterpolargl\":[{\"type\":\"scatterpolargl\",\"marker\":{\"colorbar\":{\"outlinewidth\":0,\"ticks\":\"\"}}}],\"bar\":[{\"error_x\":{\"color\":\"#2a3f5f\"},\"error_y\":{\"color\":\"#2a3f5f\"},\"marker\":{\"line\":{\"color\":\"#E5ECF6\",\"width\":0.5},\"pattern\":{\"fillmode\":\"overlay\",\"size\":10,\"solidity\":0.2}},\"type\":\"bar\"}],\"scattergeo\":[{\"type\":\"scattergeo\",\"marker\":{\"colorbar\":{\"outlinewidth\":0,\"ticks\":\"\"}}}],\"scatterpolar\":[{\"type\":\"scatterpolar\",\"marker\":{\"colorbar\":{\"outlinewidth\":0,\"ticks\":\"\"}}}],\"histogram\":[{\"marker\":{\"pattern\":{\"fillmode\":\"overlay\",\"size\":10,\"solidity\":0.2}},\"type\":\"histogram\"}],\"scattergl\":[{\"type\":\"scattergl\",\"marker\":{\"colorbar\":{\"outlinewidth\":0,\"ticks\":\"\"}}}],\"scatter3d\":[{\"type\":\"scatter3d\",\"line\":{\"colorbar\":{\"outlinewidth\":0,\"ticks\":\"\"}},\"marker\":{\"colorbar\":{\"outlinewidth\":0,\"ticks\":\"\"}}}],\"scattermapbox\":[{\"type\":\"scattermapbox\",\"marker\":{\"colorbar\":{\"outlinewidth\":0,\"ticks\":\"\"}}}],\"scatterternary\":[{\"type\":\"scatterternary\",\"marker\":{\"colorbar\":{\"outlinewidth\":0,\"ticks\":\"\"}}}],\"scattercarpet\":[{\"type\":\"scattercarpet\",\"marker\":{\"colorbar\":{\"outlinewidth\":0,\"ticks\":\"\"}}}],\"carpet\":[{\"aaxis\":{\"endlinecolor\":\"#2a3f5f\",\"gridcolor\":\"white\",\"linecolor\":\"white\",\"minorgridcolor\":\"white\",\"startlinecolor\":\"#2a3f5f\"},\"baxis\":{\"endlinecolor\":\"#2a3f5f\",\"gridcolor\":\"white\",\"linecolor\":\"white\",\"minorgridcolor\":\"white\",\"startlinecolor\":\"#2a3f5f\"},\"type\":\"carpet\"}],\"table\":[{\"cells\":{\"fill\":{\"color\":\"#EBF0F8\"},\"line\":{\"color\":\"white\"}},\"header\":{\"fill\":{\"color\":\"#C8D4E3\"},\"line\":{\"color\":\"white\"}},\"type\":\"table\"}],\"barpolar\":[{\"marker\":{\"line\":{\"color\":\"#E5ECF6\",\"width\":0.5},\"pattern\":{\"fillmode\":\"overlay\",\"size\":10,\"solidity\":0.2}},\"type\":\"barpolar\"}],\"pie\":[{\"automargin\":true,\"type\":\"pie\"}]},\"layout\":{\"autotypenumbers\":\"strict\",\"colorway\":[\"#636efa\",\"#EF553B\",\"#00cc96\",\"#ab63fa\",\"#FFA15A\",\"#19d3f3\",\"#FF6692\",\"#B6E880\",\"#FF97FF\",\"#FECB52\"],\"font\":{\"color\":\"#2a3f5f\"},\"hovermode\":\"closest\",\"hoverlabel\":{\"align\":\"left\"},\"paper_bgcolor\":\"white\",\"plot_bgcolor\":\"#E5ECF6\",\"polar\":{\"bgcolor\":\"#E5ECF6\",\"angularaxis\":{\"gridcolor\":\"white\",\"linecolor\":\"white\",\"ticks\":\"\"},\"radialaxis\":{\"gridcolor\":\"white\",\"linecolor\":\"white\",\"ticks\":\"\"}},\"ternary\":{\"bgcolor\":\"#E5ECF6\",\"aaxis\":{\"gridcolor\":\"white\",\"linecolor\":\"white\",\"ticks\":\"\"},\"baxis\":{\"gridcolor\":\"white\",\"linecolor\":\"white\",\"ticks\":\"\"},\"caxis\":{\"gridcolor\":\"white\",\"linecolor\":\"white\",\"ticks\":\"\"}},\"coloraxis\":{\"colorbar\":{\"outlinewidth\":0,\"ticks\":\"\"}},\"colorscale\":{\"sequential\":[[0.0,\"#0d0887\"],[0.1111111111111111,\"#46039f\"],[0.2222222222222222,\"#7201a8\"],[0.3333333333333333,\"#9c179e\"],[0.4444444444444444,\"#bd3786\"],[0.5555555555555556,\"#d8576b\"],[0.6666666666666666,\"#ed7953\"],[0.7777777777777778,\"#fb9f3a\"],[0.8888888888888888,\"#fdca26\"],[1.0,\"#f0f921\"]],\"sequentialminus\":[[0.0,\"#0d0887\"],[0.1111111111111111,\"#46039f\"],[0.2222222222222222,\"#7201a8\"],[0.3333333333333333,\"#9c179e\"],[0.4444444444444444,\"#bd3786\"],[0.5555555555555556,\"#d8576b\"],[0.6666666666666666,\"#ed7953\"],[0.7777777777777778,\"#fb9f3a\"],[0.8888888888888888,\"#fdca26\"],[1.0,\"#f0f921\"]],\"diverging\":[[0,\"#8e0152\"],[0.1,\"#c51b7d\"],[0.2,\"#de77ae\"],[0.3,\"#f1b6da\"],[0.4,\"#fde0ef\"],[0.5,\"#f7f7f7\"],[0.6,\"#e6f5d0\"],[0.7,\"#b8e186\"],[0.8,\"#7fbc41\"],[0.9,\"#4d9221\"],[1,\"#276419\"]]},\"xaxis\":{\"gridcolor\":\"white\",\"linecolor\":\"white\",\"ticks\":\"\",\"title\":{\"standoff\":15},\"zerolinecolor\":\"white\",\"automargin\":true,\"zerolinewidth\":2},\"yaxis\":{\"gridcolor\":\"white\",\"linecolor\":\"white\",\"ticks\":\"\",\"title\":{\"standoff\":15},\"zerolinecolor\":\"white\",\"automargin\":true,\"zerolinewidth\":2},\"scene\":{\"xaxis\":{\"backgroundcolor\":\"#E5ECF6\",\"gridcolor\":\"white\",\"linecolor\":\"white\",\"showbackground\":true,\"ticks\":\"\",\"zerolinecolor\":\"white\",\"gridwidth\":2},\"yaxis\":{\"backgroundcolor\":\"#E5ECF6\",\"gridcolor\":\"white\",\"linecolor\":\"white\",\"showbackground\":true,\"ticks\":\"\",\"zerolinecolor\":\"white\",\"gridwidth\":2},\"zaxis\":{\"backgroundcolor\":\"#E5ECF6\",\"gridcolor\":\"white\",\"linecolor\":\"white\",\"showbackground\":true,\"ticks\":\"\",\"zerolinecolor\":\"white\",\"gridwidth\":2}},\"shapedefaults\":{\"line\":{\"color\":\"#2a3f5f\"}},\"annotationdefaults\":{\"arrowcolor\":\"#2a3f5f\",\"arrowhead\":0,\"arrowwidth\":1},\"geo\":{\"bgcolor\":\"white\",\"landcolor\":\"#E5ECF6\",\"subunitcolor\":\"white\",\"showland\":true,\"showlakes\":true,\"lakecolor\":\"white\"},\"title\":{\"x\":0.05},\"mapbox\":{\"style\":\"light\"}}},\"xaxis\":{\"anchor\":\"y\",\"domain\":[0.0,1.0],\"scaleanchor\":\"y\",\"constrain\":\"domain\",\"title\":{\"text\":\"Predicted observation\"},\"tickmode\":\"array\",\"tickvals\":[0,1,2,3],\"ticktext\":[\"Class 0\",\"Class 1\",\"Class 2\",\"Class 3\"]},\"yaxis\":{\"anchor\":\"x\",\"domain\":[0.0,1.0],\"autorange\":\"reversed\",\"constrain\":\"domain\",\"title\":{\"text\":\"Expected observation\"},\"tickmode\":\"array\",\"tickvals\":[0,1,2,3],\"ticktext\":[\"Class 0\",\"Class 1\",\"Class 2\",\"Class 3\"]},\"coloraxis\":{\"colorscale\":[[0.0,\"#0d0887\"],[0.1111111111111111,\"#46039f\"],[0.2222222222222222,\"#7201a8\"],[0.3333333333333333,\"#9c179e\"],[0.4444444444444444,\"#bd3786\"],[0.5555555555555556,\"#d8576b\"],[0.6666666666666666,\"#ed7953\"],[0.7777777777777778,\"#fb9f3a\"],[0.8888888888888888,\"#fdca26\"],[1.0,\"#f0f921\"]]},\"margin\":{\"t\":60},\"title\":{\"text\":\"Confusion matrix-Cycle3, percentage\"},\"width\":700,\"height\":700},                        {\"responsive\": true}                    ).then(function(){\n",
              "                            \n",
              "var gd = document.getElementById('ab4c185b-8324-4758-b4fd-177e4b8637e7');\n",
              "var x = new MutationObserver(function (mutations, observer) {{\n",
              "        var display = window.getComputedStyle(gd).display;\n",
              "        if (!display || display === 'none') {{\n",
              "            console.log([gd, 'removed!']);\n",
              "            Plotly.purge(gd);\n",
              "            observer.disconnect();\n",
              "        }}\n",
              "}});\n",
              "\n",
              "// Listen for the removal of the full notebook cells\n",
              "var notebookContainer = gd.closest('#notebook-container');\n",
              "if (notebookContainer) {{\n",
              "    x.observe(notebookContainer, {childList: true});\n",
              "}}\n",
              "\n",
              "// Listen for the clearing of the current output cell\n",
              "var outputEl = gd.closest('.output');\n",
              "if (outputEl) {{\n",
              "    x.observe(outputEl, {childList: true});\n",
              "}}\n",
              "\n",
              "                        })                };                            </script>        </div>\n",
              "</body>\n",
              "</html>"
            ]
          },
          "metadata": {}
        },
        {
          "output_type": "display_data",
          "data": {
            "text/html": [
              "<html>\n",
              "<head><meta charset=\"utf-8\" /></head>\n",
              "<body>\n",
              "    <div>            <script src=\"https://cdnjs.cloudflare.com/ajax/libs/mathjax/2.7.5/MathJax.js?config=TeX-AMS-MML_SVG\"></script><script type=\"text/javascript\">if (window.MathJax && window.MathJax.Hub && window.MathJax.Hub.Config) {window.MathJax.Hub.Config({SVG: {font: \"STIX-Web\"}});}</script>                <script type=\"text/javascript\">window.PlotlyConfig = {MathJaxConfig: 'local'};</script>\n",
              "        <script src=\"https://cdn.plot.ly/plotly-2.18.2.min.js\"></script>                <div id=\"84239a40-9dc7-46e8-8a0a-55f7389f4f0d\" class=\"plotly-graph-div\" style=\"height:700px; width:700px;\"></div>            <script type=\"text/javascript\">                                    window.PLOTLYENV=window.PLOTLYENV || {};                                    if (document.getElementById(\"84239a40-9dc7-46e8-8a0a-55f7389f4f0d\")) {                    Plotly.newPlot(                        \"84239a40-9dc7-46e8-8a0a-55f7389f4f0d\",                        [{\"coloraxis\":\"coloraxis\",\"name\":\"0\",\"texttemplate\":\"%{z}\",\"z\":[[400,19,3,15],[21,401,3,27],[1,2,181,5],[34,13,4,398]],\"type\":\"heatmap\",\"xaxis\":\"x\",\"yaxis\":\"y\",\"hovertemplate\":\"x: %{x}<br>y: %{y}<br>color: %{z}<extra></extra>\"}],                        {\"template\":{\"data\":{\"histogram2dcontour\":[{\"type\":\"histogram2dcontour\",\"colorbar\":{\"outlinewidth\":0,\"ticks\":\"\"},\"colorscale\":[[0.0,\"#0d0887\"],[0.1111111111111111,\"#46039f\"],[0.2222222222222222,\"#7201a8\"],[0.3333333333333333,\"#9c179e\"],[0.4444444444444444,\"#bd3786\"],[0.5555555555555556,\"#d8576b\"],[0.6666666666666666,\"#ed7953\"],[0.7777777777777778,\"#fb9f3a\"],[0.8888888888888888,\"#fdca26\"],[1.0,\"#f0f921\"]]}],\"choropleth\":[{\"type\":\"choropleth\",\"colorbar\":{\"outlinewidth\":0,\"ticks\":\"\"}}],\"histogram2d\":[{\"type\":\"histogram2d\",\"colorbar\":{\"outlinewidth\":0,\"ticks\":\"\"},\"colorscale\":[[0.0,\"#0d0887\"],[0.1111111111111111,\"#46039f\"],[0.2222222222222222,\"#7201a8\"],[0.3333333333333333,\"#9c179e\"],[0.4444444444444444,\"#bd3786\"],[0.5555555555555556,\"#d8576b\"],[0.6666666666666666,\"#ed7953\"],[0.7777777777777778,\"#fb9f3a\"],[0.8888888888888888,\"#fdca26\"],[1.0,\"#f0f921\"]]}],\"heatmap\":[{\"type\":\"heatmap\",\"colorbar\":{\"outlinewidth\":0,\"ticks\":\"\"},\"colorscale\":[[0.0,\"#0d0887\"],[0.1111111111111111,\"#46039f\"],[0.2222222222222222,\"#7201a8\"],[0.3333333333333333,\"#9c179e\"],[0.4444444444444444,\"#bd3786\"],[0.5555555555555556,\"#d8576b\"],[0.6666666666666666,\"#ed7953\"],[0.7777777777777778,\"#fb9f3a\"],[0.8888888888888888,\"#fdca26\"],[1.0,\"#f0f921\"]]}],\"heatmapgl\":[{\"type\":\"heatmapgl\",\"colorbar\":{\"outlinewidth\":0,\"ticks\":\"\"},\"colorscale\":[[0.0,\"#0d0887\"],[0.1111111111111111,\"#46039f\"],[0.2222222222222222,\"#7201a8\"],[0.3333333333333333,\"#9c179e\"],[0.4444444444444444,\"#bd3786\"],[0.5555555555555556,\"#d8576b\"],[0.6666666666666666,\"#ed7953\"],[0.7777777777777778,\"#fb9f3a\"],[0.8888888888888888,\"#fdca26\"],[1.0,\"#f0f921\"]]}],\"contourcarpet\":[{\"type\":\"contourcarpet\",\"colorbar\":{\"outlinewidth\":0,\"ticks\":\"\"}}],\"contour\":[{\"type\":\"contour\",\"colorbar\":{\"outlinewidth\":0,\"ticks\":\"\"},\"colorscale\":[[0.0,\"#0d0887\"],[0.1111111111111111,\"#46039f\"],[0.2222222222222222,\"#7201a8\"],[0.3333333333333333,\"#9c179e\"],[0.4444444444444444,\"#bd3786\"],[0.5555555555555556,\"#d8576b\"],[0.6666666666666666,\"#ed7953\"],[0.7777777777777778,\"#fb9f3a\"],[0.8888888888888888,\"#fdca26\"],[1.0,\"#f0f921\"]]}],\"surface\":[{\"type\":\"surface\",\"colorbar\":{\"outlinewidth\":0,\"ticks\":\"\"},\"colorscale\":[[0.0,\"#0d0887\"],[0.1111111111111111,\"#46039f\"],[0.2222222222222222,\"#7201a8\"],[0.3333333333333333,\"#9c179e\"],[0.4444444444444444,\"#bd3786\"],[0.5555555555555556,\"#d8576b\"],[0.6666666666666666,\"#ed7953\"],[0.7777777777777778,\"#fb9f3a\"],[0.8888888888888888,\"#fdca26\"],[1.0,\"#f0f921\"]]}],\"mesh3d\":[{\"type\":\"mesh3d\",\"colorbar\":{\"outlinewidth\":0,\"ticks\":\"\"}}],\"scatter\":[{\"fillpattern\":{\"fillmode\":\"overlay\",\"size\":10,\"solidity\":0.2},\"type\":\"scatter\"}],\"parcoords\":[{\"type\":\"parcoords\",\"line\":{\"colorbar\":{\"outlinewidth\":0,\"ticks\":\"\"}}}],\"scatterpolargl\":[{\"type\":\"scatterpolargl\",\"marker\":{\"colorbar\":{\"outlinewidth\":0,\"ticks\":\"\"}}}],\"bar\":[{\"error_x\":{\"color\":\"#2a3f5f\"},\"error_y\":{\"color\":\"#2a3f5f\"},\"marker\":{\"line\":{\"color\":\"#E5ECF6\",\"width\":0.5},\"pattern\":{\"fillmode\":\"overlay\",\"size\":10,\"solidity\":0.2}},\"type\":\"bar\"}],\"scattergeo\":[{\"type\":\"scattergeo\",\"marker\":{\"colorbar\":{\"outlinewidth\":0,\"ticks\":\"\"}}}],\"scatterpolar\":[{\"type\":\"scatterpolar\",\"marker\":{\"colorbar\":{\"outlinewidth\":0,\"ticks\":\"\"}}}],\"histogram\":[{\"marker\":{\"pattern\":{\"fillmode\":\"overlay\",\"size\":10,\"solidity\":0.2}},\"type\":\"histogram\"}],\"scattergl\":[{\"type\":\"scattergl\",\"marker\":{\"colorbar\":{\"outlinewidth\":0,\"ticks\":\"\"}}}],\"scatter3d\":[{\"type\":\"scatter3d\",\"line\":{\"colorbar\":{\"outlinewidth\":0,\"ticks\":\"\"}},\"marker\":{\"colorbar\":{\"outlinewidth\":0,\"ticks\":\"\"}}}],\"scattermapbox\":[{\"type\":\"scattermapbox\",\"marker\":{\"colorbar\":{\"outlinewidth\":0,\"ticks\":\"\"}}}],\"scatterternary\":[{\"type\":\"scatterternary\",\"marker\":{\"colorbar\":{\"outlinewidth\":0,\"ticks\":\"\"}}}],\"scattercarpet\":[{\"type\":\"scattercarpet\",\"marker\":{\"colorbar\":{\"outlinewidth\":0,\"ticks\":\"\"}}}],\"carpet\":[{\"aaxis\":{\"endlinecolor\":\"#2a3f5f\",\"gridcolor\":\"white\",\"linecolor\":\"white\",\"minorgridcolor\":\"white\",\"startlinecolor\":\"#2a3f5f\"},\"baxis\":{\"endlinecolor\":\"#2a3f5f\",\"gridcolor\":\"white\",\"linecolor\":\"white\",\"minorgridcolor\":\"white\",\"startlinecolor\":\"#2a3f5f\"},\"type\":\"carpet\"}],\"table\":[{\"cells\":{\"fill\":{\"color\":\"#EBF0F8\"},\"line\":{\"color\":\"white\"}},\"header\":{\"fill\":{\"color\":\"#C8D4E3\"},\"line\":{\"color\":\"white\"}},\"type\":\"table\"}],\"barpolar\":[{\"marker\":{\"line\":{\"color\":\"#E5ECF6\",\"width\":0.5},\"pattern\":{\"fillmode\":\"overlay\",\"size\":10,\"solidity\":0.2}},\"type\":\"barpolar\"}],\"pie\":[{\"automargin\":true,\"type\":\"pie\"}]},\"layout\":{\"autotypenumbers\":\"strict\",\"colorway\":[\"#636efa\",\"#EF553B\",\"#00cc96\",\"#ab63fa\",\"#FFA15A\",\"#19d3f3\",\"#FF6692\",\"#B6E880\",\"#FF97FF\",\"#FECB52\"],\"font\":{\"color\":\"#2a3f5f\"},\"hovermode\":\"closest\",\"hoverlabel\":{\"align\":\"left\"},\"paper_bgcolor\":\"white\",\"plot_bgcolor\":\"#E5ECF6\",\"polar\":{\"bgcolor\":\"#E5ECF6\",\"angularaxis\":{\"gridcolor\":\"white\",\"linecolor\":\"white\",\"ticks\":\"\"},\"radialaxis\":{\"gridcolor\":\"white\",\"linecolor\":\"white\",\"ticks\":\"\"}},\"ternary\":{\"bgcolor\":\"#E5ECF6\",\"aaxis\":{\"gridcolor\":\"white\",\"linecolor\":\"white\",\"ticks\":\"\"},\"baxis\":{\"gridcolor\":\"white\",\"linecolor\":\"white\",\"ticks\":\"\"},\"caxis\":{\"gridcolor\":\"white\",\"linecolor\":\"white\",\"ticks\":\"\"}},\"coloraxis\":{\"colorbar\":{\"outlinewidth\":0,\"ticks\":\"\"}},\"colorscale\":{\"sequential\":[[0.0,\"#0d0887\"],[0.1111111111111111,\"#46039f\"],[0.2222222222222222,\"#7201a8\"],[0.3333333333333333,\"#9c179e\"],[0.4444444444444444,\"#bd3786\"],[0.5555555555555556,\"#d8576b\"],[0.6666666666666666,\"#ed7953\"],[0.7777777777777778,\"#fb9f3a\"],[0.8888888888888888,\"#fdca26\"],[1.0,\"#f0f921\"]],\"sequentialminus\":[[0.0,\"#0d0887\"],[0.1111111111111111,\"#46039f\"],[0.2222222222222222,\"#7201a8\"],[0.3333333333333333,\"#9c179e\"],[0.4444444444444444,\"#bd3786\"],[0.5555555555555556,\"#d8576b\"],[0.6666666666666666,\"#ed7953\"],[0.7777777777777778,\"#fb9f3a\"],[0.8888888888888888,\"#fdca26\"],[1.0,\"#f0f921\"]],\"diverging\":[[0,\"#8e0152\"],[0.1,\"#c51b7d\"],[0.2,\"#de77ae\"],[0.3,\"#f1b6da\"],[0.4,\"#fde0ef\"],[0.5,\"#f7f7f7\"],[0.6,\"#e6f5d0\"],[0.7,\"#b8e186\"],[0.8,\"#7fbc41\"],[0.9,\"#4d9221\"],[1,\"#276419\"]]},\"xaxis\":{\"gridcolor\":\"white\",\"linecolor\":\"white\",\"ticks\":\"\",\"title\":{\"standoff\":15},\"zerolinecolor\":\"white\",\"automargin\":true,\"zerolinewidth\":2},\"yaxis\":{\"gridcolor\":\"white\",\"linecolor\":\"white\",\"ticks\":\"\",\"title\":{\"standoff\":15},\"zerolinecolor\":\"white\",\"automargin\":true,\"zerolinewidth\":2},\"scene\":{\"xaxis\":{\"backgroundcolor\":\"#E5ECF6\",\"gridcolor\":\"white\",\"linecolor\":\"white\",\"showbackground\":true,\"ticks\":\"\",\"zerolinecolor\":\"white\",\"gridwidth\":2},\"yaxis\":{\"backgroundcolor\":\"#E5ECF6\",\"gridcolor\":\"white\",\"linecolor\":\"white\",\"showbackground\":true,\"ticks\":\"\",\"zerolinecolor\":\"white\",\"gridwidth\":2},\"zaxis\":{\"backgroundcolor\":\"#E5ECF6\",\"gridcolor\":\"white\",\"linecolor\":\"white\",\"showbackground\":true,\"ticks\":\"\",\"zerolinecolor\":\"white\",\"gridwidth\":2}},\"shapedefaults\":{\"line\":{\"color\":\"#2a3f5f\"}},\"annotationdefaults\":{\"arrowcolor\":\"#2a3f5f\",\"arrowhead\":0,\"arrowwidth\":1},\"geo\":{\"bgcolor\":\"white\",\"landcolor\":\"#E5ECF6\",\"subunitcolor\":\"white\",\"showland\":true,\"showlakes\":true,\"lakecolor\":\"white\"},\"title\":{\"x\":0.05},\"mapbox\":{\"style\":\"light\"}}},\"xaxis\":{\"anchor\":\"y\",\"domain\":[0.0,1.0],\"scaleanchor\":\"y\",\"constrain\":\"domain\",\"title\":{\"text\":\"Predicted observation\"},\"tickmode\":\"array\",\"tickvals\":[0,1,2,3],\"ticktext\":[\"Class 0\",\"Class 1\",\"Class 2\",\"Class 3\"]},\"yaxis\":{\"anchor\":\"x\",\"domain\":[0.0,1.0],\"autorange\":\"reversed\",\"constrain\":\"domain\",\"title\":{\"text\":\"Expected observation\"},\"tickmode\":\"array\",\"tickvals\":[0,1,2,3],\"ticktext\":[\"Class 0\",\"Class 1\",\"Class 2\",\"Class 3\"]},\"coloraxis\":{\"colorscale\":[[0.0,\"#0d0887\"],[0.1111111111111111,\"#46039f\"],[0.2222222222222222,\"#7201a8\"],[0.3333333333333333,\"#9c179e\"],[0.4444444444444444,\"#bd3786\"],[0.5555555555555556,\"#d8576b\"],[0.6666666666666666,\"#ed7953\"],[0.7777777777777778,\"#fb9f3a\"],[0.8888888888888888,\"#fdca26\"],[1.0,\"#f0f921\"]]},\"margin\":{\"t\":60},\"title\":{\"text\":\"Confusion matrix-Cycle4, number of samples\"},\"width\":700,\"height\":700},                        {\"responsive\": true}                    ).then(function(){\n",
              "                            \n",
              "var gd = document.getElementById('84239a40-9dc7-46e8-8a0a-55f7389f4f0d');\n",
              "var x = new MutationObserver(function (mutations, observer) {{\n",
              "        var display = window.getComputedStyle(gd).display;\n",
              "        if (!display || display === 'none') {{\n",
              "            console.log([gd, 'removed!']);\n",
              "            Plotly.purge(gd);\n",
              "            observer.disconnect();\n",
              "        }}\n",
              "}});\n",
              "\n",
              "// Listen for the removal of the full notebook cells\n",
              "var notebookContainer = gd.closest('#notebook-container');\n",
              "if (notebookContainer) {{\n",
              "    x.observe(notebookContainer, {childList: true});\n",
              "}}\n",
              "\n",
              "// Listen for the clearing of the current output cell\n",
              "var outputEl = gd.closest('.output');\n",
              "if (outputEl) {{\n",
              "    x.observe(outputEl, {childList: true});\n",
              "}}\n",
              "\n",
              "                        })                };                            </script>        </div>\n",
              "</body>\n",
              "</html>"
            ]
          },
          "metadata": {}
        },
        {
          "output_type": "display_data",
          "data": {
            "text/html": [
              "<html>\n",
              "<head><meta charset=\"utf-8\" /></head>\n",
              "<body>\n",
              "    <div>            <script src=\"https://cdnjs.cloudflare.com/ajax/libs/mathjax/2.7.5/MathJax.js?config=TeX-AMS-MML_SVG\"></script><script type=\"text/javascript\">if (window.MathJax && window.MathJax.Hub && window.MathJax.Hub.Config) {window.MathJax.Hub.Config({SVG: {font: \"STIX-Web\"}});}</script>                <script type=\"text/javascript\">window.PlotlyConfig = {MathJaxConfig: 'local'};</script>\n",
              "        <script src=\"https://cdn.plot.ly/plotly-2.18.2.min.js\"></script>                <div id=\"c1b61272-4bff-460a-8b70-b58dc097d84f\" class=\"plotly-graph-div\" style=\"height:700px; width:700px;\"></div>            <script type=\"text/javascript\">                                    window.PLOTLYENV=window.PLOTLYENV || {};                                    if (document.getElementById(\"c1b61272-4bff-460a-8b70-b58dc097d84f\")) {                    Plotly.newPlot(                        \"c1b61272-4bff-460a-8b70-b58dc097d84f\",                        [{\"coloraxis\":\"coloraxis\",\"name\":\"0\",\"texttemplate\":\"%{z}\",\"z\":[[0.915,0.042,0.016,0.033],[0.048,0.887,0.016,0.06],[0.002,0.004,0.958,0.011],[0.078,0.029,0.021,0.886]],\"type\":\"heatmap\",\"xaxis\":\"x\",\"yaxis\":\"y\",\"hovertemplate\":\"x: %{x}<br>y: %{y}<br>color: %{z}<extra></extra>\"}],                        {\"template\":{\"data\":{\"histogram2dcontour\":[{\"type\":\"histogram2dcontour\",\"colorbar\":{\"outlinewidth\":0,\"ticks\":\"\"},\"colorscale\":[[0.0,\"#0d0887\"],[0.1111111111111111,\"#46039f\"],[0.2222222222222222,\"#7201a8\"],[0.3333333333333333,\"#9c179e\"],[0.4444444444444444,\"#bd3786\"],[0.5555555555555556,\"#d8576b\"],[0.6666666666666666,\"#ed7953\"],[0.7777777777777778,\"#fb9f3a\"],[0.8888888888888888,\"#fdca26\"],[1.0,\"#f0f921\"]]}],\"choropleth\":[{\"type\":\"choropleth\",\"colorbar\":{\"outlinewidth\":0,\"ticks\":\"\"}}],\"histogram2d\":[{\"type\":\"histogram2d\",\"colorbar\":{\"outlinewidth\":0,\"ticks\":\"\"},\"colorscale\":[[0.0,\"#0d0887\"],[0.1111111111111111,\"#46039f\"],[0.2222222222222222,\"#7201a8\"],[0.3333333333333333,\"#9c179e\"],[0.4444444444444444,\"#bd3786\"],[0.5555555555555556,\"#d8576b\"],[0.6666666666666666,\"#ed7953\"],[0.7777777777777778,\"#fb9f3a\"],[0.8888888888888888,\"#fdca26\"],[1.0,\"#f0f921\"]]}],\"heatmap\":[{\"type\":\"heatmap\",\"colorbar\":{\"outlinewidth\":0,\"ticks\":\"\"},\"colorscale\":[[0.0,\"#0d0887\"],[0.1111111111111111,\"#46039f\"],[0.2222222222222222,\"#7201a8\"],[0.3333333333333333,\"#9c179e\"],[0.4444444444444444,\"#bd3786\"],[0.5555555555555556,\"#d8576b\"],[0.6666666666666666,\"#ed7953\"],[0.7777777777777778,\"#fb9f3a\"],[0.8888888888888888,\"#fdca26\"],[1.0,\"#f0f921\"]]}],\"heatmapgl\":[{\"type\":\"heatmapgl\",\"colorbar\":{\"outlinewidth\":0,\"ticks\":\"\"},\"colorscale\":[[0.0,\"#0d0887\"],[0.1111111111111111,\"#46039f\"],[0.2222222222222222,\"#7201a8\"],[0.3333333333333333,\"#9c179e\"],[0.4444444444444444,\"#bd3786\"],[0.5555555555555556,\"#d8576b\"],[0.6666666666666666,\"#ed7953\"],[0.7777777777777778,\"#fb9f3a\"],[0.8888888888888888,\"#fdca26\"],[1.0,\"#f0f921\"]]}],\"contourcarpet\":[{\"type\":\"contourcarpet\",\"colorbar\":{\"outlinewidth\":0,\"ticks\":\"\"}}],\"contour\":[{\"type\":\"contour\",\"colorbar\":{\"outlinewidth\":0,\"ticks\":\"\"},\"colorscale\":[[0.0,\"#0d0887\"],[0.1111111111111111,\"#46039f\"],[0.2222222222222222,\"#7201a8\"],[0.3333333333333333,\"#9c179e\"],[0.4444444444444444,\"#bd3786\"],[0.5555555555555556,\"#d8576b\"],[0.6666666666666666,\"#ed7953\"],[0.7777777777777778,\"#fb9f3a\"],[0.8888888888888888,\"#fdca26\"],[1.0,\"#f0f921\"]]}],\"surface\":[{\"type\":\"surface\",\"colorbar\":{\"outlinewidth\":0,\"ticks\":\"\"},\"colorscale\":[[0.0,\"#0d0887\"],[0.1111111111111111,\"#46039f\"],[0.2222222222222222,\"#7201a8\"],[0.3333333333333333,\"#9c179e\"],[0.4444444444444444,\"#bd3786\"],[0.5555555555555556,\"#d8576b\"],[0.6666666666666666,\"#ed7953\"],[0.7777777777777778,\"#fb9f3a\"],[0.8888888888888888,\"#fdca26\"],[1.0,\"#f0f921\"]]}],\"mesh3d\":[{\"type\":\"mesh3d\",\"colorbar\":{\"outlinewidth\":0,\"ticks\":\"\"}}],\"scatter\":[{\"fillpattern\":{\"fillmode\":\"overlay\",\"size\":10,\"solidity\":0.2},\"type\":\"scatter\"}],\"parcoords\":[{\"type\":\"parcoords\",\"line\":{\"colorbar\":{\"outlinewidth\":0,\"ticks\":\"\"}}}],\"scatterpolargl\":[{\"type\":\"scatterpolargl\",\"marker\":{\"colorbar\":{\"outlinewidth\":0,\"ticks\":\"\"}}}],\"bar\":[{\"error_x\":{\"color\":\"#2a3f5f\"},\"error_y\":{\"color\":\"#2a3f5f\"},\"marker\":{\"line\":{\"color\":\"#E5ECF6\",\"width\":0.5},\"pattern\":{\"fillmode\":\"overlay\",\"size\":10,\"solidity\":0.2}},\"type\":\"bar\"}],\"scattergeo\":[{\"type\":\"scattergeo\",\"marker\":{\"colorbar\":{\"outlinewidth\":0,\"ticks\":\"\"}}}],\"scatterpolar\":[{\"type\":\"scatterpolar\",\"marker\":{\"colorbar\":{\"outlinewidth\":0,\"ticks\":\"\"}}}],\"histogram\":[{\"marker\":{\"pattern\":{\"fillmode\":\"overlay\",\"size\":10,\"solidity\":0.2}},\"type\":\"histogram\"}],\"scattergl\":[{\"type\":\"scattergl\",\"marker\":{\"colorbar\":{\"outlinewidth\":0,\"ticks\":\"\"}}}],\"scatter3d\":[{\"type\":\"scatter3d\",\"line\":{\"colorbar\":{\"outlinewidth\":0,\"ticks\":\"\"}},\"marker\":{\"colorbar\":{\"outlinewidth\":0,\"ticks\":\"\"}}}],\"scattermapbox\":[{\"type\":\"scattermapbox\",\"marker\":{\"colorbar\":{\"outlinewidth\":0,\"ticks\":\"\"}}}],\"scatterternary\":[{\"type\":\"scatterternary\",\"marker\":{\"colorbar\":{\"outlinewidth\":0,\"ticks\":\"\"}}}],\"scattercarpet\":[{\"type\":\"scattercarpet\",\"marker\":{\"colorbar\":{\"outlinewidth\":0,\"ticks\":\"\"}}}],\"carpet\":[{\"aaxis\":{\"endlinecolor\":\"#2a3f5f\",\"gridcolor\":\"white\",\"linecolor\":\"white\",\"minorgridcolor\":\"white\",\"startlinecolor\":\"#2a3f5f\"},\"baxis\":{\"endlinecolor\":\"#2a3f5f\",\"gridcolor\":\"white\",\"linecolor\":\"white\",\"minorgridcolor\":\"white\",\"startlinecolor\":\"#2a3f5f\"},\"type\":\"carpet\"}],\"table\":[{\"cells\":{\"fill\":{\"color\":\"#EBF0F8\"},\"line\":{\"color\":\"white\"}},\"header\":{\"fill\":{\"color\":\"#C8D4E3\"},\"line\":{\"color\":\"white\"}},\"type\":\"table\"}],\"barpolar\":[{\"marker\":{\"line\":{\"color\":\"#E5ECF6\",\"width\":0.5},\"pattern\":{\"fillmode\":\"overlay\",\"size\":10,\"solidity\":0.2}},\"type\":\"barpolar\"}],\"pie\":[{\"automargin\":true,\"type\":\"pie\"}]},\"layout\":{\"autotypenumbers\":\"strict\",\"colorway\":[\"#636efa\",\"#EF553B\",\"#00cc96\",\"#ab63fa\",\"#FFA15A\",\"#19d3f3\",\"#FF6692\",\"#B6E880\",\"#FF97FF\",\"#FECB52\"],\"font\":{\"color\":\"#2a3f5f\"},\"hovermode\":\"closest\",\"hoverlabel\":{\"align\":\"left\"},\"paper_bgcolor\":\"white\",\"plot_bgcolor\":\"#E5ECF6\",\"polar\":{\"bgcolor\":\"#E5ECF6\",\"angularaxis\":{\"gridcolor\":\"white\",\"linecolor\":\"white\",\"ticks\":\"\"},\"radialaxis\":{\"gridcolor\":\"white\",\"linecolor\":\"white\",\"ticks\":\"\"}},\"ternary\":{\"bgcolor\":\"#E5ECF6\",\"aaxis\":{\"gridcolor\":\"white\",\"linecolor\":\"white\",\"ticks\":\"\"},\"baxis\":{\"gridcolor\":\"white\",\"linecolor\":\"white\",\"ticks\":\"\"},\"caxis\":{\"gridcolor\":\"white\",\"linecolor\":\"white\",\"ticks\":\"\"}},\"coloraxis\":{\"colorbar\":{\"outlinewidth\":0,\"ticks\":\"\"}},\"colorscale\":{\"sequential\":[[0.0,\"#0d0887\"],[0.1111111111111111,\"#46039f\"],[0.2222222222222222,\"#7201a8\"],[0.3333333333333333,\"#9c179e\"],[0.4444444444444444,\"#bd3786\"],[0.5555555555555556,\"#d8576b\"],[0.6666666666666666,\"#ed7953\"],[0.7777777777777778,\"#fb9f3a\"],[0.8888888888888888,\"#fdca26\"],[1.0,\"#f0f921\"]],\"sequentialminus\":[[0.0,\"#0d0887\"],[0.1111111111111111,\"#46039f\"],[0.2222222222222222,\"#7201a8\"],[0.3333333333333333,\"#9c179e\"],[0.4444444444444444,\"#bd3786\"],[0.5555555555555556,\"#d8576b\"],[0.6666666666666666,\"#ed7953\"],[0.7777777777777778,\"#fb9f3a\"],[0.8888888888888888,\"#fdca26\"],[1.0,\"#f0f921\"]],\"diverging\":[[0,\"#8e0152\"],[0.1,\"#c51b7d\"],[0.2,\"#de77ae\"],[0.3,\"#f1b6da\"],[0.4,\"#fde0ef\"],[0.5,\"#f7f7f7\"],[0.6,\"#e6f5d0\"],[0.7,\"#b8e186\"],[0.8,\"#7fbc41\"],[0.9,\"#4d9221\"],[1,\"#276419\"]]},\"xaxis\":{\"gridcolor\":\"white\",\"linecolor\":\"white\",\"ticks\":\"\",\"title\":{\"standoff\":15},\"zerolinecolor\":\"white\",\"automargin\":true,\"zerolinewidth\":2},\"yaxis\":{\"gridcolor\":\"white\",\"linecolor\":\"white\",\"ticks\":\"\",\"title\":{\"standoff\":15},\"zerolinecolor\":\"white\",\"automargin\":true,\"zerolinewidth\":2},\"scene\":{\"xaxis\":{\"backgroundcolor\":\"#E5ECF6\",\"gridcolor\":\"white\",\"linecolor\":\"white\",\"showbackground\":true,\"ticks\":\"\",\"zerolinecolor\":\"white\",\"gridwidth\":2},\"yaxis\":{\"backgroundcolor\":\"#E5ECF6\",\"gridcolor\":\"white\",\"linecolor\":\"white\",\"showbackground\":true,\"ticks\":\"\",\"zerolinecolor\":\"white\",\"gridwidth\":2},\"zaxis\":{\"backgroundcolor\":\"#E5ECF6\",\"gridcolor\":\"white\",\"linecolor\":\"white\",\"showbackground\":true,\"ticks\":\"\",\"zerolinecolor\":\"white\",\"gridwidth\":2}},\"shapedefaults\":{\"line\":{\"color\":\"#2a3f5f\"}},\"annotationdefaults\":{\"arrowcolor\":\"#2a3f5f\",\"arrowhead\":0,\"arrowwidth\":1},\"geo\":{\"bgcolor\":\"white\",\"landcolor\":\"#E5ECF6\",\"subunitcolor\":\"white\",\"showland\":true,\"showlakes\":true,\"lakecolor\":\"white\"},\"title\":{\"x\":0.05},\"mapbox\":{\"style\":\"light\"}}},\"xaxis\":{\"anchor\":\"y\",\"domain\":[0.0,1.0],\"scaleanchor\":\"y\",\"constrain\":\"domain\",\"title\":{\"text\":\"Predicted observation\"},\"tickmode\":\"array\",\"tickvals\":[0,1,2,3],\"ticktext\":[\"Class 0\",\"Class 1\",\"Class 2\",\"Class 3\"]},\"yaxis\":{\"anchor\":\"x\",\"domain\":[0.0,1.0],\"autorange\":\"reversed\",\"constrain\":\"domain\",\"title\":{\"text\":\"Expected observation\"},\"tickmode\":\"array\",\"tickvals\":[0,1,2,3],\"ticktext\":[\"Class 0\",\"Class 1\",\"Class 2\",\"Class 3\"]},\"coloraxis\":{\"colorscale\":[[0.0,\"#0d0887\"],[0.1111111111111111,\"#46039f\"],[0.2222222222222222,\"#7201a8\"],[0.3333333333333333,\"#9c179e\"],[0.4444444444444444,\"#bd3786\"],[0.5555555555555556,\"#d8576b\"],[0.6666666666666666,\"#ed7953\"],[0.7777777777777778,\"#fb9f3a\"],[0.8888888888888888,\"#fdca26\"],[1.0,\"#f0f921\"]]},\"margin\":{\"t\":60},\"title\":{\"text\":\"Confusion matrix-Cycle4, percentage\"},\"width\":700,\"height\":700},                        {\"responsive\": true}                    ).then(function(){\n",
              "                            \n",
              "var gd = document.getElementById('c1b61272-4bff-460a-8b70-b58dc097d84f');\n",
              "var x = new MutationObserver(function (mutations, observer) {{\n",
              "        var display = window.getComputedStyle(gd).display;\n",
              "        if (!display || display === 'none') {{\n",
              "            console.log([gd, 'removed!']);\n",
              "            Plotly.purge(gd);\n",
              "            observer.disconnect();\n",
              "        }}\n",
              "}});\n",
              "\n",
              "// Listen for the removal of the full notebook cells\n",
              "var notebookContainer = gd.closest('#notebook-container');\n",
              "if (notebookContainer) {{\n",
              "    x.observe(notebookContainer, {childList: true});\n",
              "}}\n",
              "\n",
              "// Listen for the clearing of the current output cell\n",
              "var outputEl = gd.closest('.output');\n",
              "if (outputEl) {{\n",
              "    x.observe(outputEl, {childList: true});\n",
              "}}\n",
              "\n",
              "                        })                };                            </script>        </div>\n",
              "</body>\n",
              "</html>"
            ]
          },
          "metadata": {}
        },
        {
          "output_type": "display_data",
          "data": {
            "text/html": [
              "<html>\n",
              "<head><meta charset=\"utf-8\" /></head>\n",
              "<body>\n",
              "    <div>            <script src=\"https://cdnjs.cloudflare.com/ajax/libs/mathjax/2.7.5/MathJax.js?config=TeX-AMS-MML_SVG\"></script><script type=\"text/javascript\">if (window.MathJax && window.MathJax.Hub && window.MathJax.Hub.Config) {window.MathJax.Hub.Config({SVG: {font: \"STIX-Web\"}});}</script>                <script type=\"text/javascript\">window.PlotlyConfig = {MathJaxConfig: 'local'};</script>\n",
              "        <script src=\"https://cdn.plot.ly/plotly-2.18.2.min.js\"></script>                <div id=\"67962530-82f0-481b-8d51-20d51d991f45\" class=\"plotly-graph-div\" style=\"height:700px; width:700px;\"></div>            <script type=\"text/javascript\">                                    window.PLOTLYENV=window.PLOTLYENV || {};                                    if (document.getElementById(\"67962530-82f0-481b-8d51-20d51d991f45\")) {                    Plotly.newPlot(                        \"67962530-82f0-481b-8d51-20d51d991f45\",                        [{\"coloraxis\":\"coloraxis\",\"name\":\"0\",\"texttemplate\":\"%{z}\",\"z\":[[432,10,5,8],[18,409,5,16],[0,2,167,3],[28,14,3,408]],\"type\":\"heatmap\",\"xaxis\":\"x\",\"yaxis\":\"y\",\"hovertemplate\":\"x: %{x}<br>y: %{y}<br>color: %{z}<extra></extra>\"}],                        {\"template\":{\"data\":{\"histogram2dcontour\":[{\"type\":\"histogram2dcontour\",\"colorbar\":{\"outlinewidth\":0,\"ticks\":\"\"},\"colorscale\":[[0.0,\"#0d0887\"],[0.1111111111111111,\"#46039f\"],[0.2222222222222222,\"#7201a8\"],[0.3333333333333333,\"#9c179e\"],[0.4444444444444444,\"#bd3786\"],[0.5555555555555556,\"#d8576b\"],[0.6666666666666666,\"#ed7953\"],[0.7777777777777778,\"#fb9f3a\"],[0.8888888888888888,\"#fdca26\"],[1.0,\"#f0f921\"]]}],\"choropleth\":[{\"type\":\"choropleth\",\"colorbar\":{\"outlinewidth\":0,\"ticks\":\"\"}}],\"histogram2d\":[{\"type\":\"histogram2d\",\"colorbar\":{\"outlinewidth\":0,\"ticks\":\"\"},\"colorscale\":[[0.0,\"#0d0887\"],[0.1111111111111111,\"#46039f\"],[0.2222222222222222,\"#7201a8\"],[0.3333333333333333,\"#9c179e\"],[0.4444444444444444,\"#bd3786\"],[0.5555555555555556,\"#d8576b\"],[0.6666666666666666,\"#ed7953\"],[0.7777777777777778,\"#fb9f3a\"],[0.8888888888888888,\"#fdca26\"],[1.0,\"#f0f921\"]]}],\"heatmap\":[{\"type\":\"heatmap\",\"colorbar\":{\"outlinewidth\":0,\"ticks\":\"\"},\"colorscale\":[[0.0,\"#0d0887\"],[0.1111111111111111,\"#46039f\"],[0.2222222222222222,\"#7201a8\"],[0.3333333333333333,\"#9c179e\"],[0.4444444444444444,\"#bd3786\"],[0.5555555555555556,\"#d8576b\"],[0.6666666666666666,\"#ed7953\"],[0.7777777777777778,\"#fb9f3a\"],[0.8888888888888888,\"#fdca26\"],[1.0,\"#f0f921\"]]}],\"heatmapgl\":[{\"type\":\"heatmapgl\",\"colorbar\":{\"outlinewidth\":0,\"ticks\":\"\"},\"colorscale\":[[0.0,\"#0d0887\"],[0.1111111111111111,\"#46039f\"],[0.2222222222222222,\"#7201a8\"],[0.3333333333333333,\"#9c179e\"],[0.4444444444444444,\"#bd3786\"],[0.5555555555555556,\"#d8576b\"],[0.6666666666666666,\"#ed7953\"],[0.7777777777777778,\"#fb9f3a\"],[0.8888888888888888,\"#fdca26\"],[1.0,\"#f0f921\"]]}],\"contourcarpet\":[{\"type\":\"contourcarpet\",\"colorbar\":{\"outlinewidth\":0,\"ticks\":\"\"}}],\"contour\":[{\"type\":\"contour\",\"colorbar\":{\"outlinewidth\":0,\"ticks\":\"\"},\"colorscale\":[[0.0,\"#0d0887\"],[0.1111111111111111,\"#46039f\"],[0.2222222222222222,\"#7201a8\"],[0.3333333333333333,\"#9c179e\"],[0.4444444444444444,\"#bd3786\"],[0.5555555555555556,\"#d8576b\"],[0.6666666666666666,\"#ed7953\"],[0.7777777777777778,\"#fb9f3a\"],[0.8888888888888888,\"#fdca26\"],[1.0,\"#f0f921\"]]}],\"surface\":[{\"type\":\"surface\",\"colorbar\":{\"outlinewidth\":0,\"ticks\":\"\"},\"colorscale\":[[0.0,\"#0d0887\"],[0.1111111111111111,\"#46039f\"],[0.2222222222222222,\"#7201a8\"],[0.3333333333333333,\"#9c179e\"],[0.4444444444444444,\"#bd3786\"],[0.5555555555555556,\"#d8576b\"],[0.6666666666666666,\"#ed7953\"],[0.7777777777777778,\"#fb9f3a\"],[0.8888888888888888,\"#fdca26\"],[1.0,\"#f0f921\"]]}],\"mesh3d\":[{\"type\":\"mesh3d\",\"colorbar\":{\"outlinewidth\":0,\"ticks\":\"\"}}],\"scatter\":[{\"fillpattern\":{\"fillmode\":\"overlay\",\"size\":10,\"solidity\":0.2},\"type\":\"scatter\"}],\"parcoords\":[{\"type\":\"parcoords\",\"line\":{\"colorbar\":{\"outlinewidth\":0,\"ticks\":\"\"}}}],\"scatterpolargl\":[{\"type\":\"scatterpolargl\",\"marker\":{\"colorbar\":{\"outlinewidth\":0,\"ticks\":\"\"}}}],\"bar\":[{\"error_x\":{\"color\":\"#2a3f5f\"},\"error_y\":{\"color\":\"#2a3f5f\"},\"marker\":{\"line\":{\"color\":\"#E5ECF6\",\"width\":0.5},\"pattern\":{\"fillmode\":\"overlay\",\"size\":10,\"solidity\":0.2}},\"type\":\"bar\"}],\"scattergeo\":[{\"type\":\"scattergeo\",\"marker\":{\"colorbar\":{\"outlinewidth\":0,\"ticks\":\"\"}}}],\"scatterpolar\":[{\"type\":\"scatterpolar\",\"marker\":{\"colorbar\":{\"outlinewidth\":0,\"ticks\":\"\"}}}],\"histogram\":[{\"marker\":{\"pattern\":{\"fillmode\":\"overlay\",\"size\":10,\"solidity\":0.2}},\"type\":\"histogram\"}],\"scattergl\":[{\"type\":\"scattergl\",\"marker\":{\"colorbar\":{\"outlinewidth\":0,\"ticks\":\"\"}}}],\"scatter3d\":[{\"type\":\"scatter3d\",\"line\":{\"colorbar\":{\"outlinewidth\":0,\"ticks\":\"\"}},\"marker\":{\"colorbar\":{\"outlinewidth\":0,\"ticks\":\"\"}}}],\"scattermapbox\":[{\"type\":\"scattermapbox\",\"marker\":{\"colorbar\":{\"outlinewidth\":0,\"ticks\":\"\"}}}],\"scatterternary\":[{\"type\":\"scatterternary\",\"marker\":{\"colorbar\":{\"outlinewidth\":0,\"ticks\":\"\"}}}],\"scattercarpet\":[{\"type\":\"scattercarpet\",\"marker\":{\"colorbar\":{\"outlinewidth\":0,\"ticks\":\"\"}}}],\"carpet\":[{\"aaxis\":{\"endlinecolor\":\"#2a3f5f\",\"gridcolor\":\"white\",\"linecolor\":\"white\",\"minorgridcolor\":\"white\",\"startlinecolor\":\"#2a3f5f\"},\"baxis\":{\"endlinecolor\":\"#2a3f5f\",\"gridcolor\":\"white\",\"linecolor\":\"white\",\"minorgridcolor\":\"white\",\"startlinecolor\":\"#2a3f5f\"},\"type\":\"carpet\"}],\"table\":[{\"cells\":{\"fill\":{\"color\":\"#EBF0F8\"},\"line\":{\"color\":\"white\"}},\"header\":{\"fill\":{\"color\":\"#C8D4E3\"},\"line\":{\"color\":\"white\"}},\"type\":\"table\"}],\"barpolar\":[{\"marker\":{\"line\":{\"color\":\"#E5ECF6\",\"width\":0.5},\"pattern\":{\"fillmode\":\"overlay\",\"size\":10,\"solidity\":0.2}},\"type\":\"barpolar\"}],\"pie\":[{\"automargin\":true,\"type\":\"pie\"}]},\"layout\":{\"autotypenumbers\":\"strict\",\"colorway\":[\"#636efa\",\"#EF553B\",\"#00cc96\",\"#ab63fa\",\"#FFA15A\",\"#19d3f3\",\"#FF6692\",\"#B6E880\",\"#FF97FF\",\"#FECB52\"],\"font\":{\"color\":\"#2a3f5f\"},\"hovermode\":\"closest\",\"hoverlabel\":{\"align\":\"left\"},\"paper_bgcolor\":\"white\",\"plot_bgcolor\":\"#E5ECF6\",\"polar\":{\"bgcolor\":\"#E5ECF6\",\"angularaxis\":{\"gridcolor\":\"white\",\"linecolor\":\"white\",\"ticks\":\"\"},\"radialaxis\":{\"gridcolor\":\"white\",\"linecolor\":\"white\",\"ticks\":\"\"}},\"ternary\":{\"bgcolor\":\"#E5ECF6\",\"aaxis\":{\"gridcolor\":\"white\",\"linecolor\":\"white\",\"ticks\":\"\"},\"baxis\":{\"gridcolor\":\"white\",\"linecolor\":\"white\",\"ticks\":\"\"},\"caxis\":{\"gridcolor\":\"white\",\"linecolor\":\"white\",\"ticks\":\"\"}},\"coloraxis\":{\"colorbar\":{\"outlinewidth\":0,\"ticks\":\"\"}},\"colorscale\":{\"sequential\":[[0.0,\"#0d0887\"],[0.1111111111111111,\"#46039f\"],[0.2222222222222222,\"#7201a8\"],[0.3333333333333333,\"#9c179e\"],[0.4444444444444444,\"#bd3786\"],[0.5555555555555556,\"#d8576b\"],[0.6666666666666666,\"#ed7953\"],[0.7777777777777778,\"#fb9f3a\"],[0.8888888888888888,\"#fdca26\"],[1.0,\"#f0f921\"]],\"sequentialminus\":[[0.0,\"#0d0887\"],[0.1111111111111111,\"#46039f\"],[0.2222222222222222,\"#7201a8\"],[0.3333333333333333,\"#9c179e\"],[0.4444444444444444,\"#bd3786\"],[0.5555555555555556,\"#d8576b\"],[0.6666666666666666,\"#ed7953\"],[0.7777777777777778,\"#fb9f3a\"],[0.8888888888888888,\"#fdca26\"],[1.0,\"#f0f921\"]],\"diverging\":[[0,\"#8e0152\"],[0.1,\"#c51b7d\"],[0.2,\"#de77ae\"],[0.3,\"#f1b6da\"],[0.4,\"#fde0ef\"],[0.5,\"#f7f7f7\"],[0.6,\"#e6f5d0\"],[0.7,\"#b8e186\"],[0.8,\"#7fbc41\"],[0.9,\"#4d9221\"],[1,\"#276419\"]]},\"xaxis\":{\"gridcolor\":\"white\",\"linecolor\":\"white\",\"ticks\":\"\",\"title\":{\"standoff\":15},\"zerolinecolor\":\"white\",\"automargin\":true,\"zerolinewidth\":2},\"yaxis\":{\"gridcolor\":\"white\",\"linecolor\":\"white\",\"ticks\":\"\",\"title\":{\"standoff\":15},\"zerolinecolor\":\"white\",\"automargin\":true,\"zerolinewidth\":2},\"scene\":{\"xaxis\":{\"backgroundcolor\":\"#E5ECF6\",\"gridcolor\":\"white\",\"linecolor\":\"white\",\"showbackground\":true,\"ticks\":\"\",\"zerolinecolor\":\"white\",\"gridwidth\":2},\"yaxis\":{\"backgroundcolor\":\"#E5ECF6\",\"gridcolor\":\"white\",\"linecolor\":\"white\",\"showbackground\":true,\"ticks\":\"\",\"zerolinecolor\":\"white\",\"gridwidth\":2},\"zaxis\":{\"backgroundcolor\":\"#E5ECF6\",\"gridcolor\":\"white\",\"linecolor\":\"white\",\"showbackground\":true,\"ticks\":\"\",\"zerolinecolor\":\"white\",\"gridwidth\":2}},\"shapedefaults\":{\"line\":{\"color\":\"#2a3f5f\"}},\"annotationdefaults\":{\"arrowcolor\":\"#2a3f5f\",\"arrowhead\":0,\"arrowwidth\":1},\"geo\":{\"bgcolor\":\"white\",\"landcolor\":\"#E5ECF6\",\"subunitcolor\":\"white\",\"showland\":true,\"showlakes\":true,\"lakecolor\":\"white\"},\"title\":{\"x\":0.05},\"mapbox\":{\"style\":\"light\"}}},\"xaxis\":{\"anchor\":\"y\",\"domain\":[0.0,1.0],\"scaleanchor\":\"y\",\"constrain\":\"domain\",\"title\":{\"text\":\"Predicted observation\"},\"tickmode\":\"array\",\"tickvals\":[0,1,2,3],\"ticktext\":[\"Class 0\",\"Class 1\",\"Class 2\",\"Class 3\"]},\"yaxis\":{\"anchor\":\"x\",\"domain\":[0.0,1.0],\"autorange\":\"reversed\",\"constrain\":\"domain\",\"title\":{\"text\":\"Expected observation\"},\"tickmode\":\"array\",\"tickvals\":[0,1,2,3],\"ticktext\":[\"Class 0\",\"Class 1\",\"Class 2\",\"Class 3\"]},\"coloraxis\":{\"colorscale\":[[0.0,\"#0d0887\"],[0.1111111111111111,\"#46039f\"],[0.2222222222222222,\"#7201a8\"],[0.3333333333333333,\"#9c179e\"],[0.4444444444444444,\"#bd3786\"],[0.5555555555555556,\"#d8576b\"],[0.6666666666666666,\"#ed7953\"],[0.7777777777777778,\"#fb9f3a\"],[0.8888888888888888,\"#fdca26\"],[1.0,\"#f0f921\"]]},\"margin\":{\"t\":60},\"title\":{\"text\":\"Confusion matrix-Cycle5, number of samples\"},\"width\":700,\"height\":700},                        {\"responsive\": true}                    ).then(function(){\n",
              "                            \n",
              "var gd = document.getElementById('67962530-82f0-481b-8d51-20d51d991f45');\n",
              "var x = new MutationObserver(function (mutations, observer) {{\n",
              "        var display = window.getComputedStyle(gd).display;\n",
              "        if (!display || display === 'none') {{\n",
              "            console.log([gd, 'removed!']);\n",
              "            Plotly.purge(gd);\n",
              "            observer.disconnect();\n",
              "        }}\n",
              "}});\n",
              "\n",
              "// Listen for the removal of the full notebook cells\n",
              "var notebookContainer = gd.closest('#notebook-container');\n",
              "if (notebookContainer) {{\n",
              "    x.observe(notebookContainer, {childList: true});\n",
              "}}\n",
              "\n",
              "// Listen for the clearing of the current output cell\n",
              "var outputEl = gd.closest('.output');\n",
              "if (outputEl) {{\n",
              "    x.observe(outputEl, {childList: true});\n",
              "}}\n",
              "\n",
              "                        })                };                            </script>        </div>\n",
              "</body>\n",
              "</html>"
            ]
          },
          "metadata": {}
        },
        {
          "output_type": "display_data",
          "data": {
            "text/html": [
              "<html>\n",
              "<head><meta charset=\"utf-8\" /></head>\n",
              "<body>\n",
              "    <div>            <script src=\"https://cdnjs.cloudflare.com/ajax/libs/mathjax/2.7.5/MathJax.js?config=TeX-AMS-MML_SVG\"></script><script type=\"text/javascript\">if (window.MathJax && window.MathJax.Hub && window.MathJax.Hub.Config) {window.MathJax.Hub.Config({SVG: {font: \"STIX-Web\"}});}</script>                <script type=\"text/javascript\">window.PlotlyConfig = {MathJaxConfig: 'local'};</script>\n",
              "        <script src=\"https://cdn.plot.ly/plotly-2.18.2.min.js\"></script>                <div id=\"df45ade2-719d-4dea-afa2-18668cb0cd59\" class=\"plotly-graph-div\" style=\"height:700px; width:700px;\"></div>            <script type=\"text/javascript\">                                    window.PLOTLYENV=window.PLOTLYENV || {};                                    if (document.getElementById(\"df45ade2-719d-4dea-afa2-18668cb0cd59\")) {                    Plotly.newPlot(                        \"df45ade2-719d-4dea-afa2-18668cb0cd59\",                        [{\"coloraxis\":\"coloraxis\",\"name\":\"0\",\"texttemplate\":\"%{z}\",\"z\":[[0.949,0.022,0.029,0.018],[0.04,0.913,0.029,0.035],[0.0,0.004,0.971,0.007],[0.062,0.031,0.017,0.901]],\"type\":\"heatmap\",\"xaxis\":\"x\",\"yaxis\":\"y\",\"hovertemplate\":\"x: %{x}<br>y: %{y}<br>color: %{z}<extra></extra>\"}],                        {\"template\":{\"data\":{\"histogram2dcontour\":[{\"type\":\"histogram2dcontour\",\"colorbar\":{\"outlinewidth\":0,\"ticks\":\"\"},\"colorscale\":[[0.0,\"#0d0887\"],[0.1111111111111111,\"#46039f\"],[0.2222222222222222,\"#7201a8\"],[0.3333333333333333,\"#9c179e\"],[0.4444444444444444,\"#bd3786\"],[0.5555555555555556,\"#d8576b\"],[0.6666666666666666,\"#ed7953\"],[0.7777777777777778,\"#fb9f3a\"],[0.8888888888888888,\"#fdca26\"],[1.0,\"#f0f921\"]]}],\"choropleth\":[{\"type\":\"choropleth\",\"colorbar\":{\"outlinewidth\":0,\"ticks\":\"\"}}],\"histogram2d\":[{\"type\":\"histogram2d\",\"colorbar\":{\"outlinewidth\":0,\"ticks\":\"\"},\"colorscale\":[[0.0,\"#0d0887\"],[0.1111111111111111,\"#46039f\"],[0.2222222222222222,\"#7201a8\"],[0.3333333333333333,\"#9c179e\"],[0.4444444444444444,\"#bd3786\"],[0.5555555555555556,\"#d8576b\"],[0.6666666666666666,\"#ed7953\"],[0.7777777777777778,\"#fb9f3a\"],[0.8888888888888888,\"#fdca26\"],[1.0,\"#f0f921\"]]}],\"heatmap\":[{\"type\":\"heatmap\",\"colorbar\":{\"outlinewidth\":0,\"ticks\":\"\"},\"colorscale\":[[0.0,\"#0d0887\"],[0.1111111111111111,\"#46039f\"],[0.2222222222222222,\"#7201a8\"],[0.3333333333333333,\"#9c179e\"],[0.4444444444444444,\"#bd3786\"],[0.5555555555555556,\"#d8576b\"],[0.6666666666666666,\"#ed7953\"],[0.7777777777777778,\"#fb9f3a\"],[0.8888888888888888,\"#fdca26\"],[1.0,\"#f0f921\"]]}],\"heatmapgl\":[{\"type\":\"heatmapgl\",\"colorbar\":{\"outlinewidth\":0,\"ticks\":\"\"},\"colorscale\":[[0.0,\"#0d0887\"],[0.1111111111111111,\"#46039f\"],[0.2222222222222222,\"#7201a8\"],[0.3333333333333333,\"#9c179e\"],[0.4444444444444444,\"#bd3786\"],[0.5555555555555556,\"#d8576b\"],[0.6666666666666666,\"#ed7953\"],[0.7777777777777778,\"#fb9f3a\"],[0.8888888888888888,\"#fdca26\"],[1.0,\"#f0f921\"]]}],\"contourcarpet\":[{\"type\":\"contourcarpet\",\"colorbar\":{\"outlinewidth\":0,\"ticks\":\"\"}}],\"contour\":[{\"type\":\"contour\",\"colorbar\":{\"outlinewidth\":0,\"ticks\":\"\"},\"colorscale\":[[0.0,\"#0d0887\"],[0.1111111111111111,\"#46039f\"],[0.2222222222222222,\"#7201a8\"],[0.3333333333333333,\"#9c179e\"],[0.4444444444444444,\"#bd3786\"],[0.5555555555555556,\"#d8576b\"],[0.6666666666666666,\"#ed7953\"],[0.7777777777777778,\"#fb9f3a\"],[0.8888888888888888,\"#fdca26\"],[1.0,\"#f0f921\"]]}],\"surface\":[{\"type\":\"surface\",\"colorbar\":{\"outlinewidth\":0,\"ticks\":\"\"},\"colorscale\":[[0.0,\"#0d0887\"],[0.1111111111111111,\"#46039f\"],[0.2222222222222222,\"#7201a8\"],[0.3333333333333333,\"#9c179e\"],[0.4444444444444444,\"#bd3786\"],[0.5555555555555556,\"#d8576b\"],[0.6666666666666666,\"#ed7953\"],[0.7777777777777778,\"#fb9f3a\"],[0.8888888888888888,\"#fdca26\"],[1.0,\"#f0f921\"]]}],\"mesh3d\":[{\"type\":\"mesh3d\",\"colorbar\":{\"outlinewidth\":0,\"ticks\":\"\"}}],\"scatter\":[{\"fillpattern\":{\"fillmode\":\"overlay\",\"size\":10,\"solidity\":0.2},\"type\":\"scatter\"}],\"parcoords\":[{\"type\":\"parcoords\",\"line\":{\"colorbar\":{\"outlinewidth\":0,\"ticks\":\"\"}}}],\"scatterpolargl\":[{\"type\":\"scatterpolargl\",\"marker\":{\"colorbar\":{\"outlinewidth\":0,\"ticks\":\"\"}}}],\"bar\":[{\"error_x\":{\"color\":\"#2a3f5f\"},\"error_y\":{\"color\":\"#2a3f5f\"},\"marker\":{\"line\":{\"color\":\"#E5ECF6\",\"width\":0.5},\"pattern\":{\"fillmode\":\"overlay\",\"size\":10,\"solidity\":0.2}},\"type\":\"bar\"}],\"scattergeo\":[{\"type\":\"scattergeo\",\"marker\":{\"colorbar\":{\"outlinewidth\":0,\"ticks\":\"\"}}}],\"scatterpolar\":[{\"type\":\"scatterpolar\",\"marker\":{\"colorbar\":{\"outlinewidth\":0,\"ticks\":\"\"}}}],\"histogram\":[{\"marker\":{\"pattern\":{\"fillmode\":\"overlay\",\"size\":10,\"solidity\":0.2}},\"type\":\"histogram\"}],\"scattergl\":[{\"type\":\"scattergl\",\"marker\":{\"colorbar\":{\"outlinewidth\":0,\"ticks\":\"\"}}}],\"scatter3d\":[{\"type\":\"scatter3d\",\"line\":{\"colorbar\":{\"outlinewidth\":0,\"ticks\":\"\"}},\"marker\":{\"colorbar\":{\"outlinewidth\":0,\"ticks\":\"\"}}}],\"scattermapbox\":[{\"type\":\"scattermapbox\",\"marker\":{\"colorbar\":{\"outlinewidth\":0,\"ticks\":\"\"}}}],\"scatterternary\":[{\"type\":\"scatterternary\",\"marker\":{\"colorbar\":{\"outlinewidth\":0,\"ticks\":\"\"}}}],\"scattercarpet\":[{\"type\":\"scattercarpet\",\"marker\":{\"colorbar\":{\"outlinewidth\":0,\"ticks\":\"\"}}}],\"carpet\":[{\"aaxis\":{\"endlinecolor\":\"#2a3f5f\",\"gridcolor\":\"white\",\"linecolor\":\"white\",\"minorgridcolor\":\"white\",\"startlinecolor\":\"#2a3f5f\"},\"baxis\":{\"endlinecolor\":\"#2a3f5f\",\"gridcolor\":\"white\",\"linecolor\":\"white\",\"minorgridcolor\":\"white\",\"startlinecolor\":\"#2a3f5f\"},\"type\":\"carpet\"}],\"table\":[{\"cells\":{\"fill\":{\"color\":\"#EBF0F8\"},\"line\":{\"color\":\"white\"}},\"header\":{\"fill\":{\"color\":\"#C8D4E3\"},\"line\":{\"color\":\"white\"}},\"type\":\"table\"}],\"barpolar\":[{\"marker\":{\"line\":{\"color\":\"#E5ECF6\",\"width\":0.5},\"pattern\":{\"fillmode\":\"overlay\",\"size\":10,\"solidity\":0.2}},\"type\":\"barpolar\"}],\"pie\":[{\"automargin\":true,\"type\":\"pie\"}]},\"layout\":{\"autotypenumbers\":\"strict\",\"colorway\":[\"#636efa\",\"#EF553B\",\"#00cc96\",\"#ab63fa\",\"#FFA15A\",\"#19d3f3\",\"#FF6692\",\"#B6E880\",\"#FF97FF\",\"#FECB52\"],\"font\":{\"color\":\"#2a3f5f\"},\"hovermode\":\"closest\",\"hoverlabel\":{\"align\":\"left\"},\"paper_bgcolor\":\"white\",\"plot_bgcolor\":\"#E5ECF6\",\"polar\":{\"bgcolor\":\"#E5ECF6\",\"angularaxis\":{\"gridcolor\":\"white\",\"linecolor\":\"white\",\"ticks\":\"\"},\"radialaxis\":{\"gridcolor\":\"white\",\"linecolor\":\"white\",\"ticks\":\"\"}},\"ternary\":{\"bgcolor\":\"#E5ECF6\",\"aaxis\":{\"gridcolor\":\"white\",\"linecolor\":\"white\",\"ticks\":\"\"},\"baxis\":{\"gridcolor\":\"white\",\"linecolor\":\"white\",\"ticks\":\"\"},\"caxis\":{\"gridcolor\":\"white\",\"linecolor\":\"white\",\"ticks\":\"\"}},\"coloraxis\":{\"colorbar\":{\"outlinewidth\":0,\"ticks\":\"\"}},\"colorscale\":{\"sequential\":[[0.0,\"#0d0887\"],[0.1111111111111111,\"#46039f\"],[0.2222222222222222,\"#7201a8\"],[0.3333333333333333,\"#9c179e\"],[0.4444444444444444,\"#bd3786\"],[0.5555555555555556,\"#d8576b\"],[0.6666666666666666,\"#ed7953\"],[0.7777777777777778,\"#fb9f3a\"],[0.8888888888888888,\"#fdca26\"],[1.0,\"#f0f921\"]],\"sequentialminus\":[[0.0,\"#0d0887\"],[0.1111111111111111,\"#46039f\"],[0.2222222222222222,\"#7201a8\"],[0.3333333333333333,\"#9c179e\"],[0.4444444444444444,\"#bd3786\"],[0.5555555555555556,\"#d8576b\"],[0.6666666666666666,\"#ed7953\"],[0.7777777777777778,\"#fb9f3a\"],[0.8888888888888888,\"#fdca26\"],[1.0,\"#f0f921\"]],\"diverging\":[[0,\"#8e0152\"],[0.1,\"#c51b7d\"],[0.2,\"#de77ae\"],[0.3,\"#f1b6da\"],[0.4,\"#fde0ef\"],[0.5,\"#f7f7f7\"],[0.6,\"#e6f5d0\"],[0.7,\"#b8e186\"],[0.8,\"#7fbc41\"],[0.9,\"#4d9221\"],[1,\"#276419\"]]},\"xaxis\":{\"gridcolor\":\"white\",\"linecolor\":\"white\",\"ticks\":\"\",\"title\":{\"standoff\":15},\"zerolinecolor\":\"white\",\"automargin\":true,\"zerolinewidth\":2},\"yaxis\":{\"gridcolor\":\"white\",\"linecolor\":\"white\",\"ticks\":\"\",\"title\":{\"standoff\":15},\"zerolinecolor\":\"white\",\"automargin\":true,\"zerolinewidth\":2},\"scene\":{\"xaxis\":{\"backgroundcolor\":\"#E5ECF6\",\"gridcolor\":\"white\",\"linecolor\":\"white\",\"showbackground\":true,\"ticks\":\"\",\"zerolinecolor\":\"white\",\"gridwidth\":2},\"yaxis\":{\"backgroundcolor\":\"#E5ECF6\",\"gridcolor\":\"white\",\"linecolor\":\"white\",\"showbackground\":true,\"ticks\":\"\",\"zerolinecolor\":\"white\",\"gridwidth\":2},\"zaxis\":{\"backgroundcolor\":\"#E5ECF6\",\"gridcolor\":\"white\",\"linecolor\":\"white\",\"showbackground\":true,\"ticks\":\"\",\"zerolinecolor\":\"white\",\"gridwidth\":2}},\"shapedefaults\":{\"line\":{\"color\":\"#2a3f5f\"}},\"annotationdefaults\":{\"arrowcolor\":\"#2a3f5f\",\"arrowhead\":0,\"arrowwidth\":1},\"geo\":{\"bgcolor\":\"white\",\"landcolor\":\"#E5ECF6\",\"subunitcolor\":\"white\",\"showland\":true,\"showlakes\":true,\"lakecolor\":\"white\"},\"title\":{\"x\":0.05},\"mapbox\":{\"style\":\"light\"}}},\"xaxis\":{\"anchor\":\"y\",\"domain\":[0.0,1.0],\"scaleanchor\":\"y\",\"constrain\":\"domain\",\"title\":{\"text\":\"Predicted observation\"},\"tickmode\":\"array\",\"tickvals\":[0,1,2,3],\"ticktext\":[\"Class 0\",\"Class 1\",\"Class 2\",\"Class 3\"]},\"yaxis\":{\"anchor\":\"x\",\"domain\":[0.0,1.0],\"autorange\":\"reversed\",\"constrain\":\"domain\",\"title\":{\"text\":\"Expected observation\"},\"tickmode\":\"array\",\"tickvals\":[0,1,2,3],\"ticktext\":[\"Class 0\",\"Class 1\",\"Class 2\",\"Class 3\"]},\"coloraxis\":{\"colorscale\":[[0.0,\"#0d0887\"],[0.1111111111111111,\"#46039f\"],[0.2222222222222222,\"#7201a8\"],[0.3333333333333333,\"#9c179e\"],[0.4444444444444444,\"#bd3786\"],[0.5555555555555556,\"#d8576b\"],[0.6666666666666666,\"#ed7953\"],[0.7777777777777778,\"#fb9f3a\"],[0.8888888888888888,\"#fdca26\"],[1.0,\"#f0f921\"]]},\"margin\":{\"t\":60},\"title\":{\"text\":\"Confusion matrix-Cycle5, percentage\"},\"width\":700,\"height\":700},                        {\"responsive\": true}                    ).then(function(){\n",
              "                            \n",
              "var gd = document.getElementById('df45ade2-719d-4dea-afa2-18668cb0cd59');\n",
              "var x = new MutationObserver(function (mutations, observer) {{\n",
              "        var display = window.getComputedStyle(gd).display;\n",
              "        if (!display || display === 'none') {{\n",
              "            console.log([gd, 'removed!']);\n",
              "            Plotly.purge(gd);\n",
              "            observer.disconnect();\n",
              "        }}\n",
              "}});\n",
              "\n",
              "// Listen for the removal of the full notebook cells\n",
              "var notebookContainer = gd.closest('#notebook-container');\n",
              "if (notebookContainer) {{\n",
              "    x.observe(notebookContainer, {childList: true});\n",
              "}}\n",
              "\n",
              "// Listen for the clearing of the current output cell\n",
              "var outputEl = gd.closest('.output');\n",
              "if (outputEl) {{\n",
              "    x.observe(outputEl, {childList: true});\n",
              "}}\n",
              "\n",
              "                        })                };                            </script>        </div>\n",
              "</body>\n",
              "</html>"
            ]
          },
          "metadata": {}
        }
      ]
    },
    {
      "cell_type": "markdown",
      "source": [
        "#Data collections / KMC"
      ],
      "metadata": {
        "id": "pszNvvyTUZlf"
      }
    },
    {
      "cell_type": "markdown",
      "source": [
        "##Select the Cycle"
      ],
      "metadata": {
        "id": "vbCDNrkuRbfA"
      }
    },
    {
      "cell_type": "code",
      "source": [
        "Cycle = 5\n",
        "db_wf = yDB[Cycle-1]"
      ],
      "metadata": {
        "id": "SXhjVaGZRaSO"
      },
      "execution_count": null,
      "outputs": []
    },
    {
      "cell_type": "code",
      "source": [
        "KMClist = filter_dict('KMC', db_wf)\n",
        "KMC_RDF = [list(db_wf[i].keys())[0] for i in KMClist]\n",
        "KMC_time  = [list(db_wf[i].keys())[1] for i in KMClist]\n",
        "KMC_inorganicFlux  = [list(db_wf[i].keys())[2] for i in KMClist]\n",
        "KMC_organicFlux  = [list(db_wf[i].keys())[3] for i in KMClist]\n",
        "KMC_index = [int(i.split('TOTA')[1]) for i in  KMC_RDF]\n",
        "\n",
        "def printKMC(indx, cycle,  output=1,  list=KMClist, name=KMC_index, time=KMC_time, inorganic=KMC_inorganicFlux,\n",
        "              organic = KMC_organicFlux):\n",
        "    if output:\n",
        "      print('Cycle: ', cycle)\n",
        "      print('KMC name: ', name[indx])\n",
        "      print('KMC time: ', db_wf[list[indx]][time[indx]])\n",
        "      print('KMC inorganic SEI: ', db_wf[list[indx]][inorganic[indx]])\n",
        "      print('KMC organic SEI: ', db_wf[list[indx]][organic[indx]])\n",
        "\n",
        "    return name[indx], db_wf[list[indx]][time[indx]], db_wf[list[indx]][inorganic[indx]], db_wf[list[indx]][organic[indx]]\n",
        "        \n",
        "\n",
        "KMC_data_collection = []\n",
        "for i in range(len(KMC_index)):\n",
        "    a,b,c,d = printKMC(i,cycle=Cycle, output=0)\n",
        "    printKMC(i, cycle=Cycle, output=1)\n",
        "    KMC_data_collection.append([a,b,c,d])\n",
        "    print()\n",
        "\n",
        "rdf_Input = np.array([db_wf[KMClist[i]][KMC_RDF[i]] for i in range(len(KMC_RDF))])\n",
        "KM = joblib.load('KM.model')\n",
        "ICM = joblib.load('FastICA.model')\n",
        "XX = ICM.transform(rdf_Input)\n",
        "KMP = KM.predict(XX)\n",
        "KMT = KM.transform(XX)\n",
        "\n",
        "\n",
        "transformation_data_collection = []\n",
        "for i in range(len(KMT)):\n",
        "    ind = np.argsort(KMT[i], )[:2]\n",
        "    two = KMT[i][ind]\n",
        "    transformation_data_collection.append([ np.abs(two[1] - np.mean(KMT[i]) ) , 1.2*two[0]])\n",
        "\n",
        "database = np.column_stack((KMC_data_collection, transformation_data_collection, KMP))\n",
        "\n",
        "\n"
      ],
      "metadata": {
        "colab": {
          "base_uri": "https://localhost:8080/"
        },
        "id": "oHS4qDBzRgIS",
        "outputId": "b8c5fbc4-6a9a-4b15-e499-130e81f30665"
      },
      "execution_count": null,
      "outputs": [
        {
          "output_type": "stream",
          "name": "stdout",
          "text": [
            "Cycle:  5\n",
            "KMC name:  14\n",
            "KMC time:  2.3403956674883375e-06\n",
            "KMC inorganic SEI:  0.7400000095367432\n",
            "KMC organic SEI:  0.0\n",
            "\n",
            "Cycle:  5\n",
            "KMC name:  13\n",
            "KMC time:  0.33504754304885864\n",
            "KMC inorganic SEI:  3.819999933242798\n",
            "KMC organic SEI:  0.0\n",
            "\n",
            "Cycle:  5\n",
            "KMC name:  12\n",
            "KMC time:  1.5657507901778445e-05\n",
            "KMC inorganic SEI:  1.0\n",
            "KMC organic SEI:  0.0\n",
            "\n",
            "Cycle:  5\n",
            "KMC name:  11\n",
            "KMC time:  0.0030376738868653774\n",
            "KMC inorganic SEI:  1.0\n",
            "KMC organic SEI:  0.25999999046325684\n",
            "\n",
            "Cycle:  5\n",
            "KMC name:  10\n",
            "KMC time:  0.00043956932495348155\n",
            "KMC inorganic SEI:  1.0\n",
            "KMC organic SEI:  0.0\n",
            "\n",
            "Cycle:  5\n",
            "KMC name:  9\n",
            "KMC time:  0.0012489379150792956\n",
            "KMC inorganic SEI:  2.880000114440918\n",
            "KMC organic SEI:  0.0\n",
            "\n",
            "Cycle:  5\n",
            "KMC name:  8\n",
            "KMC time:  0.0002522426948416978\n",
            "KMC inorganic SEI:  3.9000000953674316\n",
            "KMC organic SEI:  0.0\n",
            "\n",
            "Cycle:  5\n",
            "KMC name:  7\n",
            "KMC time:  0.03390584513545036\n",
            "KMC inorganic SEI:  1.1799999475479126\n",
            "KMC organic SEI:  1.2799999713897705\n",
            "\n",
            "Cycle:  5\n",
            "KMC name:  6\n",
            "KMC time:  0.019439436495304108\n",
            "KMC inorganic SEI:  1.0199999809265137\n",
            "KMC organic SEI:  0.0\n",
            "\n",
            "Cycle:  5\n",
            "KMC name:  15\n",
            "KMC time:  0.00998611468821764\n",
            "KMC inorganic SEI:  1.5\n",
            "KMC organic SEI:  0.0\n",
            "\n",
            "Cycle:  5\n",
            "KMC name:  4\n",
            "KMC time:  3.49297552020289e-05\n",
            "KMC inorganic SEI:  1.0\n",
            "KMC organic SEI:  0.0\n",
            "\n",
            "Cycle:  5\n",
            "KMC name:  3\n",
            "KMC time:  0.09906468540430069\n",
            "KMC inorganic SEI:  1.059999942779541\n",
            "KMC organic SEI:  3.9600000381469727\n",
            "\n",
            "Cycle:  5\n",
            "KMC name:  2\n",
            "KMC time:  2.8744912147521973\n",
            "KMC inorganic SEI:  3.9800000190734863\n",
            "KMC organic SEI:  0.0\n",
            "\n",
            "Cycle:  5\n",
            "KMC name:  1\n",
            "KMC time:  0.0004105081607121974\n",
            "KMC inorganic SEI:  1.0399999618530273\n",
            "KMC organic SEI:  0.0\n",
            "\n",
            "Cycle:  5\n",
            "KMC name:  0\n",
            "KMC time:  4.328331124270335e-05\n",
            "KMC inorganic SEI:  1.0\n",
            "KMC organic SEI:  0.0\n",
            "\n",
            "Cycle:  5\n",
            "KMC name:  5\n",
            "KMC time:  9.597395944638265e-08\n",
            "KMC inorganic SEI:  0.019999999552965164\n",
            "KMC organic SEI:  0.0\n",
            "\n"
          ]
        }
      ]
    },
    {
      "cell_type": "code",
      "source": [
        "'''KMClist = filter_dicts('KMC', db_wf)\n",
        "KMC_RDF = [list(db_wf[i].keys())[0] for i in KMClist]\n",
        "KMC_time  = [list(db_wf[i].keys())[1] for i in KMClist]\n",
        "KMC_inorganicFlux  = [list(db_wf[i].keys())[2] for i in KMClist]\n",
        "KMC_organicFlux  = [list(db_wf[i].keys())[3] for i in KMClist]\n",
        "KMC_index = [int(i.split('TOTA')[1]) for i in  KMC_RDF]\n",
        "\n",
        "def printKMC(indx, output=1,  list=KMClist, name=KMC_index, time=KMC_time, inorganic=KMC_inorganicFlux,\n",
        "              organic = KMC_organicFlux):\n",
        "    if output:\n",
        "      print('KMC name: ', name[indx])\n",
        "      print('KMC time: ', db_wf[list[indx]][time[indx]])\n",
        "      print('KMC inorganic SEI: ', db_wf[list[indx]][inorganic[indx]])\n",
        "      print('KMC organic SEI: ', db_wf[list[indx]][organic[indx]])\n",
        "\n",
        "    return name[indx], db_wf[list[indx]][time[indx]], db_wf[list[indx]][inorganic[indx]], db_wf[list[indx]][organic[indx]]\n",
        "        \n",
        "\n",
        "KMC_data_collection = []\n",
        "for i in range(len(KMC_index)):\n",
        "    a,b,c,d = printKMC(i, output=0)\n",
        "    printKMC(i)\n",
        "    KMC_data_collection.append([a,b,c,d])\n",
        "    print()\n",
        "\n",
        "rdf_Input = np.array([db_wf[KMClist[i]][KMC_RDF[i]] for i in range(len(KMC_RDF))])\n",
        "KM = joblib.load('KM.model')\n",
        "ICM = joblib.load('FastICA.model')\n",
        "XX = ICM.transform(rdf_Input)\n",
        "KMP = KM.predict(XX)\n",
        "KMT = KM.transform(XX)\n",
        "\n",
        "\n",
        "transformation_data_collection = []\n",
        "for i in range(len(KMT)):\n",
        "    ind = np.argsort(KMT[i], )[:2]\n",
        "    two = KMT[i][ind]\n",
        "    transformation_data_collection.append([ np.abs(two[1] - np.mean(KMT[i]) ) , 1.2*two[0]])\n",
        "\n",
        "database = np.column_stack((KMC_data_collection, transformation_data_collection, KMP))\n",
        "\n",
        "\n",
        "'''"
      ],
      "metadata": {
        "id": "WCnLr6Y8UZMU"
      },
      "execution_count": null,
      "outputs": []
    },
    {
      "cell_type": "markdown",
      "source": [
        "##Drawing the results: "
      ],
      "metadata": {
        "id": "-C8w5DUjT4dt"
      }
    },
    {
      "cell_type": "code",
      "source": [
        "\"\"\"\n",
        "def RenderKMC(indx, list=KMClist, name=KMC_index):\n",
        "    indx= name.index(indx)\n",
        "    X = db_wf[list[indx]]['last_step']['x']\n",
        "    Y = db_wf[list[indx]]['last_step']['y']\n",
        "    Color = db_wf[list[indx]]['last_step']['color']\n",
        "    Color = [i if i!='w' else 'white' for i in Color]\n",
        "    Color = [i if i!='m' else 'magenta' for i in Color]\n",
        "    legend = []\n",
        "    for i in Color:\n",
        "        if i=='white':\n",
        "            legend.append('Li+.EC')\n",
        "            continue\n",
        "        if i=='black':\n",
        "            legend.append('Electrode')\n",
        "            continue\n",
        "        if i=='orange':\n",
        "            legend.append('Li2EDC')\n",
        "            continue\n",
        "        if i=='yellow':\n",
        "            legend.append('outer box')\n",
        "            continue\n",
        "        if i=='magenta':\n",
        "            legend.append('organic SEI')\n",
        "            continue\n",
        "        if i=='red':\n",
        "            legend.append('inorganic SEI')\n",
        "            continue\n",
        "        if i=='blue':\n",
        "            legend.append('dim. Li2EDC')\n",
        "            continue\n",
        "        if i=='green':\n",
        "            legend.append('dim. Li2EDC')\n",
        "            continue\n",
        "\n",
        "\n",
        "    fig = px.scatter(x = X,y = Y, hover_data=[legend])\n",
        "    fig.update_traces(marker=dict(color=Color))\n",
        "    fig.update_layout(width=500, height=500)\n",
        "    fig.show()\n",
        "\n",
        "\n",
        "def RenderTable(data, raw=1):\n",
        "  if raw:\n",
        "    data = data\n",
        "  else:\n",
        "    data = data[(data[:,4]<data[:,5]) & (1e-6<data[:,1]) & (data[:,1]<2)]\n",
        "\n",
        "  database = pd.DataFrame(data, columns=['KMC index', 'time', 'inorganic SEI', 'organic SEI', \n",
        "                                         'distance to the second closest centroid - average of distances', '1.2*(distance to the closest centroid)', 'Kmean'])\n",
        "  database.sort_values(by=['KMC index'], inplace=True)\n",
        "  df = database\n",
        "  fig = go.Figure(data=[go.Table(\n",
        "      header=dict(values=list(df.columns),\n",
        "                  fill_color='paleturquoise',\n",
        "                  align='center'),\n",
        "                  cells=dict(values = [df[i] for i in df.columns],\n",
        "                  fill_color='lavender',\n",
        "                  align='center',\n",
        "                  format=['d', \".3f\", \".3f\",\".3f\", \".3f\", \".3f\", \"d\"]))])\n",
        "\n",
        "  fig.show()\n",
        "\n",
        "  fig2 = px.histogram(database, x=\"Kmean\", nbins=4)\n",
        "  fig2.update_layout(bargap=0.5)\n",
        "\n",
        "  fig2.show()\n",
        "\n",
        "\n",
        "\n",
        "\"\"\""
      ],
      "metadata": {
        "id": "p7qA8NyYToj0"
      },
      "execution_count": null,
      "outputs": []
    },
    {
      "cell_type": "code",
      "source": [
        "def RenderKMC(indx, cycle, list=KMClist, name=KMC_index):\n",
        "    indx= name.index(indx)\n",
        "    X = db_wf[list[indx]]['last_step']['x']\n",
        "    Y = db_wf[list[indx]]['last_step']['y']\n",
        "    Color = db_wf[list[indx]]['last_step']['color']\n",
        "    Color = [i if i!='w' else 'white' for i in Color]\n",
        "    Color = [i if i!='m' else 'magenta' for i in Color]\n",
        "    legend = []\n",
        "    for i in Color:\n",
        "        if i=='white':\n",
        "            legend.append('Li+.EC')\n",
        "            continue\n",
        "        if i=='black':\n",
        "            legend.append('Electrode')\n",
        "            continue\n",
        "        if i=='orange':\n",
        "            legend.append('Li2EDC')\n",
        "            continue\n",
        "        if i=='yellow':\n",
        "            legend.append('outer box')\n",
        "            continue\n",
        "        if i=='magenta':\n",
        "            legend.append('organic SEI')\n",
        "            continue\n",
        "        if i=='red':\n",
        "            legend.append('inorganic SEI')\n",
        "            continue\n",
        "        if i=='blue':\n",
        "            legend.append('dim. Li2EDC')\n",
        "            continue\n",
        "        if i=='green':\n",
        "            legend.append('dim. Li2EDC')\n",
        "            continue\n",
        "\n",
        "\n",
        "    fig = px.scatter(x = X,y = Y, hover_data=[legend])\n",
        "    fig.update_traces(marker=dict(color=Color))\n",
        "    fig.update_layout(width=500, height=500)\n",
        "    fig.update_layout(title='KMC index: '+str(name[indx])+' Cycle: '+str(cycle))\n",
        "    fig.show()\n",
        "\n",
        "\n",
        "def RenderTable(data, cycle, raw=1):\n",
        "  if raw:\n",
        "    data = data\n",
        "  else:\n",
        "    data = data[(data[:,4]<data[:,5]) & (1e-6<data[:,1]) & (data[:,1]<2)]\n",
        "\n",
        "  database = pd.DataFrame(data, columns=['KMC index', 'time', 'inorganic SEI', 'organic SEI', \n",
        "                                         'distance to the second closest centroid - average of distances', '1.2*(distance to the closest centroid)', 'Kmean'])\n",
        "  database.sort_values(by=['KMC index'], inplace=True)\n",
        "  df = database\n",
        "  fig = go.Figure(data=[go.Table(\n",
        "      header=dict(values=list(df.columns),\n",
        "                  fill_color='paleturquoise',\n",
        "                  align='center'),\n",
        "                  cells=dict(values = [df[i] for i in df.columns],\n",
        "                  fill_color='lavender',\n",
        "                  align='center',\n",
        "                  format=['d', \".3e\", \".3f\",\".3f\", \".3f\", \".3f\", \"d\"]))])\n",
        "\n",
        "  STR = 'KMC table for cycle '+str(cycle)\n",
        "  STR2 ='Kmean lables for cycle '+str(cycle)\n",
        "\n",
        "  if raw:\n",
        "    STR = STR + ' (raw data)'\n",
        "    STR2 = STR2 + ' (raw data)'\n",
        "  else:\n",
        "    STR = STR + ' (valid data)'\n",
        "    STR2 = STR2 + ' (valid data)'\n",
        "\n",
        "  fig.update_layout(title=STR)\n",
        "  fig.show()\n",
        "\n",
        "  fig2 = px.histogram(database, x=\"Kmean\", nbins=4)\n",
        "  fig2.update_layout(bargap=0.5)\n",
        "  fig2.update_layout(title=STR2)\n",
        "\n",
        "  \n",
        "\n",
        "  fig2.show()\n",
        "\n",
        "\n"
      ],
      "metadata": {
        "id": "5fvg2X3jRk_X"
      },
      "execution_count": null,
      "outputs": []
    },
    {
      "cell_type": "markdown",
      "source": [
        "##To see the raw kMC results, pass raw =1, to see the valid kMC results pass raw =0.\n"
      ],
      "metadata": {
        "id": "w8lvOy60aNJ9"
      }
    },
    {
      "cell_type": "markdown",
      "source": [
        "##kMC results shorter than 1 microsecond or longer than 2 seconds will be rejected. Additionally, if the distance to the second closest centroid - average of distances is not smaller than 1.2*(distance to the closest centroid), the K-mean labeling is rejected."
      ],
      "metadata": {
        "id": "gjprXuqtaaV1"
      }
    },
    {
      "cell_type": "code",
      "source": [
        "RenderTable(database,cycle=Cycle, raw=1)"
      ],
      "metadata": {
        "colab": {
          "base_uri": "https://localhost:8080/",
          "height": 1000
        },
        "id": "NV8hrUuvRxhB",
        "outputId": "7eb20042-48de-468b-eb69-d7d48bb68c76"
      },
      "execution_count": null,
      "outputs": [
        {
          "output_type": "display_data",
          "data": {
            "text/html": [
              "<html>\n",
              "<head><meta charset=\"utf-8\" /></head>\n",
              "<body>\n",
              "    <div>            <script src=\"https://cdnjs.cloudflare.com/ajax/libs/mathjax/2.7.5/MathJax.js?config=TeX-AMS-MML_SVG\"></script><script type=\"text/javascript\">if (window.MathJax && window.MathJax.Hub && window.MathJax.Hub.Config) {window.MathJax.Hub.Config({SVG: {font: \"STIX-Web\"}});}</script>                <script type=\"text/javascript\">window.PlotlyConfig = {MathJaxConfig: 'local'};</script>\n",
              "        <script src=\"https://cdn.plot.ly/plotly-2.18.2.min.js\"></script>                <div id=\"84e421ab-b712-404d-9186-182110e03ee3\" class=\"plotly-graph-div\" style=\"height:525px; width:100%;\"></div>            <script type=\"text/javascript\">                                    window.PLOTLYENV=window.PLOTLYENV || {};                                    if (document.getElementById(\"84e421ab-b712-404d-9186-182110e03ee3\")) {                    Plotly.newPlot(                        \"84e421ab-b712-404d-9186-182110e03ee3\",                        [{\"cells\":{\"align\":\"center\",\"fill\":{\"color\":\"lavender\"},\"format\":[\"d\",\".3e\",\".3f\",\".3f\",\".3f\",\".3f\",\"d\"],\"values\":[[0.0,1.0,2.0,3.0,4.0,5.0,6.0,7.0,8.0,9.0,10.0,11.0,12.0,13.0,14.0,15.0],[4.328331124270335e-05,0.0004105081607121974,2.8744912147521973,0.09906468540430069,3.49297552020289e-05,9.597395944638265e-08,0.019439436495304108,0.03390584513545036,0.0002522426948416978,0.0012489379150792956,0.00043956932495348155,0.0030376738868653774,1.5657507901778445e-05,0.33504754304885864,2.3403956674883375e-06,0.00998611468821764],[1.0,1.0399999618530273,3.9800000190734863,1.059999942779541,1.0,0.019999999552965164,1.0199999809265137,1.1799999475479126,3.9000000953674316,2.880000114440918,1.0,1.0,1.0,3.819999933242798,0.7400000095367432,1.5],[0.0,0.0,0.0,3.9600000381469727,0.0,0.0,0.0,1.2799999713897705,0.0,0.0,0.0,0.25999999046325684,0.0,0.0,0.0,0.0],[1.6263371850610682,1.7893909256995673,0.7496457610371032,1.2681547221155598,1.5926062836840416,1.2934917953274545,2.0471933275267364,1.387229533838335,1.3645947300851722,1.3026525469767227,2.0421175996257013,1.55155381951933,2.0421175996257013,0.7496457610371032,1.2699227552764087,1.4547606117019183],[1.760581347516278,2.2664488610219204,0.5160046156277915,2.576561942829231,0.6661099984133654,3.906735847660841,4.8867481557146375,4.771268555115929,0.8647936242667789,1.2421569155971566,5.182008190998385,0.7839449573843599,5.182008190998385,0.5160046156277915,3.897112273864179,0.4412707984733677],[1.0,3.0,0.0,3.0,1.0,3.0,2.0,1.0,1.0,1.0,2.0,1.0,2.0,0.0,3.0,1.0]]},\"header\":{\"align\":\"center\",\"fill\":{\"color\":\"paleturquoise\"},\"values\":[\"KMC index\",\"time\",\"inorganic SEI\",\"organic SEI\",\"distance to the second closest centroid - average of distances\",\"1.2*(distance to the closest centroid)\",\"Kmean\"]},\"type\":\"table\"}],                        {\"template\":{\"data\":{\"histogram2dcontour\":[{\"type\":\"histogram2dcontour\",\"colorbar\":{\"outlinewidth\":0,\"ticks\":\"\"},\"colorscale\":[[0.0,\"#0d0887\"],[0.1111111111111111,\"#46039f\"],[0.2222222222222222,\"#7201a8\"],[0.3333333333333333,\"#9c179e\"],[0.4444444444444444,\"#bd3786\"],[0.5555555555555556,\"#d8576b\"],[0.6666666666666666,\"#ed7953\"],[0.7777777777777778,\"#fb9f3a\"],[0.8888888888888888,\"#fdca26\"],[1.0,\"#f0f921\"]]}],\"choropleth\":[{\"type\":\"choropleth\",\"colorbar\":{\"outlinewidth\":0,\"ticks\":\"\"}}],\"histogram2d\":[{\"type\":\"histogram2d\",\"colorbar\":{\"outlinewidth\":0,\"ticks\":\"\"},\"colorscale\":[[0.0,\"#0d0887\"],[0.1111111111111111,\"#46039f\"],[0.2222222222222222,\"#7201a8\"],[0.3333333333333333,\"#9c179e\"],[0.4444444444444444,\"#bd3786\"],[0.5555555555555556,\"#d8576b\"],[0.6666666666666666,\"#ed7953\"],[0.7777777777777778,\"#fb9f3a\"],[0.8888888888888888,\"#fdca26\"],[1.0,\"#f0f921\"]]}],\"heatmap\":[{\"type\":\"heatmap\",\"colorbar\":{\"outlinewidth\":0,\"ticks\":\"\"},\"colorscale\":[[0.0,\"#0d0887\"],[0.1111111111111111,\"#46039f\"],[0.2222222222222222,\"#7201a8\"],[0.3333333333333333,\"#9c179e\"],[0.4444444444444444,\"#bd3786\"],[0.5555555555555556,\"#d8576b\"],[0.6666666666666666,\"#ed7953\"],[0.7777777777777778,\"#fb9f3a\"],[0.8888888888888888,\"#fdca26\"],[1.0,\"#f0f921\"]]}],\"heatmapgl\":[{\"type\":\"heatmapgl\",\"colorbar\":{\"outlinewidth\":0,\"ticks\":\"\"},\"colorscale\":[[0.0,\"#0d0887\"],[0.1111111111111111,\"#46039f\"],[0.2222222222222222,\"#7201a8\"],[0.3333333333333333,\"#9c179e\"],[0.4444444444444444,\"#bd3786\"],[0.5555555555555556,\"#d8576b\"],[0.6666666666666666,\"#ed7953\"],[0.7777777777777778,\"#fb9f3a\"],[0.8888888888888888,\"#fdca26\"],[1.0,\"#f0f921\"]]}],\"contourcarpet\":[{\"type\":\"contourcarpet\",\"colorbar\":{\"outlinewidth\":0,\"ticks\":\"\"}}],\"contour\":[{\"type\":\"contour\",\"colorbar\":{\"outlinewidth\":0,\"ticks\":\"\"},\"colorscale\":[[0.0,\"#0d0887\"],[0.1111111111111111,\"#46039f\"],[0.2222222222222222,\"#7201a8\"],[0.3333333333333333,\"#9c179e\"],[0.4444444444444444,\"#bd3786\"],[0.5555555555555556,\"#d8576b\"],[0.6666666666666666,\"#ed7953\"],[0.7777777777777778,\"#fb9f3a\"],[0.8888888888888888,\"#fdca26\"],[1.0,\"#f0f921\"]]}],\"surface\":[{\"type\":\"surface\",\"colorbar\":{\"outlinewidth\":0,\"ticks\":\"\"},\"colorscale\":[[0.0,\"#0d0887\"],[0.1111111111111111,\"#46039f\"],[0.2222222222222222,\"#7201a8\"],[0.3333333333333333,\"#9c179e\"],[0.4444444444444444,\"#bd3786\"],[0.5555555555555556,\"#d8576b\"],[0.6666666666666666,\"#ed7953\"],[0.7777777777777778,\"#fb9f3a\"],[0.8888888888888888,\"#fdca26\"],[1.0,\"#f0f921\"]]}],\"mesh3d\":[{\"type\":\"mesh3d\",\"colorbar\":{\"outlinewidth\":0,\"ticks\":\"\"}}],\"scatter\":[{\"fillpattern\":{\"fillmode\":\"overlay\",\"size\":10,\"solidity\":0.2},\"type\":\"scatter\"}],\"parcoords\":[{\"type\":\"parcoords\",\"line\":{\"colorbar\":{\"outlinewidth\":0,\"ticks\":\"\"}}}],\"scatterpolargl\":[{\"type\":\"scatterpolargl\",\"marker\":{\"colorbar\":{\"outlinewidth\":0,\"ticks\":\"\"}}}],\"bar\":[{\"error_x\":{\"color\":\"#2a3f5f\"},\"error_y\":{\"color\":\"#2a3f5f\"},\"marker\":{\"line\":{\"color\":\"#E5ECF6\",\"width\":0.5},\"pattern\":{\"fillmode\":\"overlay\",\"size\":10,\"solidity\":0.2}},\"type\":\"bar\"}],\"scattergeo\":[{\"type\":\"scattergeo\",\"marker\":{\"colorbar\":{\"outlinewidth\":0,\"ticks\":\"\"}}}],\"scatterpolar\":[{\"type\":\"scatterpolar\",\"marker\":{\"colorbar\":{\"outlinewidth\":0,\"ticks\":\"\"}}}],\"histogram\":[{\"marker\":{\"pattern\":{\"fillmode\":\"overlay\",\"size\":10,\"solidity\":0.2}},\"type\":\"histogram\"}],\"scattergl\":[{\"type\":\"scattergl\",\"marker\":{\"colorbar\":{\"outlinewidth\":0,\"ticks\":\"\"}}}],\"scatter3d\":[{\"type\":\"scatter3d\",\"line\":{\"colorbar\":{\"outlinewidth\":0,\"ticks\":\"\"}},\"marker\":{\"colorbar\":{\"outlinewidth\":0,\"ticks\":\"\"}}}],\"scattermapbox\":[{\"type\":\"scattermapbox\",\"marker\":{\"colorbar\":{\"outlinewidth\":0,\"ticks\":\"\"}}}],\"scatterternary\":[{\"type\":\"scatterternary\",\"marker\":{\"colorbar\":{\"outlinewidth\":0,\"ticks\":\"\"}}}],\"scattercarpet\":[{\"type\":\"scattercarpet\",\"marker\":{\"colorbar\":{\"outlinewidth\":0,\"ticks\":\"\"}}}],\"carpet\":[{\"aaxis\":{\"endlinecolor\":\"#2a3f5f\",\"gridcolor\":\"white\",\"linecolor\":\"white\",\"minorgridcolor\":\"white\",\"startlinecolor\":\"#2a3f5f\"},\"baxis\":{\"endlinecolor\":\"#2a3f5f\",\"gridcolor\":\"white\",\"linecolor\":\"white\",\"minorgridcolor\":\"white\",\"startlinecolor\":\"#2a3f5f\"},\"type\":\"carpet\"}],\"table\":[{\"cells\":{\"fill\":{\"color\":\"#EBF0F8\"},\"line\":{\"color\":\"white\"}},\"header\":{\"fill\":{\"color\":\"#C8D4E3\"},\"line\":{\"color\":\"white\"}},\"type\":\"table\"}],\"barpolar\":[{\"marker\":{\"line\":{\"color\":\"#E5ECF6\",\"width\":0.5},\"pattern\":{\"fillmode\":\"overlay\",\"size\":10,\"solidity\":0.2}},\"type\":\"barpolar\"}],\"pie\":[{\"automargin\":true,\"type\":\"pie\"}]},\"layout\":{\"autotypenumbers\":\"strict\",\"colorway\":[\"#636efa\",\"#EF553B\",\"#00cc96\",\"#ab63fa\",\"#FFA15A\",\"#19d3f3\",\"#FF6692\",\"#B6E880\",\"#FF97FF\",\"#FECB52\"],\"font\":{\"color\":\"#2a3f5f\"},\"hovermode\":\"closest\",\"hoverlabel\":{\"align\":\"left\"},\"paper_bgcolor\":\"white\",\"plot_bgcolor\":\"#E5ECF6\",\"polar\":{\"bgcolor\":\"#E5ECF6\",\"angularaxis\":{\"gridcolor\":\"white\",\"linecolor\":\"white\",\"ticks\":\"\"},\"radialaxis\":{\"gridcolor\":\"white\",\"linecolor\":\"white\",\"ticks\":\"\"}},\"ternary\":{\"bgcolor\":\"#E5ECF6\",\"aaxis\":{\"gridcolor\":\"white\",\"linecolor\":\"white\",\"ticks\":\"\"},\"baxis\":{\"gridcolor\":\"white\",\"linecolor\":\"white\",\"ticks\":\"\"},\"caxis\":{\"gridcolor\":\"white\",\"linecolor\":\"white\",\"ticks\":\"\"}},\"coloraxis\":{\"colorbar\":{\"outlinewidth\":0,\"ticks\":\"\"}},\"colorscale\":{\"sequential\":[[0.0,\"#0d0887\"],[0.1111111111111111,\"#46039f\"],[0.2222222222222222,\"#7201a8\"],[0.3333333333333333,\"#9c179e\"],[0.4444444444444444,\"#bd3786\"],[0.5555555555555556,\"#d8576b\"],[0.6666666666666666,\"#ed7953\"],[0.7777777777777778,\"#fb9f3a\"],[0.8888888888888888,\"#fdca26\"],[1.0,\"#f0f921\"]],\"sequentialminus\":[[0.0,\"#0d0887\"],[0.1111111111111111,\"#46039f\"],[0.2222222222222222,\"#7201a8\"],[0.3333333333333333,\"#9c179e\"],[0.4444444444444444,\"#bd3786\"],[0.5555555555555556,\"#d8576b\"],[0.6666666666666666,\"#ed7953\"],[0.7777777777777778,\"#fb9f3a\"],[0.8888888888888888,\"#fdca26\"],[1.0,\"#f0f921\"]],\"diverging\":[[0,\"#8e0152\"],[0.1,\"#c51b7d\"],[0.2,\"#de77ae\"],[0.3,\"#f1b6da\"],[0.4,\"#fde0ef\"],[0.5,\"#f7f7f7\"],[0.6,\"#e6f5d0\"],[0.7,\"#b8e186\"],[0.8,\"#7fbc41\"],[0.9,\"#4d9221\"],[1,\"#276419\"]]},\"xaxis\":{\"gridcolor\":\"white\",\"linecolor\":\"white\",\"ticks\":\"\",\"title\":{\"standoff\":15},\"zerolinecolor\":\"white\",\"automargin\":true,\"zerolinewidth\":2},\"yaxis\":{\"gridcolor\":\"white\",\"linecolor\":\"white\",\"ticks\":\"\",\"title\":{\"standoff\":15},\"zerolinecolor\":\"white\",\"automargin\":true,\"zerolinewidth\":2},\"scene\":{\"xaxis\":{\"backgroundcolor\":\"#E5ECF6\",\"gridcolor\":\"white\",\"linecolor\":\"white\",\"showbackground\":true,\"ticks\":\"\",\"zerolinecolor\":\"white\",\"gridwidth\":2},\"yaxis\":{\"backgroundcolor\":\"#E5ECF6\",\"gridcolor\":\"white\",\"linecolor\":\"white\",\"showbackground\":true,\"ticks\":\"\",\"zerolinecolor\":\"white\",\"gridwidth\":2},\"zaxis\":{\"backgroundcolor\":\"#E5ECF6\",\"gridcolor\":\"white\",\"linecolor\":\"white\",\"showbackground\":true,\"ticks\":\"\",\"zerolinecolor\":\"white\",\"gridwidth\":2}},\"shapedefaults\":{\"line\":{\"color\":\"#2a3f5f\"}},\"annotationdefaults\":{\"arrowcolor\":\"#2a3f5f\",\"arrowhead\":0,\"arrowwidth\":1},\"geo\":{\"bgcolor\":\"white\",\"landcolor\":\"#E5ECF6\",\"subunitcolor\":\"white\",\"showland\":true,\"showlakes\":true,\"lakecolor\":\"white\"},\"title\":{\"x\":0.05},\"mapbox\":{\"style\":\"light\"}}},\"title\":{\"text\":\"KMC table for cycle 5 (raw data)\"}},                        {\"responsive\": true}                    ).then(function(){\n",
              "                            \n",
              "var gd = document.getElementById('84e421ab-b712-404d-9186-182110e03ee3');\n",
              "var x = new MutationObserver(function (mutations, observer) {{\n",
              "        var display = window.getComputedStyle(gd).display;\n",
              "        if (!display || display === 'none') {{\n",
              "            console.log([gd, 'removed!']);\n",
              "            Plotly.purge(gd);\n",
              "            observer.disconnect();\n",
              "        }}\n",
              "}});\n",
              "\n",
              "// Listen for the removal of the full notebook cells\n",
              "var notebookContainer = gd.closest('#notebook-container');\n",
              "if (notebookContainer) {{\n",
              "    x.observe(notebookContainer, {childList: true});\n",
              "}}\n",
              "\n",
              "// Listen for the clearing of the current output cell\n",
              "var outputEl = gd.closest('.output');\n",
              "if (outputEl) {{\n",
              "    x.observe(outputEl, {childList: true});\n",
              "}}\n",
              "\n",
              "                        })                };                            </script>        </div>\n",
              "</body>\n",
              "</html>"
            ]
          },
          "metadata": {}
        },
        {
          "output_type": "display_data",
          "data": {
            "text/html": [
              "<html>\n",
              "<head><meta charset=\"utf-8\" /></head>\n",
              "<body>\n",
              "    <div>            <script src=\"https://cdnjs.cloudflare.com/ajax/libs/mathjax/2.7.5/MathJax.js?config=TeX-AMS-MML_SVG\"></script><script type=\"text/javascript\">if (window.MathJax && window.MathJax.Hub && window.MathJax.Hub.Config) {window.MathJax.Hub.Config({SVG: {font: \"STIX-Web\"}});}</script>                <script type=\"text/javascript\">window.PlotlyConfig = {MathJaxConfig: 'local'};</script>\n",
              "        <script src=\"https://cdn.plot.ly/plotly-2.18.2.min.js\"></script>                <div id=\"130c1750-863e-42ea-b943-43ecc2217060\" class=\"plotly-graph-div\" style=\"height:525px; width:100%;\"></div>            <script type=\"text/javascript\">                                    window.PLOTLYENV=window.PLOTLYENV || {};                                    if (document.getElementById(\"130c1750-863e-42ea-b943-43ecc2217060\")) {                    Plotly.newPlot(                        \"130c1750-863e-42ea-b943-43ecc2217060\",                        [{\"alignmentgroup\":\"True\",\"bingroup\":\"x\",\"hovertemplate\":\"Kmean=%{x}<br>count=%{y}<extra></extra>\",\"legendgroup\":\"\",\"marker\":{\"color\":\"#636efa\",\"pattern\":{\"shape\":\"\"}},\"name\":\"\",\"nbinsx\":4,\"offsetgroup\":\"\",\"orientation\":\"v\",\"showlegend\":false,\"x\":[1.0,3.0,0.0,3.0,1.0,3.0,2.0,1.0,1.0,1.0,2.0,1.0,2.0,0.0,3.0,1.0],\"xaxis\":\"x\",\"yaxis\":\"y\",\"type\":\"histogram\"}],                        {\"template\":{\"data\":{\"histogram2dcontour\":[{\"type\":\"histogram2dcontour\",\"colorbar\":{\"outlinewidth\":0,\"ticks\":\"\"},\"colorscale\":[[0.0,\"#0d0887\"],[0.1111111111111111,\"#46039f\"],[0.2222222222222222,\"#7201a8\"],[0.3333333333333333,\"#9c179e\"],[0.4444444444444444,\"#bd3786\"],[0.5555555555555556,\"#d8576b\"],[0.6666666666666666,\"#ed7953\"],[0.7777777777777778,\"#fb9f3a\"],[0.8888888888888888,\"#fdca26\"],[1.0,\"#f0f921\"]]}],\"choropleth\":[{\"type\":\"choropleth\",\"colorbar\":{\"outlinewidth\":0,\"ticks\":\"\"}}],\"histogram2d\":[{\"type\":\"histogram2d\",\"colorbar\":{\"outlinewidth\":0,\"ticks\":\"\"},\"colorscale\":[[0.0,\"#0d0887\"],[0.1111111111111111,\"#46039f\"],[0.2222222222222222,\"#7201a8\"],[0.3333333333333333,\"#9c179e\"],[0.4444444444444444,\"#bd3786\"],[0.5555555555555556,\"#d8576b\"],[0.6666666666666666,\"#ed7953\"],[0.7777777777777778,\"#fb9f3a\"],[0.8888888888888888,\"#fdca26\"],[1.0,\"#f0f921\"]]}],\"heatmap\":[{\"type\":\"heatmap\",\"colorbar\":{\"outlinewidth\":0,\"ticks\":\"\"},\"colorscale\":[[0.0,\"#0d0887\"],[0.1111111111111111,\"#46039f\"],[0.2222222222222222,\"#7201a8\"],[0.3333333333333333,\"#9c179e\"],[0.4444444444444444,\"#bd3786\"],[0.5555555555555556,\"#d8576b\"],[0.6666666666666666,\"#ed7953\"],[0.7777777777777778,\"#fb9f3a\"],[0.8888888888888888,\"#fdca26\"],[1.0,\"#f0f921\"]]}],\"heatmapgl\":[{\"type\":\"heatmapgl\",\"colorbar\":{\"outlinewidth\":0,\"ticks\":\"\"},\"colorscale\":[[0.0,\"#0d0887\"],[0.1111111111111111,\"#46039f\"],[0.2222222222222222,\"#7201a8\"],[0.3333333333333333,\"#9c179e\"],[0.4444444444444444,\"#bd3786\"],[0.5555555555555556,\"#d8576b\"],[0.6666666666666666,\"#ed7953\"],[0.7777777777777778,\"#fb9f3a\"],[0.8888888888888888,\"#fdca26\"],[1.0,\"#f0f921\"]]}],\"contourcarpet\":[{\"type\":\"contourcarpet\",\"colorbar\":{\"outlinewidth\":0,\"ticks\":\"\"}}],\"contour\":[{\"type\":\"contour\",\"colorbar\":{\"outlinewidth\":0,\"ticks\":\"\"},\"colorscale\":[[0.0,\"#0d0887\"],[0.1111111111111111,\"#46039f\"],[0.2222222222222222,\"#7201a8\"],[0.3333333333333333,\"#9c179e\"],[0.4444444444444444,\"#bd3786\"],[0.5555555555555556,\"#d8576b\"],[0.6666666666666666,\"#ed7953\"],[0.7777777777777778,\"#fb9f3a\"],[0.8888888888888888,\"#fdca26\"],[1.0,\"#f0f921\"]]}],\"surface\":[{\"type\":\"surface\",\"colorbar\":{\"outlinewidth\":0,\"ticks\":\"\"},\"colorscale\":[[0.0,\"#0d0887\"],[0.1111111111111111,\"#46039f\"],[0.2222222222222222,\"#7201a8\"],[0.3333333333333333,\"#9c179e\"],[0.4444444444444444,\"#bd3786\"],[0.5555555555555556,\"#d8576b\"],[0.6666666666666666,\"#ed7953\"],[0.7777777777777778,\"#fb9f3a\"],[0.8888888888888888,\"#fdca26\"],[1.0,\"#f0f921\"]]}],\"mesh3d\":[{\"type\":\"mesh3d\",\"colorbar\":{\"outlinewidth\":0,\"ticks\":\"\"}}],\"scatter\":[{\"fillpattern\":{\"fillmode\":\"overlay\",\"size\":10,\"solidity\":0.2},\"type\":\"scatter\"}],\"parcoords\":[{\"type\":\"parcoords\",\"line\":{\"colorbar\":{\"outlinewidth\":0,\"ticks\":\"\"}}}],\"scatterpolargl\":[{\"type\":\"scatterpolargl\",\"marker\":{\"colorbar\":{\"outlinewidth\":0,\"ticks\":\"\"}}}],\"bar\":[{\"error_x\":{\"color\":\"#2a3f5f\"},\"error_y\":{\"color\":\"#2a3f5f\"},\"marker\":{\"line\":{\"color\":\"#E5ECF6\",\"width\":0.5},\"pattern\":{\"fillmode\":\"overlay\",\"size\":10,\"solidity\":0.2}},\"type\":\"bar\"}],\"scattergeo\":[{\"type\":\"scattergeo\",\"marker\":{\"colorbar\":{\"outlinewidth\":0,\"ticks\":\"\"}}}],\"scatterpolar\":[{\"type\":\"scatterpolar\",\"marker\":{\"colorbar\":{\"outlinewidth\":0,\"ticks\":\"\"}}}],\"histogram\":[{\"marker\":{\"pattern\":{\"fillmode\":\"overlay\",\"size\":10,\"solidity\":0.2}},\"type\":\"histogram\"}],\"scattergl\":[{\"type\":\"scattergl\",\"marker\":{\"colorbar\":{\"outlinewidth\":0,\"ticks\":\"\"}}}],\"scatter3d\":[{\"type\":\"scatter3d\",\"line\":{\"colorbar\":{\"outlinewidth\":0,\"ticks\":\"\"}},\"marker\":{\"colorbar\":{\"outlinewidth\":0,\"ticks\":\"\"}}}],\"scattermapbox\":[{\"type\":\"scattermapbox\",\"marker\":{\"colorbar\":{\"outlinewidth\":0,\"ticks\":\"\"}}}],\"scatterternary\":[{\"type\":\"scatterternary\",\"marker\":{\"colorbar\":{\"outlinewidth\":0,\"ticks\":\"\"}}}],\"scattercarpet\":[{\"type\":\"scattercarpet\",\"marker\":{\"colorbar\":{\"outlinewidth\":0,\"ticks\":\"\"}}}],\"carpet\":[{\"aaxis\":{\"endlinecolor\":\"#2a3f5f\",\"gridcolor\":\"white\",\"linecolor\":\"white\",\"minorgridcolor\":\"white\",\"startlinecolor\":\"#2a3f5f\"},\"baxis\":{\"endlinecolor\":\"#2a3f5f\",\"gridcolor\":\"white\",\"linecolor\":\"white\",\"minorgridcolor\":\"white\",\"startlinecolor\":\"#2a3f5f\"},\"type\":\"carpet\"}],\"table\":[{\"cells\":{\"fill\":{\"color\":\"#EBF0F8\"},\"line\":{\"color\":\"white\"}},\"header\":{\"fill\":{\"color\":\"#C8D4E3\"},\"line\":{\"color\":\"white\"}},\"type\":\"table\"}],\"barpolar\":[{\"marker\":{\"line\":{\"color\":\"#E5ECF6\",\"width\":0.5},\"pattern\":{\"fillmode\":\"overlay\",\"size\":10,\"solidity\":0.2}},\"type\":\"barpolar\"}],\"pie\":[{\"automargin\":true,\"type\":\"pie\"}]},\"layout\":{\"autotypenumbers\":\"strict\",\"colorway\":[\"#636efa\",\"#EF553B\",\"#00cc96\",\"#ab63fa\",\"#FFA15A\",\"#19d3f3\",\"#FF6692\",\"#B6E880\",\"#FF97FF\",\"#FECB52\"],\"font\":{\"color\":\"#2a3f5f\"},\"hovermode\":\"closest\",\"hoverlabel\":{\"align\":\"left\"},\"paper_bgcolor\":\"white\",\"plot_bgcolor\":\"#E5ECF6\",\"polar\":{\"bgcolor\":\"#E5ECF6\",\"angularaxis\":{\"gridcolor\":\"white\",\"linecolor\":\"white\",\"ticks\":\"\"},\"radialaxis\":{\"gridcolor\":\"white\",\"linecolor\":\"white\",\"ticks\":\"\"}},\"ternary\":{\"bgcolor\":\"#E5ECF6\",\"aaxis\":{\"gridcolor\":\"white\",\"linecolor\":\"white\",\"ticks\":\"\"},\"baxis\":{\"gridcolor\":\"white\",\"linecolor\":\"white\",\"ticks\":\"\"},\"caxis\":{\"gridcolor\":\"white\",\"linecolor\":\"white\",\"ticks\":\"\"}},\"coloraxis\":{\"colorbar\":{\"outlinewidth\":0,\"ticks\":\"\"}},\"colorscale\":{\"sequential\":[[0.0,\"#0d0887\"],[0.1111111111111111,\"#46039f\"],[0.2222222222222222,\"#7201a8\"],[0.3333333333333333,\"#9c179e\"],[0.4444444444444444,\"#bd3786\"],[0.5555555555555556,\"#d8576b\"],[0.6666666666666666,\"#ed7953\"],[0.7777777777777778,\"#fb9f3a\"],[0.8888888888888888,\"#fdca26\"],[1.0,\"#f0f921\"]],\"sequentialminus\":[[0.0,\"#0d0887\"],[0.1111111111111111,\"#46039f\"],[0.2222222222222222,\"#7201a8\"],[0.3333333333333333,\"#9c179e\"],[0.4444444444444444,\"#bd3786\"],[0.5555555555555556,\"#d8576b\"],[0.6666666666666666,\"#ed7953\"],[0.7777777777777778,\"#fb9f3a\"],[0.8888888888888888,\"#fdca26\"],[1.0,\"#f0f921\"]],\"diverging\":[[0,\"#8e0152\"],[0.1,\"#c51b7d\"],[0.2,\"#de77ae\"],[0.3,\"#f1b6da\"],[0.4,\"#fde0ef\"],[0.5,\"#f7f7f7\"],[0.6,\"#e6f5d0\"],[0.7,\"#b8e186\"],[0.8,\"#7fbc41\"],[0.9,\"#4d9221\"],[1,\"#276419\"]]},\"xaxis\":{\"gridcolor\":\"white\",\"linecolor\":\"white\",\"ticks\":\"\",\"title\":{\"standoff\":15},\"zerolinecolor\":\"white\",\"automargin\":true,\"zerolinewidth\":2},\"yaxis\":{\"gridcolor\":\"white\",\"linecolor\":\"white\",\"ticks\":\"\",\"title\":{\"standoff\":15},\"zerolinecolor\":\"white\",\"automargin\":true,\"zerolinewidth\":2},\"scene\":{\"xaxis\":{\"backgroundcolor\":\"#E5ECF6\",\"gridcolor\":\"white\",\"linecolor\":\"white\",\"showbackground\":true,\"ticks\":\"\",\"zerolinecolor\":\"white\",\"gridwidth\":2},\"yaxis\":{\"backgroundcolor\":\"#E5ECF6\",\"gridcolor\":\"white\",\"linecolor\":\"white\",\"showbackground\":true,\"ticks\":\"\",\"zerolinecolor\":\"white\",\"gridwidth\":2},\"zaxis\":{\"backgroundcolor\":\"#E5ECF6\",\"gridcolor\":\"white\",\"linecolor\":\"white\",\"showbackground\":true,\"ticks\":\"\",\"zerolinecolor\":\"white\",\"gridwidth\":2}},\"shapedefaults\":{\"line\":{\"color\":\"#2a3f5f\"}},\"annotationdefaults\":{\"arrowcolor\":\"#2a3f5f\",\"arrowhead\":0,\"arrowwidth\":1},\"geo\":{\"bgcolor\":\"white\",\"landcolor\":\"#E5ECF6\",\"subunitcolor\":\"white\",\"showland\":true,\"showlakes\":true,\"lakecolor\":\"white\"},\"title\":{\"x\":0.05},\"mapbox\":{\"style\":\"light\"}}},\"xaxis\":{\"anchor\":\"y\",\"domain\":[0.0,1.0],\"title\":{\"text\":\"Kmean\"}},\"yaxis\":{\"anchor\":\"x\",\"domain\":[0.0,1.0],\"title\":{\"text\":\"count\"}},\"legend\":{\"tracegroupgap\":0},\"margin\":{\"t\":60},\"barmode\":\"relative\",\"bargap\":0.5,\"title\":{\"text\":\"Kmean lables for cycle 5 (raw data)\"}},                        {\"responsive\": true}                    ).then(function(){\n",
              "                            \n",
              "var gd = document.getElementById('130c1750-863e-42ea-b943-43ecc2217060');\n",
              "var x = new MutationObserver(function (mutations, observer) {{\n",
              "        var display = window.getComputedStyle(gd).display;\n",
              "        if (!display || display === 'none') {{\n",
              "            console.log([gd, 'removed!']);\n",
              "            Plotly.purge(gd);\n",
              "            observer.disconnect();\n",
              "        }}\n",
              "}});\n",
              "\n",
              "// Listen for the removal of the full notebook cells\n",
              "var notebookContainer = gd.closest('#notebook-container');\n",
              "if (notebookContainer) {{\n",
              "    x.observe(notebookContainer, {childList: true});\n",
              "}}\n",
              "\n",
              "// Listen for the clearing of the current output cell\n",
              "var outputEl = gd.closest('.output');\n",
              "if (outputEl) {{\n",
              "    x.observe(outputEl, {childList: true});\n",
              "}}\n",
              "\n",
              "                        })                };                            </script>        </div>\n",
              "</body>\n",
              "</html>"
            ]
          },
          "metadata": {}
        }
      ]
    },
    {
      "cell_type": "code",
      "source": [
        "RenderTable(database, cycle=Cycle, raw=0)"
      ],
      "metadata": {
        "colab": {
          "base_uri": "https://localhost:8080/",
          "height": 1000
        },
        "id": "5pvL6Rj1R1md",
        "outputId": "fc5c17df-9c7e-4a7e-9bc4-ed0825897b4d"
      },
      "execution_count": null,
      "outputs": [
        {
          "output_type": "display_data",
          "data": {
            "text/html": [
              "<html>\n",
              "<head><meta charset=\"utf-8\" /></head>\n",
              "<body>\n",
              "    <div>            <script src=\"https://cdnjs.cloudflare.com/ajax/libs/mathjax/2.7.5/MathJax.js?config=TeX-AMS-MML_SVG\"></script><script type=\"text/javascript\">if (window.MathJax && window.MathJax.Hub && window.MathJax.Hub.Config) {window.MathJax.Hub.Config({SVG: {font: \"STIX-Web\"}});}</script>                <script type=\"text/javascript\">window.PlotlyConfig = {MathJaxConfig: 'local'};</script>\n",
              "        <script src=\"https://cdn.plot.ly/plotly-2.18.2.min.js\"></script>                <div id=\"7af414fb-d6cd-48ca-828f-44f1b7f4457d\" class=\"plotly-graph-div\" style=\"height:525px; width:100%;\"></div>            <script type=\"text/javascript\">                                    window.PLOTLYENV=window.PLOTLYENV || {};                                    if (document.getElementById(\"7af414fb-d6cd-48ca-828f-44f1b7f4457d\")) {                    Plotly.newPlot(                        \"7af414fb-d6cd-48ca-828f-44f1b7f4457d\",                        [{\"cells\":{\"align\":\"center\",\"fill\":{\"color\":\"lavender\"},\"format\":[\"d\",\".3e\",\".3f\",\".3f\",\".3f\",\".3f\",\"d\"],\"values\":[[0.0,1.0,3.0,6.0,7.0,10.0,12.0,14.0],[4.328331124270335e-05,0.0004105081607121974,0.09906468540430069,0.019439436495304108,0.03390584513545036,0.00043956932495348155,1.5657507901778445e-05,2.3403956674883375e-06],[1.0,1.0399999618530273,1.059999942779541,1.0199999809265137,1.1799999475479126,1.0,1.0,0.7400000095367432],[0.0,0.0,3.9600000381469727,0.0,1.2799999713897705,0.0,0.0,0.0],[1.6263371850610682,1.7893909256995673,1.2681547221155598,2.0471933275267364,1.387229533838335,2.0421175996257013,2.0421175996257013,1.2699227552764087],[1.760581347516278,2.2664488610219204,2.576561942829231,4.8867481557146375,4.771268555115929,5.182008190998385,5.182008190998385,3.897112273864179],[1.0,3.0,3.0,2.0,1.0,2.0,2.0,3.0]]},\"header\":{\"align\":\"center\",\"fill\":{\"color\":\"paleturquoise\"},\"values\":[\"KMC index\",\"time\",\"inorganic SEI\",\"organic SEI\",\"distance to the second closest centroid - average of distances\",\"1.2*(distance to the closest centroid)\",\"Kmean\"]},\"type\":\"table\"}],                        {\"template\":{\"data\":{\"histogram2dcontour\":[{\"type\":\"histogram2dcontour\",\"colorbar\":{\"outlinewidth\":0,\"ticks\":\"\"},\"colorscale\":[[0.0,\"#0d0887\"],[0.1111111111111111,\"#46039f\"],[0.2222222222222222,\"#7201a8\"],[0.3333333333333333,\"#9c179e\"],[0.4444444444444444,\"#bd3786\"],[0.5555555555555556,\"#d8576b\"],[0.6666666666666666,\"#ed7953\"],[0.7777777777777778,\"#fb9f3a\"],[0.8888888888888888,\"#fdca26\"],[1.0,\"#f0f921\"]]}],\"choropleth\":[{\"type\":\"choropleth\",\"colorbar\":{\"outlinewidth\":0,\"ticks\":\"\"}}],\"histogram2d\":[{\"type\":\"histogram2d\",\"colorbar\":{\"outlinewidth\":0,\"ticks\":\"\"},\"colorscale\":[[0.0,\"#0d0887\"],[0.1111111111111111,\"#46039f\"],[0.2222222222222222,\"#7201a8\"],[0.3333333333333333,\"#9c179e\"],[0.4444444444444444,\"#bd3786\"],[0.5555555555555556,\"#d8576b\"],[0.6666666666666666,\"#ed7953\"],[0.7777777777777778,\"#fb9f3a\"],[0.8888888888888888,\"#fdca26\"],[1.0,\"#f0f921\"]]}],\"heatmap\":[{\"type\":\"heatmap\",\"colorbar\":{\"outlinewidth\":0,\"ticks\":\"\"},\"colorscale\":[[0.0,\"#0d0887\"],[0.1111111111111111,\"#46039f\"],[0.2222222222222222,\"#7201a8\"],[0.3333333333333333,\"#9c179e\"],[0.4444444444444444,\"#bd3786\"],[0.5555555555555556,\"#d8576b\"],[0.6666666666666666,\"#ed7953\"],[0.7777777777777778,\"#fb9f3a\"],[0.8888888888888888,\"#fdca26\"],[1.0,\"#f0f921\"]]}],\"heatmapgl\":[{\"type\":\"heatmapgl\",\"colorbar\":{\"outlinewidth\":0,\"ticks\":\"\"},\"colorscale\":[[0.0,\"#0d0887\"],[0.1111111111111111,\"#46039f\"],[0.2222222222222222,\"#7201a8\"],[0.3333333333333333,\"#9c179e\"],[0.4444444444444444,\"#bd3786\"],[0.5555555555555556,\"#d8576b\"],[0.6666666666666666,\"#ed7953\"],[0.7777777777777778,\"#fb9f3a\"],[0.8888888888888888,\"#fdca26\"],[1.0,\"#f0f921\"]]}],\"contourcarpet\":[{\"type\":\"contourcarpet\",\"colorbar\":{\"outlinewidth\":0,\"ticks\":\"\"}}],\"contour\":[{\"type\":\"contour\",\"colorbar\":{\"outlinewidth\":0,\"ticks\":\"\"},\"colorscale\":[[0.0,\"#0d0887\"],[0.1111111111111111,\"#46039f\"],[0.2222222222222222,\"#7201a8\"],[0.3333333333333333,\"#9c179e\"],[0.4444444444444444,\"#bd3786\"],[0.5555555555555556,\"#d8576b\"],[0.6666666666666666,\"#ed7953\"],[0.7777777777777778,\"#fb9f3a\"],[0.8888888888888888,\"#fdca26\"],[1.0,\"#f0f921\"]]}],\"surface\":[{\"type\":\"surface\",\"colorbar\":{\"outlinewidth\":0,\"ticks\":\"\"},\"colorscale\":[[0.0,\"#0d0887\"],[0.1111111111111111,\"#46039f\"],[0.2222222222222222,\"#7201a8\"],[0.3333333333333333,\"#9c179e\"],[0.4444444444444444,\"#bd3786\"],[0.5555555555555556,\"#d8576b\"],[0.6666666666666666,\"#ed7953\"],[0.7777777777777778,\"#fb9f3a\"],[0.8888888888888888,\"#fdca26\"],[1.0,\"#f0f921\"]]}],\"mesh3d\":[{\"type\":\"mesh3d\",\"colorbar\":{\"outlinewidth\":0,\"ticks\":\"\"}}],\"scatter\":[{\"fillpattern\":{\"fillmode\":\"overlay\",\"size\":10,\"solidity\":0.2},\"type\":\"scatter\"}],\"parcoords\":[{\"type\":\"parcoords\",\"line\":{\"colorbar\":{\"outlinewidth\":0,\"ticks\":\"\"}}}],\"scatterpolargl\":[{\"type\":\"scatterpolargl\",\"marker\":{\"colorbar\":{\"outlinewidth\":0,\"ticks\":\"\"}}}],\"bar\":[{\"error_x\":{\"color\":\"#2a3f5f\"},\"error_y\":{\"color\":\"#2a3f5f\"},\"marker\":{\"line\":{\"color\":\"#E5ECF6\",\"width\":0.5},\"pattern\":{\"fillmode\":\"overlay\",\"size\":10,\"solidity\":0.2}},\"type\":\"bar\"}],\"scattergeo\":[{\"type\":\"scattergeo\",\"marker\":{\"colorbar\":{\"outlinewidth\":0,\"ticks\":\"\"}}}],\"scatterpolar\":[{\"type\":\"scatterpolar\",\"marker\":{\"colorbar\":{\"outlinewidth\":0,\"ticks\":\"\"}}}],\"histogram\":[{\"marker\":{\"pattern\":{\"fillmode\":\"overlay\",\"size\":10,\"solidity\":0.2}},\"type\":\"histogram\"}],\"scattergl\":[{\"type\":\"scattergl\",\"marker\":{\"colorbar\":{\"outlinewidth\":0,\"ticks\":\"\"}}}],\"scatter3d\":[{\"type\":\"scatter3d\",\"line\":{\"colorbar\":{\"outlinewidth\":0,\"ticks\":\"\"}},\"marker\":{\"colorbar\":{\"outlinewidth\":0,\"ticks\":\"\"}}}],\"scattermapbox\":[{\"type\":\"scattermapbox\",\"marker\":{\"colorbar\":{\"outlinewidth\":0,\"ticks\":\"\"}}}],\"scatterternary\":[{\"type\":\"scatterternary\",\"marker\":{\"colorbar\":{\"outlinewidth\":0,\"ticks\":\"\"}}}],\"scattercarpet\":[{\"type\":\"scattercarpet\",\"marker\":{\"colorbar\":{\"outlinewidth\":0,\"ticks\":\"\"}}}],\"carpet\":[{\"aaxis\":{\"endlinecolor\":\"#2a3f5f\",\"gridcolor\":\"white\",\"linecolor\":\"white\",\"minorgridcolor\":\"white\",\"startlinecolor\":\"#2a3f5f\"},\"baxis\":{\"endlinecolor\":\"#2a3f5f\",\"gridcolor\":\"white\",\"linecolor\":\"white\",\"minorgridcolor\":\"white\",\"startlinecolor\":\"#2a3f5f\"},\"type\":\"carpet\"}],\"table\":[{\"cells\":{\"fill\":{\"color\":\"#EBF0F8\"},\"line\":{\"color\":\"white\"}},\"header\":{\"fill\":{\"color\":\"#C8D4E3\"},\"line\":{\"color\":\"white\"}},\"type\":\"table\"}],\"barpolar\":[{\"marker\":{\"line\":{\"color\":\"#E5ECF6\",\"width\":0.5},\"pattern\":{\"fillmode\":\"overlay\",\"size\":10,\"solidity\":0.2}},\"type\":\"barpolar\"}],\"pie\":[{\"automargin\":true,\"type\":\"pie\"}]},\"layout\":{\"autotypenumbers\":\"strict\",\"colorway\":[\"#636efa\",\"#EF553B\",\"#00cc96\",\"#ab63fa\",\"#FFA15A\",\"#19d3f3\",\"#FF6692\",\"#B6E880\",\"#FF97FF\",\"#FECB52\"],\"font\":{\"color\":\"#2a3f5f\"},\"hovermode\":\"closest\",\"hoverlabel\":{\"align\":\"left\"},\"paper_bgcolor\":\"white\",\"plot_bgcolor\":\"#E5ECF6\",\"polar\":{\"bgcolor\":\"#E5ECF6\",\"angularaxis\":{\"gridcolor\":\"white\",\"linecolor\":\"white\",\"ticks\":\"\"},\"radialaxis\":{\"gridcolor\":\"white\",\"linecolor\":\"white\",\"ticks\":\"\"}},\"ternary\":{\"bgcolor\":\"#E5ECF6\",\"aaxis\":{\"gridcolor\":\"white\",\"linecolor\":\"white\",\"ticks\":\"\"},\"baxis\":{\"gridcolor\":\"white\",\"linecolor\":\"white\",\"ticks\":\"\"},\"caxis\":{\"gridcolor\":\"white\",\"linecolor\":\"white\",\"ticks\":\"\"}},\"coloraxis\":{\"colorbar\":{\"outlinewidth\":0,\"ticks\":\"\"}},\"colorscale\":{\"sequential\":[[0.0,\"#0d0887\"],[0.1111111111111111,\"#46039f\"],[0.2222222222222222,\"#7201a8\"],[0.3333333333333333,\"#9c179e\"],[0.4444444444444444,\"#bd3786\"],[0.5555555555555556,\"#d8576b\"],[0.6666666666666666,\"#ed7953\"],[0.7777777777777778,\"#fb9f3a\"],[0.8888888888888888,\"#fdca26\"],[1.0,\"#f0f921\"]],\"sequentialminus\":[[0.0,\"#0d0887\"],[0.1111111111111111,\"#46039f\"],[0.2222222222222222,\"#7201a8\"],[0.3333333333333333,\"#9c179e\"],[0.4444444444444444,\"#bd3786\"],[0.5555555555555556,\"#d8576b\"],[0.6666666666666666,\"#ed7953\"],[0.7777777777777778,\"#fb9f3a\"],[0.8888888888888888,\"#fdca26\"],[1.0,\"#f0f921\"]],\"diverging\":[[0,\"#8e0152\"],[0.1,\"#c51b7d\"],[0.2,\"#de77ae\"],[0.3,\"#f1b6da\"],[0.4,\"#fde0ef\"],[0.5,\"#f7f7f7\"],[0.6,\"#e6f5d0\"],[0.7,\"#b8e186\"],[0.8,\"#7fbc41\"],[0.9,\"#4d9221\"],[1,\"#276419\"]]},\"xaxis\":{\"gridcolor\":\"white\",\"linecolor\":\"white\",\"ticks\":\"\",\"title\":{\"standoff\":15},\"zerolinecolor\":\"white\",\"automargin\":true,\"zerolinewidth\":2},\"yaxis\":{\"gridcolor\":\"white\",\"linecolor\":\"white\",\"ticks\":\"\",\"title\":{\"standoff\":15},\"zerolinecolor\":\"white\",\"automargin\":true,\"zerolinewidth\":2},\"scene\":{\"xaxis\":{\"backgroundcolor\":\"#E5ECF6\",\"gridcolor\":\"white\",\"linecolor\":\"white\",\"showbackground\":true,\"ticks\":\"\",\"zerolinecolor\":\"white\",\"gridwidth\":2},\"yaxis\":{\"backgroundcolor\":\"#E5ECF6\",\"gridcolor\":\"white\",\"linecolor\":\"white\",\"showbackground\":true,\"ticks\":\"\",\"zerolinecolor\":\"white\",\"gridwidth\":2},\"zaxis\":{\"backgroundcolor\":\"#E5ECF6\",\"gridcolor\":\"white\",\"linecolor\":\"white\",\"showbackground\":true,\"ticks\":\"\",\"zerolinecolor\":\"white\",\"gridwidth\":2}},\"shapedefaults\":{\"line\":{\"color\":\"#2a3f5f\"}},\"annotationdefaults\":{\"arrowcolor\":\"#2a3f5f\",\"arrowhead\":0,\"arrowwidth\":1},\"geo\":{\"bgcolor\":\"white\",\"landcolor\":\"#E5ECF6\",\"subunitcolor\":\"white\",\"showland\":true,\"showlakes\":true,\"lakecolor\":\"white\"},\"title\":{\"x\":0.05},\"mapbox\":{\"style\":\"light\"}}},\"title\":{\"text\":\"KMC table for cycle 5 (valid data)\"}},                        {\"responsive\": true}                    ).then(function(){\n",
              "                            \n",
              "var gd = document.getElementById('7af414fb-d6cd-48ca-828f-44f1b7f4457d');\n",
              "var x = new MutationObserver(function (mutations, observer) {{\n",
              "        var display = window.getComputedStyle(gd).display;\n",
              "        if (!display || display === 'none') {{\n",
              "            console.log([gd, 'removed!']);\n",
              "            Plotly.purge(gd);\n",
              "            observer.disconnect();\n",
              "        }}\n",
              "}});\n",
              "\n",
              "// Listen for the removal of the full notebook cells\n",
              "var notebookContainer = gd.closest('#notebook-container');\n",
              "if (notebookContainer) {{\n",
              "    x.observe(notebookContainer, {childList: true});\n",
              "}}\n",
              "\n",
              "// Listen for the clearing of the current output cell\n",
              "var outputEl = gd.closest('.output');\n",
              "if (outputEl) {{\n",
              "    x.observe(outputEl, {childList: true});\n",
              "}}\n",
              "\n",
              "                        })                };                            </script>        </div>\n",
              "</body>\n",
              "</html>"
            ]
          },
          "metadata": {}
        },
        {
          "output_type": "display_data",
          "data": {
            "text/html": [
              "<html>\n",
              "<head><meta charset=\"utf-8\" /></head>\n",
              "<body>\n",
              "    <div>            <script src=\"https://cdnjs.cloudflare.com/ajax/libs/mathjax/2.7.5/MathJax.js?config=TeX-AMS-MML_SVG\"></script><script type=\"text/javascript\">if (window.MathJax && window.MathJax.Hub && window.MathJax.Hub.Config) {window.MathJax.Hub.Config({SVG: {font: \"STIX-Web\"}});}</script>                <script type=\"text/javascript\">window.PlotlyConfig = {MathJaxConfig: 'local'};</script>\n",
              "        <script src=\"https://cdn.plot.ly/plotly-2.18.2.min.js\"></script>                <div id=\"113bd56e-c0d2-4184-8d33-9bfc138b86be\" class=\"plotly-graph-div\" style=\"height:525px; width:100%;\"></div>            <script type=\"text/javascript\">                                    window.PLOTLYENV=window.PLOTLYENV || {};                                    if (document.getElementById(\"113bd56e-c0d2-4184-8d33-9bfc138b86be\")) {                    Plotly.newPlot(                        \"113bd56e-c0d2-4184-8d33-9bfc138b86be\",                        [{\"alignmentgroup\":\"True\",\"bingroup\":\"x\",\"hovertemplate\":\"Kmean=%{x}<br>count=%{y}<extra></extra>\",\"legendgroup\":\"\",\"marker\":{\"color\":\"#636efa\",\"pattern\":{\"shape\":\"\"}},\"name\":\"\",\"nbinsx\":4,\"offsetgroup\":\"\",\"orientation\":\"v\",\"showlegend\":false,\"x\":[1.0,3.0,3.0,2.0,1.0,2.0,2.0,3.0],\"xaxis\":\"x\",\"yaxis\":\"y\",\"type\":\"histogram\"}],                        {\"template\":{\"data\":{\"histogram2dcontour\":[{\"type\":\"histogram2dcontour\",\"colorbar\":{\"outlinewidth\":0,\"ticks\":\"\"},\"colorscale\":[[0.0,\"#0d0887\"],[0.1111111111111111,\"#46039f\"],[0.2222222222222222,\"#7201a8\"],[0.3333333333333333,\"#9c179e\"],[0.4444444444444444,\"#bd3786\"],[0.5555555555555556,\"#d8576b\"],[0.6666666666666666,\"#ed7953\"],[0.7777777777777778,\"#fb9f3a\"],[0.8888888888888888,\"#fdca26\"],[1.0,\"#f0f921\"]]}],\"choropleth\":[{\"type\":\"choropleth\",\"colorbar\":{\"outlinewidth\":0,\"ticks\":\"\"}}],\"histogram2d\":[{\"type\":\"histogram2d\",\"colorbar\":{\"outlinewidth\":0,\"ticks\":\"\"},\"colorscale\":[[0.0,\"#0d0887\"],[0.1111111111111111,\"#46039f\"],[0.2222222222222222,\"#7201a8\"],[0.3333333333333333,\"#9c179e\"],[0.4444444444444444,\"#bd3786\"],[0.5555555555555556,\"#d8576b\"],[0.6666666666666666,\"#ed7953\"],[0.7777777777777778,\"#fb9f3a\"],[0.8888888888888888,\"#fdca26\"],[1.0,\"#f0f921\"]]}],\"heatmap\":[{\"type\":\"heatmap\",\"colorbar\":{\"outlinewidth\":0,\"ticks\":\"\"},\"colorscale\":[[0.0,\"#0d0887\"],[0.1111111111111111,\"#46039f\"],[0.2222222222222222,\"#7201a8\"],[0.3333333333333333,\"#9c179e\"],[0.4444444444444444,\"#bd3786\"],[0.5555555555555556,\"#d8576b\"],[0.6666666666666666,\"#ed7953\"],[0.7777777777777778,\"#fb9f3a\"],[0.8888888888888888,\"#fdca26\"],[1.0,\"#f0f921\"]]}],\"heatmapgl\":[{\"type\":\"heatmapgl\",\"colorbar\":{\"outlinewidth\":0,\"ticks\":\"\"},\"colorscale\":[[0.0,\"#0d0887\"],[0.1111111111111111,\"#46039f\"],[0.2222222222222222,\"#7201a8\"],[0.3333333333333333,\"#9c179e\"],[0.4444444444444444,\"#bd3786\"],[0.5555555555555556,\"#d8576b\"],[0.6666666666666666,\"#ed7953\"],[0.7777777777777778,\"#fb9f3a\"],[0.8888888888888888,\"#fdca26\"],[1.0,\"#f0f921\"]]}],\"contourcarpet\":[{\"type\":\"contourcarpet\",\"colorbar\":{\"outlinewidth\":0,\"ticks\":\"\"}}],\"contour\":[{\"type\":\"contour\",\"colorbar\":{\"outlinewidth\":0,\"ticks\":\"\"},\"colorscale\":[[0.0,\"#0d0887\"],[0.1111111111111111,\"#46039f\"],[0.2222222222222222,\"#7201a8\"],[0.3333333333333333,\"#9c179e\"],[0.4444444444444444,\"#bd3786\"],[0.5555555555555556,\"#d8576b\"],[0.6666666666666666,\"#ed7953\"],[0.7777777777777778,\"#fb9f3a\"],[0.8888888888888888,\"#fdca26\"],[1.0,\"#f0f921\"]]}],\"surface\":[{\"type\":\"surface\",\"colorbar\":{\"outlinewidth\":0,\"ticks\":\"\"},\"colorscale\":[[0.0,\"#0d0887\"],[0.1111111111111111,\"#46039f\"],[0.2222222222222222,\"#7201a8\"],[0.3333333333333333,\"#9c179e\"],[0.4444444444444444,\"#bd3786\"],[0.5555555555555556,\"#d8576b\"],[0.6666666666666666,\"#ed7953\"],[0.7777777777777778,\"#fb9f3a\"],[0.8888888888888888,\"#fdca26\"],[1.0,\"#f0f921\"]]}],\"mesh3d\":[{\"type\":\"mesh3d\",\"colorbar\":{\"outlinewidth\":0,\"ticks\":\"\"}}],\"scatter\":[{\"fillpattern\":{\"fillmode\":\"overlay\",\"size\":10,\"solidity\":0.2},\"type\":\"scatter\"}],\"parcoords\":[{\"type\":\"parcoords\",\"line\":{\"colorbar\":{\"outlinewidth\":0,\"ticks\":\"\"}}}],\"scatterpolargl\":[{\"type\":\"scatterpolargl\",\"marker\":{\"colorbar\":{\"outlinewidth\":0,\"ticks\":\"\"}}}],\"bar\":[{\"error_x\":{\"color\":\"#2a3f5f\"},\"error_y\":{\"color\":\"#2a3f5f\"},\"marker\":{\"line\":{\"color\":\"#E5ECF6\",\"width\":0.5},\"pattern\":{\"fillmode\":\"overlay\",\"size\":10,\"solidity\":0.2}},\"type\":\"bar\"}],\"scattergeo\":[{\"type\":\"scattergeo\",\"marker\":{\"colorbar\":{\"outlinewidth\":0,\"ticks\":\"\"}}}],\"scatterpolar\":[{\"type\":\"scatterpolar\",\"marker\":{\"colorbar\":{\"outlinewidth\":0,\"ticks\":\"\"}}}],\"histogram\":[{\"marker\":{\"pattern\":{\"fillmode\":\"overlay\",\"size\":10,\"solidity\":0.2}},\"type\":\"histogram\"}],\"scattergl\":[{\"type\":\"scattergl\",\"marker\":{\"colorbar\":{\"outlinewidth\":0,\"ticks\":\"\"}}}],\"scatter3d\":[{\"type\":\"scatter3d\",\"line\":{\"colorbar\":{\"outlinewidth\":0,\"ticks\":\"\"}},\"marker\":{\"colorbar\":{\"outlinewidth\":0,\"ticks\":\"\"}}}],\"scattermapbox\":[{\"type\":\"scattermapbox\",\"marker\":{\"colorbar\":{\"outlinewidth\":0,\"ticks\":\"\"}}}],\"scatterternary\":[{\"type\":\"scatterternary\",\"marker\":{\"colorbar\":{\"outlinewidth\":0,\"ticks\":\"\"}}}],\"scattercarpet\":[{\"type\":\"scattercarpet\",\"marker\":{\"colorbar\":{\"outlinewidth\":0,\"ticks\":\"\"}}}],\"carpet\":[{\"aaxis\":{\"endlinecolor\":\"#2a3f5f\",\"gridcolor\":\"white\",\"linecolor\":\"white\",\"minorgridcolor\":\"white\",\"startlinecolor\":\"#2a3f5f\"},\"baxis\":{\"endlinecolor\":\"#2a3f5f\",\"gridcolor\":\"white\",\"linecolor\":\"white\",\"minorgridcolor\":\"white\",\"startlinecolor\":\"#2a3f5f\"},\"type\":\"carpet\"}],\"table\":[{\"cells\":{\"fill\":{\"color\":\"#EBF0F8\"},\"line\":{\"color\":\"white\"}},\"header\":{\"fill\":{\"color\":\"#C8D4E3\"},\"line\":{\"color\":\"white\"}},\"type\":\"table\"}],\"barpolar\":[{\"marker\":{\"line\":{\"color\":\"#E5ECF6\",\"width\":0.5},\"pattern\":{\"fillmode\":\"overlay\",\"size\":10,\"solidity\":0.2}},\"type\":\"barpolar\"}],\"pie\":[{\"automargin\":true,\"type\":\"pie\"}]},\"layout\":{\"autotypenumbers\":\"strict\",\"colorway\":[\"#636efa\",\"#EF553B\",\"#00cc96\",\"#ab63fa\",\"#FFA15A\",\"#19d3f3\",\"#FF6692\",\"#B6E880\",\"#FF97FF\",\"#FECB52\"],\"font\":{\"color\":\"#2a3f5f\"},\"hovermode\":\"closest\",\"hoverlabel\":{\"align\":\"left\"},\"paper_bgcolor\":\"white\",\"plot_bgcolor\":\"#E5ECF6\",\"polar\":{\"bgcolor\":\"#E5ECF6\",\"angularaxis\":{\"gridcolor\":\"white\",\"linecolor\":\"white\",\"ticks\":\"\"},\"radialaxis\":{\"gridcolor\":\"white\",\"linecolor\":\"white\",\"ticks\":\"\"}},\"ternary\":{\"bgcolor\":\"#E5ECF6\",\"aaxis\":{\"gridcolor\":\"white\",\"linecolor\":\"white\",\"ticks\":\"\"},\"baxis\":{\"gridcolor\":\"white\",\"linecolor\":\"white\",\"ticks\":\"\"},\"caxis\":{\"gridcolor\":\"white\",\"linecolor\":\"white\",\"ticks\":\"\"}},\"coloraxis\":{\"colorbar\":{\"outlinewidth\":0,\"ticks\":\"\"}},\"colorscale\":{\"sequential\":[[0.0,\"#0d0887\"],[0.1111111111111111,\"#46039f\"],[0.2222222222222222,\"#7201a8\"],[0.3333333333333333,\"#9c179e\"],[0.4444444444444444,\"#bd3786\"],[0.5555555555555556,\"#d8576b\"],[0.6666666666666666,\"#ed7953\"],[0.7777777777777778,\"#fb9f3a\"],[0.8888888888888888,\"#fdca26\"],[1.0,\"#f0f921\"]],\"sequentialminus\":[[0.0,\"#0d0887\"],[0.1111111111111111,\"#46039f\"],[0.2222222222222222,\"#7201a8\"],[0.3333333333333333,\"#9c179e\"],[0.4444444444444444,\"#bd3786\"],[0.5555555555555556,\"#d8576b\"],[0.6666666666666666,\"#ed7953\"],[0.7777777777777778,\"#fb9f3a\"],[0.8888888888888888,\"#fdca26\"],[1.0,\"#f0f921\"]],\"diverging\":[[0,\"#8e0152\"],[0.1,\"#c51b7d\"],[0.2,\"#de77ae\"],[0.3,\"#f1b6da\"],[0.4,\"#fde0ef\"],[0.5,\"#f7f7f7\"],[0.6,\"#e6f5d0\"],[0.7,\"#b8e186\"],[0.8,\"#7fbc41\"],[0.9,\"#4d9221\"],[1,\"#276419\"]]},\"xaxis\":{\"gridcolor\":\"white\",\"linecolor\":\"white\",\"ticks\":\"\",\"title\":{\"standoff\":15},\"zerolinecolor\":\"white\",\"automargin\":true,\"zerolinewidth\":2},\"yaxis\":{\"gridcolor\":\"white\",\"linecolor\":\"white\",\"ticks\":\"\",\"title\":{\"standoff\":15},\"zerolinecolor\":\"white\",\"automargin\":true,\"zerolinewidth\":2},\"scene\":{\"xaxis\":{\"backgroundcolor\":\"#E5ECF6\",\"gridcolor\":\"white\",\"linecolor\":\"white\",\"showbackground\":true,\"ticks\":\"\",\"zerolinecolor\":\"white\",\"gridwidth\":2},\"yaxis\":{\"backgroundcolor\":\"#E5ECF6\",\"gridcolor\":\"white\",\"linecolor\":\"white\",\"showbackground\":true,\"ticks\":\"\",\"zerolinecolor\":\"white\",\"gridwidth\":2},\"zaxis\":{\"backgroundcolor\":\"#E5ECF6\",\"gridcolor\":\"white\",\"linecolor\":\"white\",\"showbackground\":true,\"ticks\":\"\",\"zerolinecolor\":\"white\",\"gridwidth\":2}},\"shapedefaults\":{\"line\":{\"color\":\"#2a3f5f\"}},\"annotationdefaults\":{\"arrowcolor\":\"#2a3f5f\",\"arrowhead\":0,\"arrowwidth\":1},\"geo\":{\"bgcolor\":\"white\",\"landcolor\":\"#E5ECF6\",\"subunitcolor\":\"white\",\"showland\":true,\"showlakes\":true,\"lakecolor\":\"white\"},\"title\":{\"x\":0.05},\"mapbox\":{\"style\":\"light\"}}},\"xaxis\":{\"anchor\":\"y\",\"domain\":[0.0,1.0],\"title\":{\"text\":\"Kmean\"}},\"yaxis\":{\"anchor\":\"x\",\"domain\":[0.0,1.0],\"title\":{\"text\":\"count\"}},\"legend\":{\"tracegroupgap\":0},\"margin\":{\"t\":60},\"barmode\":\"relative\",\"bargap\":0.5,\"title\":{\"text\":\"Kmean lables for cycle 5 (valid data)\"}},                        {\"responsive\": true}                    ).then(function(){\n",
              "                            \n",
              "var gd = document.getElementById('113bd56e-c0d2-4184-8d33-9bfc138b86be');\n",
              "var x = new MutationObserver(function (mutations, observer) {{\n",
              "        var display = window.getComputedStyle(gd).display;\n",
              "        if (!display || display === 'none') {{\n",
              "            console.log([gd, 'removed!']);\n",
              "            Plotly.purge(gd);\n",
              "            observer.disconnect();\n",
              "        }}\n",
              "}});\n",
              "\n",
              "// Listen for the removal of the full notebook cells\n",
              "var notebookContainer = gd.closest('#notebook-container');\n",
              "if (notebookContainer) {{\n",
              "    x.observe(notebookContainer, {childList: true});\n",
              "}}\n",
              "\n",
              "// Listen for the clearing of the current output cell\n",
              "var outputEl = gd.closest('.output');\n",
              "if (outputEl) {{\n",
              "    x.observe(outputEl, {childList: true});\n",
              "}}\n",
              "\n",
              "                        })                };                            </script>        </div>\n",
              "</body>\n",
              "</html>"
            ]
          },
          "metadata": {}
        }
      ]
    },
    {
      "cell_type": "markdown",
      "source": [
        "##Check the kMC output based on the kMC index in the above table."
      ],
      "metadata": {
        "id": "hG2yHiruMTc5"
      }
    },
    {
      "cell_type": "code",
      "source": [
        "RenderKMC(8, cycle=Cycle, list=KMClist)"
      ],
      "metadata": {
        "colab": {
          "base_uri": "https://localhost:8080/",
          "height": 517
        },
        "id": "GpxhMF_GR5uf",
        "outputId": "5e25a436-e648-4912-a711-03570cc4fcff"
      },
      "execution_count": null,
      "outputs": [
        {
          "output_type": "display_data",
          "data": {
            "text/html": [
              "<html>\n",
              "<head><meta charset=\"utf-8\" /></head>\n",
              "<body>\n",
              "    <div>            <script src=\"https://cdnjs.cloudflare.com/ajax/libs/mathjax/2.7.5/MathJax.js?config=TeX-AMS-MML_SVG\"></script><script type=\"text/javascript\">if (window.MathJax && window.MathJax.Hub && window.MathJax.Hub.Config) {window.MathJax.Hub.Config({SVG: {font: \"STIX-Web\"}});}</script>                <script type=\"text/javascript\">window.PlotlyConfig = {MathJaxConfig: 'local'};</script>\n",
              "        <script src=\"https://cdn.plot.ly/plotly-2.18.2.min.js\"></script>                <div id=\"37294d1b-450d-495b-b9fb-24a3b72977d4\" class=\"plotly-graph-div\" style=\"height:500px; width:500px;\"></div>            <script type=\"text/javascript\">                                    window.PLOTLYENV=window.PLOTLYENV || {};                                    if (document.getElementById(\"37294d1b-450d-495b-b9fb-24a3b72977d4\")) {                    Plotly.newPlot(                        \"37294d1b-450d-495b-b9fb-24a3b72977d4\",                        [{\"customdata\":[[\"Electrode\"],[\"inorganic SEI\"],[\"inorganic SEI\"],[\"inorganic SEI\"],[\"inorganic SEI\"],[\"dim. Li2EDC\"],[\"dim. Li2EDC\"],[\"dim. Li2EDC\"],[\"dim. Li2EDC\"],[\"dim. Li2EDC\"],[\"Li+.EC\"],[\"dim. Li2EDC\"],[\"Li+.EC\"],[\"Li+.EC\"],[\"Li+.EC\"],[\"dim. Li2EDC\"],[\"dim. Li2EDC\"],[\"Li+.EC\"],[\"Li+.EC\"],[\"dim. Li2EDC\"],[\"dim. Li2EDC\"],[\"Li+.EC\"],[\"Li+.EC\"],[\"dim. Li2EDC\"],[\"dim. Li2EDC\"],[\"dim. Li2EDC\"],[\"Li+.EC\"],[\"Li+.EC\"],[\"Li+.EC\"],[\"dim. Li2EDC\"],[\"Li+.EC\"],[\"Li+.EC\"],[\"Li+.EC\"],[\"Li+.EC\"],[\"Li+.EC\"],[\"Li+.EC\"],[\"dim. Li2EDC\"],[\"Li+.EC\"],[\"Li+.EC\"],[\"Li+.EC\"],[\"Li+.EC\"],[\"Li+.EC\"],[\"Li+.EC\"],[\"Li+.EC\"],[\"Li+.EC\"],[\"Li+.EC\"],[\"Li+.EC\"],[\"Li+.EC\"],[\"Li+.EC\"],[\"outer box\"],[\"Electrode\"],[\"inorganic SEI\"],[\"inorganic SEI\"],[\"inorganic SEI\"],[\"Li+.EC\"],[\"Li+.EC\"],[\"dim. Li2EDC\"],[\"dim. Li2EDC\"],[\"dim. Li2EDC\"],[\"Li+.EC\"],[\"dim. Li2EDC\"],[\"Li+.EC\"],[\"Li+.EC\"],[\"Li+.EC\"],[\"Li+.EC\"],[\"dim. Li2EDC\"],[\"Li+.EC\"],[\"dim. Li2EDC\"],[\"Li+.EC\"],[\"dim. Li2EDC\"],[\"dim. Li2EDC\"],[\"Li+.EC\"],[\"Li+.EC\"],[\"Li+.EC\"],[\"Li+.EC\"],[\"dim. Li2EDC\"],[\"Li+.EC\"],[\"Li+.EC\"],[\"dim. Li2EDC\"],[\"Li+.EC\"],[\"Li+.EC\"],[\"Li+.EC\"],[\"Li+.EC\"],[\"Li+.EC\"],[\"dim. Li2EDC\"],[\"Li+.EC\"],[\"Li+.EC\"],[\"Li+.EC\"],[\"Li+.EC\"],[\"Li+.EC\"],[\"dim. Li2EDC\"],[\"Li+.EC\"],[\"Li+.EC\"],[\"Li+.EC\"],[\"Li+.EC\"],[\"Li+.EC\"],[\"Li+.EC\"],[\"Li+.EC\"],[\"Li+.EC\"],[\"outer box\"],[\"Electrode\"],[\"inorganic SEI\"],[\"inorganic SEI\"],[\"inorganic SEI\"],[\"Li+.EC\"],[\"dim. Li2EDC\"],[\"dim. Li2EDC\"],[\"dim. Li2EDC\"],[\"Li+.EC\"],[\"dim. Li2EDC\"],[\"Li+.EC\"],[\"dim. Li2EDC\"],[\"Li+.EC\"],[\"Li+.EC\"],[\"Li+.EC\"],[\"Li+.EC\"],[\"dim. Li2EDC\"],[\"Li+.EC\"],[\"Li+.EC\"],[\"Li+.EC\"],[\"Li+.EC\"],[\"dim. Li2EDC\"],[\"Li+.EC\"],[\"dim. Li2EDC\"],[\"Li+.EC\"],[\"dim. Li2EDC\"],[\"Li+.EC\"],[\"Li+.EC\"],[\"Li+.EC\"],[\"dim. Li2EDC\"],[\"Li+.EC\"],[\"Li+.EC\"],[\"Li+.EC\"],[\"Li+.EC\"],[\"Li+.EC\"],[\"Li+.EC\"],[\"Li+.EC\"],[\"dim. Li2EDC\"],[\"Li+.EC\"],[\"Li+.EC\"],[\"Li+.EC\"],[\"Li+.EC\"],[\"Li+.EC\"],[\"Li+.EC\"],[\"Li+.EC\"],[\"Li+.EC\"],[\"Li+.EC\"],[\"Li+.EC\"],[\"Li+.EC\"],[\"outer box\"],[\"Electrode\"],[\"inorganic SEI\"],[\"inorganic SEI\"],[\"inorganic SEI\"],[\"Li+.EC\"],[\"dim. Li2EDC\"],[\"dim. Li2EDC\"],[\"dim. Li2EDC\"],[\"dim. Li2EDC\"],[\"Li+.EC\"],[\"dim. Li2EDC\"],[\"Li+.EC\"],[\"Li+.EC\"],[\"Li+.EC\"],[\"Li+.EC\"],[\"Li+.EC\"],[\"dim. Li2EDC\"],[\"Li+.EC\"],[\"Li+.EC\"],[\"Li+.EC\"],[\"Li+.EC\"],[\"Li+.EC\"],[\"dim. Li2EDC\"],[\"Li+.EC\"],[\"Li+.EC\"],[\"Li+.EC\"],[\"Li+.EC\"],[\"Li+.EC\"],[\"Li+.EC\"],[\"Li+.EC\"],[\"Li+.EC\"],[\"Li+.EC\"],[\"dim. Li2EDC\"],[\"Li+.EC\"],[\"Li+.EC\"],[\"Li+.EC\"],[\"Li+.EC\"],[\"Li+.EC\"],[\"Li+.EC\"],[\"Li+.EC\"],[\"Li+.EC\"],[\"Li+.EC\"],[\"Li+.EC\"],[\"Li+.EC\"],[\"Li+.EC\"],[\"Li+.EC\"],[\"Li+.EC\"],[\"Li+.EC\"],[\"Li+.EC\"],[\"outer box\"],[\"Electrode\"],[\"inorganic SEI\"],[\"inorganic SEI\"],[\"inorganic SEI\"],[\"inorganic SEI\"],[\"Li+.EC\"],[\"dim. Li2EDC\"],[\"dim. Li2EDC\"],[\"dim. Li2EDC\"],[\"dim. Li2EDC\"],[\"dim. Li2EDC\"],[\"Li+.EC\"],[\"dim. Li2EDC\"],[\"Li+.EC\"],[\"Li+.EC\"],[\"Li+.EC\"],[\"dim. Li2EDC\"],[\"Li+.EC\"],[\"dim. Li2EDC\"],[\"dim. Li2EDC\"],[\"Li+.EC\"],[\"Li+.EC\"],[\"dim. Li2EDC\"],[\"Li+.EC\"],[\"Li+.EC\"],[\"Li+.EC\"],[\"Li+.EC\"],[\"Li+.EC\"],[\"Li+.EC\"],[\"Li+.EC\"],[\"dim. Li2EDC\"],[\"Li+.EC\"],[\"Li+.EC\"],[\"Li+.EC\"],[\"Li+.EC\"],[\"dim. Li2EDC\"],[\"Li+.EC\"],[\"dim. Li2EDC\"],[\"Li+.EC\"],[\"Li+.EC\"],[\"Li+.EC\"],[\"Li+.EC\"],[\"Li+.EC\"],[\"Li+.EC\"],[\"Li+.EC\"],[\"Li+.EC\"],[\"Li+.EC\"],[\"Li+.EC\"],[\"Li+.EC\"],[\"outer box\"],[\"Electrode\"],[\"inorganic SEI\"],[\"inorganic SEI\"],[\"inorganic SEI\"],[\"inorganic SEI\"],[\"dim. Li2EDC\"],[\"dim. Li2EDC\"],[\"dim. Li2EDC\"],[\"dim. Li2EDC\"],[\"dim. Li2EDC\"],[\"dim. Li2EDC\"],[\"dim. Li2EDC\"],[\"dim. Li2EDC\"],[\"dim. Li2EDC\"],[\"Li+.EC\"],[\"Li+.EC\"],[\"Li+.EC\"],[\"Li+.EC\"],[\"dim. Li2EDC\"],[\"Li+.EC\"],[\"Li+.EC\"],[\"dim. Li2EDC\"],[\"Li+.EC\"],[\"Li+.EC\"],[\"Li+.EC\"],[\"dim. Li2EDC\"],[\"Li+.EC\"],[\"Li+.EC\"],[\"Li+.EC\"],[\"Li+.EC\"],[\"Li+.EC\"],[\"Li+.EC\"],[\"Li+.EC\"],[\"Li+.EC\"],[\"Li+.EC\"],[\"Li+.EC\"],[\"Li+.EC\"],[\"Li+.EC\"],[\"Li+.EC\"],[\"Li+.EC\"],[\"Li+.EC\"],[\"Li+.EC\"],[\"Li+.EC\"],[\"Li+.EC\"],[\"Li+.EC\"],[\"Li+.EC\"],[\"Li+.EC\"],[\"Li+.EC\"],[\"Li+.EC\"],[\"outer box\"],[\"Electrode\"],[\"inorganic SEI\"],[\"inorganic SEI\"],[\"inorganic SEI\"],[\"inorganic SEI\"],[\"dim. Li2EDC\"],[\"dim. Li2EDC\"],[\"Li+.EC\"],[\"dim. Li2EDC\"],[\"dim. Li2EDC\"],[\"dim. Li2EDC\"],[\"Li+.EC\"],[\"Li+.EC\"],[\"Li+.EC\"],[\"dim. Li2EDC\"],[\"Li+.EC\"],[\"dim. Li2EDC\"],[\"Li+.EC\"],[\"dim. Li2EDC\"],[\"dim. Li2EDC\"],[\"Li+.EC\"],[\"Li+.EC\"],[\"Li+.EC\"],[\"Li+.EC\"],[\"Li+.EC\"],[\"Li+.EC\"],[\"dim. Li2EDC\"],[\"Li+.EC\"],[\"Li+.EC\"],[\"Li+.EC\"],[\"Li+.EC\"],[\"Li+.EC\"],[\"Li+.EC\"],[\"dim. Li2EDC\"],[\"Li+.EC\"],[\"Li+.EC\"],[\"Li+.EC\"],[\"dim. Li2EDC\"],[\"Li+.EC\"],[\"Li+.EC\"],[\"Li+.EC\"],[\"Li+.EC\"],[\"Li+.EC\"],[\"Li+.EC\"],[\"Li+.EC\"],[\"Li+.EC\"],[\"Li+.EC\"],[\"Li+.EC\"],[\"Li+.EC\"],[\"outer box\"],[\"Electrode\"],[\"inorganic SEI\"],[\"inorganic SEI\"],[\"inorganic SEI\"],[\"inorganic SEI\"],[\"dim. Li2EDC\"],[\"Li+.EC\"],[\"Li+.EC\"],[\"Li+.EC\"],[\"Li+.EC\"],[\"dim. Li2EDC\"],[\"dim. Li2EDC\"],[\"Li+.EC\"],[\"Li+.EC\"],[\"Li+.EC\"],[\"Li+.EC\"],[\"Li+.EC\"],[\"Li+.EC\"],[\"dim. Li2EDC\"],[\"Li+.EC\"],[\"Li+.EC\"],[\"Li+.EC\"],[\"Li+.EC\"],[\"dim. Li2EDC\"],[\"Li+.EC\"],[\"dim. Li2EDC\"],[\"Li+.EC\"],[\"Li+.EC\"],[\"Li+.EC\"],[\"Li+.EC\"],[\"Li+.EC\"],[\"dim. Li2EDC\"],[\"Li+.EC\"],[\"Li+.EC\"],[\"dim. Li2EDC\"],[\"Li+.EC\"],[\"dim. Li2EDC\"],[\"Li+.EC\"],[\"Li+.EC\"],[\"dim. Li2EDC\"],[\"Li+.EC\"],[\"Li+.EC\"],[\"Li+.EC\"],[\"Li+.EC\"],[\"Li+.EC\"],[\"Li+.EC\"],[\"Li+.EC\"],[\"Li+.EC\"],[\"Li+.EC\"],[\"outer box\"],[\"Electrode\"],[\"inorganic SEI\"],[\"inorganic SEI\"],[\"inorganic SEI\"],[\"inorganic SEI\"],[\"Li+.EC\"],[\"dim. Li2EDC\"],[\"Li+.EC\"],[\"Li+.EC\"],[\"dim. Li2EDC\"],[\"Li+.EC\"],[\"Li+.EC\"],[\"dim. Li2EDC\"],[\"dim. Li2EDC\"],[\"Li+.EC\"],[\"Li+.EC\"],[\"Li+.EC\"],[\"Li+.EC\"],[\"Li+.EC\"],[\"Li+.EC\"],[\"Li+.EC\"],[\"dim. Li2EDC\"],[\"dim. Li2EDC\"],[\"Li+.EC\"],[\"Li+.EC\"],[\"dim. Li2EDC\"],[\"Li+.EC\"],[\"Li+.EC\"],[\"Li+.EC\"],[\"Li+.EC\"],[\"dim. Li2EDC\"],[\"Li+.EC\"],[\"Li+.EC\"],[\"dim. Li2EDC\"],[\"Li+.EC\"],[\"Li+.EC\"],[\"Li+.EC\"],[\"dim. Li2EDC\"],[\"Li+.EC\"],[\"Li+.EC\"],[\"Li+.EC\"],[\"Li+.EC\"],[\"Li+.EC\"],[\"Li+.EC\"],[\"Li+.EC\"],[\"dim. Li2EDC\"],[\"Li+.EC\"],[\"Li+.EC\"],[\"Li+.EC\"],[\"outer box\"],[\"Electrode\"],[\"inorganic SEI\"],[\"inorganic SEI\"],[\"inorganic SEI\"],[\"inorganic SEI\"],[\"Li+.EC\"],[\"dim. Li2EDC\"],[\"Li+.EC\"],[\"dim. Li2EDC\"],[\"dim. Li2EDC\"],[\"Li+.EC\"],[\"Li+.EC\"],[\"dim. Li2EDC\"],[\"dim. Li2EDC\"],[\"Li+.EC\"],[\"Li+.EC\"],[\"Li+.EC\"],[\"dim. Li2EDC\"],[\"Li+.EC\"],[\"Li+.EC\"],[\"dim. Li2EDC\"],[\"dim. Li2EDC\"],[\"Li+.EC\"],[\"Li+.EC\"],[\"Li+.EC\"],[\"dim. Li2EDC\"],[\"Li+.EC\"],[\"Li+.EC\"],[\"Li+.EC\"],[\"Li+.EC\"],[\"Li+.EC\"],[\"Li+.EC\"],[\"Li+.EC\"],[\"dim. Li2EDC\"],[\"Li+.EC\"],[\"Li+.EC\"],[\"Li+.EC\"],[\"Li+.EC\"],[\"Li+.EC\"],[\"Li+.EC\"],[\"Li+.EC\"],[\"Li+.EC\"],[\"Li+.EC\"],[\"Li+.EC\"],[\"Li+.EC\"],[\"Li+.EC\"],[\"Li+.EC\"],[\"Li+.EC\"],[\"Li+.EC\"],[\"outer box\"],[\"Electrode\"],[\"inorganic SEI\"],[\"inorganic SEI\"],[\"inorganic SEI\"],[\"inorganic SEI\"],[\"Li+.EC\"],[\"Li+.EC\"],[\"dim. Li2EDC\"],[\"dim. Li2EDC\"],[\"Li+.EC\"],[\"Li+.EC\"],[\"Li+.EC\"],[\"Li+.EC\"],[\"Li+.EC\"],[\"dim. Li2EDC\"],[\"Li+.EC\"],[\"Li+.EC\"],[\"Li+.EC\"],[\"dim. Li2EDC\"],[\"Li+.EC\"],[\"Li+.EC\"],[\"Li+.EC\"],[\"Li+.EC\"],[\"Li+.EC\"],[\"dim. Li2EDC\"],[\"Li+.EC\"],[\"Li+.EC\"],[\"Li+.EC\"],[\"dim. Li2EDC\"],[\"Li+.EC\"],[\"Li+.EC\"],[\"Li+.EC\"],[\"Li+.EC\"],[\"Li+.EC\"],[\"Li+.EC\"],[\"Li+.EC\"],[\"Li+.EC\"],[\"Li+.EC\"],[\"Li+.EC\"],[\"Li+.EC\"],[\"Li+.EC\"],[\"Li+.EC\"],[\"Li+.EC\"],[\"Li+.EC\"],[\"Li+.EC\"],[\"Li+.EC\"],[\"dim. Li2EDC\"],[\"Li+.EC\"],[\"Li+.EC\"],[\"outer box\"],[\"Electrode\"],[\"inorganic SEI\"],[\"inorganic SEI\"],[\"inorganic SEI\"],[\"inorganic SEI\"],[\"Li+.EC\"],[\"Li+.EC\"],[\"Li+.EC\"],[\"dim. Li2EDC\"],[\"Li+.EC\"],[\"Li+.EC\"],[\"Li+.EC\"],[\"dim. Li2EDC\"],[\"Li+.EC\"],[\"Li+.EC\"],[\"Li+.EC\"],[\"dim. Li2EDC\"],[\"Li+.EC\"],[\"Li+.EC\"],[\"Li+.EC\"],[\"dim. Li2EDC\"],[\"dim. Li2EDC\"],[\"Li+.EC\"],[\"dim. Li2EDC\"],[\"dim. Li2EDC\"],[\"dim. Li2EDC\"],[\"Li+.EC\"],[\"Li+.EC\"],[\"Li+.EC\"],[\"dim. Li2EDC\"],[\"Li+.EC\"],[\"Li+.EC\"],[\"Li+.EC\"],[\"Li+.EC\"],[\"Li+.EC\"],[\"Li+.EC\"],[\"Li+.EC\"],[\"Li+.EC\"],[\"Li+.EC\"],[\"Li+.EC\"],[\"Li+.EC\"],[\"Li+.EC\"],[\"Li+.EC\"],[\"Li+.EC\"],[\"Li+.EC\"],[\"Li+.EC\"],[\"Li+.EC\"],[\"Li+.EC\"],[\"Li+.EC\"],[\"outer box\"],[\"Electrode\"],[\"inorganic SEI\"],[\"inorganic SEI\"],[\"inorganic SEI\"],[\"inorganic SEI\"],[\"dim. Li2EDC\"],[\"dim. Li2EDC\"],[\"Li+.EC\"],[\"dim. Li2EDC\"],[\"dim. Li2EDC\"],[\"Li+.EC\"],[\"Li+.EC\"],[\"dim. Li2EDC\"],[\"Li+.EC\"],[\"Li+.EC\"],[\"Li+.EC\"],[\"Li+.EC\"],[\"Li+.EC\"],[\"dim. Li2EDC\"],[\"dim. Li2EDC\"],[\"Li+.EC\"],[\"Li+.EC\"],[\"dim. Li2EDC\"],[\"dim. Li2EDC\"],[\"Li+.EC\"],[\"dim. Li2EDC\"],[\"Li+.EC\"],[\"Li+.EC\"],[\"Li+.EC\"],[\"Li+.EC\"],[\"Li+.EC\"],[\"Li+.EC\"],[\"Li+.EC\"],[\"Li+.EC\"],[\"Li+.EC\"],[\"Li+.EC\"],[\"Li+.EC\"],[\"dim. Li2EDC\"],[\"Li+.EC\"],[\"Li+.EC\"],[\"Li+.EC\"],[\"Li+.EC\"],[\"Li+.EC\"],[\"Li+.EC\"],[\"Li+.EC\"],[\"Li+.EC\"],[\"Li+.EC\"],[\"Li+.EC\"],[\"Li+.EC\"],[\"outer box\"],[\"Electrode\"],[\"inorganic SEI\"],[\"inorganic SEI\"],[\"inorganic SEI\"],[\"inorganic SEI\"],[\"Li+.EC\"],[\"Li+.EC\"],[\"dim. Li2EDC\"],[\"Li+.EC\"],[\"Li+.EC\"],[\"Li+.EC\"],[\"Li+.EC\"],[\"Li+.EC\"],[\"dim. Li2EDC\"],[\"Li+.EC\"],[\"Li+.EC\"],[\"dim. Li2EDC\"],[\"Li+.EC\"],[\"dim. Li2EDC\"],[\"Li+.EC\"],[\"Li+.EC\"],[\"dim. Li2EDC\"],[\"Li+.EC\"],[\"Li+.EC\"],[\"Li+.EC\"],[\"Li+.EC\"],[\"dim. Li2EDC\"],[\"Li+.EC\"],[\"Li+.EC\"],[\"Li+.EC\"],[\"Li+.EC\"],[\"Li+.EC\"],[\"Li+.EC\"],[\"Li+.EC\"],[\"Li+.EC\"],[\"Li+.EC\"],[\"Li+.EC\"],[\"Li+.EC\"],[\"Li+.EC\"],[\"Li+.EC\"],[\"Li+.EC\"],[\"Li+.EC\"],[\"Li+.EC\"],[\"Li+.EC\"],[\"Li+.EC\"],[\"Li+.EC\"],[\"Li+.EC\"],[\"Li+.EC\"],[\"Li+.EC\"],[\"outer box\"],[\"Electrode\"],[\"inorganic SEI\"],[\"inorganic SEI\"],[\"inorganic SEI\"],[\"inorganic SEI\"],[\"dim. Li2EDC\"],[\"dim. Li2EDC\"],[\"dim. Li2EDC\"],[\"Li+.EC\"],[\"dim. Li2EDC\"],[\"dim. Li2EDC\"],[\"dim. Li2EDC\"],[\"Li+.EC\"],[\"Li+.EC\"],[\"Li+.EC\"],[\"Li+.EC\"],[\"Li+.EC\"],[\"Li+.EC\"],[\"Li+.EC\"],[\"Li+.EC\"],[\"Li+.EC\"],[\"Li+.EC\"],[\"Li+.EC\"],[\"Li+.EC\"],[\"dim. Li2EDC\"],[\"dim. Li2EDC\"],[\"Li+.EC\"],[\"Li+.EC\"],[\"Li+.EC\"],[\"Li+.EC\"],[\"Li+.EC\"],[\"Li+.EC\"],[\"Li+.EC\"],[\"Li+.EC\"],[\"Li+.EC\"],[\"dim. Li2EDC\"],[\"Li+.EC\"],[\"Li+.EC\"],[\"Li+.EC\"],[\"Li+.EC\"],[\"Li+.EC\"],[\"Li+.EC\"],[\"Li+.EC\"],[\"Li+.EC\"],[\"Li+.EC\"],[\"Li+.EC\"],[\"Li+.EC\"],[\"Li+.EC\"],[\"Li+.EC\"],[\"outer box\"],[\"Electrode\"],[\"inorganic SEI\"],[\"inorganic SEI\"],[\"inorganic SEI\"],[\"inorganic SEI\"],[\"dim. Li2EDC\"],[\"Li+.EC\"],[\"Li+.EC\"],[\"Li+.EC\"],[\"Li+.EC\"],[\"Li+.EC\"],[\"Li+.EC\"],[\"dim. Li2EDC\"],[\"Li+.EC\"],[\"dim. Li2EDC\"],[\"Li+.EC\"],[\"Li+.EC\"],[\"dim. Li2EDC\"],[\"dim. Li2EDC\"],[\"Li+.EC\"],[\"Li+.EC\"],[\"dim. Li2EDC\"],[\"Li+.EC\"],[\"Li+.EC\"],[\"Li+.EC\"],[\"Li+.EC\"],[\"Li+.EC\"],[\"dim. Li2EDC\"],[\"Li+.EC\"],[\"Li+.EC\"],[\"Li+.EC\"],[\"Li+.EC\"],[\"dim. Li2EDC\"],[\"Li+.EC\"],[\"Li+.EC\"],[\"Li+.EC\"],[\"Li+.EC\"],[\"Li+.EC\"],[\"dim. Li2EDC\"],[\"Li+.EC\"],[\"Li+.EC\"],[\"Li+.EC\"],[\"Li+.EC\"],[\"Li+.EC\"],[\"Li+.EC\"],[\"Li+.EC\"],[\"Li+.EC\"],[\"Li+.EC\"],[\"Li+.EC\"],[\"outer box\"],[\"Electrode\"],[\"inorganic SEI\"],[\"inorganic SEI\"],[\"inorganic SEI\"],[\"inorganic SEI\"],[\"Li+.EC\"],[\"Li+.EC\"],[\"dim. Li2EDC\"],[\"dim. Li2EDC\"],[\"dim. Li2EDC\"],[\"Li+.EC\"],[\"Li+.EC\"],[\"dim. Li2EDC\"],[\"Li+.EC\"],[\"dim. Li2EDC\"],[\"dim. Li2EDC\"],[\"Li+.EC\"],[\"Li+.EC\"],[\"Li+.EC\"],[\"Li+.EC\"],[\"Li+.EC\"],[\"Li+.EC\"],[\"Li+.EC\"],[\"Li+.EC\"],[\"dim. Li2EDC\"],[\"dim. Li2EDC\"],[\"Li+.EC\"],[\"Li+.EC\"],[\"Li+.EC\"],[\"Li+.EC\"],[\"Li+.EC\"],[\"Li+.EC\"],[\"Li+.EC\"],[\"Li+.EC\"],[\"Li+.EC\"],[\"dim. Li2EDC\"],[\"dim. Li2EDC\"],[\"Li+.EC\"],[\"Li+.EC\"],[\"Li+.EC\"],[\"Li+.EC\"],[\"Li+.EC\"],[\"Li+.EC\"],[\"dim. Li2EDC\"],[\"Li+.EC\"],[\"Li+.EC\"],[\"Li+.EC\"],[\"Li+.EC\"],[\"Li+.EC\"],[\"outer box\"],[\"Electrode\"],[\"inorganic SEI\"],[\"inorganic SEI\"],[\"inorganic SEI\"],[\"inorganic SEI\"],[\"Li+.EC\"],[\"Li+.EC\"],[\"dim. Li2EDC\"],[\"dim. Li2EDC\"],[\"dim. Li2EDC\"],[\"Li+.EC\"],[\"Li+.EC\"],[\"Li+.EC\"],[\"Li+.EC\"],[\"Li+.EC\"],[\"Li+.EC\"],[\"dim. Li2EDC\"],[\"Li+.EC\"],[\"Li+.EC\"],[\"dim. Li2EDC\"],[\"Li+.EC\"],[\"dim. Li2EDC\"],[\"Li+.EC\"],[\"dim. Li2EDC\"],[\"Li+.EC\"],[\"dim. Li2EDC\"],[\"Li+.EC\"],[\"dim. Li2EDC\"],[\"Li+.EC\"],[\"Li+.EC\"],[\"dim. Li2EDC\"],[\"Li+.EC\"],[\"dim. Li2EDC\"],[\"Li+.EC\"],[\"Li+.EC\"],[\"Li+.EC\"],[\"Li+.EC\"],[\"Li+.EC\"],[\"Li+.EC\"],[\"Li+.EC\"],[\"Li+.EC\"],[\"Li+.EC\"],[\"Li+.EC\"],[\"Li+.EC\"],[\"Li+.EC\"],[\"Li+.EC\"],[\"Li+.EC\"],[\"Li+.EC\"],[\"Li+.EC\"],[\"outer box\"],[\"Electrode\"],[\"inorganic SEI\"],[\"inorganic SEI\"],[\"inorganic SEI\"],[\"inorganic SEI\"],[\"Li+.EC\"],[\"dim. Li2EDC\"],[\"dim. Li2EDC\"],[\"dim. Li2EDC\"],[\"Li+.EC\"],[\"dim. Li2EDC\"],[\"Li+.EC\"],[\"dim. Li2EDC\"],[\"Li+.EC\"],[\"Li+.EC\"],[\"dim. Li2EDC\"],[\"Li+.EC\"],[\"dim. Li2EDC\"],[\"Li+.EC\"],[\"Li+.EC\"],[\"dim. Li2EDC\"],[\"dim. Li2EDC\"],[\"Li+.EC\"],[\"Li+.EC\"],[\"Li+.EC\"],[\"Li+.EC\"],[\"Li+.EC\"],[\"Li+.EC\"],[\"Li+.EC\"],[\"Li+.EC\"],[\"Li+.EC\"],[\"Li+.EC\"],[\"dim. Li2EDC\"],[\"Li+.EC\"],[\"Li+.EC\"],[\"Li+.EC\"],[\"Li+.EC\"],[\"Li+.EC\"],[\"Li+.EC\"],[\"Li+.EC\"],[\"dim. Li2EDC\"],[\"dim. Li2EDC\"],[\"Li+.EC\"],[\"Li+.EC\"],[\"Li+.EC\"],[\"Li+.EC\"],[\"Li+.EC\"],[\"dim. Li2EDC\"],[\"Li+.EC\"],[\"outer box\"],[\"Electrode\"],[\"inorganic SEI\"],[\"inorganic SEI\"],[\"inorganic SEI\"],[\"inorganic SEI\"],[\"dim. Li2EDC\"],[\"Li+.EC\"],[\"dim. Li2EDC\"],[\"Li+.EC\"],[\"dim. Li2EDC\"],[\"dim. Li2EDC\"],[\"Li+.EC\"],[\"dim. Li2EDC\"],[\"dim. Li2EDC\"],[\"dim. Li2EDC\"],[\"Li+.EC\"],[\"Li+.EC\"],[\"dim. Li2EDC\"],[\"Li+.EC\"],[\"dim. Li2EDC\"],[\"Li+.EC\"],[\"dim. Li2EDC\"],[\"Li+.EC\"],[\"Li+.EC\"],[\"Li+.EC\"],[\"Li+.EC\"],[\"dim. Li2EDC\"],[\"Li+.EC\"],[\"Li+.EC\"],[\"Li+.EC\"],[\"Li+.EC\"],[\"Li+.EC\"],[\"Li+.EC\"],[\"Li+.EC\"],[\"Li+.EC\"],[\"dim. Li2EDC\"],[\"Li+.EC\"],[\"Li+.EC\"],[\"dim. Li2EDC\"],[\"Li+.EC\"],[\"Li+.EC\"],[\"Li+.EC\"],[\"Li+.EC\"],[\"Li+.EC\"],[\"Li+.EC\"],[\"Li+.EC\"],[\"Li+.EC\"],[\"Li+.EC\"],[\"Li+.EC\"],[\"outer box\"],[\"Electrode\"],[\"inorganic SEI\"],[\"inorganic SEI\"],[\"inorganic SEI\"],[\"inorganic SEI\"],[\"Li+.EC\"],[\"Li+.EC\"],[\"Li+.EC\"],[\"Li+.EC\"],[\"Li+.EC\"],[\"Li+.EC\"],[\"Li+.EC\"],[\"dim. Li2EDC\"],[\"dim. Li2EDC\"],[\"Li+.EC\"],[\"Li+.EC\"],[\"dim. Li2EDC\"],[\"Li+.EC\"],[\"Li+.EC\"],[\"Li+.EC\"],[\"Li+.EC\"],[\"Li+.EC\"],[\"Li+.EC\"],[\"Li+.EC\"],[\"Li+.EC\"],[\"dim. Li2EDC\"],[\"dim. Li2EDC\"],[\"Li+.EC\"],[\"dim. Li2EDC\"],[\"Li+.EC\"],[\"Li+.EC\"],[\"Li+.EC\"],[\"Li+.EC\"],[\"dim. Li2EDC\"],[\"Li+.EC\"],[\"Li+.EC\"],[\"Li+.EC\"],[\"Li+.EC\"],[\"Li+.EC\"],[\"Li+.EC\"],[\"Li+.EC\"],[\"Li+.EC\"],[\"Li+.EC\"],[\"Li+.EC\"],[\"Li+.EC\"],[\"Li+.EC\"],[\"Li+.EC\"],[\"Li+.EC\"],[\"Li+.EC\"],[\"outer box\"],[\"Electrode\"],[\"inorganic SEI\"],[\"inorganic SEI\"],[\"inorganic SEI\"],[\"inorganic SEI\"],[\"dim. Li2EDC\"],[\"Li+.EC\"],[\"Li+.EC\"],[\"Li+.EC\"],[\"Li+.EC\"],[\"Li+.EC\"],[\"Li+.EC\"],[\"Li+.EC\"],[\"Li+.EC\"],[\"dim. Li2EDC\"],[\"Li+.EC\"],[\"dim. Li2EDC\"],[\"Li+.EC\"],[\"Li+.EC\"],[\"dim. Li2EDC\"],[\"Li+.EC\"],[\"Li+.EC\"],[\"Li+.EC\"],[\"dim. Li2EDC\"],[\"Li+.EC\"],[\"Li+.EC\"],[\"Li+.EC\"],[\"Li+.EC\"],[\"Li+.EC\"],[\"Li+.EC\"],[\"Li+.EC\"],[\"Li+.EC\"],[\"Li+.EC\"],[\"dim. Li2EDC\"],[\"Li+.EC\"],[\"Li+.EC\"],[\"Li+.EC\"],[\"Li+.EC\"],[\"Li+.EC\"],[\"Li+.EC\"],[\"Li+.EC\"],[\"Li+.EC\"],[\"dim. Li2EDC\"],[\"Li+.EC\"],[\"Li+.EC\"],[\"Li+.EC\"],[\"Li+.EC\"],[\"Li+.EC\"],[\"Li+.EC\"],[\"outer box\"],[\"Electrode\"],[\"inorganic SEI\"],[\"inorganic SEI\"],[\"inorganic SEI\"],[\"inorganic SEI\"],[\"dim. Li2EDC\"],[\"Li+.EC\"],[\"Li+.EC\"],[\"Li+.EC\"],[\"Li+.EC\"],[\"dim. Li2EDC\"],[\"dim. Li2EDC\"],[\"dim. Li2EDC\"],[\"dim. Li2EDC\"],[\"dim. Li2EDC\"],[\"Li+.EC\"],[\"Li+.EC\"],[\"Li+.EC\"],[\"dim. Li2EDC\"],[\"Li+.EC\"],[\"Li+.EC\"],[\"Li+.EC\"],[\"dim. Li2EDC\"],[\"Li+.EC\"],[\"Li+.EC\"],[\"Li+.EC\"],[\"Li+.EC\"],[\"Li+.EC\"],[\"Li+.EC\"],[\"Li+.EC\"],[\"Li+.EC\"],[\"Li+.EC\"],[\"Li+.EC\"],[\"Li+.EC\"],[\"Li+.EC\"],[\"Li+.EC\"],[\"Li+.EC\"],[\"Li+.EC\"],[\"Li+.EC\"],[\"Li+.EC\"],[\"Li+.EC\"],[\"Li+.EC\"],[\"Li+.EC\"],[\"Li+.EC\"],[\"Li+.EC\"],[\"Li+.EC\"],[\"Li+.EC\"],[\"Li+.EC\"],[\"Li+.EC\"],[\"outer box\"],[\"Electrode\"],[\"inorganic SEI\"],[\"inorganic SEI\"],[\"inorganic SEI\"],[\"inorganic SEI\"],[\"Li+.EC\"],[\"Li+.EC\"],[\"Li+.EC\"],[\"dim. Li2EDC\"],[\"Li+.EC\"],[\"dim. Li2EDC\"],[\"dim. Li2EDC\"],[\"dim. Li2EDC\"],[\"Li+.EC\"],[\"Li+.EC\"],[\"dim. Li2EDC\"],[\"dim. Li2EDC\"],[\"Li+.EC\"],[\"dim. Li2EDC\"],[\"Li+.EC\"],[\"Li+.EC\"],[\"Li+.EC\"],[\"Li+.EC\"],[\"Li+.EC\"],[\"dim. Li2EDC\"],[\"Li+.EC\"],[\"Li+.EC\"],[\"Li+.EC\"],[\"dim. Li2EDC\"],[\"Li+.EC\"],[\"dim. Li2EDC\"],[\"Li+.EC\"],[\"dim. Li2EDC\"],[\"dim. Li2EDC\"],[\"Li+.EC\"],[\"Li+.EC\"],[\"dim. Li2EDC\"],[\"Li+.EC\"],[\"Li+.EC\"],[\"Li+.EC\"],[\"Li+.EC\"],[\"Li+.EC\"],[\"Li+.EC\"],[\"Li+.EC\"],[\"Li+.EC\"],[\"Li+.EC\"],[\"Li+.EC\"],[\"Li+.EC\"],[\"Li+.EC\"],[\"outer box\"],[\"Electrode\"],[\"inorganic SEI\"],[\"inorganic SEI\"],[\"inorganic SEI\"],[\"inorganic SEI\"],[\"Li+.EC\"],[\"dim. Li2EDC\"],[\"dim. Li2EDC\"],[\"dim. Li2EDC\"],[\"Li+.EC\"],[\"dim. Li2EDC\"],[\"Li+.EC\"],[\"Li+.EC\"],[\"Li+.EC\"],[\"dim. Li2EDC\"],[\"Li+.EC\"],[\"Li+.EC\"],[\"dim. Li2EDC\"],[\"Li+.EC\"],[\"Li+.EC\"],[\"dim. Li2EDC\"],[\"Li+.EC\"],[\"Li+.EC\"],[\"Li+.EC\"],[\"Li+.EC\"],[\"Li+.EC\"],[\"dim. Li2EDC\"],[\"Li+.EC\"],[\"dim. Li2EDC\"],[\"Li+.EC\"],[\"Li+.EC\"],[\"Li+.EC\"],[\"Li+.EC\"],[\"Li+.EC\"],[\"Li+.EC\"],[\"Li+.EC\"],[\"Li+.EC\"],[\"Li+.EC\"],[\"Li+.EC\"],[\"dim. Li2EDC\"],[\"Li+.EC\"],[\"Li+.EC\"],[\"Li+.EC\"],[\"Li+.EC\"],[\"Li+.EC\"],[\"Li+.EC\"],[\"Li+.EC\"],[\"Li+.EC\"],[\"Li+.EC\"],[\"outer box\"],[\"Electrode\"],[\"inorganic SEI\"],[\"inorganic SEI\"],[\"inorganic SEI\"],[\"inorganic SEI\"],[\"Li+.EC\"],[\"dim. Li2EDC\"],[\"Li+.EC\"],[\"dim. Li2EDC\"],[\"Li+.EC\"],[\"Li+.EC\"],[\"dim. Li2EDC\"],[\"dim. Li2EDC\"],[\"dim. Li2EDC\"],[\"Li+.EC\"],[\"dim. Li2EDC\"],[\"Li+.EC\"],[\"Li+.EC\"],[\"Li+.EC\"],[\"Li+.EC\"],[\"Li+.EC\"],[\"Li+.EC\"],[\"Li+.EC\"],[\"dim. Li2EDC\"],[\"Li+.EC\"],[\"Li+.EC\"],[\"Li+.EC\"],[\"dim. Li2EDC\"],[\"dim. Li2EDC\"],[\"Li+.EC\"],[\"Li+.EC\"],[\"Li+.EC\"],[\"Li+.EC\"],[\"dim. Li2EDC\"],[\"Li+.EC\"],[\"Li+.EC\"],[\"Li+.EC\"],[\"Li+.EC\"],[\"Li+.EC\"],[\"Li+.EC\"],[\"Li+.EC\"],[\"Li+.EC\"],[\"Li+.EC\"],[\"Li+.EC\"],[\"Li+.EC\"],[\"Li+.EC\"],[\"Li+.EC\"],[\"Li+.EC\"],[\"Li+.EC\"],[\"outer box\"],[\"Electrode\"],[\"inorganic SEI\"],[\"inorganic SEI\"],[\"inorganic SEI\"],[\"inorganic SEI\"],[\"Li+.EC\"],[\"Li+.EC\"],[\"Li+.EC\"],[\"Li+.EC\"],[\"Li+.EC\"],[\"Li+.EC\"],[\"Li+.EC\"],[\"dim. Li2EDC\"],[\"dim. Li2EDC\"],[\"Li+.EC\"],[\"dim. Li2EDC\"],[\"Li+.EC\"],[\"Li+.EC\"],[\"Li+.EC\"],[\"Li+.EC\"],[\"Li+.EC\"],[\"Li+.EC\"],[\"Li+.EC\"],[\"Li+.EC\"],[\"Li+.EC\"],[\"Li+.EC\"],[\"dim. Li2EDC\"],[\"Li+.EC\"],[\"Li+.EC\"],[\"Li+.EC\"],[\"Li+.EC\"],[\"dim. Li2EDC\"],[\"Li+.EC\"],[\"Li+.EC\"],[\"Li+.EC\"],[\"dim. Li2EDC\"],[\"Li+.EC\"],[\"dim. Li2EDC\"],[\"Li+.EC\"],[\"Li+.EC\"],[\"Li+.EC\"],[\"Li+.EC\"],[\"Li+.EC\"],[\"Li+.EC\"],[\"Li+.EC\"],[\"Li+.EC\"],[\"Li+.EC\"],[\"Li+.EC\"],[\"Li+.EC\"],[\"outer box\"],[\"Electrode\"],[\"inorganic SEI\"],[\"inorganic SEI\"],[\"inorganic SEI\"],[\"inorganic SEI\"],[\"dim. Li2EDC\"],[\"Li+.EC\"],[\"Li+.EC\"],[\"Li+.EC\"],[\"dim. Li2EDC\"],[\"Li+.EC\"],[\"Li+.EC\"],[\"Li+.EC\"],[\"Li+.EC\"],[\"Li+.EC\"],[\"Li+.EC\"],[\"Li+.EC\"],[\"dim. Li2EDC\"],[\"Li+.EC\"],[\"Li+.EC\"],[\"Li+.EC\"],[\"Li+.EC\"],[\"Li+.EC\"],[\"Li+.EC\"],[\"Li+.EC\"],[\"Li+.EC\"],[\"Li+.EC\"],[\"dim. Li2EDC\"],[\"Li+.EC\"],[\"Li+.EC\"],[\"Li+.EC\"],[\"Li+.EC\"],[\"Li+.EC\"],[\"Li+.EC\"],[\"Li+.EC\"],[\"Li+.EC\"],[\"Li+.EC\"],[\"Li+.EC\"],[\"Li+.EC\"],[\"Li+.EC\"],[\"Li+.EC\"],[\"Li+.EC\"],[\"Li+.EC\"],[\"Li+.EC\"],[\"Li+.EC\"],[\"Li+.EC\"],[\"Li+.EC\"],[\"Li+.EC\"],[\"Li+.EC\"],[\"outer box\"],[\"Electrode\"],[\"inorganic SEI\"],[\"inorganic SEI\"],[\"inorganic SEI\"],[\"inorganic SEI\"],[\"dim. Li2EDC\"],[\"Li+.EC\"],[\"Li+.EC\"],[\"dim. Li2EDC\"],[\"Li+.EC\"],[\"dim. Li2EDC\"],[\"Li+.EC\"],[\"Li+.EC\"],[\"dim. Li2EDC\"],[\"Li+.EC\"],[\"dim. Li2EDC\"],[\"Li+.EC\"],[\"Li+.EC\"],[\"dim. Li2EDC\"],[\"Li+.EC\"],[\"Li+.EC\"],[\"Li+.EC\"],[\"Li+.EC\"],[\"Li+.EC\"],[\"Li+.EC\"],[\"Li+.EC\"],[\"Li+.EC\"],[\"Li+.EC\"],[\"Li+.EC\"],[\"Li+.EC\"],[\"dim. Li2EDC\"],[\"Li+.EC\"],[\"Li+.EC\"],[\"Li+.EC\"],[\"Li+.EC\"],[\"dim. Li2EDC\"],[\"Li+.EC\"],[\"Li+.EC\"],[\"Li+.EC\"],[\"Li+.EC\"],[\"Li+.EC\"],[\"Li+.EC\"],[\"Li+.EC\"],[\"Li+.EC\"],[\"Li+.EC\"],[\"Li+.EC\"],[\"Li+.EC\"],[\"Li+.EC\"],[\"Li+.EC\"],[\"outer box\"],[\"Electrode\"],[\"inorganic SEI\"],[\"inorganic SEI\"],[\"inorganic SEI\"],[\"inorganic SEI\"],[\"dim. Li2EDC\"],[\"Li+.EC\"],[\"Li+.EC\"],[\"dim. Li2EDC\"],[\"dim. Li2EDC\"],[\"Li+.EC\"],[\"Li+.EC\"],[\"Li+.EC\"],[\"Li+.EC\"],[\"Li+.EC\"],[\"dim. Li2EDC\"],[\"Li+.EC\"],[\"dim. Li2EDC\"],[\"Li+.EC\"],[\"dim. Li2EDC\"],[\"dim. Li2EDC\"],[\"Li+.EC\"],[\"dim. Li2EDC\"],[\"Li+.EC\"],[\"dim. Li2EDC\"],[\"Li+.EC\"],[\"Li+.EC\"],[\"Li+.EC\"],[\"dim. Li2EDC\"],[\"Li+.EC\"],[\"Li+.EC\"],[\"dim. Li2EDC\"],[\"Li+.EC\"],[\"Li+.EC\"],[\"Li+.EC\"],[\"Li+.EC\"],[\"dim. Li2EDC\"],[\"dim. Li2EDC\"],[\"Li+.EC\"],[\"Li+.EC\"],[\"Li+.EC\"],[\"Li+.EC\"],[\"Li+.EC\"],[\"Li+.EC\"],[\"Li+.EC\"],[\"Li+.EC\"],[\"Li+.EC\"],[\"Li+.EC\"],[\"Li+.EC\"],[\"outer box\"],[\"Electrode\"],[\"inorganic SEI\"],[\"inorganic SEI\"],[\"inorganic SEI\"],[\"inorganic SEI\"],[\"dim. Li2EDC\"],[\"Li+.EC\"],[\"Li+.EC\"],[\"Li+.EC\"],[\"Li+.EC\"],[\"Li+.EC\"],[\"dim. Li2EDC\"],[\"dim. Li2EDC\"],[\"Li+.EC\"],[\"Li+.EC\"],[\"Li2EDC\"],[\"Li+.EC\"],[\"dim. Li2EDC\"],[\"Li+.EC\"],[\"dim. Li2EDC\"],[\"Li+.EC\"],[\"dim. Li2EDC\"],[\"Li+.EC\"],[\"Li+.EC\"],[\"Li+.EC\"],[\"Li+.EC\"],[\"Li+.EC\"],[\"dim. Li2EDC\"],[\"Li+.EC\"],[\"Li+.EC\"],[\"dim. Li2EDC\"],[\"Li+.EC\"],[\"Li+.EC\"],[\"Li+.EC\"],[\"Li+.EC\"],[\"Li+.EC\"],[\"Li+.EC\"],[\"Li+.EC\"],[\"Li+.EC\"],[\"Li+.EC\"],[\"Li+.EC\"],[\"Li+.EC\"],[\"Li+.EC\"],[\"Li+.EC\"],[\"dim. Li2EDC\"],[\"Li+.EC\"],[\"Li+.EC\"],[\"Li+.EC\"],[\"Li+.EC\"],[\"outer box\"],[\"Electrode\"],[\"inorganic SEI\"],[\"inorganic SEI\"],[\"inorganic SEI\"],[\"inorganic SEI\"],[\"dim. Li2EDC\"],[\"Li+.EC\"],[\"Li+.EC\"],[\"Li+.EC\"],[\"Li+.EC\"],[\"Li+.EC\"],[\"dim. Li2EDC\"],[\"Li+.EC\"],[\"Li+.EC\"],[\"dim. Li2EDC\"],[\"dim. Li2EDC\"],[\"dim. Li2EDC\"],[\"Li+.EC\"],[\"Li+.EC\"],[\"Li+.EC\"],[\"dim. Li2EDC\"],[\"Li+.EC\"],[\"Li+.EC\"],[\"Li+.EC\"],[\"Li+.EC\"],[\"Li+.EC\"],[\"dim. Li2EDC\"],[\"Li+.EC\"],[\"Li+.EC\"],[\"Li+.EC\"],[\"Li+.EC\"],[\"Li+.EC\"],[\"Li+.EC\"],[\"Li+.EC\"],[\"Li+.EC\"],[\"Li+.EC\"],[\"Li+.EC\"],[\"Li+.EC\"],[\"dim. Li2EDC\"],[\"Li+.EC\"],[\"Li+.EC\"],[\"Li+.EC\"],[\"Li+.EC\"],[\"Li+.EC\"],[\"Li+.EC\"],[\"Li+.EC\"],[\"Li+.EC\"],[\"Li+.EC\"],[\"Li+.EC\"],[\"outer box\"],[\"Electrode\"],[\"inorganic SEI\"],[\"inorganic SEI\"],[\"inorganic SEI\"],[\"inorganic SEI\"],[\"dim. Li2EDC\"],[\"dim. Li2EDC\"],[\"Li+.EC\"],[\"Li+.EC\"],[\"Li+.EC\"],[\"Li+.EC\"],[\"Li+.EC\"],[\"Li+.EC\"],[\"dim. Li2EDC\"],[\"Li+.EC\"],[\"dim. Li2EDC\"],[\"dim. Li2EDC\"],[\"dim. Li2EDC\"],[\"dim. Li2EDC\"],[\"Li+.EC\"],[\"Li+.EC\"],[\"Li+.EC\"],[\"Li+.EC\"],[\"Li+.EC\"],[\"Li+.EC\"],[\"dim. Li2EDC\"],[\"dim. Li2EDC\"],[\"Li+.EC\"],[\"dim. Li2EDC\"],[\"Li+.EC\"],[\"Li+.EC\"],[\"Li+.EC\"],[\"Li+.EC\"],[\"Li+.EC\"],[\"Li+.EC\"],[\"Li+.EC\"],[\"Li+.EC\"],[\"Li+.EC\"],[\"Li+.EC\"],[\"Li+.EC\"],[\"Li+.EC\"],[\"Li+.EC\"],[\"Li+.EC\"],[\"Li+.EC\"],[\"Li+.EC\"],[\"Li+.EC\"],[\"Li+.EC\"],[\"Li+.EC\"],[\"Li+.EC\"],[\"outer box\"],[\"Electrode\"],[\"inorganic SEI\"],[\"inorganic SEI\"],[\"inorganic SEI\"],[\"inorganic SEI\"],[\"dim. Li2EDC\"],[\"Li+.EC\"],[\"dim. Li2EDC\"],[\"dim. Li2EDC\"],[\"Li+.EC\"],[\"Li+.EC\"],[\"Li+.EC\"],[\"Li+.EC\"],[\"dim. Li2EDC\"],[\"Li+.EC\"],[\"Li+.EC\"],[\"Li+.EC\"],[\"Li+.EC\"],[\"Li+.EC\"],[\"Li+.EC\"],[\"dim. Li2EDC\"],[\"Li+.EC\"],[\"Li+.EC\"],[\"dim. Li2EDC\"],[\"Li+.EC\"],[\"Li+.EC\"],[\"Li+.EC\"],[\"Li+.EC\"],[\"Li+.EC\"],[\"Li+.EC\"],[\"Li+.EC\"],[\"Li+.EC\"],[\"Li+.EC\"],[\"Li+.EC\"],[\"Li+.EC\"],[\"Li+.EC\"],[\"dim. Li2EDC\"],[\"Li+.EC\"],[\"Li+.EC\"],[\"Li+.EC\"],[\"Li+.EC\"],[\"Li+.EC\"],[\"Li+.EC\"],[\"Li+.EC\"],[\"Li+.EC\"],[\"Li+.EC\"],[\"Li+.EC\"],[\"Li+.EC\"],[\"Li+.EC\"],[\"outer box\"],[\"Electrode\"],[\"inorganic SEI\"],[\"inorganic SEI\"],[\"inorganic SEI\"],[\"inorganic SEI\"],[\"Li+.EC\"],[\"dim. Li2EDC\"],[\"Li+.EC\"],[\"Li+.EC\"],[\"Li+.EC\"],[\"Li+.EC\"],[\"dim. Li2EDC\"],[\"dim. Li2EDC\"],[\"Li+.EC\"],[\"Li+.EC\"],[\"dim. Li2EDC\"],[\"dim. Li2EDC\"],[\"Li+.EC\"],[\"Li+.EC\"],[\"Li+.EC\"],[\"Li+.EC\"],[\"Li+.EC\"],[\"Li+.EC\"],[\"Li+.EC\"],[\"Li+.EC\"],[\"Li+.EC\"],[\"dim. Li2EDC\"],[\"Li+.EC\"],[\"Li+.EC\"],[\"Li+.EC\"],[\"Li+.EC\"],[\"Li+.EC\"],[\"dim. Li2EDC\"],[\"Li+.EC\"],[\"Li+.EC\"],[\"Li+.EC\"],[\"Li+.EC\"],[\"dim. Li2EDC\"],[\"Li+.EC\"],[\"Li+.EC\"],[\"Li+.EC\"],[\"Li+.EC\"],[\"Li+.EC\"],[\"Li+.EC\"],[\"Li+.EC\"],[\"Li+.EC\"],[\"Li+.EC\"],[\"Li+.EC\"],[\"Li+.EC\"],[\"outer box\"],[\"Electrode\"],[\"inorganic SEI\"],[\"inorganic SEI\"],[\"inorganic SEI\"],[\"inorganic SEI\"],[\"Li+.EC\"],[\"dim. Li2EDC\"],[\"dim. Li2EDC\"],[\"Li+.EC\"],[\"Li+.EC\"],[\"dim. Li2EDC\"],[\"Li+.EC\"],[\"Li+.EC\"],[\"Li+.EC\"],[\"Li+.EC\"],[\"dim. Li2EDC\"],[\"Li+.EC\"],[\"Li+.EC\"],[\"Li+.EC\"],[\"Li+.EC\"],[\"Li+.EC\"],[\"dim. Li2EDC\"],[\"Li+.EC\"],[\"dim. Li2EDC\"],[\"Li+.EC\"],[\"Li+.EC\"],[\"Li+.EC\"],[\"Li+.EC\"],[\"Li+.EC\"],[\"dim. Li2EDC\"],[\"dim. Li2EDC\"],[\"Li+.EC\"],[\"Li+.EC\"],[\"Li+.EC\"],[\"Li+.EC\"],[\"Li+.EC\"],[\"Li+.EC\"],[\"Li+.EC\"],[\"Li+.EC\"],[\"dim. Li2EDC\"],[\"dim. Li2EDC\"],[\"Li+.EC\"],[\"Li+.EC\"],[\"Li+.EC\"],[\"Li+.EC\"],[\"Li+.EC\"],[\"Li+.EC\"],[\"Li+.EC\"],[\"Li+.EC\"],[\"outer box\"],[\"Electrode\"],[\"inorganic SEI\"],[\"inorganic SEI\"],[\"inorganic SEI\"],[\"inorganic SEI\"],[\"Li+.EC\"],[\"dim. Li2EDC\"],[\"Li+.EC\"],[\"Li+.EC\"],[\"Li+.EC\"],[\"Li+.EC\"],[\"Li+.EC\"],[\"Li+.EC\"],[\"Li+.EC\"],[\"Li+.EC\"],[\"Li+.EC\"],[\"Li+.EC\"],[\"Li+.EC\"],[\"Li+.EC\"],[\"Li+.EC\"],[\"Li+.EC\"],[\"Li+.EC\"],[\"Li+.EC\"],[\"dim. Li2EDC\"],[\"Li+.EC\"],[\"dim. Li2EDC\"],[\"Li+.EC\"],[\"Li+.EC\"],[\"Li+.EC\"],[\"Li+.EC\"],[\"Li+.EC\"],[\"Li+.EC\"],[\"Li+.EC\"],[\"Li+.EC\"],[\"Li+.EC\"],[\"dim. Li2EDC\"],[\"Li+.EC\"],[\"Li+.EC\"],[\"Li+.EC\"],[\"Li+.EC\"],[\"Li+.EC\"],[\"Li+.EC\"],[\"Li+.EC\"],[\"Li+.EC\"],[\"Li+.EC\"],[\"Li+.EC\"],[\"Li+.EC\"],[\"Li+.EC\"],[\"Li+.EC\"],[\"outer box\"],[\"Electrode\"],[\"inorganic SEI\"],[\"inorganic SEI\"],[\"inorganic SEI\"],[\"inorganic SEI\"],[\"dim. Li2EDC\"],[\"dim. Li2EDC\"],[\"Li+.EC\"],[\"dim. Li2EDC\"],[\"Li+.EC\"],[\"Li+.EC\"],[\"Li+.EC\"],[\"dim. Li2EDC\"],[\"Li+.EC\"],[\"Li+.EC\"],[\"Li+.EC\"],[\"dim. Li2EDC\"],[\"dim. Li2EDC\"],[\"Li+.EC\"],[\"Li+.EC\"],[\"dim. Li2EDC\"],[\"Li+.EC\"],[\"Li+.EC\"],[\"Li+.EC\"],[\"Li+.EC\"],[\"Li+.EC\"],[\"Li+.EC\"],[\"Li+.EC\"],[\"dim. Li2EDC\"],[\"Li+.EC\"],[\"Li+.EC\"],[\"Li+.EC\"],[\"dim. Li2EDC\"],[\"Li+.EC\"],[\"Li+.EC\"],[\"Li+.EC\"],[\"Li+.EC\"],[\"Li+.EC\"],[\"Li+.EC\"],[\"Li+.EC\"],[\"Li+.EC\"],[\"Li+.EC\"],[\"Li+.EC\"],[\"Li+.EC\"],[\"Li+.EC\"],[\"Li+.EC\"],[\"Li+.EC\"],[\"Li+.EC\"],[\"Li+.EC\"],[\"outer box\"],[\"Electrode\"],[\"inorganic SEI\"],[\"inorganic SEI\"],[\"inorganic SEI\"],[\"inorganic SEI\"],[\"dim. Li2EDC\"],[\"Li+.EC\"],[\"Li+.EC\"],[\"Li+.EC\"],[\"dim. Li2EDC\"],[\"dim. Li2EDC\"],[\"dim. Li2EDC\"],[\"Li+.EC\"],[\"dim. Li2EDC\"],[\"dim. Li2EDC\"],[\"Li+.EC\"],[\"dim. Li2EDC\"],[\"dim. Li2EDC\"],[\"Li+.EC\"],[\"Li+.EC\"],[\"Li+.EC\"],[\"Li+.EC\"],[\"dim. Li2EDC\"],[\"Li+.EC\"],[\"Li+.EC\"],[\"Li+.EC\"],[\"Li+.EC\"],[\"Li+.EC\"],[\"Li+.EC\"],[\"Li+.EC\"],[\"Li+.EC\"],[\"Li+.EC\"],[\"Li+.EC\"],[\"Li+.EC\"],[\"Li+.EC\"],[\"Li+.EC\"],[\"Li+.EC\"],[\"Li+.EC\"],[\"Li+.EC\"],[\"Li+.EC\"],[\"Li+.EC\"],[\"Li+.EC\"],[\"Li+.EC\"],[\"Li+.EC\"],[\"Li+.EC\"],[\"Li+.EC\"],[\"Li+.EC\"],[\"Li+.EC\"],[\"Li+.EC\"],[\"outer box\"],[\"Electrode\"],[\"inorganic SEI\"],[\"inorganic SEI\"],[\"inorganic SEI\"],[\"inorganic SEI\"],[\"Li+.EC\"],[\"Li+.EC\"],[\"Li+.EC\"],[\"dim. Li2EDC\"],[\"Li+.EC\"],[\"Li+.EC\"],[\"dim. Li2EDC\"],[\"Li+.EC\"],[\"Li+.EC\"],[\"Li+.EC\"],[\"Li+.EC\"],[\"Li+.EC\"],[\"Li+.EC\"],[\"Li+.EC\"],[\"Li+.EC\"],[\"dim. Li2EDC\"],[\"Li+.EC\"],[\"Li+.EC\"],[\"Li+.EC\"],[\"Li+.EC\"],[\"Li+.EC\"],[\"Li+.EC\"],[\"dim. Li2EDC\"],[\"Li+.EC\"],[\"Li+.EC\"],[\"Li+.EC\"],[\"Li+.EC\"],[\"Li+.EC\"],[\"dim. Li2EDC\"],[\"Li+.EC\"],[\"Li+.EC\"],[\"Li+.EC\"],[\"Li+.EC\"],[\"Li+.EC\"],[\"Li+.EC\"],[\"Li+.EC\"],[\"Li+.EC\"],[\"dim. Li2EDC\"],[\"Li+.EC\"],[\"Li+.EC\"],[\"Li+.EC\"],[\"Li+.EC\"],[\"Li+.EC\"],[\"Li+.EC\"],[\"outer box\"],[\"Electrode\"],[\"inorganic SEI\"],[\"inorganic SEI\"],[\"inorganic SEI\"],[\"inorganic SEI\"],[\"Li+.EC\"],[\"Li+.EC\"],[\"Li+.EC\"],[\"Li+.EC\"],[\"Li+.EC\"],[\"dim. Li2EDC\"],[\"Li+.EC\"],[\"dim. Li2EDC\"],[\"Li+.EC\"],[\"Li+.EC\"],[\"Li+.EC\"],[\"Li+.EC\"],[\"dim. Li2EDC\"],[\"Li+.EC\"],[\"Li+.EC\"],[\"Li+.EC\"],[\"dim. Li2EDC\"],[\"Li+.EC\"],[\"Li+.EC\"],[\"dim. Li2EDC\"],[\"Li+.EC\"],[\"dim. Li2EDC\"],[\"Li+.EC\"],[\"Li+.EC\"],[\"Li+.EC\"],[\"Li+.EC\"],[\"Li+.EC\"],[\"Li+.EC\"],[\"Li+.EC\"],[\"dim. Li2EDC\"],[\"Li+.EC\"],[\"Li+.EC\"],[\"Li+.EC\"],[\"Li+.EC\"],[\"Li+.EC\"],[\"Li+.EC\"],[\"Li+.EC\"],[\"Li+.EC\"],[\"dim. Li2EDC\"],[\"Li+.EC\"],[\"Li+.EC\"],[\"Li+.EC\"],[\"Li+.EC\"],[\"Li+.EC\"],[\"outer box\"],[\"Electrode\"],[\"inorganic SEI\"],[\"inorganic SEI\"],[\"inorganic SEI\"],[\"inorganic SEI\"],[\"Li+.EC\"],[\"Li+.EC\"],[\"Li+.EC\"],[\"Li+.EC\"],[\"dim. Li2EDC\"],[\"Li+.EC\"],[\"Li+.EC\"],[\"Li+.EC\"],[\"dim. Li2EDC\"],[\"Li+.EC\"],[\"Li+.EC\"],[\"dim. Li2EDC\"],[\"Li+.EC\"],[\"Li+.EC\"],[\"Li+.EC\"],[\"Li+.EC\"],[\"Li+.EC\"],[\"Li+.EC\"],[\"dim. Li2EDC\"],[\"dim. Li2EDC\"],[\"dim. Li2EDC\"],[\"Li+.EC\"],[\"Li+.EC\"],[\"Li+.EC\"],[\"Li+.EC\"],[\"Li+.EC\"],[\"Li+.EC\"],[\"Li+.EC\"],[\"Li+.EC\"],[\"Li+.EC\"],[\"Li+.EC\"],[\"Li+.EC\"],[\"Li+.EC\"],[\"Li+.EC\"],[\"Li+.EC\"],[\"Li+.EC\"],[\"Li+.EC\"],[\"Li+.EC\"],[\"Li+.EC\"],[\"Li+.EC\"],[\"Li+.EC\"],[\"Li+.EC\"],[\"Li+.EC\"],[\"Li+.EC\"],[\"outer box\"],[\"Electrode\"],[\"inorganic SEI\"],[\"inorganic SEI\"],[\"inorganic SEI\"],[\"inorganic SEI\"],[\"dim. Li2EDC\"],[\"dim. Li2EDC\"],[\"dim. Li2EDC\"],[\"Li+.EC\"],[\"Li+.EC\"],[\"Li+.EC\"],[\"Li+.EC\"],[\"dim. Li2EDC\"],[\"Li+.EC\"],[\"dim. Li2EDC\"],[\"Li+.EC\"],[\"Li+.EC\"],[\"Li+.EC\"],[\"Li+.EC\"],[\"dim. Li2EDC\"],[\"Li+.EC\"],[\"dim. Li2EDC\"],[\"Li+.EC\"],[\"Li+.EC\"],[\"dim. Li2EDC\"],[\"Li+.EC\"],[\"Li+.EC\"],[\"Li+.EC\"],[\"dim. Li2EDC\"],[\"dim. Li2EDC\"],[\"Li+.EC\"],[\"Li+.EC\"],[\"dim. Li2EDC\"],[\"dim. Li2EDC\"],[\"Li+.EC\"],[\"dim. Li2EDC\"],[\"Li+.EC\"],[\"Li+.EC\"],[\"Li+.EC\"],[\"Li+.EC\"],[\"Li+.EC\"],[\"Li+.EC\"],[\"Li+.EC\"],[\"Li+.EC\"],[\"Li+.EC\"],[\"Li+.EC\"],[\"Li+.EC\"],[\"Li+.EC\"],[\"Li+.EC\"],[\"outer box\"],[\"Electrode\"],[\"inorganic SEI\"],[\"inorganic SEI\"],[\"inorganic SEI\"],[\"inorganic SEI\"],[\"Li+.EC\"],[\"Li+.EC\"],[\"dim. Li2EDC\"],[\"Li+.EC\"],[\"Li+.EC\"],[\"dim. Li2EDC\"],[\"Li+.EC\"],[\"Li+.EC\"],[\"Li+.EC\"],[\"Li+.EC\"],[\"Li+.EC\"],[\"dim. Li2EDC\"],[\"dim. Li2EDC\"],[\"Li+.EC\"],[\"Li+.EC\"],[\"Li+.EC\"],[\"Li+.EC\"],[\"Li+.EC\"],[\"dim. Li2EDC\"],[\"Li+.EC\"],[\"Li+.EC\"],[\"dim. Li2EDC\"],[\"Li+.EC\"],[\"Li+.EC\"],[\"Li+.EC\"],[\"Li+.EC\"],[\"dim. Li2EDC\"],[\"Li+.EC\"],[\"dim. Li2EDC\"],[\"Li+.EC\"],[\"Li+.EC\"],[\"Li+.EC\"],[\"Li+.EC\"],[\"Li+.EC\"],[\"dim. Li2EDC\"],[\"Li+.EC\"],[\"Li+.EC\"],[\"Li+.EC\"],[\"Li+.EC\"],[\"Li+.EC\"],[\"Li+.EC\"],[\"Li+.EC\"],[\"Li+.EC\"],[\"Li+.EC\"],[\"outer box\"],[\"Electrode\"],[\"inorganic SEI\"],[\"inorganic SEI\"],[\"inorganic SEI\"],[\"inorganic SEI\"],[\"dim. Li2EDC\"],[\"Li+.EC\"],[\"Li+.EC\"],[\"dim. Li2EDC\"],[\"Li+.EC\"],[\"Li+.EC\"],[\"Li+.EC\"],[\"Li+.EC\"],[\"Li+.EC\"],[\"Li+.EC\"],[\"dim. Li2EDC\"],[\"Li+.EC\"],[\"Li+.EC\"],[\"Li+.EC\"],[\"Li+.EC\"],[\"Li+.EC\"],[\"Li+.EC\"],[\"Li+.EC\"],[\"Li+.EC\"],[\"Li+.EC\"],[\"Li+.EC\"],[\"Li+.EC\"],[\"Li+.EC\"],[\"Li+.EC\"],[\"Li+.EC\"],[\"Li+.EC\"],[\"Li+.EC\"],[\"Li+.EC\"],[\"Li+.EC\"],[\"Li+.EC\"],[\"Li+.EC\"],[\"Li+.EC\"],[\"Li+.EC\"],[\"Li+.EC\"],[\"Li+.EC\"],[\"Li+.EC\"],[\"Li+.EC\"],[\"Li+.EC\"],[\"Li+.EC\"],[\"Li+.EC\"],[\"Li+.EC\"],[\"dim. Li2EDC\"],[\"Li+.EC\"],[\"Li+.EC\"],[\"outer box\"],[\"Electrode\"],[\"inorganic SEI\"],[\"inorganic SEI\"],[\"inorganic SEI\"],[\"inorganic SEI\"],[\"Li+.EC\"],[\"Li+.EC\"],[\"Li+.EC\"],[\"dim. Li2EDC\"],[\"Li+.EC\"],[\"Li+.EC\"],[\"Li+.EC\"],[\"Li+.EC\"],[\"Li+.EC\"],[\"Li+.EC\"],[\"Li+.EC\"],[\"Li+.EC\"],[\"dim. Li2EDC\"],[\"Li+.EC\"],[\"dim. Li2EDC\"],[\"Li+.EC\"],[\"dim. Li2EDC\"],[\"dim. Li2EDC\"],[\"dim. Li2EDC\"],[\"Li+.EC\"],[\"Li+.EC\"],[\"Li+.EC\"],[\"dim. Li2EDC\"],[\"Li+.EC\"],[\"Li+.EC\"],[\"Li+.EC\"],[\"dim. Li2EDC\"],[\"Li+.EC\"],[\"Li+.EC\"],[\"Li+.EC\"],[\"Li+.EC\"],[\"Li+.EC\"],[\"Li+.EC\"],[\"Li+.EC\"],[\"Li+.EC\"],[\"dim. Li2EDC\"],[\"Li+.EC\"],[\"Li+.EC\"],[\"Li+.EC\"],[\"Li+.EC\"],[\"Li+.EC\"],[\"Li+.EC\"],[\"Li+.EC\"],[\"Li+.EC\"],[\"outer box\"],[\"Electrode\"],[\"inorganic SEI\"],[\"inorganic SEI\"],[\"inorganic SEI\"],[\"inorganic SEI\"],[\"dim. Li2EDC\"],[\"dim. Li2EDC\"],[\"Li+.EC\"],[\"Li+.EC\"],[\"dim. Li2EDC\"],[\"Li+.EC\"],[\"Li+.EC\"],[\"Li+.EC\"],[\"Li+.EC\"],[\"dim. Li2EDC\"],[\"Li+.EC\"],[\"Li+.EC\"],[\"Li+.EC\"],[\"Li+.EC\"],[\"Li+.EC\"],[\"dim. Li2EDC\"],[\"dim. Li2EDC\"],[\"Li+.EC\"],[\"Li+.EC\"],[\"Li+.EC\"],[\"Li+.EC\"],[\"Li+.EC\"],[\"Li+.EC\"],[\"Li+.EC\"],[\"dim. Li2EDC\"],[\"Li+.EC\"],[\"Li+.EC\"],[\"Li+.EC\"],[\"Li+.EC\"],[\"Li+.EC\"],[\"Li+.EC\"],[\"Li+.EC\"],[\"Li+.EC\"],[\"dim. Li2EDC\"],[\"Li+.EC\"],[\"Li+.EC\"],[\"Li+.EC\"],[\"Li+.EC\"],[\"Li+.EC\"],[\"Li+.EC\"],[\"Li+.EC\"],[\"Li+.EC\"],[\"Li+.EC\"],[\"Li+.EC\"],[\"outer box\"],[\"Electrode\"],[\"inorganic SEI\"],[\"inorganic SEI\"],[\"inorganic SEI\"],[\"dim. Li2EDC\"],[\"Li+.EC\"],[\"dim. Li2EDC\"],[\"Li+.EC\"],[\"dim. Li2EDC\"],[\"Li+.EC\"],[\"Li+.EC\"],[\"Li+.EC\"],[\"Li+.EC\"],[\"Li+.EC\"],[\"dim. Li2EDC\"],[\"Li+.EC\"],[\"dim. Li2EDC\"],[\"Li+.EC\"],[\"Li+.EC\"],[\"Li+.EC\"],[\"dim. Li2EDC\"],[\"Li+.EC\"],[\"Li+.EC\"],[\"Li+.EC\"],[\"dim. Li2EDC\"],[\"Li+.EC\"],[\"Li+.EC\"],[\"Li+.EC\"],[\"Li+.EC\"],[\"Li+.EC\"],[\"Li+.EC\"],[\"Li+.EC\"],[\"Li+.EC\"],[\"Li+.EC\"],[\"Li+.EC\"],[\"Li+.EC\"],[\"Li+.EC\"],[\"Li+.EC\"],[\"Li+.EC\"],[\"Li+.EC\"],[\"Li+.EC\"],[\"Li+.EC\"],[\"Li+.EC\"],[\"Li+.EC\"],[\"Li+.EC\"],[\"Li+.EC\"],[\"Li+.EC\"],[\"Li+.EC\"],[\"Li+.EC\"],[\"outer box\"],[\"Electrode\"],[\"inorganic SEI\"],[\"inorganic SEI\"],[\"inorganic SEI\"],[\"dim. Li2EDC\"],[\"dim. Li2EDC\"],[\"Li+.EC\"],[\"dim. Li2EDC\"],[\"Li+.EC\"],[\"Li+.EC\"],[\"dim. Li2EDC\"],[\"Li+.EC\"],[\"dim. Li2EDC\"],[\"Li+.EC\"],[\"dim. Li2EDC\"],[\"Li+.EC\"],[\"Li+.EC\"],[\"Li+.EC\"],[\"dim. Li2EDC\"],[\"Li+.EC\"],[\"dim. Li2EDC\"],[\"Li+.EC\"],[\"Li+.EC\"],[\"dim. Li2EDC\"],[\"Li+.EC\"],[\"Li+.EC\"],[\"Li+.EC\"],[\"Li+.EC\"],[\"Li+.EC\"],[\"Li+.EC\"],[\"Li+.EC\"],[\"Li+.EC\"],[\"Li+.EC\"],[\"Li+.EC\"],[\"dim. Li2EDC\"],[\"Li+.EC\"],[\"Li+.EC\"],[\"Li+.EC\"],[\"Li+.EC\"],[\"Li+.EC\"],[\"Li+.EC\"],[\"Li+.EC\"],[\"Li+.EC\"],[\"Li+.EC\"],[\"Li+.EC\"],[\"Li+.EC\"],[\"Li+.EC\"],[\"Li+.EC\"],[\"Li+.EC\"],[\"outer box\"],[\"Electrode\"],[\"inorganic SEI\"],[\"inorganic SEI\"],[\"inorganic SEI\"],[\"inorganic SEI\"],[\"dim. Li2EDC\"],[\"dim. Li2EDC\"],[\"dim. Li2EDC\"],[\"dim. Li2EDC\"],[\"Li+.EC\"],[\"Li+.EC\"],[\"Li+.EC\"],[\"Li+.EC\"],[\"Li+.EC\"],[\"Li+.EC\"],[\"Li+.EC\"],[\"Li+.EC\"],[\"Li+.EC\"],[\"Li+.EC\"],[\"Li+.EC\"],[\"dim. Li2EDC\"],[\"Li+.EC\"],[\"dim. Li2EDC\"],[\"Li+.EC\"],[\"Li+.EC\"],[\"Li+.EC\"],[\"Li+.EC\"],[\"Li+.EC\"],[\"Li+.EC\"],[\"Li+.EC\"],[\"dim. Li2EDC\"],[\"Li+.EC\"],[\"Li+.EC\"],[\"Li+.EC\"],[\"Li+.EC\"],[\"Li+.EC\"],[\"Li+.EC\"],[\"Li+.EC\"],[\"Li+.EC\"],[\"Li+.EC\"],[\"Li+.EC\"],[\"Li+.EC\"],[\"Li+.EC\"],[\"Li+.EC\"],[\"Li+.EC\"],[\"Li+.EC\"],[\"Li+.EC\"],[\"Li+.EC\"],[\"Li+.EC\"],[\"outer box\"]],\"hovertemplate\":\"x=%{x}<br>y=%{y}<br>hover_data_0=%{customdata[0]}<extra></extra>\",\"legendgroup\":\"\",\"marker\":{\"color\":[\"black\",\"red\",\"red\",\"red\",\"red\",\"green\",\"green\",\"green\",\"green\",\"green\",\"white\",\"green\",\"white\",\"white\",\"white\",\"green\",\"green\",\"white\",\"white\",\"green\",\"green\",\"white\",\"white\",\"green\",\"green\",\"green\",\"white\",\"white\",\"white\",\"green\",\"white\",\"white\",\"white\",\"white\",\"white\",\"white\",\"green\",\"white\",\"white\",\"white\",\"white\",\"white\",\"white\",\"white\",\"white\",\"white\",\"white\",\"white\",\"white\",\"yellow\",\"black\",\"red\",\"red\",\"red\",\"white\",\"white\",\"green\",\"green\",\"green\",\"white\",\"green\",\"white\",\"white\",\"white\",\"white\",\"green\",\"white\",\"green\",\"white\",\"green\",\"green\",\"white\",\"white\",\"white\",\"white\",\"green\",\"white\",\"white\",\"green\",\"white\",\"white\",\"white\",\"white\",\"white\",\"green\",\"white\",\"white\",\"white\",\"white\",\"white\",\"green\",\"white\",\"white\",\"white\",\"white\",\"white\",\"white\",\"white\",\"white\",\"yellow\",\"black\",\"red\",\"red\",\"red\",\"white\",\"green\",\"green\",\"green\",\"white\",\"green\",\"white\",\"green\",\"white\",\"white\",\"white\",\"white\",\"green\",\"white\",\"white\",\"white\",\"white\",\"green\",\"white\",\"green\",\"white\",\"green\",\"white\",\"white\",\"white\",\"green\",\"white\",\"white\",\"white\",\"white\",\"white\",\"white\",\"white\",\"green\",\"white\",\"white\",\"white\",\"white\",\"white\",\"white\",\"white\",\"white\",\"white\",\"white\",\"white\",\"yellow\",\"black\",\"red\",\"red\",\"red\",\"white\",\"green\",\"green\",\"green\",\"green\",\"white\",\"green\",\"white\",\"white\",\"white\",\"white\",\"white\",\"green\",\"white\",\"white\",\"white\",\"white\",\"white\",\"green\",\"white\",\"white\",\"white\",\"white\",\"white\",\"white\",\"white\",\"white\",\"white\",\"green\",\"white\",\"white\",\"white\",\"white\",\"white\",\"white\",\"white\",\"white\",\"white\",\"white\",\"white\",\"white\",\"white\",\"white\",\"white\",\"white\",\"yellow\",\"black\",\"red\",\"red\",\"red\",\"red\",\"white\",\"green\",\"green\",\"green\",\"green\",\"green\",\"white\",\"green\",\"white\",\"white\",\"white\",\"green\",\"white\",\"green\",\"green\",\"white\",\"white\",\"green\",\"white\",\"white\",\"white\",\"white\",\"white\",\"white\",\"white\",\"green\",\"white\",\"white\",\"white\",\"white\",\"green\",\"white\",\"green\",\"white\",\"white\",\"white\",\"white\",\"white\",\"white\",\"white\",\"white\",\"white\",\"white\",\"white\",\"yellow\",\"black\",\"red\",\"red\",\"red\",\"red\",\"green\",\"green\",\"green\",\"green\",\"green\",\"green\",\"green\",\"green\",\"green\",\"white\",\"white\",\"white\",\"white\",\"green\",\"white\",\"white\",\"green\",\"white\",\"white\",\"white\",\"green\",\"white\",\"white\",\"white\",\"white\",\"white\",\"white\",\"white\",\"white\",\"white\",\"white\",\"white\",\"white\",\"white\",\"white\",\"white\",\"white\",\"white\",\"white\",\"white\",\"white\",\"white\",\"white\",\"white\",\"yellow\",\"black\",\"red\",\"red\",\"red\",\"red\",\"green\",\"green\",\"white\",\"green\",\"green\",\"green\",\"white\",\"white\",\"white\",\"green\",\"white\",\"green\",\"white\",\"green\",\"green\",\"white\",\"white\",\"white\",\"white\",\"white\",\"white\",\"green\",\"white\",\"white\",\"white\",\"white\",\"white\",\"white\",\"green\",\"white\",\"white\",\"white\",\"green\",\"white\",\"white\",\"white\",\"white\",\"white\",\"white\",\"white\",\"white\",\"white\",\"white\",\"white\",\"yellow\",\"black\",\"red\",\"red\",\"red\",\"red\",\"green\",\"white\",\"white\",\"white\",\"white\",\"green\",\"green\",\"white\",\"white\",\"white\",\"white\",\"white\",\"white\",\"green\",\"white\",\"white\",\"white\",\"white\",\"green\",\"white\",\"green\",\"white\",\"white\",\"white\",\"white\",\"white\",\"green\",\"white\",\"white\",\"green\",\"white\",\"green\",\"white\",\"white\",\"green\",\"white\",\"white\",\"white\",\"white\",\"white\",\"white\",\"white\",\"white\",\"white\",\"yellow\",\"black\",\"red\",\"red\",\"red\",\"red\",\"white\",\"green\",\"white\",\"white\",\"green\",\"white\",\"white\",\"green\",\"green\",\"white\",\"white\",\"white\",\"white\",\"white\",\"white\",\"white\",\"green\",\"green\",\"white\",\"white\",\"green\",\"white\",\"white\",\"white\",\"white\",\"green\",\"white\",\"white\",\"green\",\"white\",\"white\",\"white\",\"green\",\"white\",\"white\",\"white\",\"white\",\"white\",\"white\",\"white\",\"green\",\"white\",\"white\",\"white\",\"yellow\",\"black\",\"red\",\"red\",\"red\",\"red\",\"white\",\"green\",\"white\",\"green\",\"green\",\"white\",\"white\",\"green\",\"green\",\"white\",\"white\",\"white\",\"green\",\"white\",\"white\",\"green\",\"green\",\"white\",\"white\",\"white\",\"green\",\"white\",\"white\",\"white\",\"white\",\"white\",\"white\",\"white\",\"green\",\"white\",\"white\",\"white\",\"white\",\"white\",\"white\",\"white\",\"white\",\"white\",\"white\",\"white\",\"white\",\"white\",\"white\",\"white\",\"yellow\",\"black\",\"red\",\"red\",\"red\",\"red\",\"white\",\"white\",\"green\",\"green\",\"white\",\"white\",\"white\",\"white\",\"white\",\"green\",\"white\",\"white\",\"white\",\"green\",\"white\",\"white\",\"white\",\"white\",\"white\",\"green\",\"white\",\"white\",\"white\",\"green\",\"white\",\"white\",\"white\",\"white\",\"white\",\"white\",\"white\",\"white\",\"white\",\"white\",\"white\",\"white\",\"white\",\"white\",\"white\",\"white\",\"white\",\"green\",\"white\",\"white\",\"yellow\",\"black\",\"red\",\"red\",\"red\",\"red\",\"white\",\"white\",\"white\",\"green\",\"white\",\"white\",\"white\",\"green\",\"white\",\"white\",\"white\",\"green\",\"white\",\"white\",\"white\",\"green\",\"green\",\"white\",\"green\",\"green\",\"green\",\"white\",\"white\",\"white\",\"green\",\"white\",\"white\",\"white\",\"white\",\"white\",\"white\",\"white\",\"white\",\"white\",\"white\",\"white\",\"white\",\"white\",\"white\",\"white\",\"white\",\"white\",\"white\",\"white\",\"yellow\",\"black\",\"red\",\"red\",\"red\",\"red\",\"green\",\"green\",\"white\",\"green\",\"green\",\"white\",\"white\",\"green\",\"white\",\"white\",\"white\",\"white\",\"white\",\"green\",\"green\",\"white\",\"white\",\"green\",\"green\",\"white\",\"green\",\"white\",\"white\",\"white\",\"white\",\"white\",\"white\",\"white\",\"white\",\"white\",\"white\",\"white\",\"green\",\"white\",\"white\",\"white\",\"white\",\"white\",\"white\",\"white\",\"white\",\"white\",\"white\",\"white\",\"yellow\",\"black\",\"red\",\"red\",\"red\",\"red\",\"white\",\"white\",\"green\",\"white\",\"white\",\"white\",\"white\",\"white\",\"green\",\"white\",\"white\",\"green\",\"white\",\"green\",\"white\",\"white\",\"green\",\"white\",\"white\",\"white\",\"white\",\"green\",\"white\",\"white\",\"white\",\"white\",\"white\",\"white\",\"white\",\"white\",\"white\",\"white\",\"white\",\"white\",\"white\",\"white\",\"white\",\"white\",\"white\",\"white\",\"white\",\"white\",\"white\",\"white\",\"yellow\",\"black\",\"red\",\"red\",\"red\",\"red\",\"green\",\"green\",\"green\",\"white\",\"green\",\"green\",\"green\",\"white\",\"white\",\"white\",\"white\",\"white\",\"white\",\"white\",\"white\",\"white\",\"white\",\"white\",\"white\",\"green\",\"green\",\"white\",\"white\",\"white\",\"white\",\"white\",\"white\",\"white\",\"white\",\"white\",\"green\",\"white\",\"white\",\"white\",\"white\",\"white\",\"white\",\"white\",\"white\",\"white\",\"white\",\"white\",\"white\",\"white\",\"yellow\",\"black\",\"red\",\"red\",\"red\",\"red\",\"green\",\"white\",\"white\",\"white\",\"white\",\"white\",\"white\",\"green\",\"white\",\"green\",\"white\",\"white\",\"green\",\"green\",\"white\",\"white\",\"green\",\"white\",\"white\",\"white\",\"white\",\"white\",\"green\",\"white\",\"white\",\"white\",\"white\",\"green\",\"white\",\"white\",\"white\",\"white\",\"white\",\"green\",\"white\",\"white\",\"white\",\"white\",\"white\",\"white\",\"white\",\"white\",\"white\",\"white\",\"yellow\",\"black\",\"red\",\"red\",\"red\",\"red\",\"white\",\"white\",\"green\",\"green\",\"green\",\"white\",\"white\",\"green\",\"white\",\"green\",\"green\",\"white\",\"white\",\"white\",\"white\",\"white\",\"white\",\"white\",\"white\",\"green\",\"green\",\"white\",\"white\",\"white\",\"white\",\"white\",\"white\",\"white\",\"white\",\"white\",\"green\",\"green\",\"white\",\"white\",\"white\",\"white\",\"white\",\"white\",\"green\",\"white\",\"white\",\"white\",\"white\",\"white\",\"yellow\",\"black\",\"red\",\"red\",\"red\",\"red\",\"white\",\"white\",\"green\",\"green\",\"green\",\"white\",\"white\",\"white\",\"white\",\"white\",\"white\",\"green\",\"white\",\"white\",\"green\",\"white\",\"green\",\"white\",\"green\",\"white\",\"green\",\"white\",\"green\",\"white\",\"white\",\"green\",\"white\",\"green\",\"white\",\"white\",\"white\",\"white\",\"white\",\"white\",\"white\",\"white\",\"white\",\"white\",\"white\",\"white\",\"white\",\"white\",\"white\",\"white\",\"yellow\",\"black\",\"red\",\"red\",\"red\",\"red\",\"white\",\"green\",\"green\",\"green\",\"white\",\"green\",\"white\",\"green\",\"white\",\"white\",\"green\",\"white\",\"green\",\"white\",\"white\",\"green\",\"green\",\"white\",\"white\",\"white\",\"white\",\"white\",\"white\",\"white\",\"white\",\"white\",\"white\",\"green\",\"white\",\"white\",\"white\",\"white\",\"white\",\"white\",\"white\",\"green\",\"green\",\"white\",\"white\",\"white\",\"white\",\"white\",\"green\",\"white\",\"yellow\",\"black\",\"red\",\"red\",\"red\",\"red\",\"green\",\"white\",\"green\",\"white\",\"green\",\"green\",\"white\",\"green\",\"green\",\"green\",\"white\",\"white\",\"green\",\"white\",\"green\",\"white\",\"green\",\"white\",\"white\",\"white\",\"white\",\"green\",\"white\",\"white\",\"white\",\"white\",\"white\",\"white\",\"white\",\"white\",\"green\",\"white\",\"white\",\"green\",\"white\",\"white\",\"white\",\"white\",\"white\",\"white\",\"white\",\"white\",\"white\",\"white\",\"yellow\",\"black\",\"red\",\"red\",\"red\",\"red\",\"white\",\"white\",\"white\",\"white\",\"white\",\"white\",\"white\",\"green\",\"green\",\"white\",\"white\",\"green\",\"white\",\"white\",\"white\",\"white\",\"white\",\"white\",\"white\",\"white\",\"green\",\"green\",\"white\",\"green\",\"white\",\"white\",\"white\",\"white\",\"green\",\"white\",\"white\",\"white\",\"white\",\"white\",\"white\",\"white\",\"white\",\"white\",\"white\",\"white\",\"white\",\"white\",\"white\",\"white\",\"yellow\",\"black\",\"red\",\"red\",\"red\",\"red\",\"green\",\"white\",\"white\",\"white\",\"white\",\"white\",\"white\",\"white\",\"white\",\"green\",\"white\",\"green\",\"white\",\"white\",\"green\",\"white\",\"white\",\"white\",\"green\",\"white\",\"white\",\"white\",\"white\",\"white\",\"white\",\"white\",\"white\",\"white\",\"green\",\"white\",\"white\",\"white\",\"white\",\"white\",\"white\",\"white\",\"white\",\"green\",\"white\",\"white\",\"white\",\"white\",\"white\",\"white\",\"yellow\",\"black\",\"red\",\"red\",\"red\",\"red\",\"green\",\"white\",\"white\",\"white\",\"white\",\"green\",\"green\",\"green\",\"green\",\"green\",\"white\",\"white\",\"white\",\"green\",\"white\",\"white\",\"white\",\"green\",\"white\",\"white\",\"white\",\"white\",\"white\",\"white\",\"white\",\"white\",\"white\",\"white\",\"white\",\"white\",\"white\",\"white\",\"white\",\"white\",\"white\",\"white\",\"white\",\"white\",\"white\",\"white\",\"white\",\"white\",\"white\",\"white\",\"yellow\",\"black\",\"red\",\"red\",\"red\",\"red\",\"white\",\"white\",\"white\",\"green\",\"white\",\"green\",\"green\",\"green\",\"white\",\"white\",\"green\",\"green\",\"white\",\"green\",\"white\",\"white\",\"white\",\"white\",\"white\",\"green\",\"white\",\"white\",\"white\",\"green\",\"white\",\"green\",\"white\",\"green\",\"green\",\"white\",\"white\",\"green\",\"white\",\"white\",\"white\",\"white\",\"white\",\"white\",\"white\",\"white\",\"white\",\"white\",\"white\",\"white\",\"yellow\",\"black\",\"red\",\"red\",\"red\",\"red\",\"white\",\"green\",\"green\",\"green\",\"white\",\"green\",\"white\",\"white\",\"white\",\"green\",\"white\",\"white\",\"green\",\"white\",\"white\",\"green\",\"white\",\"white\",\"white\",\"white\",\"white\",\"green\",\"white\",\"green\",\"white\",\"white\",\"white\",\"white\",\"white\",\"white\",\"white\",\"white\",\"white\",\"white\",\"green\",\"white\",\"white\",\"white\",\"white\",\"white\",\"white\",\"white\",\"white\",\"white\",\"yellow\",\"black\",\"red\",\"red\",\"red\",\"red\",\"white\",\"green\",\"white\",\"green\",\"white\",\"white\",\"green\",\"green\",\"green\",\"white\",\"green\",\"white\",\"white\",\"white\",\"white\",\"white\",\"white\",\"white\",\"green\",\"white\",\"white\",\"white\",\"green\",\"green\",\"white\",\"white\",\"white\",\"white\",\"green\",\"white\",\"white\",\"white\",\"white\",\"white\",\"white\",\"white\",\"white\",\"white\",\"white\",\"white\",\"white\",\"white\",\"white\",\"white\",\"yellow\",\"black\",\"red\",\"red\",\"red\",\"red\",\"white\",\"white\",\"white\",\"white\",\"white\",\"white\",\"white\",\"green\",\"green\",\"white\",\"green\",\"white\",\"white\",\"white\",\"white\",\"white\",\"white\",\"white\",\"white\",\"white\",\"white\",\"green\",\"white\",\"white\",\"white\",\"white\",\"green\",\"white\",\"white\",\"white\",\"green\",\"white\",\"green\",\"white\",\"white\",\"white\",\"white\",\"white\",\"white\",\"white\",\"white\",\"white\",\"white\",\"white\",\"yellow\",\"black\",\"red\",\"red\",\"red\",\"red\",\"green\",\"white\",\"white\",\"white\",\"green\",\"white\",\"white\",\"white\",\"white\",\"white\",\"white\",\"white\",\"green\",\"white\",\"white\",\"white\",\"white\",\"white\",\"white\",\"white\",\"white\",\"white\",\"green\",\"white\",\"white\",\"white\",\"white\",\"white\",\"white\",\"white\",\"white\",\"white\",\"white\",\"white\",\"white\",\"white\",\"white\",\"white\",\"white\",\"white\",\"white\",\"white\",\"white\",\"white\",\"yellow\",\"black\",\"red\",\"red\",\"red\",\"red\",\"green\",\"white\",\"white\",\"green\",\"white\",\"green\",\"white\",\"white\",\"green\",\"white\",\"green\",\"white\",\"white\",\"green\",\"white\",\"white\",\"white\",\"white\",\"white\",\"white\",\"white\",\"white\",\"white\",\"white\",\"white\",\"green\",\"white\",\"white\",\"white\",\"white\",\"green\",\"white\",\"white\",\"white\",\"white\",\"white\",\"white\",\"white\",\"white\",\"white\",\"white\",\"white\",\"white\",\"white\",\"yellow\",\"black\",\"red\",\"red\",\"red\",\"red\",\"green\",\"white\",\"white\",\"green\",\"green\",\"white\",\"white\",\"white\",\"white\",\"white\",\"green\",\"white\",\"green\",\"white\",\"green\",\"green\",\"white\",\"green\",\"white\",\"green\",\"white\",\"white\",\"white\",\"green\",\"white\",\"white\",\"green\",\"white\",\"white\",\"white\",\"white\",\"green\",\"green\",\"white\",\"white\",\"white\",\"white\",\"white\",\"white\",\"white\",\"white\",\"white\",\"white\",\"white\",\"yellow\",\"black\",\"red\",\"red\",\"red\",\"red\",\"green\",\"white\",\"white\",\"white\",\"white\",\"white\",\"green\",\"green\",\"white\",\"white\",\"orange\",\"white\",\"green\",\"white\",\"green\",\"white\",\"green\",\"white\",\"white\",\"white\",\"white\",\"white\",\"green\",\"white\",\"white\",\"green\",\"white\",\"white\",\"white\",\"white\",\"white\",\"white\",\"white\",\"white\",\"white\",\"white\",\"white\",\"white\",\"white\",\"green\",\"white\",\"white\",\"white\",\"white\",\"yellow\",\"black\",\"red\",\"red\",\"red\",\"red\",\"green\",\"white\",\"white\",\"white\",\"white\",\"white\",\"green\",\"white\",\"white\",\"green\",\"green\",\"green\",\"white\",\"white\",\"white\",\"green\",\"white\",\"white\",\"white\",\"white\",\"white\",\"green\",\"white\",\"white\",\"white\",\"white\",\"white\",\"white\",\"white\",\"white\",\"white\",\"white\",\"white\",\"green\",\"white\",\"white\",\"white\",\"white\",\"white\",\"white\",\"white\",\"white\",\"white\",\"white\",\"yellow\",\"black\",\"red\",\"red\",\"red\",\"red\",\"green\",\"green\",\"white\",\"white\",\"white\",\"white\",\"white\",\"white\",\"green\",\"white\",\"green\",\"green\",\"green\",\"green\",\"white\",\"white\",\"white\",\"white\",\"white\",\"white\",\"green\",\"green\",\"white\",\"green\",\"white\",\"white\",\"white\",\"white\",\"white\",\"white\",\"white\",\"white\",\"white\",\"white\",\"white\",\"white\",\"white\",\"white\",\"white\",\"white\",\"white\",\"white\",\"white\",\"white\",\"yellow\",\"black\",\"red\",\"red\",\"red\",\"red\",\"green\",\"white\",\"green\",\"green\",\"white\",\"white\",\"white\",\"white\",\"green\",\"white\",\"white\",\"white\",\"white\",\"white\",\"white\",\"green\",\"white\",\"white\",\"green\",\"white\",\"white\",\"white\",\"white\",\"white\",\"white\",\"white\",\"white\",\"white\",\"white\",\"white\",\"white\",\"green\",\"white\",\"white\",\"white\",\"white\",\"white\",\"white\",\"white\",\"white\",\"white\",\"white\",\"white\",\"white\",\"yellow\",\"black\",\"red\",\"red\",\"red\",\"red\",\"white\",\"green\",\"white\",\"white\",\"white\",\"white\",\"green\",\"green\",\"white\",\"white\",\"green\",\"green\",\"white\",\"white\",\"white\",\"white\",\"white\",\"white\",\"white\",\"white\",\"white\",\"green\",\"white\",\"white\",\"white\",\"white\",\"white\",\"green\",\"white\",\"white\",\"white\",\"white\",\"green\",\"white\",\"white\",\"white\",\"white\",\"white\",\"white\",\"white\",\"white\",\"white\",\"white\",\"white\",\"yellow\",\"black\",\"red\",\"red\",\"red\",\"red\",\"white\",\"green\",\"green\",\"white\",\"white\",\"green\",\"white\",\"white\",\"white\",\"white\",\"green\",\"white\",\"white\",\"white\",\"white\",\"white\",\"green\",\"white\",\"green\",\"white\",\"white\",\"white\",\"white\",\"white\",\"green\",\"green\",\"white\",\"white\",\"white\",\"white\",\"white\",\"white\",\"white\",\"white\",\"green\",\"green\",\"white\",\"white\",\"white\",\"white\",\"white\",\"white\",\"white\",\"white\",\"yellow\",\"black\",\"red\",\"red\",\"red\",\"red\",\"white\",\"green\",\"white\",\"white\",\"white\",\"white\",\"white\",\"white\",\"white\",\"white\",\"white\",\"white\",\"white\",\"white\",\"white\",\"white\",\"white\",\"white\",\"green\",\"white\",\"green\",\"white\",\"white\",\"white\",\"white\",\"white\",\"white\",\"white\",\"white\",\"white\",\"green\",\"white\",\"white\",\"white\",\"white\",\"white\",\"white\",\"white\",\"white\",\"white\",\"white\",\"white\",\"white\",\"white\",\"yellow\",\"black\",\"red\",\"red\",\"red\",\"red\",\"green\",\"green\",\"white\",\"green\",\"white\",\"white\",\"white\",\"green\",\"white\",\"white\",\"white\",\"green\",\"green\",\"white\",\"white\",\"green\",\"white\",\"white\",\"white\",\"white\",\"white\",\"white\",\"white\",\"green\",\"white\",\"white\",\"white\",\"green\",\"white\",\"white\",\"white\",\"white\",\"white\",\"white\",\"white\",\"white\",\"white\",\"white\",\"white\",\"white\",\"white\",\"white\",\"white\",\"white\",\"yellow\",\"black\",\"red\",\"red\",\"red\",\"red\",\"green\",\"white\",\"white\",\"white\",\"green\",\"green\",\"green\",\"white\",\"green\",\"green\",\"white\",\"green\",\"green\",\"white\",\"white\",\"white\",\"white\",\"green\",\"white\",\"white\",\"white\",\"white\",\"white\",\"white\",\"white\",\"white\",\"white\",\"white\",\"white\",\"white\",\"white\",\"white\",\"white\",\"white\",\"white\",\"white\",\"white\",\"white\",\"white\",\"white\",\"white\",\"white\",\"white\",\"white\",\"yellow\",\"black\",\"red\",\"red\",\"red\",\"red\",\"white\",\"white\",\"white\",\"green\",\"white\",\"white\",\"green\",\"white\",\"white\",\"white\",\"white\",\"white\",\"white\",\"white\",\"white\",\"green\",\"white\",\"white\",\"white\",\"white\",\"white\",\"white\",\"green\",\"white\",\"white\",\"white\",\"white\",\"white\",\"green\",\"white\",\"white\",\"white\",\"white\",\"white\",\"white\",\"white\",\"white\",\"green\",\"white\",\"white\",\"white\",\"white\",\"white\",\"white\",\"yellow\",\"black\",\"red\",\"red\",\"red\",\"red\",\"white\",\"white\",\"white\",\"white\",\"white\",\"green\",\"white\",\"green\",\"white\",\"white\",\"white\",\"white\",\"green\",\"white\",\"white\",\"white\",\"green\",\"white\",\"white\",\"green\",\"white\",\"green\",\"white\",\"white\",\"white\",\"white\",\"white\",\"white\",\"white\",\"green\",\"white\",\"white\",\"white\",\"white\",\"white\",\"white\",\"white\",\"white\",\"green\",\"white\",\"white\",\"white\",\"white\",\"white\",\"yellow\",\"black\",\"red\",\"red\",\"red\",\"red\",\"white\",\"white\",\"white\",\"white\",\"green\",\"white\",\"white\",\"white\",\"green\",\"white\",\"white\",\"green\",\"white\",\"white\",\"white\",\"white\",\"white\",\"white\",\"green\",\"green\",\"green\",\"white\",\"white\",\"white\",\"white\",\"white\",\"white\",\"white\",\"white\",\"white\",\"white\",\"white\",\"white\",\"white\",\"white\",\"white\",\"white\",\"white\",\"white\",\"white\",\"white\",\"white\",\"white\",\"white\",\"yellow\",\"black\",\"red\",\"red\",\"red\",\"red\",\"green\",\"green\",\"green\",\"white\",\"white\",\"white\",\"white\",\"green\",\"white\",\"green\",\"white\",\"white\",\"white\",\"white\",\"green\",\"white\",\"green\",\"white\",\"white\",\"green\",\"white\",\"white\",\"white\",\"green\",\"green\",\"white\",\"white\",\"green\",\"green\",\"white\",\"green\",\"white\",\"white\",\"white\",\"white\",\"white\",\"white\",\"white\",\"white\",\"white\",\"white\",\"white\",\"white\",\"white\",\"yellow\",\"black\",\"red\",\"red\",\"red\",\"red\",\"white\",\"white\",\"green\",\"white\",\"white\",\"green\",\"white\",\"white\",\"white\",\"white\",\"white\",\"green\",\"green\",\"white\",\"white\",\"white\",\"white\",\"white\",\"green\",\"white\",\"white\",\"green\",\"white\",\"white\",\"white\",\"white\",\"green\",\"white\",\"green\",\"white\",\"white\",\"white\",\"white\",\"white\",\"green\",\"white\",\"white\",\"white\",\"white\",\"white\",\"white\",\"white\",\"white\",\"white\",\"yellow\",\"black\",\"red\",\"red\",\"red\",\"red\",\"green\",\"white\",\"white\",\"green\",\"white\",\"white\",\"white\",\"white\",\"white\",\"white\",\"green\",\"white\",\"white\",\"white\",\"white\",\"white\",\"white\",\"white\",\"white\",\"white\",\"white\",\"white\",\"white\",\"white\",\"white\",\"white\",\"white\",\"white\",\"white\",\"white\",\"white\",\"white\",\"white\",\"white\",\"white\",\"white\",\"white\",\"white\",\"white\",\"white\",\"white\",\"green\",\"white\",\"white\",\"yellow\",\"black\",\"red\",\"red\",\"red\",\"red\",\"white\",\"white\",\"white\",\"green\",\"white\",\"white\",\"white\",\"white\",\"white\",\"white\",\"white\",\"white\",\"green\",\"white\",\"green\",\"white\",\"green\",\"green\",\"green\",\"white\",\"white\",\"white\",\"green\",\"white\",\"white\",\"white\",\"green\",\"white\",\"white\",\"white\",\"white\",\"white\",\"white\",\"white\",\"white\",\"green\",\"white\",\"white\",\"white\",\"white\",\"white\",\"white\",\"white\",\"white\",\"yellow\",\"black\",\"red\",\"red\",\"red\",\"red\",\"green\",\"green\",\"white\",\"white\",\"green\",\"white\",\"white\",\"white\",\"white\",\"green\",\"white\",\"white\",\"white\",\"white\",\"white\",\"green\",\"green\",\"white\",\"white\",\"white\",\"white\",\"white\",\"white\",\"white\",\"green\",\"white\",\"white\",\"white\",\"white\",\"white\",\"white\",\"white\",\"white\",\"green\",\"white\",\"white\",\"white\",\"white\",\"white\",\"white\",\"white\",\"white\",\"white\",\"white\",\"yellow\",\"black\",\"red\",\"red\",\"red\",\"green\",\"white\",\"green\",\"white\",\"green\",\"white\",\"white\",\"white\",\"white\",\"white\",\"green\",\"white\",\"green\",\"white\",\"white\",\"white\",\"green\",\"white\",\"white\",\"white\",\"green\",\"white\",\"white\",\"white\",\"white\",\"white\",\"white\",\"white\",\"white\",\"white\",\"white\",\"white\",\"white\",\"white\",\"white\",\"white\",\"white\",\"white\",\"white\",\"white\",\"white\",\"white\",\"white\",\"white\",\"white\",\"yellow\",\"black\",\"red\",\"red\",\"red\",\"green\",\"green\",\"white\",\"green\",\"white\",\"white\",\"green\",\"white\",\"green\",\"white\",\"green\",\"white\",\"white\",\"white\",\"green\",\"white\",\"green\",\"white\",\"white\",\"green\",\"white\",\"white\",\"white\",\"white\",\"white\",\"white\",\"white\",\"white\",\"white\",\"white\",\"green\",\"white\",\"white\",\"white\",\"white\",\"white\",\"white\",\"white\",\"white\",\"white\",\"white\",\"white\",\"white\",\"white\",\"white\",\"yellow\",\"black\",\"red\",\"red\",\"red\",\"red\",\"green\",\"green\",\"green\",\"green\",\"white\",\"white\",\"white\",\"white\",\"white\",\"white\",\"white\",\"white\",\"white\",\"white\",\"white\",\"green\",\"white\",\"green\",\"white\",\"white\",\"white\",\"white\",\"white\",\"white\",\"white\",\"green\",\"white\",\"white\",\"white\",\"white\",\"white\",\"white\",\"white\",\"white\",\"white\",\"white\",\"white\",\"white\",\"white\",\"white\",\"white\",\"white\",\"white\",\"white\",\"yellow\"],\"symbol\":\"circle\"},\"mode\":\"markers\",\"name\":\"\",\"showlegend\":false,\"x\":[1,1,1,1,1,1,1,1,1,1,1,1,1,1,1,1,1,1,1,1,1,1,1,1,1,1,1,1,1,1,1,1,1,1,1,1,1,1,1,1,1,1,1,1,1,1,1,1,1,1,2,2,2,2,2,2,2,2,2,2,2,2,2,2,2,2,2,2,2,2,2,2,2,2,2,2,2,2,2,2,2,2,2,2,2,2,2,2,2,2,2,2,2,2,2,2,2,2,2,2,3,3,3,3,3,3,3,3,3,3,3,3,3,3,3,3,3,3,3,3,3,3,3,3,3,3,3,3,3,3,3,3,3,3,3,3,3,3,3,3,3,3,3,3,3,3,3,3,3,3,4,4,4,4,4,4,4,4,4,4,4,4,4,4,4,4,4,4,4,4,4,4,4,4,4,4,4,4,4,4,4,4,4,4,4,4,4,4,4,4,4,4,4,4,4,4,4,4,4,4,5,5,5,5,5,5,5,5,5,5,5,5,5,5,5,5,5,5,5,5,5,5,5,5,5,5,5,5,5,5,5,5,5,5,5,5,5,5,5,5,5,5,5,5,5,5,5,5,5,5,6,6,6,6,6,6,6,6,6,6,6,6,6,6,6,6,6,6,6,6,6,6,6,6,6,6,6,6,6,6,6,6,6,6,6,6,6,6,6,6,6,6,6,6,6,6,6,6,6,6,7,7,7,7,7,7,7,7,7,7,7,7,7,7,7,7,7,7,7,7,7,7,7,7,7,7,7,7,7,7,7,7,7,7,7,7,7,7,7,7,7,7,7,7,7,7,7,7,7,7,8,8,8,8,8,8,8,8,8,8,8,8,8,8,8,8,8,8,8,8,8,8,8,8,8,8,8,8,8,8,8,8,8,8,8,8,8,8,8,8,8,8,8,8,8,8,8,8,8,8,9,9,9,9,9,9,9,9,9,9,9,9,9,9,9,9,9,9,9,9,9,9,9,9,9,9,9,9,9,9,9,9,9,9,9,9,9,9,9,9,9,9,9,9,9,9,9,9,9,9,10,10,10,10,10,10,10,10,10,10,10,10,10,10,10,10,10,10,10,10,10,10,10,10,10,10,10,10,10,10,10,10,10,10,10,10,10,10,10,10,10,10,10,10,10,10,10,10,10,10,11,11,11,11,11,11,11,11,11,11,11,11,11,11,11,11,11,11,11,11,11,11,11,11,11,11,11,11,11,11,11,11,11,11,11,11,11,11,11,11,11,11,11,11,11,11,11,11,11,11,12,12,12,12,12,12,12,12,12,12,12,12,12,12,12,12,12,12,12,12,12,12,12,12,12,12,12,12,12,12,12,12,12,12,12,12,12,12,12,12,12,12,12,12,12,12,12,12,12,12,13,13,13,13,13,13,13,13,13,13,13,13,13,13,13,13,13,13,13,13,13,13,13,13,13,13,13,13,13,13,13,13,13,13,13,13,13,13,13,13,13,13,13,13,13,13,13,13,13,13,14,14,14,14,14,14,14,14,14,14,14,14,14,14,14,14,14,14,14,14,14,14,14,14,14,14,14,14,14,14,14,14,14,14,14,14,14,14,14,14,14,14,14,14,14,14,14,14,14,14,15,15,15,15,15,15,15,15,15,15,15,15,15,15,15,15,15,15,15,15,15,15,15,15,15,15,15,15,15,15,15,15,15,15,15,15,15,15,15,15,15,15,15,15,15,15,15,15,15,15,16,16,16,16,16,16,16,16,16,16,16,16,16,16,16,16,16,16,16,16,16,16,16,16,16,16,16,16,16,16,16,16,16,16,16,16,16,16,16,16,16,16,16,16,16,16,16,16,16,16,17,17,17,17,17,17,17,17,17,17,17,17,17,17,17,17,17,17,17,17,17,17,17,17,17,17,17,17,17,17,17,17,17,17,17,17,17,17,17,17,17,17,17,17,17,17,17,17,17,17,18,18,18,18,18,18,18,18,18,18,18,18,18,18,18,18,18,18,18,18,18,18,18,18,18,18,18,18,18,18,18,18,18,18,18,18,18,18,18,18,18,18,18,18,18,18,18,18,18,18,19,19,19,19,19,19,19,19,19,19,19,19,19,19,19,19,19,19,19,19,19,19,19,19,19,19,19,19,19,19,19,19,19,19,19,19,19,19,19,19,19,19,19,19,19,19,19,19,19,19,20,20,20,20,20,20,20,20,20,20,20,20,20,20,20,20,20,20,20,20,20,20,20,20,20,20,20,20,20,20,20,20,20,20,20,20,20,20,20,20,20,20,20,20,20,20,20,20,20,20,21,21,21,21,21,21,21,21,21,21,21,21,21,21,21,21,21,21,21,21,21,21,21,21,21,21,21,21,21,21,21,21,21,21,21,21,21,21,21,21,21,21,21,21,21,21,21,21,21,21,22,22,22,22,22,22,22,22,22,22,22,22,22,22,22,22,22,22,22,22,22,22,22,22,22,22,22,22,22,22,22,22,22,22,22,22,22,22,22,22,22,22,22,22,22,22,22,22,22,22,23,23,23,23,23,23,23,23,23,23,23,23,23,23,23,23,23,23,23,23,23,23,23,23,23,23,23,23,23,23,23,23,23,23,23,23,23,23,23,23,23,23,23,23,23,23,23,23,23,23,24,24,24,24,24,24,24,24,24,24,24,24,24,24,24,24,24,24,24,24,24,24,24,24,24,24,24,24,24,24,24,24,24,24,24,24,24,24,24,24,24,24,24,24,24,24,24,24,24,24,25,25,25,25,25,25,25,25,25,25,25,25,25,25,25,25,25,25,25,25,25,25,25,25,25,25,25,25,25,25,25,25,25,25,25,25,25,25,25,25,25,25,25,25,25,25,25,25,25,25,26,26,26,26,26,26,26,26,26,26,26,26,26,26,26,26,26,26,26,26,26,26,26,26,26,26,26,26,26,26,26,26,26,26,26,26,26,26,26,26,26,26,26,26,26,26,26,26,26,26,27,27,27,27,27,27,27,27,27,27,27,27,27,27,27,27,27,27,27,27,27,27,27,27,27,27,27,27,27,27,27,27,27,27,27,27,27,27,27,27,27,27,27,27,27,27,27,27,27,27,28,28,28,28,28,28,28,28,28,28,28,28,28,28,28,28,28,28,28,28,28,28,28,28,28,28,28,28,28,28,28,28,28,28,28,28,28,28,28,28,28,28,28,28,28,28,28,28,28,28,29,29,29,29,29,29,29,29,29,29,29,29,29,29,29,29,29,29,29,29,29,29,29,29,29,29,29,29,29,29,29,29,29,29,29,29,29,29,29,29,29,29,29,29,29,29,29,29,29,29,30,30,30,30,30,30,30,30,30,30,30,30,30,30,30,30,30,30,30,30,30,30,30,30,30,30,30,30,30,30,30,30,30,30,30,30,30,30,30,30,30,30,30,30,30,30,30,30,30,30,31,31,31,31,31,31,31,31,31,31,31,31,31,31,31,31,31,31,31,31,31,31,31,31,31,31,31,31,31,31,31,31,31,31,31,31,31,31,31,31,31,31,31,31,31,31,31,31,31,31,32,32,32,32,32,32,32,32,32,32,32,32,32,32,32,32,32,32,32,32,32,32,32,32,32,32,32,32,32,32,32,32,32,32,32,32,32,32,32,32,32,32,32,32,32,32,32,32,32,32,33,33,33,33,33,33,33,33,33,33,33,33,33,33,33,33,33,33,33,33,33,33,33,33,33,33,33,33,33,33,33,33,33,33,33,33,33,33,33,33,33,33,33,33,33,33,33,33,33,33,34,34,34,34,34,34,34,34,34,34,34,34,34,34,34,34,34,34,34,34,34,34,34,34,34,34,34,34,34,34,34,34,34,34,34,34,34,34,34,34,34,34,34,34,34,34,34,34,34,34,35,35,35,35,35,35,35,35,35,35,35,35,35,35,35,35,35,35,35,35,35,35,35,35,35,35,35,35,35,35,35,35,35,35,35,35,35,35,35,35,35,35,35,35,35,35,35,35,35,35,36,36,36,36,36,36,36,36,36,36,36,36,36,36,36,36,36,36,36,36,36,36,36,36,36,36,36,36,36,36,36,36,36,36,36,36,36,36,36,36,36,36,36,36,36,36,36,36,36,36,37,37,37,37,37,37,37,37,37,37,37,37,37,37,37,37,37,37,37,37,37,37,37,37,37,37,37,37,37,37,37,37,37,37,37,37,37,37,37,37,37,37,37,37,37,37,37,37,37,37,38,38,38,38,38,38,38,38,38,38,38,38,38,38,38,38,38,38,38,38,38,38,38,38,38,38,38,38,38,38,38,38,38,38,38,38,38,38,38,38,38,38,38,38,38,38,38,38,38,38,39,39,39,39,39,39,39,39,39,39,39,39,39,39,39,39,39,39,39,39,39,39,39,39,39,39,39,39,39,39,39,39,39,39,39,39,39,39,39,39,39,39,39,39,39,39,39,39,39,39,40,40,40,40,40,40,40,40,40,40,40,40,40,40,40,40,40,40,40,40,40,40,40,40,40,40,40,40,40,40,40,40,40,40,40,40,40,40,40,40,40,40,40,40,40,40,40,40,40,40,41,41,41,41,41,41,41,41,41,41,41,41,41,41,41,41,41,41,41,41,41,41,41,41,41,41,41,41,41,41,41,41,41,41,41,41,41,41,41,41,41,41,41,41,41,41,41,41,41,41,42,42,42,42,42,42,42,42,42,42,42,42,42,42,42,42,42,42,42,42,42,42,42,42,42,42,42,42,42,42,42,42,42,42,42,42,42,42,42,42,42,42,42,42,42,42,42,42,42,42,43,43,43,43,43,43,43,43,43,43,43,43,43,43,43,43,43,43,43,43,43,43,43,43,43,43,43,43,43,43,43,43,43,43,43,43,43,43,43,43,43,43,43,43,43,43,43,43,43,43,44,44,44,44,44,44,44,44,44,44,44,44,44,44,44,44,44,44,44,44,44,44,44,44,44,44,44,44,44,44,44,44,44,44,44,44,44,44,44,44,44,44,44,44,44,44,44,44,44,44,45,45,45,45,45,45,45,45,45,45,45,45,45,45,45,45,45,45,45,45,45,45,45,45,45,45,45,45,45,45,45,45,45,45,45,45,45,45,45,45,45,45,45,45,45,45,45,45,45,45,46,46,46,46,46,46,46,46,46,46,46,46,46,46,46,46,46,46,46,46,46,46,46,46,46,46,46,46,46,46,46,46,46,46,46,46,46,46,46,46,46,46,46,46,46,46,46,46,46,46,47,47,47,47,47,47,47,47,47,47,47,47,47,47,47,47,47,47,47,47,47,47,47,47,47,47,47,47,47,47,47,47,47,47,47,47,47,47,47,47,47,47,47,47,47,47,47,47,47,47,48,48,48,48,48,48,48,48,48,48,48,48,48,48,48,48,48,48,48,48,48,48,48,48,48,48,48,48,48,48,48,48,48,48,48,48,48,48,48,48,48,48,48,48,48,48,48,48,48,48,49,49,49,49,49,49,49,49,49,49,49,49,49,49,49,49,49,49,49,49,49,49,49,49,49,49,49,49,49,49,49,49,49,49,49,49,49,49,49,49,49,49,49,49,49,49,49,49,49,49,50,50,50,50,50,50,50,50,50,50,50,50,50,50,50,50,50,50,50,50,50,50,50,50,50,50,50,50,50,50,50,50,50,50,50,50,50,50,50,50,50,50,50,50,50,50,50,50,50,50],\"xaxis\":\"x\",\"y\":[1,2,3,4,5,6,7,8,9,10,11,12,13,14,15,16,17,18,19,20,21,22,23,24,25,26,27,28,29,30,31,32,33,34,35,36,37,38,39,40,41,42,43,44,45,46,47,48,49,50,1,2,3,4,5,6,7,8,9,10,11,12,13,14,15,16,17,18,19,20,21,22,23,24,25,26,27,28,29,30,31,32,33,34,35,36,37,38,39,40,41,42,43,44,45,46,47,48,49,50,1,2,3,4,5,6,7,8,9,10,11,12,13,14,15,16,17,18,19,20,21,22,23,24,25,26,27,28,29,30,31,32,33,34,35,36,37,38,39,40,41,42,43,44,45,46,47,48,49,50,1,2,3,4,5,6,7,8,9,10,11,12,13,14,15,16,17,18,19,20,21,22,23,24,25,26,27,28,29,30,31,32,33,34,35,36,37,38,39,40,41,42,43,44,45,46,47,48,49,50,1,2,3,4,5,6,7,8,9,10,11,12,13,14,15,16,17,18,19,20,21,22,23,24,25,26,27,28,29,30,31,32,33,34,35,36,37,38,39,40,41,42,43,44,45,46,47,48,49,50,1,2,3,4,5,6,7,8,9,10,11,12,13,14,15,16,17,18,19,20,21,22,23,24,25,26,27,28,29,30,31,32,33,34,35,36,37,38,39,40,41,42,43,44,45,46,47,48,49,50,1,2,3,4,5,6,7,8,9,10,11,12,13,14,15,16,17,18,19,20,21,22,23,24,25,26,27,28,29,30,31,32,33,34,35,36,37,38,39,40,41,42,43,44,45,46,47,48,49,50,1,2,3,4,5,6,7,8,9,10,11,12,13,14,15,16,17,18,19,20,21,22,23,24,25,26,27,28,29,30,31,32,33,34,35,36,37,38,39,40,41,42,43,44,45,46,47,48,49,50,1,2,3,4,5,6,7,8,9,10,11,12,13,14,15,16,17,18,19,20,21,22,23,24,25,26,27,28,29,30,31,32,33,34,35,36,37,38,39,40,41,42,43,44,45,46,47,48,49,50,1,2,3,4,5,6,7,8,9,10,11,12,13,14,15,16,17,18,19,20,21,22,23,24,25,26,27,28,29,30,31,32,33,34,35,36,37,38,39,40,41,42,43,44,45,46,47,48,49,50,1,2,3,4,5,6,7,8,9,10,11,12,13,14,15,16,17,18,19,20,21,22,23,24,25,26,27,28,29,30,31,32,33,34,35,36,37,38,39,40,41,42,43,44,45,46,47,48,49,50,1,2,3,4,5,6,7,8,9,10,11,12,13,14,15,16,17,18,19,20,21,22,23,24,25,26,27,28,29,30,31,32,33,34,35,36,37,38,39,40,41,42,43,44,45,46,47,48,49,50,1,2,3,4,5,6,7,8,9,10,11,12,13,14,15,16,17,18,19,20,21,22,23,24,25,26,27,28,29,30,31,32,33,34,35,36,37,38,39,40,41,42,43,44,45,46,47,48,49,50,1,2,3,4,5,6,7,8,9,10,11,12,13,14,15,16,17,18,19,20,21,22,23,24,25,26,27,28,29,30,31,32,33,34,35,36,37,38,39,40,41,42,43,44,45,46,47,48,49,50,1,2,3,4,5,6,7,8,9,10,11,12,13,14,15,16,17,18,19,20,21,22,23,24,25,26,27,28,29,30,31,32,33,34,35,36,37,38,39,40,41,42,43,44,45,46,47,48,49,50,1,2,3,4,5,6,7,8,9,10,11,12,13,14,15,16,17,18,19,20,21,22,23,24,25,26,27,28,29,30,31,32,33,34,35,36,37,38,39,40,41,42,43,44,45,46,47,48,49,50,1,2,3,4,5,6,7,8,9,10,11,12,13,14,15,16,17,18,19,20,21,22,23,24,25,26,27,28,29,30,31,32,33,34,35,36,37,38,39,40,41,42,43,44,45,46,47,48,49,50,1,2,3,4,5,6,7,8,9,10,11,12,13,14,15,16,17,18,19,20,21,22,23,24,25,26,27,28,29,30,31,32,33,34,35,36,37,38,39,40,41,42,43,44,45,46,47,48,49,50,1,2,3,4,5,6,7,8,9,10,11,12,13,14,15,16,17,18,19,20,21,22,23,24,25,26,27,28,29,30,31,32,33,34,35,36,37,38,39,40,41,42,43,44,45,46,47,48,49,50,1,2,3,4,5,6,7,8,9,10,11,12,13,14,15,16,17,18,19,20,21,22,23,24,25,26,27,28,29,30,31,32,33,34,35,36,37,38,39,40,41,42,43,44,45,46,47,48,49,50,1,2,3,4,5,6,7,8,9,10,11,12,13,14,15,16,17,18,19,20,21,22,23,24,25,26,27,28,29,30,31,32,33,34,35,36,37,38,39,40,41,42,43,44,45,46,47,48,49,50,1,2,3,4,5,6,7,8,9,10,11,12,13,14,15,16,17,18,19,20,21,22,23,24,25,26,27,28,29,30,31,32,33,34,35,36,37,38,39,40,41,42,43,44,45,46,47,48,49,50,1,2,3,4,5,6,7,8,9,10,11,12,13,14,15,16,17,18,19,20,21,22,23,24,25,26,27,28,29,30,31,32,33,34,35,36,37,38,39,40,41,42,43,44,45,46,47,48,49,50,1,2,3,4,5,6,7,8,9,10,11,12,13,14,15,16,17,18,19,20,21,22,23,24,25,26,27,28,29,30,31,32,33,34,35,36,37,38,39,40,41,42,43,44,45,46,47,48,49,50,1,2,3,4,5,6,7,8,9,10,11,12,13,14,15,16,17,18,19,20,21,22,23,24,25,26,27,28,29,30,31,32,33,34,35,36,37,38,39,40,41,42,43,44,45,46,47,48,49,50,1,2,3,4,5,6,7,8,9,10,11,12,13,14,15,16,17,18,19,20,21,22,23,24,25,26,27,28,29,30,31,32,33,34,35,36,37,38,39,40,41,42,43,44,45,46,47,48,49,50,1,2,3,4,5,6,7,8,9,10,11,12,13,14,15,16,17,18,19,20,21,22,23,24,25,26,27,28,29,30,31,32,33,34,35,36,37,38,39,40,41,42,43,44,45,46,47,48,49,50,1,2,3,4,5,6,7,8,9,10,11,12,13,14,15,16,17,18,19,20,21,22,23,24,25,26,27,28,29,30,31,32,33,34,35,36,37,38,39,40,41,42,43,44,45,46,47,48,49,50,1,2,3,4,5,6,7,8,9,10,11,12,13,14,15,16,17,18,19,20,21,22,23,24,25,26,27,28,29,30,31,32,33,34,35,36,37,38,39,40,41,42,43,44,45,46,47,48,49,50,1,2,3,4,5,6,7,8,9,10,11,12,13,14,15,16,17,18,19,20,21,22,23,24,25,26,27,28,29,30,31,32,33,34,35,36,37,38,39,40,41,42,43,44,45,46,47,48,49,50,1,2,3,4,5,6,7,8,9,10,11,12,13,14,15,16,17,18,19,20,21,22,23,24,25,26,27,28,29,30,31,32,33,34,35,36,37,38,39,40,41,42,43,44,45,46,47,48,49,50,1,2,3,4,5,6,7,8,9,10,11,12,13,14,15,16,17,18,19,20,21,22,23,24,25,26,27,28,29,30,31,32,33,34,35,36,37,38,39,40,41,42,43,44,45,46,47,48,49,50,1,2,3,4,5,6,7,8,9,10,11,12,13,14,15,16,17,18,19,20,21,22,23,24,25,26,27,28,29,30,31,32,33,34,35,36,37,38,39,40,41,42,43,44,45,46,47,48,49,50,1,2,3,4,5,6,7,8,9,10,11,12,13,14,15,16,17,18,19,20,21,22,23,24,25,26,27,28,29,30,31,32,33,34,35,36,37,38,39,40,41,42,43,44,45,46,47,48,49,50,1,2,3,4,5,6,7,8,9,10,11,12,13,14,15,16,17,18,19,20,21,22,23,24,25,26,27,28,29,30,31,32,33,34,35,36,37,38,39,40,41,42,43,44,45,46,47,48,49,50,1,2,3,4,5,6,7,8,9,10,11,12,13,14,15,16,17,18,19,20,21,22,23,24,25,26,27,28,29,30,31,32,33,34,35,36,37,38,39,40,41,42,43,44,45,46,47,48,49,50,1,2,3,4,5,6,7,8,9,10,11,12,13,14,15,16,17,18,19,20,21,22,23,24,25,26,27,28,29,30,31,32,33,34,35,36,37,38,39,40,41,42,43,44,45,46,47,48,49,50,1,2,3,4,5,6,7,8,9,10,11,12,13,14,15,16,17,18,19,20,21,22,23,24,25,26,27,28,29,30,31,32,33,34,35,36,37,38,39,40,41,42,43,44,45,46,47,48,49,50,1,2,3,4,5,6,7,8,9,10,11,12,13,14,15,16,17,18,19,20,21,22,23,24,25,26,27,28,29,30,31,32,33,34,35,36,37,38,39,40,41,42,43,44,45,46,47,48,49,50,1,2,3,4,5,6,7,8,9,10,11,12,13,14,15,16,17,18,19,20,21,22,23,24,25,26,27,28,29,30,31,32,33,34,35,36,37,38,39,40,41,42,43,44,45,46,47,48,49,50,1,2,3,4,5,6,7,8,9,10,11,12,13,14,15,16,17,18,19,20,21,22,23,24,25,26,27,28,29,30,31,32,33,34,35,36,37,38,39,40,41,42,43,44,45,46,47,48,49,50,1,2,3,4,5,6,7,8,9,10,11,12,13,14,15,16,17,18,19,20,21,22,23,24,25,26,27,28,29,30,31,32,33,34,35,36,37,38,39,40,41,42,43,44,45,46,47,48,49,50,1,2,3,4,5,6,7,8,9,10,11,12,13,14,15,16,17,18,19,20,21,22,23,24,25,26,27,28,29,30,31,32,33,34,35,36,37,38,39,40,41,42,43,44,45,46,47,48,49,50,1,2,3,4,5,6,7,8,9,10,11,12,13,14,15,16,17,18,19,20,21,22,23,24,25,26,27,28,29,30,31,32,33,34,35,36,37,38,39,40,41,42,43,44,45,46,47,48,49,50,1,2,3,4,5,6,7,8,9,10,11,12,13,14,15,16,17,18,19,20,21,22,23,24,25,26,27,28,29,30,31,32,33,34,35,36,37,38,39,40,41,42,43,44,45,46,47,48,49,50,1,2,3,4,5,6,7,8,9,10,11,12,13,14,15,16,17,18,19,20,21,22,23,24,25,26,27,28,29,30,31,32,33,34,35,36,37,38,39,40,41,42,43,44,45,46,47,48,49,50,1,2,3,4,5,6,7,8,9,10,11,12,13,14,15,16,17,18,19,20,21,22,23,24,25,26,27,28,29,30,31,32,33,34,35,36,37,38,39,40,41,42,43,44,45,46,47,48,49,50,1,2,3,4,5,6,7,8,9,10,11,12,13,14,15,16,17,18,19,20,21,22,23,24,25,26,27,28,29,30,31,32,33,34,35,36,37,38,39,40,41,42,43,44,45,46,47,48,49,50,1,2,3,4,5,6,7,8,9,10,11,12,13,14,15,16,17,18,19,20,21,22,23,24,25,26,27,28,29,30,31,32,33,34,35,36,37,38,39,40,41,42,43,44,45,46,47,48,49,50,1,2,3,4,5,6,7,8,9,10,11,12,13,14,15,16,17,18,19,20,21,22,23,24,25,26,27,28,29,30,31,32,33,34,35,36,37,38,39,40,41,42,43,44,45,46,47,48,49,50],\"yaxis\":\"y\",\"type\":\"scattergl\"}],                        {\"template\":{\"data\":{\"histogram2dcontour\":[{\"type\":\"histogram2dcontour\",\"colorbar\":{\"outlinewidth\":0,\"ticks\":\"\"},\"colorscale\":[[0.0,\"#0d0887\"],[0.1111111111111111,\"#46039f\"],[0.2222222222222222,\"#7201a8\"],[0.3333333333333333,\"#9c179e\"],[0.4444444444444444,\"#bd3786\"],[0.5555555555555556,\"#d8576b\"],[0.6666666666666666,\"#ed7953\"],[0.7777777777777778,\"#fb9f3a\"],[0.8888888888888888,\"#fdca26\"],[1.0,\"#f0f921\"]]}],\"choropleth\":[{\"type\":\"choropleth\",\"colorbar\":{\"outlinewidth\":0,\"ticks\":\"\"}}],\"histogram2d\":[{\"type\":\"histogram2d\",\"colorbar\":{\"outlinewidth\":0,\"ticks\":\"\"},\"colorscale\":[[0.0,\"#0d0887\"],[0.1111111111111111,\"#46039f\"],[0.2222222222222222,\"#7201a8\"],[0.3333333333333333,\"#9c179e\"],[0.4444444444444444,\"#bd3786\"],[0.5555555555555556,\"#d8576b\"],[0.6666666666666666,\"#ed7953\"],[0.7777777777777778,\"#fb9f3a\"],[0.8888888888888888,\"#fdca26\"],[1.0,\"#f0f921\"]]}],\"heatmap\":[{\"type\":\"heatmap\",\"colorbar\":{\"outlinewidth\":0,\"ticks\":\"\"},\"colorscale\":[[0.0,\"#0d0887\"],[0.1111111111111111,\"#46039f\"],[0.2222222222222222,\"#7201a8\"],[0.3333333333333333,\"#9c179e\"],[0.4444444444444444,\"#bd3786\"],[0.5555555555555556,\"#d8576b\"],[0.6666666666666666,\"#ed7953\"],[0.7777777777777778,\"#fb9f3a\"],[0.8888888888888888,\"#fdca26\"],[1.0,\"#f0f921\"]]}],\"heatmapgl\":[{\"type\":\"heatmapgl\",\"colorbar\":{\"outlinewidth\":0,\"ticks\":\"\"},\"colorscale\":[[0.0,\"#0d0887\"],[0.1111111111111111,\"#46039f\"],[0.2222222222222222,\"#7201a8\"],[0.3333333333333333,\"#9c179e\"],[0.4444444444444444,\"#bd3786\"],[0.5555555555555556,\"#d8576b\"],[0.6666666666666666,\"#ed7953\"],[0.7777777777777778,\"#fb9f3a\"],[0.8888888888888888,\"#fdca26\"],[1.0,\"#f0f921\"]]}],\"contourcarpet\":[{\"type\":\"contourcarpet\",\"colorbar\":{\"outlinewidth\":0,\"ticks\":\"\"}}],\"contour\":[{\"type\":\"contour\",\"colorbar\":{\"outlinewidth\":0,\"ticks\":\"\"},\"colorscale\":[[0.0,\"#0d0887\"],[0.1111111111111111,\"#46039f\"],[0.2222222222222222,\"#7201a8\"],[0.3333333333333333,\"#9c179e\"],[0.4444444444444444,\"#bd3786\"],[0.5555555555555556,\"#d8576b\"],[0.6666666666666666,\"#ed7953\"],[0.7777777777777778,\"#fb9f3a\"],[0.8888888888888888,\"#fdca26\"],[1.0,\"#f0f921\"]]}],\"surface\":[{\"type\":\"surface\",\"colorbar\":{\"outlinewidth\":0,\"ticks\":\"\"},\"colorscale\":[[0.0,\"#0d0887\"],[0.1111111111111111,\"#46039f\"],[0.2222222222222222,\"#7201a8\"],[0.3333333333333333,\"#9c179e\"],[0.4444444444444444,\"#bd3786\"],[0.5555555555555556,\"#d8576b\"],[0.6666666666666666,\"#ed7953\"],[0.7777777777777778,\"#fb9f3a\"],[0.8888888888888888,\"#fdca26\"],[1.0,\"#f0f921\"]]}],\"mesh3d\":[{\"type\":\"mesh3d\",\"colorbar\":{\"outlinewidth\":0,\"ticks\":\"\"}}],\"scatter\":[{\"fillpattern\":{\"fillmode\":\"overlay\",\"size\":10,\"solidity\":0.2},\"type\":\"scatter\"}],\"parcoords\":[{\"type\":\"parcoords\",\"line\":{\"colorbar\":{\"outlinewidth\":0,\"ticks\":\"\"}}}],\"scatterpolargl\":[{\"type\":\"scatterpolargl\",\"marker\":{\"colorbar\":{\"outlinewidth\":0,\"ticks\":\"\"}}}],\"bar\":[{\"error_x\":{\"color\":\"#2a3f5f\"},\"error_y\":{\"color\":\"#2a3f5f\"},\"marker\":{\"line\":{\"color\":\"#E5ECF6\",\"width\":0.5},\"pattern\":{\"fillmode\":\"overlay\",\"size\":10,\"solidity\":0.2}},\"type\":\"bar\"}],\"scattergeo\":[{\"type\":\"scattergeo\",\"marker\":{\"colorbar\":{\"outlinewidth\":0,\"ticks\":\"\"}}}],\"scatterpolar\":[{\"type\":\"scatterpolar\",\"marker\":{\"colorbar\":{\"outlinewidth\":0,\"ticks\":\"\"}}}],\"histogram\":[{\"marker\":{\"pattern\":{\"fillmode\":\"overlay\",\"size\":10,\"solidity\":0.2}},\"type\":\"histogram\"}],\"scattergl\":[{\"type\":\"scattergl\",\"marker\":{\"colorbar\":{\"outlinewidth\":0,\"ticks\":\"\"}}}],\"scatter3d\":[{\"type\":\"scatter3d\",\"line\":{\"colorbar\":{\"outlinewidth\":0,\"ticks\":\"\"}},\"marker\":{\"colorbar\":{\"outlinewidth\":0,\"ticks\":\"\"}}}],\"scattermapbox\":[{\"type\":\"scattermapbox\",\"marker\":{\"colorbar\":{\"outlinewidth\":0,\"ticks\":\"\"}}}],\"scatterternary\":[{\"type\":\"scatterternary\",\"marker\":{\"colorbar\":{\"outlinewidth\":0,\"ticks\":\"\"}}}],\"scattercarpet\":[{\"type\":\"scattercarpet\",\"marker\":{\"colorbar\":{\"outlinewidth\":0,\"ticks\":\"\"}}}],\"carpet\":[{\"aaxis\":{\"endlinecolor\":\"#2a3f5f\",\"gridcolor\":\"white\",\"linecolor\":\"white\",\"minorgridcolor\":\"white\",\"startlinecolor\":\"#2a3f5f\"},\"baxis\":{\"endlinecolor\":\"#2a3f5f\",\"gridcolor\":\"white\",\"linecolor\":\"white\",\"minorgridcolor\":\"white\",\"startlinecolor\":\"#2a3f5f\"},\"type\":\"carpet\"}],\"table\":[{\"cells\":{\"fill\":{\"color\":\"#EBF0F8\"},\"line\":{\"color\":\"white\"}},\"header\":{\"fill\":{\"color\":\"#C8D4E3\"},\"line\":{\"color\":\"white\"}},\"type\":\"table\"}],\"barpolar\":[{\"marker\":{\"line\":{\"color\":\"#E5ECF6\",\"width\":0.5},\"pattern\":{\"fillmode\":\"overlay\",\"size\":10,\"solidity\":0.2}},\"type\":\"barpolar\"}],\"pie\":[{\"automargin\":true,\"type\":\"pie\"}]},\"layout\":{\"autotypenumbers\":\"strict\",\"colorway\":[\"#636efa\",\"#EF553B\",\"#00cc96\",\"#ab63fa\",\"#FFA15A\",\"#19d3f3\",\"#FF6692\",\"#B6E880\",\"#FF97FF\",\"#FECB52\"],\"font\":{\"color\":\"#2a3f5f\"},\"hovermode\":\"closest\",\"hoverlabel\":{\"align\":\"left\"},\"paper_bgcolor\":\"white\",\"plot_bgcolor\":\"#E5ECF6\",\"polar\":{\"bgcolor\":\"#E5ECF6\",\"angularaxis\":{\"gridcolor\":\"white\",\"linecolor\":\"white\",\"ticks\":\"\"},\"radialaxis\":{\"gridcolor\":\"white\",\"linecolor\":\"white\",\"ticks\":\"\"}},\"ternary\":{\"bgcolor\":\"#E5ECF6\",\"aaxis\":{\"gridcolor\":\"white\",\"linecolor\":\"white\",\"ticks\":\"\"},\"baxis\":{\"gridcolor\":\"white\",\"linecolor\":\"white\",\"ticks\":\"\"},\"caxis\":{\"gridcolor\":\"white\",\"linecolor\":\"white\",\"ticks\":\"\"}},\"coloraxis\":{\"colorbar\":{\"outlinewidth\":0,\"ticks\":\"\"}},\"colorscale\":{\"sequential\":[[0.0,\"#0d0887\"],[0.1111111111111111,\"#46039f\"],[0.2222222222222222,\"#7201a8\"],[0.3333333333333333,\"#9c179e\"],[0.4444444444444444,\"#bd3786\"],[0.5555555555555556,\"#d8576b\"],[0.6666666666666666,\"#ed7953\"],[0.7777777777777778,\"#fb9f3a\"],[0.8888888888888888,\"#fdca26\"],[1.0,\"#f0f921\"]],\"sequentialminus\":[[0.0,\"#0d0887\"],[0.1111111111111111,\"#46039f\"],[0.2222222222222222,\"#7201a8\"],[0.3333333333333333,\"#9c179e\"],[0.4444444444444444,\"#bd3786\"],[0.5555555555555556,\"#d8576b\"],[0.6666666666666666,\"#ed7953\"],[0.7777777777777778,\"#fb9f3a\"],[0.8888888888888888,\"#fdca26\"],[1.0,\"#f0f921\"]],\"diverging\":[[0,\"#8e0152\"],[0.1,\"#c51b7d\"],[0.2,\"#de77ae\"],[0.3,\"#f1b6da\"],[0.4,\"#fde0ef\"],[0.5,\"#f7f7f7\"],[0.6,\"#e6f5d0\"],[0.7,\"#b8e186\"],[0.8,\"#7fbc41\"],[0.9,\"#4d9221\"],[1,\"#276419\"]]},\"xaxis\":{\"gridcolor\":\"white\",\"linecolor\":\"white\",\"ticks\":\"\",\"title\":{\"standoff\":15},\"zerolinecolor\":\"white\",\"automargin\":true,\"zerolinewidth\":2},\"yaxis\":{\"gridcolor\":\"white\",\"linecolor\":\"white\",\"ticks\":\"\",\"title\":{\"standoff\":15},\"zerolinecolor\":\"white\",\"automargin\":true,\"zerolinewidth\":2},\"scene\":{\"xaxis\":{\"backgroundcolor\":\"#E5ECF6\",\"gridcolor\":\"white\",\"linecolor\":\"white\",\"showbackground\":true,\"ticks\":\"\",\"zerolinecolor\":\"white\",\"gridwidth\":2},\"yaxis\":{\"backgroundcolor\":\"#E5ECF6\",\"gridcolor\":\"white\",\"linecolor\":\"white\",\"showbackground\":true,\"ticks\":\"\",\"zerolinecolor\":\"white\",\"gridwidth\":2},\"zaxis\":{\"backgroundcolor\":\"#E5ECF6\",\"gridcolor\":\"white\",\"linecolor\":\"white\",\"showbackground\":true,\"ticks\":\"\",\"zerolinecolor\":\"white\",\"gridwidth\":2}},\"shapedefaults\":{\"line\":{\"color\":\"#2a3f5f\"}},\"annotationdefaults\":{\"arrowcolor\":\"#2a3f5f\",\"arrowhead\":0,\"arrowwidth\":1},\"geo\":{\"bgcolor\":\"white\",\"landcolor\":\"#E5ECF6\",\"subunitcolor\":\"white\",\"showland\":true,\"showlakes\":true,\"lakecolor\":\"white\"},\"title\":{\"x\":0.05},\"mapbox\":{\"style\":\"light\"}}},\"xaxis\":{\"anchor\":\"y\",\"domain\":[0.0,1.0],\"title\":{\"text\":\"x\"}},\"yaxis\":{\"anchor\":\"x\",\"domain\":[0.0,1.0],\"title\":{\"text\":\"y\"}},\"legend\":{\"tracegroupgap\":0},\"margin\":{\"t\":60},\"width\":500,\"height\":500,\"title\":{\"text\":\"KMC index: 8 Cycle: 5\"}},                        {\"responsive\": true}                    ).then(function(){\n",
              "                            \n",
              "var gd = document.getElementById('37294d1b-450d-495b-b9fb-24a3b72977d4');\n",
              "var x = new MutationObserver(function (mutations, observer) {{\n",
              "        var display = window.getComputedStyle(gd).display;\n",
              "        if (!display || display === 'none') {{\n",
              "            console.log([gd, 'removed!']);\n",
              "            Plotly.purge(gd);\n",
              "            observer.disconnect();\n",
              "        }}\n",
              "}});\n",
              "\n",
              "// Listen for the removal of the full notebook cells\n",
              "var notebookContainer = gd.closest('#notebook-container');\n",
              "if (notebookContainer) {{\n",
              "    x.observe(notebookContainer, {childList: true});\n",
              "}}\n",
              "\n",
              "// Listen for the clearing of the current output cell\n",
              "var outputEl = gd.closest('.output');\n",
              "if (outputEl) {{\n",
              "    x.observe(outputEl, {childList: true});\n",
              "}}\n",
              "\n",
              "                        })                };                            </script>        </div>\n",
              "</body>\n",
              "</html>"
            ]
          },
          "metadata": {}
        }
      ]
    },
    {
      "cell_type": "code",
      "source": [],
      "metadata": {
        "id": "XT93PqgMdPMN"
      },
      "execution_count": null,
      "outputs": []
    }
  ],
  "metadata": {
    "colab": {
      "provenance": []
    },
    "kernelspec": {
      "display_name": "Python 3",
      "name": "python3"
    },
    "language_info": {
      "name": "python"
    },
    "gpuClass": "standard"
  },
  "nbformat": 4,
  "nbformat_minor": 0
}